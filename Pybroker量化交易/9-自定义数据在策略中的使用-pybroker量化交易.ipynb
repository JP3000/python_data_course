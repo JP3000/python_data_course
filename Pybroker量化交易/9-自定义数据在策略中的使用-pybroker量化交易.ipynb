{
 "cells": [
  {
   "cell_type": "markdown",
   "metadata": {},
   "source": [
    "# 自定义数据在pyborker策略中的使用\n",
    "\n",
    "https://www.pybroker.com/zh-cn/latest/notebooks/7.%20Creating%20a%20Custom%20Data%20Source.html"
   ]
  },
  {
   "cell_type": "markdown",
   "metadata": {},
   "source": []
  },
  {
   "cell_type": "code",
   "execution_count": null,
   "metadata": {},
   "outputs": [
    {
     "data": {
      "text/plain": [
       "<diskcache.core.Cache at 0x1641c48b2d0>"
      ]
     },
     "execution_count": 2,
     "metadata": {},
     "output_type": "execute_result"
    }
   ],
   "source": [
    "import pybroker\n",
    "from pybroker.ext.data import AKShare\n",
    "from pybroker import ExecContext, StrategyConfig, Strategy\n",
    "import matplotlib.pyplot as plt\n",
    "from datetime import datetime\n",
    "import riskfolio as rp\n",
    "import akshare as ak\n",
    "import pandas as pd\n",
    "import numpy as np\n",
    "import sqlite3\n",
    "import datetime\n",
    "\n",
    "import talib\n",
    "from pybroker.vect import cross\n",
    "\n",
    "#正常显示画图时出现的中文和负号\n",
    "from pylab import mpl\n",
    "\n",
    "mpl.rcParams['font.sans-serif']=['SimHei']\n",
    "mpl.rcParams['axes.unicode_minus']=False\n",
    "\n",
    "akshare = AKShare()\n",
    "\n",
    "pybroker.enable_data_source_cache('akshare')"
   ]
  },
  {
   "cell_type": "code",
   "execution_count": 3,
   "metadata": {},
   "outputs": [
    {
     "data": {
      "text/plain": [
       "'1.16.60'"
      ]
     },
     "execution_count": 3,
     "metadata": {},
     "output_type": "execute_result"
    }
   ],
   "source": [
    "ak.__version__"
   ]
  },
  {
   "cell_type": "markdown",
   "metadata": {},
   "source": [
    "## pybroker的数据形式"
   ]
  },
  {
   "cell_type": "code",
   "execution_count": 4,
   "metadata": {},
   "outputs": [
    {
     "name": "stdout",
     "output_type": "stream",
     "text": [
      "Loaded cached bar data.\n",
      "\n"
     ]
    },
    {
     "data": {
      "text/html": [
       "<div>\n",
       "<style scoped>\n",
       "    .dataframe tbody tr th:only-of-type {\n",
       "        vertical-align: middle;\n",
       "    }\n",
       "\n",
       "    .dataframe tbody tr th {\n",
       "        vertical-align: top;\n",
       "    }\n",
       "\n",
       "    .dataframe thead th {\n",
       "        text-align: right;\n",
       "    }\n",
       "</style>\n",
       "<table border=\"1\" class=\"dataframe\">\n",
       "  <thead>\n",
       "    <tr style=\"text-align: right;\">\n",
       "      <th></th>\n",
       "      <th>date</th>\n",
       "      <th>symbol</th>\n",
       "      <th>open</th>\n",
       "      <th>high</th>\n",
       "      <th>low</th>\n",
       "      <th>close</th>\n",
       "      <th>volume</th>\n",
       "    </tr>\n",
       "  </thead>\n",
       "  <tbody>\n",
       "    <tr>\n",
       "      <th>0</th>\n",
       "      <td>2021-03-02</td>\n",
       "      <td>000001.SZ</td>\n",
       "      <td>3653.44</td>\n",
       "      <td>3739.58</td>\n",
       "      <td>3594.93</td>\n",
       "      <td>3658.31</td>\n",
       "      <td>1473425</td>\n",
       "    </tr>\n",
       "    <tr>\n",
       "      <th>1</th>\n",
       "      <td>2021-03-03</td>\n",
       "      <td>000001.SZ</td>\n",
       "      <td>3646.94</td>\n",
       "      <td>3890.73</td>\n",
       "      <td>3627.43</td>\n",
       "      <td>3879.35</td>\n",
       "      <td>1919635</td>\n",
       "    </tr>\n",
       "    <tr>\n",
       "      <th>2</th>\n",
       "      <td>2021-03-04</td>\n",
       "      <td>000001.SZ</td>\n",
       "      <td>3840.34</td>\n",
       "      <td>3957.36</td>\n",
       "      <td>3820.84</td>\n",
       "      <td>3864.72</td>\n",
       "      <td>1213579</td>\n",
       "    </tr>\n",
       "    <tr>\n",
       "      <th>3</th>\n",
       "      <td>2021-03-05</td>\n",
       "      <td>000001.SZ</td>\n",
       "      <td>3828.97</td>\n",
       "      <td>3874.48</td>\n",
       "      <td>3692.44</td>\n",
       "      <td>3770.46</td>\n",
       "      <td>880171</td>\n",
       "    </tr>\n",
       "    <tr>\n",
       "      <th>4</th>\n",
       "      <td>2021-03-08</td>\n",
       "      <td>000001.SZ</td>\n",
       "      <td>3786.71</td>\n",
       "      <td>3827.34</td>\n",
       "      <td>3630.68</td>\n",
       "      <td>3650.19</td>\n",
       "      <td>993774</td>\n",
       "    </tr>\n",
       "    <tr>\n",
       "      <th>...</th>\n",
       "      <td>...</td>\n",
       "      <td>...</td>\n",
       "      <td>...</td>\n",
       "      <td>...</td>\n",
       "      <td>...</td>\n",
       "      <td>...</td>\n",
       "      <td>...</td>\n",
       "    </tr>\n",
       "    <tr>\n",
       "      <th>967</th>\n",
       "      <td>2023-02-23</td>\n",
       "      <td>600000.SH</td>\n",
       "      <td>77.41</td>\n",
       "      <td>77.61</td>\n",
       "      <td>77.28</td>\n",
       "      <td>77.28</td>\n",
       "      <td>114365</td>\n",
       "    </tr>\n",
       "    <tr>\n",
       "      <th>968</th>\n",
       "      <td>2023-02-24</td>\n",
       "      <td>600000.SH</td>\n",
       "      <td>77.22</td>\n",
       "      <td>77.48</td>\n",
       "      <td>76.95</td>\n",
       "      <td>76.95</td>\n",
       "      <td>166811</td>\n",
       "    </tr>\n",
       "    <tr>\n",
       "      <th>969</th>\n",
       "      <td>2023-02-27</td>\n",
       "      <td>600000.SH</td>\n",
       "      <td>76.82</td>\n",
       "      <td>77.08</td>\n",
       "      <td>76.82</td>\n",
       "      <td>76.82</td>\n",
       "      <td>158006</td>\n",
       "    </tr>\n",
       "    <tr>\n",
       "      <th>970</th>\n",
       "      <td>2023-02-28</td>\n",
       "      <td>600000.SH</td>\n",
       "      <td>76.95</td>\n",
       "      <td>77.08</td>\n",
       "      <td>76.69</td>\n",
       "      <td>76.95</td>\n",
       "      <td>174481</td>\n",
       "    </tr>\n",
       "    <tr>\n",
       "      <th>971</th>\n",
       "      <td>2023-03-01</td>\n",
       "      <td>600000.SH</td>\n",
       "      <td>76.89</td>\n",
       "      <td>77.54</td>\n",
       "      <td>76.89</td>\n",
       "      <td>77.48</td>\n",
       "      <td>256613</td>\n",
       "    </tr>\n",
       "  </tbody>\n",
       "</table>\n",
       "<p>972 rows × 7 columns</p>\n",
       "</div>"
      ],
      "text/plain": [
       "          date     symbol     open     high      low    close   volume\n",
       "0   2021-03-02  000001.SZ  3653.44  3739.58  3594.93  3658.31  1473425\n",
       "1   2021-03-03  000001.SZ  3646.94  3890.73  3627.43  3879.35  1919635\n",
       "2   2021-03-04  000001.SZ  3840.34  3957.36  3820.84  3864.72  1213579\n",
       "3   2021-03-05  000001.SZ  3828.97  3874.48  3692.44  3770.46   880171\n",
       "4   2021-03-08  000001.SZ  3786.71  3827.34  3630.68  3650.19   993774\n",
       "..         ...        ...      ...      ...      ...      ...      ...\n",
       "967 2023-02-23  600000.SH    77.41    77.61    77.28    77.28   114365\n",
       "968 2023-02-24  600000.SH    77.22    77.48    76.95    76.95   166811\n",
       "969 2023-02-27  600000.SH    76.82    77.08    76.82    76.82   158006\n",
       "970 2023-02-28  600000.SH    76.95    77.08    76.69    76.95   174481\n",
       "971 2023-03-01  600000.SH    76.89    77.54    76.89    77.48   256613\n",
       "\n",
       "[972 rows x 7 columns]"
      ]
     },
     "execution_count": 4,
     "metadata": {},
     "output_type": "execute_result"
    }
   ],
   "source": [
    "df = akshare.query(\n",
    "    symbols=['000001.SZ', '600000.SH'],\n",
    "    start_date='3/2/2021',\n",
    "    end_date='3/1/2023',\n",
    "    adjust=\"hfq\",\n",
    "    timeframe=\"1d\",\n",
    ")\n",
    "df"
   ]
  },
  {
   "cell_type": "code",
   "execution_count": 5,
   "metadata": {},
   "outputs": [],
   "source": [
    "def trying_strategy(ctx: ExecContext):\n",
    "    high = ctx.high[-11:-1].max()\n",
    "    low = ctx.low[-11:-1].min()\n",
    "    #print(high, low)\n",
    "\n",
    "    if not ctx.long_pos() and ctx.close[-1] > high:\n",
    "        ctx.buy_shares = ctx.calc_target_shares(0.5)\n",
    "        #print(ctx.dt, \"buy\")\n",
    "    \n",
    "    if ctx.long_pos() and ctx.close[-1] < low:\n",
    "        ctx.sell_all_shares()\n",
    "        #print(ctx.dt, \"sell\")"
   ]
  },
  {
   "cell_type": "code",
   "execution_count": 6,
   "metadata": {},
   "outputs": [
    {
     "name": "stdout",
     "output_type": "stream",
     "text": [
      "Backtesting: 2020-01-01 00:00:00 to 2023-01-01 00:00:00\n",
      "\n",
      "Loaded cached bar data.\n",
      "\n",
      "Test split: 2020-01-02 00:00:00 to 2022-12-30 00:00:00\n"
     ]
    },
    {
     "name": "stderr",
     "output_type": "stream",
     "text": [
      "  0% (0 of 728) |                        | Elapsed Time: 0:00:00 ETA:  --:--:--\n",
      " 22% (161 of 728) |####                  | Elapsed Time: 0:00:00 ETA:   0:00:00\n",
      " 37% (271 of 728) |########              | Elapsed Time: 0:00:00 ETA:   0:00:00\n",
      " 61% (451 of 728) |#############         | Elapsed Time: 0:00:00 ETA:   0:00:00\n",
      " 89% (651 of 728) |###################   | Elapsed Time: 0:00:00 ETA:   0:00:00\n",
      "100% (728 of 728) |######################| Elapsed Time: 0:00:00 Time:  0:00:00\n"
     ]
    },
    {
     "name": "stdout",
     "output_type": "stream",
     "text": [
      "\n",
      "Finished backtest: 0:00:04\n"
     ]
    }
   ],
   "source": [
    "strategy = Strategy(akshare, start_date='2020-01-01', end_date='2023-01-01')\n",
    "strategy.add_execution(trying_strategy, ['000001.SZ','002594.SZ'])\n",
    "result = strategy.backtest(warmup=15)"
   ]
  },
  {
   "cell_type": "code",
   "execution_count": 7,
   "metadata": {},
   "outputs": [],
   "source": [
    "#result.trades"
   ]
  },
  {
   "cell_type": "markdown",
   "metadata": {},
   "source": [
    "## 获取本地数据转化为pybroker数据形式"
   ]
  },
  {
   "cell_type": "code",
   "execution_count": 8,
   "metadata": {},
   "outputs": [
    {
     "data": {
      "text/html": [
       "<div>\n",
       "<style scoped>\n",
       "    .dataframe tbody tr th:only-of-type {\n",
       "        vertical-align: middle;\n",
       "    }\n",
       "\n",
       "    .dataframe tbody tr th {\n",
       "        vertical-align: top;\n",
       "    }\n",
       "\n",
       "    .dataframe thead th {\n",
       "        text-align: right;\n",
       "    }\n",
       "</style>\n",
       "<table border=\"1\" class=\"dataframe\">\n",
       "  <thead>\n",
       "    <tr style=\"text-align: right;\">\n",
       "      <th></th>\n",
       "      <th>index</th>\n",
       "      <th>交易日期</th>\n",
       "      <th>股票代码</th>\n",
       "      <th>股票简称</th>\n",
       "      <th>开盘价</th>\n",
       "      <th>最高价</th>\n",
       "      <th>最低价</th>\n",
       "      <th>收盘价</th>\n",
       "      <th>成交量(手)</th>\n",
       "      <th>成交额(千元)</th>\n",
       "      <th>...</th>\n",
       "      <th>市盈率(动态)</th>\n",
       "      <th>市净率</th>\n",
       "      <th>市销率</th>\n",
       "      <th>市销率(TTM)</th>\n",
       "      <th>股息率(%)</th>\n",
       "      <th>股息率(TTM)(%)</th>\n",
       "      <th>总股本(万股)</th>\n",
       "      <th>流通股本(万股)</th>\n",
       "      <th>总市值(万元)</th>\n",
       "      <th>流通市值(万元)</th>\n",
       "    </tr>\n",
       "  </thead>\n",
       "  <tbody>\n",
       "    <tr>\n",
       "      <th>0</th>\n",
       "      <td>6807</td>\n",
       "      <td>20200102</td>\n",
       "      <td>000002.SZ</td>\n",
       "      <td>万科A</td>\n",
       "      <td>4867.9136</td>\n",
       "      <td>4986.6432</td>\n",
       "      <td>4824.8741</td>\n",
       "      <td>4832.2947</td>\n",
       "      <td>1012130.40</td>\n",
       "      <td>3342373.870</td>\n",
       "      <td>...</td>\n",
       "      <td>NaN</td>\n",
       "      <td>2.2000</td>\n",
       "      <td>1.2362</td>\n",
       "      <td>1.0649</td>\n",
       "      <td>3.2098</td>\n",
       "      <td>3.2098</td>\n",
       "      <td>1.130214e+06</td>\n",
       "      <td>971517.0043</td>\n",
       "      <td>3.679978e+07</td>\n",
       "      <td>3.163259e+07</td>\n",
       "    </tr>\n",
       "    <tr>\n",
       "      <th>1</th>\n",
       "      <td>6808</td>\n",
       "      <td>20200103</td>\n",
       "      <td>000002.SZ</td>\n",
       "      <td>万科A</td>\n",
       "      <td>4854.5565</td>\n",
       "      <td>4869.3977</td>\n",
       "      <td>4716.5334</td>\n",
       "      <td>4756.6046</td>\n",
       "      <td>805536.29</td>\n",
       "      <td>2584309.903</td>\n",
       "      <td>...</td>\n",
       "      <td>14.89</td>\n",
       "      <td>2.1655</td>\n",
       "      <td>1.2169</td>\n",
       "      <td>1.0482</td>\n",
       "      <td>3.2608</td>\n",
       "      <td>3.2608</td>\n",
       "      <td>1.130214e+06</td>\n",
       "      <td>971517.0043</td>\n",
       "      <td>3.622337e+07</td>\n",
       "      <td>3.113712e+07</td>\n",
       "    </tr>\n",
       "    <tr>\n",
       "      <th>2</th>\n",
       "      <td>6809</td>\n",
       "      <td>20200106</td>\n",
       "      <td>000002.SZ</td>\n",
       "      <td>万科A</td>\n",
       "      <td>4712.0810</td>\n",
       "      <td>4713.5651</td>\n",
       "      <td>4637.8750</td>\n",
       "      <td>4676.4621</td>\n",
       "      <td>876840.58</td>\n",
       "      <td>2761448.649</td>\n",
       "      <td>...</td>\n",
       "      <td>14.64</td>\n",
       "      <td>2.1290</td>\n",
       "      <td>1.1964</td>\n",
       "      <td>1.0306</td>\n",
       "      <td>3.3167</td>\n",
       "      <td>3.3167</td>\n",
       "      <td>1.130214e+06</td>\n",
       "      <td>971517.0043</td>\n",
       "      <td>3.561305e+07</td>\n",
       "      <td>3.061250e+07</td>\n",
       "    </tr>\n",
       "    <tr>\n",
       "      <th>3</th>\n",
       "      <td>6810</td>\n",
       "      <td>20200107</td>\n",
       "      <td>000002.SZ</td>\n",
       "      <td>万科A</td>\n",
       "      <td>4691.3033</td>\n",
       "      <td>4738.7952</td>\n",
       "      <td>4652.7162</td>\n",
       "      <td>4713.5651</td>\n",
       "      <td>577933.43</td>\n",
       "      <td>1827510.871</td>\n",
       "      <td>...</td>\n",
       "      <td>14.76</td>\n",
       "      <td>2.1459</td>\n",
       "      <td>1.2058</td>\n",
       "      <td>1.0387</td>\n",
       "      <td>3.2906</td>\n",
       "      <td>3.2906</td>\n",
       "      <td>1.130214e+06</td>\n",
       "      <td>971517.0043</td>\n",
       "      <td>3.589561e+07</td>\n",
       "      <td>3.085538e+07</td>\n",
       "    </tr>\n",
       "    <tr>\n",
       "      <th>4</th>\n",
       "      <td>6811</td>\n",
       "      <td>20200108</td>\n",
       "      <td>000002.SZ</td>\n",
       "      <td>万科A</td>\n",
       "      <td>4645.2956</td>\n",
       "      <td>4715.0492</td>\n",
       "      <td>4608.1926</td>\n",
       "      <td>4701.6922</td>\n",
       "      <td>529996.84</td>\n",
       "      <td>1667143.803</td>\n",
       "      <td>...</td>\n",
       "      <td>14.72</td>\n",
       "      <td>2.1405</td>\n",
       "      <td>1.2028</td>\n",
       "      <td>1.0361</td>\n",
       "      <td>3.2989</td>\n",
       "      <td>3.2989</td>\n",
       "      <td>1.130214e+06</td>\n",
       "      <td>971517.0043</td>\n",
       "      <td>3.580519e+07</td>\n",
       "      <td>3.077766e+07</td>\n",
       "    </tr>\n",
       "  </tbody>\n",
       "</table>\n",
       "<p>5 rows × 24 columns</p>\n",
       "</div>"
      ],
      "text/plain": [
       "   index      交易日期       股票代码 股票简称        开盘价        最高价        最低价  \\\n",
       "0   6807  20200102  000002.SZ  万科A  4867.9136  4986.6432  4824.8741   \n",
       "1   6808  20200103  000002.SZ  万科A  4854.5565  4869.3977  4716.5334   \n",
       "2   6809  20200106  000002.SZ  万科A  4712.0810  4713.5651  4637.8750   \n",
       "3   6810  20200107  000002.SZ  万科A  4691.3033  4738.7952  4652.7162   \n",
       "4   6811  20200108  000002.SZ  万科A  4645.2956  4715.0492  4608.1926   \n",
       "\n",
       "         收盘价      成交量(手)      成交额(千元)  ...  市盈率(动态)     市净率     市销率  市销率(TTM)  \\\n",
       "0  4832.2947  1012130.40  3342373.870  ...      NaN  2.2000  1.2362    1.0649   \n",
       "1  4756.6046   805536.29  2584309.903  ...    14.89  2.1655  1.2169    1.0482   \n",
       "2  4676.4621   876840.58  2761448.649  ...    14.64  2.1290  1.1964    1.0306   \n",
       "3  4713.5651   577933.43  1827510.871  ...    14.76  2.1459  1.2058    1.0387   \n",
       "4  4701.6922   529996.84  1667143.803  ...    14.72  2.1405  1.2028    1.0361   \n",
       "\n",
       "   股息率(%)  股息率(TTM)(%)       总股本(万股)     流通股本(万股)       总市值(万元)      流通市值(万元)  \n",
       "0  3.2098       3.2098  1.130214e+06  971517.0043  3.679978e+07  3.163259e+07  \n",
       "1  3.2608       3.2608  1.130214e+06  971517.0043  3.622337e+07  3.113712e+07  \n",
       "2  3.3167       3.3167  1.130214e+06  971517.0043  3.561305e+07  3.061250e+07  \n",
       "3  3.2906       3.2906  1.130214e+06  971517.0043  3.589561e+07  3.085538e+07  \n",
       "4  3.2989       3.2989  1.130214e+06  971517.0043  3.580519e+07  3.077766e+07  \n",
       "\n",
       "[5 rows x 24 columns]"
      ]
     },
     "execution_count": 8,
     "metadata": {},
     "output_type": "execute_result"
    }
   ],
   "source": [
    "conn=sqlite3.connect(r'I:\\量化金融\\stock_2018.db')\n",
    "stock_daily0=pd.read_sql(\"select * from stock_daily where 交易日期>'20200101' and 交易日期<'20210101' \",con=conn)\n",
    "stock_daily0.head()"
   ]
  },
  {
   "cell_type": "code",
   "execution_count": 9,
   "metadata": {},
   "outputs": [
    {
     "data": {
      "text/plain": [
       "Index(['index', '交易日期', '股票代码', '股票简称', '开盘价', '最高价', '最低价', '收盘价', '成交量(手)',\n",
       "       '成交额(千元)', '换手率(%)', '量比', '市盈率(静态)', '市盈率(TTM)', '市盈率(动态)', '市净率',\n",
       "       '市销率', '市销率(TTM)', '股息率(%)', '股息率(TTM)(%)', '总股本(万股)', '流通股本(万股)',\n",
       "       '总市值(万元)', '流通市值(万元)'],\n",
       "      dtype='object')"
      ]
     },
     "execution_count": 9,
     "metadata": {},
     "output_type": "execute_result"
    }
   ],
   "source": [
    "stock_daily0.columns"
   ]
  },
  {
   "cell_type": "code",
   "execution_count": 10,
   "metadata": {},
   "outputs": [],
   "source": [
    "stock_daily0[\"交易日期\"]=pd.to_datetime(stock_daily0[\"交易日期\"].astype(str))"
   ]
  },
  {
   "cell_type": "code",
   "execution_count": 11,
   "metadata": {},
   "outputs": [],
   "source": [
    "pyb_data=stock_daily0[[\"交易日期\",\"股票代码\",\"开盘价\",\"最高价\",\"最低价\",\"收盘价\",\"成交量(手)\"]]\n",
    "pyb_data.columns=[\"date\",\"symbol\",\"open\",\"high\",\"low\",\"close\",\"volume\"]"
   ]
  },
  {
   "cell_type": "code",
   "execution_count": 12,
   "metadata": {},
   "outputs": [
    {
     "data": {
      "text/html": [
       "<div>\n",
       "<style scoped>\n",
       "    .dataframe tbody tr th:only-of-type {\n",
       "        vertical-align: middle;\n",
       "    }\n",
       "\n",
       "    .dataframe tbody tr th {\n",
       "        vertical-align: top;\n",
       "    }\n",
       "\n",
       "    .dataframe thead th {\n",
       "        text-align: right;\n",
       "    }\n",
       "</style>\n",
       "<table border=\"1\" class=\"dataframe\">\n",
       "  <thead>\n",
       "    <tr style=\"text-align: right;\">\n",
       "      <th></th>\n",
       "      <th>date</th>\n",
       "      <th>symbol</th>\n",
       "      <th>open</th>\n",
       "      <th>high</th>\n",
       "      <th>low</th>\n",
       "      <th>close</th>\n",
       "      <th>volume</th>\n",
       "    </tr>\n",
       "  </thead>\n",
       "  <tbody>\n",
       "    <tr>\n",
       "      <th>0</th>\n",
       "      <td>2020-01-02</td>\n",
       "      <td>000002.SZ</td>\n",
       "      <td>4867.9136</td>\n",
       "      <td>4986.6432</td>\n",
       "      <td>4824.8741</td>\n",
       "      <td>4832.2947</td>\n",
       "      <td>1012130.40</td>\n",
       "    </tr>\n",
       "    <tr>\n",
       "      <th>1</th>\n",
       "      <td>2020-01-03</td>\n",
       "      <td>000002.SZ</td>\n",
       "      <td>4854.5565</td>\n",
       "      <td>4869.3977</td>\n",
       "      <td>4716.5334</td>\n",
       "      <td>4756.6046</td>\n",
       "      <td>805536.29</td>\n",
       "    </tr>\n",
       "    <tr>\n",
       "      <th>2</th>\n",
       "      <td>2020-01-06</td>\n",
       "      <td>000002.SZ</td>\n",
       "      <td>4712.0810</td>\n",
       "      <td>4713.5651</td>\n",
       "      <td>4637.8750</td>\n",
       "      <td>4676.4621</td>\n",
       "      <td>876840.58</td>\n",
       "    </tr>\n",
       "    <tr>\n",
       "      <th>3</th>\n",
       "      <td>2020-01-07</td>\n",
       "      <td>000002.SZ</td>\n",
       "      <td>4691.3033</td>\n",
       "      <td>4738.7952</td>\n",
       "      <td>4652.7162</td>\n",
       "      <td>4713.5651</td>\n",
       "      <td>577933.43</td>\n",
       "    </tr>\n",
       "    <tr>\n",
       "      <th>4</th>\n",
       "      <td>2020-01-08</td>\n",
       "      <td>000002.SZ</td>\n",
       "      <td>4645.2956</td>\n",
       "      <td>4715.0492</td>\n",
       "      <td>4608.1926</td>\n",
       "      <td>4701.6922</td>\n",
       "      <td>529996.84</td>\n",
       "    </tr>\n",
       "  </tbody>\n",
       "</table>\n",
       "</div>"
      ],
      "text/plain": [
       "        date     symbol       open       high        low      close  \\\n",
       "0 2020-01-02  000002.SZ  4867.9136  4986.6432  4824.8741  4832.2947   \n",
       "1 2020-01-03  000002.SZ  4854.5565  4869.3977  4716.5334  4756.6046   \n",
       "2 2020-01-06  000002.SZ  4712.0810  4713.5651  4637.8750  4676.4621   \n",
       "3 2020-01-07  000002.SZ  4691.3033  4738.7952  4652.7162  4713.5651   \n",
       "4 2020-01-08  000002.SZ  4645.2956  4715.0492  4608.1926  4701.6922   \n",
       "\n",
       "       volume  \n",
       "0  1012130.40  \n",
       "1   805536.29  \n",
       "2   876840.58  \n",
       "3   577933.43  \n",
       "4   529996.84  "
      ]
     },
     "execution_count": 12,
     "metadata": {},
     "output_type": "execute_result"
    }
   ],
   "source": [
    "pyb_data.head()"
   ]
  },
  {
   "cell_type": "code",
   "execution_count": 13,
   "metadata": {},
   "outputs": [
    {
     "name": "stdout",
     "output_type": "stream",
     "text": [
      "Backtesting: 2020-04-01 00:00:00 to 2021-01-01 00:00:00\n",
      "\n",
      "Test split: 2020-04-01 00:00:00 to 2020-12-31 00:00:00\n"
     ]
    },
    {
     "name": "stderr",
     "output_type": "stream",
     "text": [
      "  0% (0 of 185) |                        | Elapsed Time: 0:00:00 ETA:  --:--:--\n",
      " 65% (121 of 185) |##############        | Elapsed Time: 0:00:00 ETA:   0:00:00\n",
      "100% (185 of 185) |######################| Elapsed Time: 0:00:00 Time:  0:00:00\n"
     ]
    },
    {
     "name": "stdout",
     "output_type": "stream",
     "text": [
      "\n",
      "Finished backtest: 0:00:00\n"
     ]
    }
   ],
   "source": [
    "strategy = Strategy(pyb_data, start_date='2020-04-01', end_date='2021-01-01')\n",
    "strategy.add_execution(trying_strategy, ['000001.SZ','002594.SZ'])\n",
    "result = strategy.backtest(warmup=15)"
   ]
  },
  {
   "cell_type": "code",
   "execution_count": 14,
   "metadata": {},
   "outputs": [
    {
     "data": {
      "text/html": [
       "<div>\n",
       "<style scoped>\n",
       "    .dataframe tbody tr th:only-of-type {\n",
       "        vertical-align: middle;\n",
       "    }\n",
       "\n",
       "    .dataframe tbody tr th {\n",
       "        vertical-align: top;\n",
       "    }\n",
       "\n",
       "    .dataframe thead th {\n",
       "        text-align: right;\n",
       "    }\n",
       "</style>\n",
       "<table border=\"1\" class=\"dataframe\">\n",
       "  <thead>\n",
       "    <tr style=\"text-align: right;\">\n",
       "      <th></th>\n",
       "      <th>name</th>\n",
       "      <th>value</th>\n",
       "    </tr>\n",
       "  </thead>\n",
       "  <tbody>\n",
       "    <tr>\n",
       "      <th>0</th>\n",
       "      <td>trade_count</td>\n",
       "      <td>9.00</td>\n",
       "    </tr>\n",
       "    <tr>\n",
       "      <th>1</th>\n",
       "      <td>initial_market_value</td>\n",
       "      <td>100000.00</td>\n",
       "    </tr>\n",
       "    <tr>\n",
       "      <th>2</th>\n",
       "      <td>end_market_value</td>\n",
       "      <td>165394.46</td>\n",
       "    </tr>\n",
       "    <tr>\n",
       "      <th>3</th>\n",
       "      <td>total_pnl</td>\n",
       "      <td>61363.79</td>\n",
       "    </tr>\n",
       "    <tr>\n",
       "      <th>4</th>\n",
       "      <td>unrealized_pnl</td>\n",
       "      <td>4030.67</td>\n",
       "    </tr>\n",
       "  </tbody>\n",
       "</table>\n",
       "</div>"
      ],
      "text/plain": [
       "                   name      value\n",
       "0           trade_count       9.00\n",
       "1  initial_market_value  100000.00\n",
       "2      end_market_value  165394.46\n",
       "3             total_pnl   61363.79\n",
       "4        unrealized_pnl    4030.67"
      ]
     },
     "execution_count": 14,
     "metadata": {},
     "output_type": "execute_result"
    }
   ],
   "source": [
    "result.metrics_df.head()"
   ]
  },
  {
   "cell_type": "code",
   "execution_count": 15,
   "metadata": {},
   "outputs": [
    {
     "data": {
      "text/plain": [
       "<Axes: xlabel='date'>"
      ]
     },
     "execution_count": 15,
     "metadata": {},
     "output_type": "execute_result"
    },
    {
     "data": {
      "image/png": "[encoded data removed]",
      "text/plain": [
       "<Figure size 640x480 with 1 Axes>"
      ]
     },
     "metadata": {},
     "output_type": "display_data"
    }
   ],
   "source": [
    "result.portfolio.equity.plot()"
   ]
  },
  {
   "cell_type": "markdown",
   "metadata": {},
   "source": [
    "## 引入指标"
   ]
  },
  {
   "cell_type": "code",
   "execution_count": 16,
   "metadata": {},
   "outputs": [],
   "source": [
    "pyb_data_pe=stock_daily0[[\"交易日期\",\"股票代码\",\"开盘价\",\"最高价\",\"最低价\",\"收盘价\",\"成交量(手)\",\"市盈率(静态)\"]]\n",
    "pyb_data_pe.columns=[\"date\",\"symbol\",\"open\",\"high\",\"low\",\"close\",\"volume\",\"pe\"]"
   ]
  },
  {
   "cell_type": "code",
   "execution_count": 17,
   "metadata": {},
   "outputs": [],
   "source": [
    "pybroker.register_columns('pe')"
   ]
  },
  {
   "cell_type": "code",
   "execution_count": 18,
   "metadata": {},
   "outputs": [
    {
     "data": {
      "text/plain": [
       "44.6277"
      ]
     },
     "execution_count": 18,
     "metadata": {},
     "output_type": "execute_result"
    }
   ],
   "source": [
    "pyb_data_pe.pe.median()"
   ]
  },
  {
   "cell_type": "code",
   "execution_count": 19,
   "metadata": {},
   "outputs": [
    {
     "data": {
      "text/plain": [
       "array(['000504.SZ', '000505.SZ', '000506.SZ', '000507.SZ', '000509.SZ',\n",
       "       '000510.SZ', '000513.SZ', '000514.SZ', '000516.SZ', '000517.SZ',\n",
       "       '000518.SZ', '000519.SZ', '000520.SZ', '000521.SZ', '000523.SZ',\n",
       "       '000524.SZ', '000525.SZ', '000526.SZ', '000528.SZ', '000529.SZ'],\n",
       "      dtype=object)"
      ]
     },
     "execution_count": 19,
     "metadata": {},
     "output_type": "execute_result"
    }
   ],
   "source": [
    "pyb_data_pe.symbol.unique()[100:120]"
   ]
  },
  {
   "cell_type": "code",
   "execution_count": 20,
   "metadata": {},
   "outputs": [],
   "source": [
    "def trying_strategy_pe(ctx: ExecContext):\n",
    "    high = ctx.high[-11:-1].max()\n",
    "    low = ctx.low[-11:-1].min()\n",
    "    #print(ctx.pe[-1])\n",
    "\n",
    "    if not ctx.long_pos() and ctx.close[-1] > high and ctx.pe[-1] < 20:\n",
    "        ctx.buy_shares = ctx.calc_target_shares(0.5)\n",
    "    \n",
    "    if ctx.long_pos() and ctx.close[-1] < low:\n",
    "        ctx.sell_all_shares()"
   ]
  },
  {
   "cell_type": "code",
   "execution_count": 21,
   "metadata": {},
   "outputs": [
    {
     "name": "stdout",
     "output_type": "stream",
     "text": [
      "Backtesting: 2020-04-01 00:00:00 to 2021-01-01 00:00:00\n",
      "\n",
      "Test split: 2020-04-01 00:00:00 to 2020-12-31 00:00:00\n"
     ]
    },
    {
     "name": "stderr",
     "output_type": "stream",
     "text": [
      "  0% (0 of 185) |                        | Elapsed Time: 0:00:00 ETA:  --:--:--\n",
      " 16% (31 of 185) |###                    | Elapsed Time: 0:00:00 ETA:   0:00:00\n",
      " 38% (71 of 185) |########               | Elapsed Time: 0:00:00 ETA:   0:00:00\n",
      " 65% (121 of 185) |##############        | Elapsed Time: 0:00:00 ETA:   0:00:00\n",
      "100% (185 of 185) |######################| Elapsed Time: 0:00:00 Time:  0:00:00\n"
     ]
    },
    {
     "name": "stdout",
     "output_type": "stream",
     "text": [
      "\n",
      "Finished backtest: 0:00:00\n"
     ]
    }
   ],
   "source": [
    "pybroker.register_columns('pe')\n",
    "strategy = Strategy(pyb_data_pe, start_date='2020-04-01', end_date='2021-01-01')\n",
    "strategy.add_execution(trying_strategy_pe, pyb_data_pe.symbol.unique()[100:120])\n",
    "result = strategy.backtest(warmup=15)"
   ]
  },
  {
   "cell_type": "code",
   "execution_count": 22,
   "metadata": {},
   "outputs": [
    {
     "data": {
      "text/html": [
       "<div>\n",
       "<style scoped>\n",
       "    .dataframe tbody tr th:only-of-type {\n",
       "        vertical-align: middle;\n",
       "    }\n",
       "\n",
       "    .dataframe tbody tr th {\n",
       "        vertical-align: top;\n",
       "    }\n",
       "\n",
       "    .dataframe thead th {\n",
       "        text-align: right;\n",
       "    }\n",
       "</style>\n",
       "<table border=\"1\" class=\"dataframe\">\n",
       "  <thead>\n",
       "    <tr style=\"text-align: right;\">\n",
       "      <th></th>\n",
       "      <th>name</th>\n",
       "      <th>value</th>\n",
       "    </tr>\n",
       "  </thead>\n",
       "  <tbody>\n",
       "    <tr>\n",
       "      <th>0</th>\n",
       "      <td>trade_count</td>\n",
       "      <td>1.100000e+01</td>\n",
       "    </tr>\n",
       "    <tr>\n",
       "      <th>1</th>\n",
       "      <td>initial_market_value</td>\n",
       "      <td>1.000000e+05</td>\n",
       "    </tr>\n",
       "    <tr>\n",
       "      <th>2</th>\n",
       "      <td>end_market_value</td>\n",
       "      <td>1.182277e+05</td>\n",
       "    </tr>\n",
       "    <tr>\n",
       "      <th>3</th>\n",
       "      <td>total_pnl</td>\n",
       "      <td>1.822773e+04</td>\n",
       "    </tr>\n",
       "    <tr>\n",
       "      <th>4</th>\n",
       "      <td>unrealized_pnl</td>\n",
       "      <td>-3.637979e-12</td>\n",
       "    </tr>\n",
       "  </tbody>\n",
       "</table>\n",
       "</div>"
      ],
      "text/plain": [
       "                   name         value\n",
       "0           trade_count  1.100000e+01\n",
       "1  initial_market_value  1.000000e+05\n",
       "2      end_market_value  1.182277e+05\n",
       "3             total_pnl  1.822773e+04\n",
       "4        unrealized_pnl -3.637979e-12"
      ]
     },
     "execution_count": 22,
     "metadata": {},
     "output_type": "execute_result"
    }
   ],
   "source": [
    "result.metrics_df.head()"
   ]
  },
  {
   "cell_type": "code",
   "execution_count": 23,
   "metadata": {},
   "outputs": [
    {
     "data": {
      "text/plain": [
       "<Axes: xlabel='date'>"
      ]
     },
     "execution_count": 23,
     "metadata": {},
     "output_type": "execute_result"
    },
    {
     "data": {
      "image/png": "[encoded data removed]",
      "text/plain": [
       "<Figure size 640x480 with 1 Axes>"
      ]
     },
     "metadata": {},
     "output_type": "display_data"
    }
   ],
   "source": [
    "result.portfolio.equity.plot()"
   ]
  },
  {
   "cell_type": "markdown",
   "metadata": {},
   "source": [
    "## 自定义数据源类"
   ]
  },
  {
   "cell_type": "markdown",
   "metadata": {},
   "source": [
    "### "
   ]
  },
  {
   "cell_type": "code",
   "execution_count": null,
   "metadata": {},
   "outputs": [],
   "source": [
    "from pybroker.data import DataSource\n",
    "\n",
    "class DFDataSource(DataSource):\n",
    "    def __init__(self, data):\n",
    "        super().__init__()\n",
    "        pybroker.register_columns('pe')\n",
    "        self.data = data\n",
    "\n",
    "    def _fetch_data(self, symbols, start_date, end_date, _timeframe, _adjust):\n",
    "        df = self.data\n",
    "        df = df[df['symbol'].isin(symbols)]\n",
    "        return df[(df['date'] >= start_date) & (df['date'] <= end_date)]"
   ]
  },
  {
   "cell_type": "code",
   "execution_count": 25,
   "metadata": {},
   "outputs": [],
   "source": [
    "pyb_data_pe=stock_daily0[[\"交易日期\",\"股票代码\",\"开盘价\",\"最高价\",\"最低价\",\"收盘价\",\"成交量(手)\",\"市盈率(静态)\"]]\n",
    "pyb_data_pe.columns=[\"date\",\"symbol\",\"open\",\"high\",\"low\",\"close\",\"volume\",\"pe\"]"
   ]
  },
  {
   "cell_type": "code",
   "execution_count": 29,
   "metadata": {},
   "outputs": [
    {
     "name": "stdout",
     "output_type": "stream",
     "text": [
      "Backtesting: 2020-04-01 00:00:00 to 2021-01-01 00:00:00\n",
      "\n",
      "Loading bar data...\n",
      "Loaded bar data: 0:00:01 \n",
      "\n",
      "Test split: 2020-04-01 00:00:00 to 2020-12-31 00:00:00\n"
     ]
    },
    {
     "name": "stderr",
     "output_type": "stream",
     "text": [
      "  0% (0 of 185) |                        | Elapsed Time: 0:00:00 ETA:  --:--:--\n",
      " 11% (21 of 185) |##                     | Elapsed Time: 0:00:00 ETA:   0:00:01\n",
      " 16% (31 of 185) |###                    | Elapsed Time: 0:00:00 ETA:   0:00:01\n",
      " 22% (41 of 185) |#####                  | Elapsed Time: 0:00:00 ETA:   0:00:01\n",
      " 32% (61 of 185) |#######                | Elapsed Time: 0:00:00 ETA:   0:00:00\n",
      " 43% (81 of 185) |##########             | Elapsed Time: 0:00:00 ETA:   0:00:00\n",
      " 54% (101 of 185) |############          | Elapsed Time: 0:00:00 ETA:   0:00:00\n",
      " 65% (121 of 185) |##############        | Elapsed Time: 0:00:00 ETA:   0:00:00\n",
      " 76% (141 of 185) |################      | Elapsed Time: 0:00:00 ETA:   0:00:00\n",
      " 87% (161 of 185) |###################   | Elapsed Time: 0:00:00 ETA:   0:00:00\n",
      " 97% (181 of 185) |##################### | Elapsed Time: 0:00:00 ETA:   0:00:00\n",
      "100% (185 of 185) |######################| Elapsed Time: 0:00:00 Time:  0:00:00\n"
     ]
    },
    {
     "name": "stdout",
     "output_type": "stream",
     "text": [
      "\n",
      "Finished backtest: 0:00:02\n"
     ]
    }
   ],
   "source": [
    "data_source = DFDataSource(pyb_data_pe)\n",
    "strategy = Strategy(data_source,'2020-04-01','2021-01-01')\n",
    "strategy.add_execution(trying_strategy_pe, pyb_data_pe.symbol.unique()[100:220])\n",
    "result = strategy.backtest(warmup=15)"
   ]
  },
  {
   "cell_type": "code",
   "execution_count": 30,
   "metadata": {},
   "outputs": [
    {
     "data": {
      "text/html": [
       "<div>\n",
       "<style scoped>\n",
       "    .dataframe tbody tr th:only-of-type {\n",
       "        vertical-align: middle;\n",
       "    }\n",
       "\n",
       "    .dataframe tbody tr th {\n",
       "        vertical-align: top;\n",
       "    }\n",
       "\n",
       "    .dataframe thead th {\n",
       "        text-align: right;\n",
       "    }\n",
       "</style>\n",
       "<table border=\"1\" class=\"dataframe\">\n",
       "  <thead>\n",
       "    <tr style=\"text-align: right;\">\n",
       "      <th></th>\n",
       "      <th>name</th>\n",
       "      <th>value</th>\n",
       "    </tr>\n",
       "  </thead>\n",
       "  <tbody>\n",
       "    <tr>\n",
       "      <th>0</th>\n",
       "      <td>trade_count</td>\n",
       "      <td>31.00</td>\n",
       "    </tr>\n",
       "    <tr>\n",
       "      <th>1</th>\n",
       "      <td>initial_market_value</td>\n",
       "      <td>100000.00</td>\n",
       "    </tr>\n",
       "    <tr>\n",
       "      <th>2</th>\n",
       "      <td>end_market_value</td>\n",
       "      <td>95740.66</td>\n",
       "    </tr>\n",
       "    <tr>\n",
       "      <th>3</th>\n",
       "      <td>total_pnl</td>\n",
       "      <td>-9110.55</td>\n",
       "    </tr>\n",
       "    <tr>\n",
       "      <th>4</th>\n",
       "      <td>unrealized_pnl</td>\n",
       "      <td>4851.21</td>\n",
       "    </tr>\n",
       "  </tbody>\n",
       "</table>\n",
       "</div>"
      ],
      "text/plain": [
       "                   name      value\n",
       "0           trade_count      31.00\n",
       "1  initial_market_value  100000.00\n",
       "2      end_market_value   95740.66\n",
       "3             total_pnl   -9110.55\n",
       "4        unrealized_pnl    4851.21"
      ]
     },
     "execution_count": 30,
     "metadata": {},
     "output_type": "execute_result"
    }
   ],
   "source": [
    "result.metrics_df.head()"
   ]
  },
  {
   "cell_type": "code",
   "execution_count": 28,
   "metadata": {},
   "outputs": [
    {
     "name": "stdout",
     "output_type": "stream",
     "text": [
      "Loaded cached bar data.\n",
      "\n"
     ]
    },
    {
     "data": {
      "text/html": [
       "<div>\n",
       "<style scoped>\n",
       "    .dataframe tbody tr th:only-of-type {\n",
       "        vertical-align: middle;\n",
       "    }\n",
       "\n",
       "    .dataframe tbody tr th {\n",
       "        vertical-align: top;\n",
       "    }\n",
       "\n",
       "    .dataframe thead th {\n",
       "        text-align: right;\n",
       "    }\n",
       "</style>\n",
       "<table border=\"1\" class=\"dataframe\">\n",
       "  <thead>\n",
       "    <tr style=\"text-align: right;\">\n",
       "      <th></th>\n",
       "      <th>date</th>\n",
       "      <th>symbol</th>\n",
       "      <th>open</th>\n",
       "      <th>high</th>\n",
       "      <th>low</th>\n",
       "      <th>close</th>\n",
       "      <th>volume</th>\n",
       "      <th>pe</th>\n",
       "    </tr>\n",
       "  </thead>\n",
       "  <tbody>\n",
       "    <tr>\n",
       "      <th>543680</th>\n",
       "      <td>2020-01-02</td>\n",
       "      <td>000001.SZ</td>\n",
       "      <td>1817.6638</td>\n",
       "      <td>1850.4146</td>\n",
       "      <td>1806.7470</td>\n",
       "      <td>1841.6810</td>\n",
       "      <td>1530231.87</td>\n",
       "      <td>13.1911</td>\n",
       "    </tr>\n",
       "    <tr>\n",
       "      <th>543681</th>\n",
       "      <td>2020-01-03</td>\n",
       "      <td>000001.SZ</td>\n",
       "      <td>1849.3229</td>\n",
       "      <td>1889.7154</td>\n",
       "      <td>1847.1395</td>\n",
       "      <td>1875.5234</td>\n",
       "      <td>1116194.81</td>\n",
       "      <td>13.4335</td>\n",
       "    </tr>\n",
       "    <tr>\n",
       "      <th>543682</th>\n",
       "      <td>2020-01-06</td>\n",
       "      <td>000001.SZ</td>\n",
       "      <td>1856.9647</td>\n",
       "      <td>1892.9905</td>\n",
       "      <td>1846.0478</td>\n",
       "      <td>1863.5148</td>\n",
       "      <td>862083.50</td>\n",
       "      <td>13.3475</td>\n",
       "    </tr>\n",
       "    <tr>\n",
       "      <th>543683</th>\n",
       "      <td>2020-01-07</td>\n",
       "      <td>000001.SZ</td>\n",
       "      <td>1870.0650</td>\n",
       "      <td>1886.4403</td>\n",
       "      <td>1850.4146</td>\n",
       "      <td>1872.2484</td>\n",
       "      <td>728607.56</td>\n",
       "      <td>13.4101</td>\n",
       "    </tr>\n",
       "    <tr>\n",
       "      <th>543684</th>\n",
       "      <td>2020-01-08</td>\n",
       "      <td>000001.SZ</td>\n",
       "      <td>1855.8730</td>\n",
       "      <td>1861.3314</td>\n",
       "      <td>1815.4805</td>\n",
       "      <td>1818.7555</td>\n",
       "      <td>847824.12</td>\n",
       "      <td>13.0269</td>\n",
       "    </tr>\n",
       "  </tbody>\n",
       "</table>\n",
       "</div>"
      ],
      "text/plain": [
       "             date     symbol       open       high        low      close  \\\n",
       "543680 2020-01-02  000001.SZ  1817.6638  1850.4146  1806.7470  1841.6810   \n",
       "543681 2020-01-03  000001.SZ  1849.3229  1889.7154  1847.1395  1875.5234   \n",
       "543682 2020-01-06  000001.SZ  1856.9647  1892.9905  1846.0478  1863.5148   \n",
       "543683 2020-01-07  000001.SZ  1870.0650  1886.4403  1850.4146  1872.2484   \n",
       "543684 2020-01-08  000001.SZ  1855.8730  1861.3314  1815.4805  1818.7555   \n",
       "\n",
       "            volume       pe  \n",
       "543680  1530231.87  13.1911  \n",
       "543681  1116194.81  13.4335  \n",
       "543682   862083.50  13.3475  \n",
       "543683   728607.56  13.4101  \n",
       "543684   847824.12  13.0269  "
      ]
     },
     "execution_count": 28,
     "metadata": {},
     "output_type": "execute_result"
    }
   ],
   "source": [
    "data_source.query(['000001.SZ','002594.SZ'], '2020-01-01', '2020-01-31').head()"
   ]
  },
  {
   "cell_type": "code",
   "execution_count": null,
   "metadata": {},
   "outputs": [],
   "source": []
  }
 ],
 "metadata": {
  "kernelspec": {
   "display_name": "quant",
   "language": "python",
   "name": "python3"
  },
  "language_info": {
   "codemirror_mode": {
    "name": "ipython",
    "version": 3
   },
   "file_extension": ".py",
   "mimetype": "text/x-python",
   "name": "python",
   "nbconvert_exporter": "python",
   "pygments_lexer": "ipython3",
   "version": "3.11.11"
  }
 },
 "nbformat": 4,
 "nbformat_minor": 2
}
