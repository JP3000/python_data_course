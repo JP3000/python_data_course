{
 "cells": [
  {
   "cell_type": "markdown",
   "metadata": {},
   "source": [
    "# 基于Pybroker框架的量化交易策略\n",
    "\n",
    "* 量化交易策略平台：掘金，聚宽，米筐，优矿等\n",
    "* 常见的量化交易策略库：Zipline、Backtrader、PyBroker等\n",
    "\n",
    "## 什么是量化交易策略\n",
    "\n",
    "量化交易策略是指通过数学模型和算法，对金融市场的价格、趋势、波动等数据进行挖掘和分析，从而制定出买卖股票、期货、外汇等金融产品的交易策略。\n",
    "\n",
    "## pybroker框架\n",
    "\n",
    "pybroker是一个基于Python的量化交易策略框架，它提供了一套完整的量化交易策略开发、回测、模拟和实盘交易的功能。\n",
    "\n",
    "https://www.pybroker.com/zh-cn/latest/index.html\n",
    "\n",
    "https://github.com/edtechre/pybroker/tree/master\n",
    "\n",
    "* 库很新，学习资源少，除了官方文档，没有其他学习资料，借助大模型阅读源代码进行提问学习会有帮助\n",
    "* 使用简单，速度快，支持在线akshare数据源也支持离线数据，对机器学习模型支持友好\n",
    "\n",
    "## pybroker安装（本课程第一次课大部分同学已经完成安装不需要再走下面的流程）\n",
    "\n",
    "* 直接pip通常可以：pip install lib-pybroker -i https://pypi.tuna.tsinghua.edu.cn/simple\n",
    "* 建议先创建虚拟环境在再在虚拟环境中装库（如果直接装好能用那就不用搞虚拟环境）\n",
    "* 如果想要和talib结合，某些版本因为numpy版本冲突，可能需要先安装ta-lib再安装pybroker\n",
    "\n",
    "ta_lib安装需要下载对应版本的ta_lib库\n",
    "\n",
    "https://github.com/cgohlke/talib-build/releases\n",
    "\n",
    "## pybroker与akshare的使用\n",
    "\n",
    "* 由于akshare是一个爬虫接口，对应数据源通常会不稳定，一旦出现异常常用手段就是保持更新\n",
    "\n",
    "* pip install --upgrade lib-pybroker akshare -i https://pypi.tuna.tsinghua.edu.cn/simple"
   ]
  },
  {
   "cell_type": "markdown",
   "metadata": {},
   "source": [
    "## pybroker 的数据形式与离线保存\n",
    "\n",
    "* pybroker对数据的要求\n",
    "\n",
    "* 离线保存后，pybroker会自动读取离线数据，避免总是网络获取"
   ]
  },
  {
   "cell_type": "code",
   "execution_count": 1,
   "metadata": {},
   "outputs": [
    {
     "data": {
      "text/plain": [
       "<diskcache.core.Cache at 0x27a9b21a0d0>"
      ]
     },
     "execution_count": 1,
     "metadata": {},
     "output_type": "execute_result"
    }
   ],
   "source": [
    "import pybroker\n",
    "from pybroker import ExecContext, StrategyConfig, Strategy\n",
    "from pybroker.ext.data import AKShare\n",
    "import matplotlib.pyplot as plt\n",
    "\n",
    "akshare = AKShare()\n",
    "\n",
    "pybroker.enable_data_source_cache('akshare')"
   ]
  },
  {
   "cell_type": "code",
   "execution_count": 2,
   "metadata": {},
   "outputs": [
    {
     "name": "stdout",
     "output_type": "stream",
     "text": [
      "Loaded cached bar data.\n",
      "\n"
     ]
    },
    {
     "data": {
      "text/html": [
       "<div>\n",
       "<style scoped>\n",
       "    .dataframe tbody tr th:only-of-type {\n",
       "        vertical-align: middle;\n",
       "    }\n",
       "\n",
       "    .dataframe tbody tr th {\n",
       "        vertical-align: top;\n",
       "    }\n",
       "\n",
       "    .dataframe thead th {\n",
       "        text-align: right;\n",
       "    }\n",
       "</style>\n",
       "<table border=\"1\" class=\"dataframe\">\n",
       "  <thead>\n",
       "    <tr style=\"text-align: right;\">\n",
       "      <th></th>\n",
       "      <th>date</th>\n",
       "      <th>symbol</th>\n",
       "      <th>open</th>\n",
       "      <th>high</th>\n",
       "      <th>low</th>\n",
       "      <th>close</th>\n",
       "      <th>volume</th>\n",
       "    </tr>\n",
       "  </thead>\n",
       "  <tbody>\n",
       "    <tr>\n",
       "      <th>486</th>\n",
       "      <td>2021-03-02</td>\n",
       "      <td>600000.SH</td>\n",
       "      <td>93.71</td>\n",
       "      <td>94.30</td>\n",
       "      <td>92.06</td>\n",
       "      <td>92.79</td>\n",
       "      <td>747631</td>\n",
       "    </tr>\n",
       "    <tr>\n",
       "      <th>487</th>\n",
       "      <td>2021-03-03</td>\n",
       "      <td>600000.SH</td>\n",
       "      <td>92.65</td>\n",
       "      <td>95.75</td>\n",
       "      <td>92.52</td>\n",
       "      <td>95.75</td>\n",
       "      <td>1135709</td>\n",
       "    </tr>\n",
       "    <tr>\n",
       "      <th>488</th>\n",
       "      <td>2021-03-04</td>\n",
       "      <td>600000.SH</td>\n",
       "      <td>94.96</td>\n",
       "      <td>95.75</td>\n",
       "      <td>94.70</td>\n",
       "      <td>95.49</td>\n",
       "      <td>754129</td>\n",
       "    </tr>\n",
       "    <tr>\n",
       "      <th>489</th>\n",
       "      <td>2021-03-05</td>\n",
       "      <td>600000.SH</td>\n",
       "      <td>95.42</td>\n",
       "      <td>95.89</td>\n",
       "      <td>94.24</td>\n",
       "      <td>95.36</td>\n",
       "      <td>721548</td>\n",
       "    </tr>\n",
       "    <tr>\n",
       "      <th>490</th>\n",
       "      <td>2021-03-08</td>\n",
       "      <td>600000.SH</td>\n",
       "      <td>96.15</td>\n",
       "      <td>96.41</td>\n",
       "      <td>94.37</td>\n",
       "      <td>94.63</td>\n",
       "      <td>801531</td>\n",
       "    </tr>\n",
       "    <tr>\n",
       "      <th>...</th>\n",
       "      <td>...</td>\n",
       "      <td>...</td>\n",
       "      <td>...</td>\n",
       "      <td>...</td>\n",
       "      <td>...</td>\n",
       "      <td>...</td>\n",
       "      <td>...</td>\n",
       "    </tr>\n",
       "    <tr>\n",
       "      <th>481</th>\n",
       "      <td>2023-02-23</td>\n",
       "      <td>000001.SZ</td>\n",
       "      <td>2481.29</td>\n",
       "      <td>2533.30</td>\n",
       "      <td>2478.04</td>\n",
       "      <td>2489.42</td>\n",
       "      <td>824491</td>\n",
       "    </tr>\n",
       "    <tr>\n",
       "      <th>482</th>\n",
       "      <td>2023-02-24</td>\n",
       "      <td>000001.SZ</td>\n",
       "      <td>2484.54</td>\n",
       "      <td>2486.17</td>\n",
       "      <td>2448.78</td>\n",
       "      <td>2458.54</td>\n",
       "      <td>729989</td>\n",
       "    </tr>\n",
       "    <tr>\n",
       "      <th>483</th>\n",
       "      <td>2023-02-27</td>\n",
       "      <td>000001.SZ</td>\n",
       "      <td>2440.66</td>\n",
       "      <td>2461.79</td>\n",
       "      <td>2429.28</td>\n",
       "      <td>2430.91</td>\n",
       "      <td>621462</td>\n",
       "    </tr>\n",
       "    <tr>\n",
       "      <th>484</th>\n",
       "      <td>2023-02-28</td>\n",
       "      <td>000001.SZ</td>\n",
       "      <td>2440.66</td>\n",
       "      <td>2456.91</td>\n",
       "      <td>2417.90</td>\n",
       "      <td>2445.53</td>\n",
       "      <td>607936</td>\n",
       "    </tr>\n",
       "    <tr>\n",
       "      <th>485</th>\n",
       "      <td>2023-03-01</td>\n",
       "      <td>000001.SZ</td>\n",
       "      <td>2448.78</td>\n",
       "      <td>2512.17</td>\n",
       "      <td>2439.03</td>\n",
       "      <td>2508.92</td>\n",
       "      <td>1223452</td>\n",
       "    </tr>\n",
       "  </tbody>\n",
       "</table>\n",
       "<p>972 rows × 7 columns</p>\n",
       "</div>"
      ],
      "text/plain": [
       "          date     symbol     open     high      low    close   volume\n",
       "486 2021-03-02  600000.SH    93.71    94.30    92.06    92.79   747631\n",
       "487 2021-03-03  600000.SH    92.65    95.75    92.52    95.75  1135709\n",
       "488 2021-03-04  600000.SH    94.96    95.75    94.70    95.49   754129\n",
       "489 2021-03-05  600000.SH    95.42    95.89    94.24    95.36   721548\n",
       "490 2021-03-08  600000.SH    96.15    96.41    94.37    94.63   801531\n",
       "..         ...        ...      ...      ...      ...      ...      ...\n",
       "481 2023-02-23  000001.SZ  2481.29  2533.30  2478.04  2489.42   824491\n",
       "482 2023-02-24  000001.SZ  2484.54  2486.17  2448.78  2458.54   729989\n",
       "483 2023-02-27  000001.SZ  2440.66  2461.79  2429.28  2430.91   621462\n",
       "484 2023-02-28  000001.SZ  2440.66  2456.91  2417.90  2445.53   607936\n",
       "485 2023-03-01  000001.SZ  2448.78  2512.17  2439.03  2508.92  1223452\n",
       "\n",
       "[972 rows x 7 columns]"
      ]
     },
     "execution_count": 2,
     "metadata": {},
     "output_type": "execute_result"
    }
   ],
   "source": [
    "# 获取股票数据\n",
    "# 你可以用000001替换000001.SZ，程序仍然可以正常运行！\n",
    "# 并且你可以将起始日期设置为“20210301”这种格式。\n",
    "# 你还可以将“adjust”设置为“qfq”（前复权）或“hfq”（后复权）来调整数据，\n",
    "# 并将“timeframe”设置为“1d”（日数据）、“1w”（周数据）以获取每日、每周的数据。 \n",
    "df = akshare.query(\n",
    "    symbols=['000001.SZ', '600000.SH'],\n",
    "    start_date='3/2/2021',\n",
    "    end_date='3/1/2023',\n",
    "    adjust=\"hfq\",\n",
    "    timeframe=\"1d\",\n",
    ")\n",
    "df"
   ]
  },
  {
   "cell_type": "code",
   "execution_count": 2,
   "metadata": {},
   "outputs": [
    {
     "name": "stdout",
     "output_type": "stream",
     "text": [
      "Loaded cached bar data.\n",
      "\n"
     ]
    }
   ],
   "source": [
    "df = akshare.query(symbols='000001', start_date='20200101', end_date='20230830', adjust='')"
   ]
  },
  {
   "cell_type": "code",
   "execution_count": 9,
   "metadata": {},
   "outputs": [
    {
     "data": {
      "text/html": [
       "<div>\n",
       "<style scoped>\n",
       "    .dataframe tbody tr th:only-of-type {\n",
       "        vertical-align: middle;\n",
       "    }\n",
       "\n",
       "    .dataframe tbody tr th {\n",
       "        vertical-align: top;\n",
       "    }\n",
       "\n",
       "    .dataframe thead th {\n",
       "        text-align: right;\n",
       "    }\n",
       "</style>\n",
       "<table border=\"1\" class=\"dataframe\">\n",
       "  <thead>\n",
       "    <tr style=\"text-align: right;\">\n",
       "      <th></th>\n",
       "      <th>date</th>\n",
       "      <th>symbol</th>\n",
       "      <th>open</th>\n",
       "      <th>high</th>\n",
       "      <th>low</th>\n",
       "      <th>close</th>\n",
       "      <th>volume</th>\n",
       "    </tr>\n",
       "  </thead>\n",
       "  <tbody>\n",
       "    <tr>\n",
       "      <th>0</th>\n",
       "      <td>2020-01-02</td>\n",
       "      <td>000001</td>\n",
       "      <td>16.65</td>\n",
       "      <td>16.95</td>\n",
       "      <td>16.55</td>\n",
       "      <td>16.87</td>\n",
       "      <td>1530232</td>\n",
       "    </tr>\n",
       "    <tr>\n",
       "      <th>1</th>\n",
       "      <td>2020-01-03</td>\n",
       "      <td>000001</td>\n",
       "      <td>16.94</td>\n",
       "      <td>17.31</td>\n",
       "      <td>16.92</td>\n",
       "      <td>17.18</td>\n",
       "      <td>1116195</td>\n",
       "    </tr>\n",
       "    <tr>\n",
       "      <th>2</th>\n",
       "      <td>2020-01-06</td>\n",
       "      <td>000001</td>\n",
       "      <td>17.01</td>\n",
       "      <td>17.34</td>\n",
       "      <td>16.91</td>\n",
       "      <td>17.07</td>\n",
       "      <td>862084</td>\n",
       "    </tr>\n",
       "    <tr>\n",
       "      <th>3</th>\n",
       "      <td>2020-01-07</td>\n",
       "      <td>000001</td>\n",
       "      <td>17.13</td>\n",
       "      <td>17.28</td>\n",
       "      <td>16.95</td>\n",
       "      <td>17.15</td>\n",
       "      <td>728608</td>\n",
       "    </tr>\n",
       "    <tr>\n",
       "      <th>4</th>\n",
       "      <td>2020-01-08</td>\n",
       "      <td>000001</td>\n",
       "      <td>17.00</td>\n",
       "      <td>17.05</td>\n",
       "      <td>16.63</td>\n",
       "      <td>16.66</td>\n",
       "      <td>847824</td>\n",
       "    </tr>\n",
       "    <tr>\n",
       "      <th>...</th>\n",
       "      <td>...</td>\n",
       "      <td>...</td>\n",
       "      <td>...</td>\n",
       "      <td>...</td>\n",
       "      <td>...</td>\n",
       "      <td>...</td>\n",
       "      <td>...</td>\n",
       "    </tr>\n",
       "    <tr>\n",
       "      <th>884</th>\n",
       "      <td>2023-08-24</td>\n",
       "      <td>000001</td>\n",
       "      <td>11.29</td>\n",
       "      <td>11.32</td>\n",
       "      <td>11.05</td>\n",
       "      <td>11.13</td>\n",
       "      <td>1291271</td>\n",
       "    </tr>\n",
       "    <tr>\n",
       "      <th>885</th>\n",
       "      <td>2023-08-25</td>\n",
       "      <td>000001</td>\n",
       "      <td>11.10</td>\n",
       "      <td>11.33</td>\n",
       "      <td>11.08</td>\n",
       "      <td>11.23</td>\n",
       "      <td>845350</td>\n",
       "    </tr>\n",
       "    <tr>\n",
       "      <th>886</th>\n",
       "      <td>2023-08-28</td>\n",
       "      <td>000001</td>\n",
       "      <td>11.84</td>\n",
       "      <td>11.93</td>\n",
       "      <td>11.49</td>\n",
       "      <td>11.52</td>\n",
       "      <td>1997610</td>\n",
       "    </tr>\n",
       "    <tr>\n",
       "      <th>887</th>\n",
       "      <td>2023-08-29</td>\n",
       "      <td>000001</td>\n",
       "      <td>11.47</td>\n",
       "      <td>11.49</td>\n",
       "      <td>11.13</td>\n",
       "      <td>11.31</td>\n",
       "      <td>1964961</td>\n",
       "    </tr>\n",
       "    <tr>\n",
       "      <th>888</th>\n",
       "      <td>2023-08-30</td>\n",
       "      <td>000001</td>\n",
       "      <td>11.27</td>\n",
       "      <td>11.27</td>\n",
       "      <td>11.13</td>\n",
       "      <td>11.13</td>\n",
       "      <td>1375638</td>\n",
       "    </tr>\n",
       "  </tbody>\n",
       "</table>\n",
       "<p>889 rows × 7 columns</p>\n",
       "</div>"
      ],
      "text/plain": [
       "          date  symbol   open   high    low  close   volume\n",
       "0   2020-01-02  000001  16.65  16.95  16.55  16.87  1530232\n",
       "1   2020-01-03  000001  16.94  17.31  16.92  17.18  1116195\n",
       "2   2020-01-06  000001  17.01  17.34  16.91  17.07   862084\n",
       "3   2020-01-07  000001  17.13  17.28  16.95  17.15   728608\n",
       "4   2020-01-08  000001  17.00  17.05  16.63  16.66   847824\n",
       "..         ...     ...    ...    ...    ...    ...      ...\n",
       "884 2023-08-24  000001  11.29  11.32  11.05  11.13  1291271\n",
       "885 2023-08-25  000001  11.10  11.33  11.08  11.23   845350\n",
       "886 2023-08-28  000001  11.84  11.93  11.49  11.52  1997610\n",
       "887 2023-08-29  000001  11.47  11.49  11.13  11.31  1964961\n",
       "888 2023-08-30  000001  11.27  11.27  11.13  11.13  1375638\n",
       "\n",
       "[889 rows x 7 columns]"
      ]
     },
     "execution_count": 9,
     "metadata": {},
     "output_type": "execute_result"
    }
   ],
   "source": [
    "df"
   ]
  },
  {
   "cell_type": "markdown",
   "metadata": {},
   "source": [
    "## 第一个量化策略\n",
    "\n",
    "* 数据的导入\n",
    "\n",
    "* 策略函数的编写与运行机制：每天每个股票都会运行一次\n",
    "\n",
    "* 策略的结果分析"
   ]
  },
  {
   "cell_type": "code",
   "execution_count": 18,
   "metadata": {},
   "outputs": [
    {
     "name": "stdout",
     "output_type": "stream",
     "text": [
      "Backtesting: 2023-08-01 00:00:00 to 2023-08-30 00:00:00\n",
      "\n",
      "Loaded cached bar data.\n",
      "\n",
      "Test split: 2023-08-01 00:00:00 to 2023-08-30 00:00:00\n"
     ]
    },
    {
     "name": "stderr",
     "output_type": "stream",
     "text": [
      "  0% (0 of 22) |                         | Elapsed Time: 0:00:00 ETA:  --:--:--\n",
      "100% (22 of 22) |########################| Elapsed Time: 0:00:00 Time:  0:00:00\n"
     ]
    },
    {
     "name": "stdout",
     "output_type": "stream",
     "text": [
      "2023-08-01 00:00:00\n",
      "2023-08-01 00:00:00\n",
      "2023-08-02 00:00:00\n",
      "2023-08-02 00:00:00\n",
      "2023-08-03 00:00:00\n",
      "2023-08-03 00:00:00\n",
      "2023-08-04 00:00:00\n",
      "2023-08-04 00:00:00\n",
      "2023-08-07 00:00:00\n",
      "2023-08-07 00:00:00\n",
      "2023-08-08 00:00:00\n",
      "2023-08-08 00:00:00\n",
      "2023-08-09 00:00:00\n",
      "2023-08-09 00:00:00\n",
      "2023-08-10 00:00:00\n",
      "2023-08-10 00:00:00\n",
      "2023-08-11 00:00:00\n",
      "2023-08-11 00:00:00\n",
      "2023-08-14 00:00:00\n",
      "2023-08-14 00:00:00\n",
      "2023-08-15 00:00:00\n",
      "2023-08-15 00:00:00\n",
      "2023-08-16 00:00:00\n",
      "2023-08-16 00:00:00\n",
      "2023-08-17 00:00:00\n",
      "2023-08-17 00:00:00\n",
      "2023-08-18 00:00:00\n",
      "2023-08-18 00:00:00\n",
      "2023-08-21 00:00:00\n",
      "2023-08-21 00:00:00\n",
      "2023-08-22 00:00:00\n",
      "2023-08-22 00:00:00\n",
      "2023-08-23 00:00:00\n",
      "2023-08-23 00:00:00\n",
      "2023-08-24 00:00:00\n",
      "2023-08-24 00:00:00\n",
      "2023-08-25 00:00:00\n",
      "2023-08-25 00:00:00\n",
      "2023-08-28 00:00:00\n",
      "2023-08-28 00:00:00\n",
      "2023-08-29 00:00:00\n",
      "2023-08-29 00:00:00\n",
      "2023-08-30 00:00:00\n",
      "2023-08-30 00:00:00\n",
      "\n",
      "Finished backtest: 0:00:00\n"
     ]
    }
   ],
   "source": [
    "\n",
    "# 定义交易策略函数\n",
    "def buy_func(ctx: ExecContext) -> None:\n",
    "    pos = ctx.long_pos()  # 获取当前的长期持有的股票\n",
    "    print(ctx.dt)\n",
    "    #print(ctx.date[-1])\n",
    "    #print(ctx.volume)\n",
    "    #print(ctx.symbol)\n",
    "    if pos:  # 如果当前持有股票\n",
    "        #ctx.sell_shares = pos.shares  # 卖出所有的股票\n",
    "        pass\n",
    "    else:  # 如果当前没有持有股票\n",
    "        ctx.buy_shares = ctx.calc_target_shares(0.5)  # 买入全部可购买的股票\n",
    "        ctx.hold_bars = 3  # 设置持有的交易日为3天\n",
    "\n",
    "\n",
    "# 创建策略配置对象，设置初始现金为 500,000 元\n",
    "my_config = StrategyConfig(initial_cash=500000)\n",
    "\n",
    "# 创建策略对象，设置数据源为 AKShare，开始日期为 '20230801'，结束日期为 '20230830'，策略配置为 my_config\n",
    "strategy = Strategy(data_source=akshare, start_date='20230801', end_date='20230830', config=my_config)\n",
    "\n",
    "# 将定义的交易策略函数添加到策略对象中，应用于股票 '000001'\n",
    "strategy.add_execution(fn=buy_func, symbols=['000001',\"600000\"])\n",
    "\n",
    "# 执行回测\n",
    "result = strategy.backtest()"
   ]
  },
  {
   "cell_type": "code",
   "execution_count": 19,
   "metadata": {},
   "outputs": [
    {
     "data": {
      "text/plain": [
       "<Axes: xlabel='date'>"
      ]
     },
     "execution_count": 19,
     "metadata": {},
     "output_type": "execute_result"
    },
    {
     "data": {
      "image/png": "[encoded data removed]",
      "text/plain": [
       "<Figure size 640x480 with 1 Axes>"
      ]
     },
     "metadata": {},
     "output_type": "display_data"
    }
   ],
   "source": [
    "result.portfolio.equity.plot()"
   ]
  },
  {
   "cell_type": "code",
   "execution_count": 20,
   "metadata": {},
   "outputs": [
    {
     "data": {
      "text/plain": [
       "[<matplotlib.lines.Line2D at 0x22e4080e550>]"
      ]
     },
     "execution_count": 20,
     "metadata": {},
     "output_type": "execute_result"
    },
    {
     "data": {
      "image/png": "[encoded data removed]",
      "text/plain": [
       "<Figure size 640x480 with 1 Axes>"
      ]
     },
     "metadata": {},
     "output_type": "display_data"
    }
   ],
   "source": [
    "\n",
    "chart = plt.subplot2grid((5, 2), (0, 0), rowspan=3, colspan=2)\n",
    "plt.xticks(rotation=30)\n",
    "chart.plot(result.portfolio.index, result.portfolio['market_value'])\n"
   ]
  },
  {
   "cell_type": "code",
   "execution_count": 8,
   "metadata": {},
   "outputs": [],
   "source": [
    "#result.orders"
   ]
  },
  {
   "cell_type": "code",
   "execution_count": 7,
   "metadata": {},
   "outputs": [],
   "source": [
    "#result.portfolio"
   ]
  },
  {
   "cell_type": "code",
   "execution_count": 5,
   "metadata": {},
   "outputs": [],
   "source": [
    "#result.positions"
   ]
  },
  {
   "cell_type": "code",
   "execution_count": 6,
   "metadata": {},
   "outputs": [],
   "source": [
    "#result.trades"
   ]
  },
  {
   "cell_type": "code",
   "execution_count": 21,
   "metadata": {},
   "outputs": [
    {
     "data": {
      "text/html": [
       "<div>\n",
       "<style scoped>\n",
       "    .dataframe tbody tr th:only-of-type {\n",
       "        vertical-align: middle;\n",
       "    }\n",
       "\n",
       "    .dataframe tbody tr th {\n",
       "        vertical-align: top;\n",
       "    }\n",
       "\n",
       "    .dataframe thead th {\n",
       "        text-align: right;\n",
       "    }\n",
       "</style>\n",
       "<table border=\"1\" class=\"dataframe\">\n",
       "  <thead>\n",
       "    <tr style=\"text-align: right;\">\n",
       "      <th></th>\n",
       "      <th>name</th>\n",
       "      <th>value</th>\n",
       "    </tr>\n",
       "  </thead>\n",
       "  <tbody>\n",
       "    <tr>\n",
       "      <th>0</th>\n",
       "      <td>trade_count</td>\n",
       "      <td>10.000000</td>\n",
       "    </tr>\n",
       "    <tr>\n",
       "      <th>1</th>\n",
       "      <td>initial_market_value</td>\n",
       "      <td>500000.000000</td>\n",
       "    </tr>\n",
       "    <tr>\n",
       "      <th>2</th>\n",
       "      <td>end_market_value</td>\n",
       "      <td>488816.610000</td>\n",
       "    </tr>\n",
       "    <tr>\n",
       "      <th>3</th>\n",
       "      <td>total_pnl</td>\n",
       "      <td>-8620.250000</td>\n",
       "    </tr>\n",
       "    <tr>\n",
       "      <th>4</th>\n",
       "      <td>unrealized_pnl</td>\n",
       "      <td>-2563.140000</td>\n",
       "    </tr>\n",
       "    <tr>\n",
       "      <th>5</th>\n",
       "      <td>total_return_pct</td>\n",
       "      <td>-1.724050</td>\n",
       "    </tr>\n",
       "    <tr>\n",
       "      <th>6</th>\n",
       "      <td>total_profit</td>\n",
       "      <td>8971.780000</td>\n",
       "    </tr>\n",
       "    <tr>\n",
       "      <th>7</th>\n",
       "      <td>total_loss</td>\n",
       "      <td>-17592.030000</td>\n",
       "    </tr>\n",
       "    <tr>\n",
       "      <th>8</th>\n",
       "      <td>total_fees</td>\n",
       "      <td>0.000000</td>\n",
       "    </tr>\n",
       "    <tr>\n",
       "      <th>9</th>\n",
       "      <td>max_drawdown</td>\n",
       "      <td>-24678.790000</td>\n",
       "    </tr>\n",
       "    <tr>\n",
       "      <th>10</th>\n",
       "      <td>max_drawdown_pct</td>\n",
       "      <td>-4.869287</td>\n",
       "    </tr>\n",
       "    <tr>\n",
       "      <th>11</th>\n",
       "      <td>win_rate</td>\n",
       "      <td>40.000000</td>\n",
       "    </tr>\n",
       "    <tr>\n",
       "      <th>12</th>\n",
       "      <td>loss_rate</td>\n",
       "      <td>60.000000</td>\n",
       "    </tr>\n",
       "    <tr>\n",
       "      <th>13</th>\n",
       "      <td>winning_trades</td>\n",
       "      <td>4.000000</td>\n",
       "    </tr>\n",
       "    <tr>\n",
       "      <th>14</th>\n",
       "      <td>losing_trades</td>\n",
       "      <td>6.000000</td>\n",
       "    </tr>\n",
       "    <tr>\n",
       "      <th>15</th>\n",
       "      <td>avg_pnl</td>\n",
       "      <td>-862.025000</td>\n",
       "    </tr>\n",
       "    <tr>\n",
       "      <th>16</th>\n",
       "      <td>avg_return_pct</td>\n",
       "      <td>-0.341000</td>\n",
       "    </tr>\n",
       "    <tr>\n",
       "      <th>17</th>\n",
       "      <td>avg_trade_bars</td>\n",
       "      <td>3.000000</td>\n",
       "    </tr>\n",
       "    <tr>\n",
       "      <th>18</th>\n",
       "      <td>avg_profit</td>\n",
       "      <td>2242.945000</td>\n",
       "    </tr>\n",
       "    <tr>\n",
       "      <th>19</th>\n",
       "      <td>avg_profit_pct</td>\n",
       "      <td>0.920000</td>\n",
       "    </tr>\n",
       "    <tr>\n",
       "      <th>20</th>\n",
       "      <td>avg_winning_trade_bars</td>\n",
       "      <td>3.000000</td>\n",
       "    </tr>\n",
       "    <tr>\n",
       "      <th>21</th>\n",
       "      <td>avg_loss</td>\n",
       "      <td>-2932.005000</td>\n",
       "    </tr>\n",
       "    <tr>\n",
       "      <th>22</th>\n",
       "      <td>avg_loss_pct</td>\n",
       "      <td>-1.181667</td>\n",
       "    </tr>\n",
       "    <tr>\n",
       "      <th>23</th>\n",
       "      <td>avg_losing_trade_bars</td>\n",
       "      <td>3.000000</td>\n",
       "    </tr>\n",
       "    <tr>\n",
       "      <th>24</th>\n",
       "      <td>largest_win</td>\n",
       "      <td>3455.200000</td>\n",
       "    </tr>\n",
       "    <tr>\n",
       "      <th>25</th>\n",
       "      <td>largest_win_pct</td>\n",
       "      <td>1.420000</td>\n",
       "    </tr>\n",
       "    <tr>\n",
       "      <th>26</th>\n",
       "      <td>largest_win_bars</td>\n",
       "      <td>3.000000</td>\n",
       "    </tr>\n",
       "    <tr>\n",
       "      <th>27</th>\n",
       "      <td>largest_loss</td>\n",
       "      <td>-6624.700000</td>\n",
       "    </tr>\n",
       "    <tr>\n",
       "      <th>28</th>\n",
       "      <td>largest_loss_pct</td>\n",
       "      <td>-2.660000</td>\n",
       "    </tr>\n",
       "    <tr>\n",
       "      <th>29</th>\n",
       "      <td>largest_loss_bars</td>\n",
       "      <td>3.000000</td>\n",
       "    </tr>\n",
       "    <tr>\n",
       "      <th>30</th>\n",
       "      <td>max_wins</td>\n",
       "      <td>2.000000</td>\n",
       "    </tr>\n",
       "    <tr>\n",
       "      <th>31</th>\n",
       "      <td>max_losses</td>\n",
       "      <td>6.000000</td>\n",
       "    </tr>\n",
       "    <tr>\n",
       "      <th>32</th>\n",
       "      <td>sharpe</td>\n",
       "      <td>-0.117967</td>\n",
       "    </tr>\n",
       "    <tr>\n",
       "      <th>33</th>\n",
       "      <td>sortino</td>\n",
       "      <td>-0.250087</td>\n",
       "    </tr>\n",
       "    <tr>\n",
       "      <th>34</th>\n",
       "      <td>profit_factor</td>\n",
       "      <td>0.746119</td>\n",
       "    </tr>\n",
       "    <tr>\n",
       "      <th>35</th>\n",
       "      <td>ulcer_index</td>\n",
       "      <td>3.617931</td>\n",
       "    </tr>\n",
       "    <tr>\n",
       "      <th>36</th>\n",
       "      <td>upi</td>\n",
       "      <td>-0.028605</td>\n",
       "    </tr>\n",
       "    <tr>\n",
       "      <th>37</th>\n",
       "      <td>equity_r2</td>\n",
       "      <td>0.591262</td>\n",
       "    </tr>\n",
       "    <tr>\n",
       "      <th>38</th>\n",
       "      <td>std_error</td>\n",
       "      <td>7674.257024</td>\n",
       "    </tr>\n",
       "  </tbody>\n",
       "</table>\n",
       "</div>"
      ],
      "text/plain": [
       "                      name          value\n",
       "0              trade_count      10.000000\n",
       "1     initial_market_value  500000.000000\n",
       "2         end_market_value  488816.610000\n",
       "3                total_pnl   -8620.250000\n",
       "4           unrealized_pnl   -2563.140000\n",
       "5         total_return_pct      -1.724050\n",
       "6             total_profit    8971.780000\n",
       "7               total_loss  -17592.030000\n",
       "8               total_fees       0.000000\n",
       "9             max_drawdown  -24678.790000\n",
       "10        max_drawdown_pct      -4.869287\n",
       "11                win_rate      40.000000\n",
       "12               loss_rate      60.000000\n",
       "13          winning_trades       4.000000\n",
       "14           losing_trades       6.000000\n",
       "15                 avg_pnl    -862.025000\n",
       "16          avg_return_pct      -0.341000\n",
       "17          avg_trade_bars       3.000000\n",
       "18              avg_profit    2242.945000\n",
       "19          avg_profit_pct       0.920000\n",
       "20  avg_winning_trade_bars       3.000000\n",
       "21                avg_loss   -2932.005000\n",
       "22            avg_loss_pct      -1.181667\n",
       "23   avg_losing_trade_bars       3.000000\n",
       "24             largest_win    3455.200000\n",
       "25         largest_win_pct       1.420000\n",
       "26        largest_win_bars       3.000000\n",
       "27            largest_loss   -6624.700000\n",
       "28        largest_loss_pct      -2.660000\n",
       "29       largest_loss_bars       3.000000\n",
       "30                max_wins       2.000000\n",
       "31              max_losses       6.000000\n",
       "32                  sharpe      -0.117967\n",
       "33                 sortino      -0.250087\n",
       "34           profit_factor       0.746119\n",
       "35             ulcer_index       3.617931\n",
       "36                     upi      -0.028605\n",
       "37               equity_r2       0.591262\n",
       "38               std_error    7674.257024"
      ]
     },
     "execution_count": 21,
     "metadata": {},
     "output_type": "execute_result"
    }
   ],
   "source": [
    "result.metrics_df"
   ]
  },
  {
   "cell_type": "markdown",
   "metadata": {},
   "source": [
    "### classwork1\n",
    "\n",
    "设定，时间2023年整年，初始金额1000000，编写如下策略：\n",
    "\n",
    "\n",
    "* 导入002594 比亚迪单个股票数据，一开始就购买一直持有到最后\n",
    "\n",
    "* 导入002594 比亚迪和'000001' 股票数据，一开始就购买各50%，每次持有2天 \n",
    "\n",
    "查看策略的收益曲线与各项指标\n"
   ]
  },
  {
   "cell_type": "code",
   "execution_count": null,
   "metadata": {},
   "outputs": [],
   "source": []
  },
  {
   "cell_type": "markdown",
   "metadata": {},
   "source": [
    "## 基本交易操作：买入，卖出，止损，止盈"
   ]
  },
  {
   "cell_type": "code",
   "execution_count": 26,
   "metadata": {},
   "outputs": [
    {
     "name": "stdout",
     "output_type": "stream",
     "text": [
      "Loading bar data...\n",
      "Loaded bar data: 0:00:01 \n",
      "\n"
     ]
    }
   ],
   "source": [
    "df0 = akshare.query(symbols='000001', start_date='20200101', end_date='20230101', adjust='')\n",
    "#df0.plot()"
   ]
  },
  {
   "cell_type": "code",
   "execution_count": 27,
   "metadata": {},
   "outputs": [
    {
     "data": {
      "text/plain": [
       "<Axes: >"
      ]
     },
     "execution_count": 27,
     "metadata": {},
     "output_type": "execute_result"
    },
    {
     "data": {
      "image/png": "[encoded data removed]",
      "text/plain": [
       "<Figure size 640x480 with 1 Axes>"
      ]
     },
     "metadata": {},
     "output_type": "display_data"
    }
   ],
   "source": [
    "df0.close.plot()"
   ]
  },
  {
   "cell_type": "code",
   "execution_count": 28,
   "metadata": {},
   "outputs": [
    {
     "name": "stdout",
     "output_type": "stream",
     "text": [
      "Loading bar data...\n",
      "Loaded bar data: 0:00:00 \n",
      "\n"
     ]
    }
   ],
   "source": [
    "df1 = akshare.query(symbols='002594', start_date='20200101', end_date='20230101', adjust='')\n",
    "#df0.plot()"
   ]
  },
  {
   "cell_type": "code",
   "execution_count": 29,
   "metadata": {},
   "outputs": [
    {
     "data": {
      "text/plain": [
       "<Axes: >"
      ]
     },
     "execution_count": 29,
     "metadata": {},
     "output_type": "execute_result"
    },
    {
     "data": {
      "image/png": "[encoded data removed]",
      "text/plain": [
       "<Figure size 640x480 with 1 Axes>"
      ]
     },
     "metadata": {},
     "output_type": "display_data"
    }
   ],
   "source": [
    "df1.close.plot()"
   ]
  },
  {
   "cell_type": "code",
   "execution_count": 31,
   "metadata": {},
   "outputs": [
    {
     "name": "stdout",
     "output_type": "stream",
     "text": [
      "Backtesting: 2020-01-01 00:00:00 to 2023-01-01 00:00:00\n",
      "\n",
      "Loading bar data...\n",
      "Loaded bar data: 0:00:00 \n",
      "\n",
      "Test split: 2020-01-02 00:00:00 to 2022-12-30 00:00:00\n"
     ]
    },
    {
     "name": "stderr",
     "output_type": "stream",
     "text": [
      "  0% (0 of 728) |                        | Elapsed Time: 0:00:00 ETA:  --:--:--\n",
      " 11% (81 of 728) |##                     | Elapsed Time: 0:00:00 ETA:   0:00:00\n",
      " 24% (181 of 728) |#####                 | Elapsed Time: 0:00:00 ETA:   0:00:00\n",
      " 38% (281 of 728) |########              | Elapsed Time: 0:00:00 ETA:   0:00:00\n",
      " 52% (381 of 728) |###########           | Elapsed Time: 0:00:00 ETA:   0:00:00\n",
      " 64% (471 of 728) |##############        | Elapsed Time: 0:00:00 ETA:   0:00:00\n",
      " 75% (551 of 728) |################      | Elapsed Time: 0:00:00 ETA:   0:00:00\n",
      " 89% (651 of 728) |###################   | Elapsed Time: 0:00:00 ETA:   0:00:00\n",
      " 97% (711 of 728) |##################### | Elapsed Time: 0:00:00 ETA:   0:00:00\n",
      "100% (728 of 728) |######################| Elapsed Time: 0:00:00 Time:  0:00:00\n"
     ]
    },
    {
     "name": "stdout",
     "output_type": "stream",
     "text": [
      "\n",
      "Finished backtest: 0:00:01\n"
     ]
    }
   ],
   "source": [
    "strategy = Strategy(akshare, start_date='2020-01-01', end_date='2023-01-01')\n",
    "strategy.add_execution(buy_by_proportion, ['000001.SZ','002594.SZ'])\n",
    "result = strategy.backtest()"
   ]
  },
  {
   "cell_type": "code",
   "execution_count": 32,
   "metadata": {},
   "outputs": [
    {
     "data": {
      "text/html": [
       "<div>\n",
       "<style scoped>\n",
       "    .dataframe tbody tr th:only-of-type {\n",
       "        vertical-align: middle;\n",
       "    }\n",
       "\n",
       "    .dataframe tbody tr th {\n",
       "        vertical-align: top;\n",
       "    }\n",
       "\n",
       "    .dataframe thead th {\n",
       "        text-align: right;\n",
       "    }\n",
       "</style>\n",
       "<table border=\"1\" class=\"dataframe\">\n",
       "  <thead>\n",
       "    <tr style=\"text-align: right;\">\n",
       "      <th></th>\n",
       "      <th>type</th>\n",
       "      <th>symbol</th>\n",
       "      <th>date</th>\n",
       "      <th>shares</th>\n",
       "      <th>limit_price</th>\n",
       "      <th>fill_price</th>\n",
       "      <th>fees</th>\n",
       "    </tr>\n",
       "    <tr>\n",
       "      <th>id</th>\n",
       "      <th></th>\n",
       "      <th></th>\n",
       "      <th></th>\n",
       "      <th></th>\n",
       "      <th></th>\n",
       "      <th></th>\n",
       "      <th></th>\n",
       "    </tr>\n",
       "  </thead>\n",
       "  <tbody>\n",
       "    <tr>\n",
       "      <th>1</th>\n",
       "      <td>buy</td>\n",
       "      <td>000001.SZ</td>\n",
       "      <td>2020-01-03</td>\n",
       "      <td>1185</td>\n",
       "      <td>NaN</td>\n",
       "      <td>17.12</td>\n",
       "      <td>0.0</td>\n",
       "    </tr>\n",
       "    <tr>\n",
       "      <th>2</th>\n",
       "      <td>buy</td>\n",
       "      <td>002594.SZ</td>\n",
       "      <td>2020-01-03</td>\n",
       "      <td>415</td>\n",
       "      <td>NaN</td>\n",
       "      <td>48.34</td>\n",
       "      <td>0.0</td>\n",
       "    </tr>\n",
       "  </tbody>\n",
       "</table>\n",
       "</div>"
      ],
      "text/plain": [
       "   type     symbol       date  shares  limit_price  fill_price  fees\n",
       "id                                                                  \n",
       "1   buy  000001.SZ 2020-01-03    1185          NaN       17.12   0.0\n",
       "2   buy  002594.SZ 2020-01-03     415          NaN       48.34   0.0"
      ]
     },
     "execution_count": 32,
     "metadata": {},
     "output_type": "execute_result"
    }
   ],
   "source": [
    "result.orders"
   ]
  },
  {
   "cell_type": "code",
   "execution_count": 33,
   "metadata": {},
   "outputs": [
    {
     "data": {
      "text/plain": [
       "<Axes: xlabel='date'>"
      ]
     },
     "execution_count": 33,
     "metadata": {},
     "output_type": "execute_result"
    },
    {
     "data": {
      "image/png": "[encoded data removed]",
      "text/plain": [
       "<Figure size 640x480 with 1 Axes>"
      ]
     },
     "metadata": {},
     "output_type": "display_data"
    }
   ],
   "source": [
    "result.portfolio.equity.plot()"
   ]
  },
  {
   "cell_type": "markdown",
   "metadata": {},
   "source": [
    "### 买入操作\n",
    " * 固定数量买入：通过`ExecContext.buy_shares`属性设置买入股票数量。"
   ]
  },
  {
   "cell_type": "code",
   "execution_count": 2,
   "metadata": {},
   "outputs": [],
   "source": [
    "def buy_fixed_shares(ctx):\n",
    "    if not ctx.long_pos():\n",
    "        ctx.buy_shares = 100"
   ]
  },
  {
   "cell_type": "markdown",
   "metadata": {},
   "source": [
    "* 按资金比例买入：利用`ExecContext.calc_target_shares`方法，根据目标资金比例计算买入数量。"
   ]
  },
  {
   "cell_type": "code",
   "execution_count": 30,
   "metadata": {},
   "outputs": [],
   "source": [
    "def buy_by_proportion(ctx):\n",
    "    if not ctx.long_pos():\n",
    "        target_size = 0.2  # 使用20%资金\n",
    "        ctx.buy_shares = ctx.calc_target_shares(target_size)"
   ]
  },
  {
   "cell_type": "markdown",
   "metadata": {},
   "source": [
    "### 卖出操作\n",
    "* 卖出所有多头股票：使用`ExecContext.sell_all_shares()`方法平仓所有多头头寸。"
   ]
  },
  {
   "cell_type": "code",
   "execution_count": 11,
   "metadata": {},
   "outputs": [],
   "source": [
    "def sell_all_long_shares(ctx):\n",
    "    if ctx.long_pos():\n",
    "        ctx.sell_all_shares()"
   ]
  },
  {
   "cell_type": "markdown",
   "metadata": {},
   "source": [
    "* 按数量卖出：通过`ExecContext.sell_shares`属性设置卖出股票数量。"
   ]
  },
  {
   "cell_type": "code",
   "execution_count": null,
   "metadata": {},
   "outputs": [],
   "source": [
    "def sell_fixed_shares(ctx):\n",
    "    if ctx.long_pos():\n",
    "        ctx.sell_shares = 50"
   ]
  },
  {
   "cell_type": "markdown",
   "metadata": {},
   "source": [
    "### 止损操作\n",
    "* 百分比止损：借助`ExecContext.stop_loss_pct`属性，按入场价格的百分比设置止损。"
   ]
  },
  {
   "cell_type": "code",
   "execution_count": 11,
   "metadata": {},
   "outputs": [],
   "source": [
    "def buy_with_percentage_stop_loss(ctx):\n",
    "    if not ctx.long_pos():\n",
    "        ctx.buy_shares = ctx.calc_target_shares(1)\n",
    "        ctx.stop_loss_pct = 15  # 入场价下跌15%止损"
   ]
  },
  {
   "cell_type": "markdown",
   "metadata": {},
   "source": [
    "* 移动止损：利用`ExecContext.stop_trailing_pct`属性，当证券价格跌破最高市场价格一定百分比时退出交易。"
   ]
  },
  {
   "cell_type": "code",
   "execution_count": null,
   "metadata": {},
   "outputs": [],
   "source": [
    "def buy_with_trailing_stop_loss(ctx):\n",
    "    if not ctx.long_pos():\n",
    "        ctx.buy_shares = ctx.calc_target_shares(1)\n",
    "        ctx.stop_trailing_pct = 10  # 最高市场价下跌10%止损"
   ]
  },
  {
   "cell_type": "markdown",
   "metadata": {},
   "source": [
    "* 设定限价与止损结合：同时设置止损和限价，确保订单在特定价格执行。\n",
    "\n",
    "ctx.stop_loss_limit 是 ExecContext 对象中的一个属性，用于设置止损的限价，即当触发止损时，希望股票以不低于这个限价的价格卖出。这里设置为当前收盘价减 2，意味着当股票价格下跌到当前收盘价减去 2 的价位时，触发止损并且以不低于这个价格的条件卖出股票，确保在一个相对理想的价格执行止损操作。"
   ]
  },
  {
   "cell_type": "code",
   "execution_count": null,
   "metadata": {},
   "outputs": [],
   "source": [
    "def buy_with_stop_and_limit(ctx):\n",
    "    if not ctx.long_pos():\n",
    "        ctx.buy_shares = ctx.calc_target_shares(1)\n",
    "        ctx.stop_loss_pct = 15\n",
    "        ctx.stop_loss_limit = ctx.close[-1] - 2  # 止损限价为当前收盘价减2"
   ]
  },
  {
   "cell_type": "markdown",
   "metadata": {},
   "source": [
    "### 止盈操作\n",
    "\n",
    "可以使用获利单来锁定交易的利润。以下代码在入场价格上涨 10% 处添加了一个获利单："
   ]
  },
  {
   "cell_type": "code",
   "execution_count": null,
   "metadata": {},
   "outputs": [],
   "source": [
    "def buy_with_stop_loss_and_profit(ctx):\n",
    "    if not ctx.long_pos():\n",
    "        ctx.buy_shares = ctx.calc_target_shares(1)\n",
    "        ctx.stop_loss_pct = 20\n",
    "        ctx.stop_profit_pct = 10"
   ]
  },
  {
   "cell_type": "markdown",
   "metadata": {},
   "source": [
    "### 策略内自定义数据\n",
    "\n",
    "ExecContext.session 是一个字典，执行期间每个时间点都持续存在的自定义数据"
   ]
  },
  {
   "cell_type": "code",
   "execution_count": null,
   "metadata": {},
   "outputs": [],
   "source": [
    "def simple_strategy(ctx: ExecContext):\n",
    "    # 初始化 session 中的计数器\n",
    "    if 'counter' not in ctx.session:\n",
    "        ctx.session['counter'] = 0\n",
    "\n",
    "    # 每次执行策略时计数器加 1\n",
    "    ctx.session['counter'] += 1"
   ]
  },
  {
   "cell_type": "markdown",
   "metadata": {},
   "source": [
    "### 直接买入\n"
   ]
  },
  {
   "cell_type": "code",
   "execution_count": 86,
   "metadata": {},
   "outputs": [
    {
     "name": "stdout",
     "output_type": "stream",
     "text": [
      "Backtesting: 2020-01-01 00:00:00 to 2023-01-01 00:00:00\n",
      "\n",
      "Loaded cached bar data.\n",
      "\n",
      "Test split: 2020-01-02 00:00:00 to 2022-12-30 00:00:00\n"
     ]
    },
    {
     "name": "stderr",
     "output_type": "stream",
     "text": [
      "  0% (0 of 728) |                        | Elapsed Time: 0:00:00 ETA:  --:--:--\n",
      "  5% (41 of 728) |#                      | Elapsed Time: 0:00:00 ETA:   0:00:00\n",
      " 12% (91 of 728) |##                     | Elapsed Time: 0:00:00 ETA:   0:00:00\n",
      " 20% (151 of 728) |####                  | Elapsed Time: 0:00:00 ETA:   0:00:00\n",
      " 30% (221 of 728) |######                | Elapsed Time: 0:00:00 ETA:   0:00:00\n",
      " 41% (301 of 728) |#########             | Elapsed Time: 0:00:00 ETA:   0:00:00\n",
      " 53% (391 of 728) |###########           | Elapsed Time: 0:00:00 ETA:   0:00:00\n",
      " 66% (481 of 728) |##############        | Elapsed Time: 0:00:00 ETA:   0:00:00\n",
      " 75% (551 of 728) |################      | Elapsed Time: 0:00:00 ETA:   0:00:00\n",
      " 86% (631 of 728) |###################   | Elapsed Time: 0:00:00 ETA:   0:00:00\n",
      " 99% (721 of 728) |##################### | Elapsed Time: 0:00:00 ETA:   0:00:00\n",
      "100% (728 of 728) |######################| Elapsed Time: 0:00:00 Time:  0:00:00\n"
     ]
    },
    {
     "name": "stdout",
     "output_type": "stream",
     "text": [
      "\n",
      "Finished backtest: 0:00:01\n"
     ]
    }
   ],
   "source": [
    "def trying_strategy(ctx: ExecContext):\n",
    "\n",
    "    if not ctx.long_pos():\n",
    "        ctx.buy_shares = ctx.calc_target_shares(0.5)\n",
    "\n",
    "strategy = Strategy(akshare, start_date='2020-01-01', end_date='2023-01-01')\n",
    "strategy.add_execution(trying_strategy, ['000001.SZ','002594.SZ'])\n",
    "result = strategy.backtest()"
   ]
  },
  {
   "cell_type": "code",
   "execution_count": 87,
   "metadata": {},
   "outputs": [
    {
     "data": {
      "text/html": [
       "<div>\n",
       "<style scoped>\n",
       "    .dataframe tbody tr th:only-of-type {\n",
       "        vertical-align: middle;\n",
       "    }\n",
       "\n",
       "    .dataframe tbody tr th {\n",
       "        vertical-align: top;\n",
       "    }\n",
       "\n",
       "    .dataframe thead th {\n",
       "        text-align: right;\n",
       "    }\n",
       "</style>\n",
       "<table border=\"1\" class=\"dataframe\">\n",
       "  <thead>\n",
       "    <tr style=\"text-align: right;\">\n",
       "      <th></th>\n",
       "      <th>type</th>\n",
       "      <th>symbol</th>\n",
       "      <th>date</th>\n",
       "      <th>shares</th>\n",
       "      <th>limit_price</th>\n",
       "      <th>fill_price</th>\n",
       "      <th>fees</th>\n",
       "    </tr>\n",
       "    <tr>\n",
       "      <th>id</th>\n",
       "      <th></th>\n",
       "      <th></th>\n",
       "      <th></th>\n",
       "      <th></th>\n",
       "      <th></th>\n",
       "      <th></th>\n",
       "      <th></th>\n",
       "    </tr>\n",
       "  </thead>\n",
       "  <tbody>\n",
       "    <tr>\n",
       "      <th>1</th>\n",
       "      <td>buy</td>\n",
       "      <td>000001.SZ</td>\n",
       "      <td>2020-01-03</td>\n",
       "      <td>2963</td>\n",
       "      <td>NaN</td>\n",
       "      <td>17.12</td>\n",
       "      <td>0.0</td>\n",
       "    </tr>\n",
       "    <tr>\n",
       "      <th>2</th>\n",
       "      <td>buy</td>\n",
       "      <td>002594.SZ</td>\n",
       "      <td>2020-01-03</td>\n",
       "      <td>1019</td>\n",
       "      <td>NaN</td>\n",
       "      <td>48.34</td>\n",
       "      <td>0.0</td>\n",
       "    </tr>\n",
       "  </tbody>\n",
       "</table>\n",
       "</div>"
      ],
      "text/plain": [
       "   type     symbol       date  shares  limit_price  fill_price  fees\n",
       "id                                                                  \n",
       "1   buy  000001.SZ 2020-01-03    2963          NaN       17.12   0.0\n",
       "2   buy  002594.SZ 2020-01-03    1019          NaN       48.34   0.0"
      ]
     },
     "execution_count": 87,
     "metadata": {},
     "output_type": "execute_result"
    }
   ],
   "source": [
    "result.orders"
   ]
  },
  {
   "cell_type": "code",
   "execution_count": 89,
   "metadata": {},
   "outputs": [
    {
     "data": {
      "text/plain": [
       "name     end_market_value\n",
       "value           300860.49\n",
       "Name: 2, dtype: object"
      ]
     },
     "execution_count": 89,
     "metadata": {},
     "output_type": "execute_result"
    }
   ],
   "source": [
    "result.metrics_df.loc[2]"
   ]
  },
  {
   "cell_type": "code",
   "execution_count": 90,
   "metadata": {},
   "outputs": [
    {
     "data": {
      "text/plain": [
       "name       sharpe\n",
       "value    0.038323\n",
       "Name: 32, dtype: object"
      ]
     },
     "execution_count": 90,
     "metadata": {},
     "output_type": "execute_result"
    }
   ],
   "source": [
    "result.metrics_df.loc[32]"
   ]
  },
  {
   "cell_type": "markdown",
   "metadata": {},
   "source": [
    "### 简单策略1：各买入50%亏损10%卖出，然后不再交易"
   ]
  },
  {
   "cell_type": "code",
   "execution_count": 52,
   "metadata": {},
   "outputs": [
    {
     "name": "stdout",
     "output_type": "stream",
     "text": [
      "Backtesting: 2020-01-01 00:00:00 to 2023-01-01 00:00:00\n",
      "\n",
      "Loaded cached bar data.\n",
      "\n",
      "Test split: 2020-01-02 00:00:00 to 2022-12-30 00:00:00\n"
     ]
    },
    {
     "name": "stderr",
     "output_type": "stream",
     "text": [
      "  0% (0 of 728) |                        | Elapsed Time: 0:00:00 ETA:  --:--:--\n",
      " 11% (81 of 728) |##                     | Elapsed Time: 0:00:00 ETA:   0:00:00\n",
      " 30% (221 of 728) |######                | Elapsed Time: 0:00:00 ETA:   0:00:00\n",
      " 49% (361 of 728) |##########            | Elapsed Time: 0:00:00 ETA:   0:00:00\n",
      " 71% (521 of 728) |###############       | Elapsed Time: 0:00:00 ETA:   0:00:00\n",
      " 93% (681 of 728) |####################  | Elapsed Time: 0:00:00 ETA:   0:00:00\n",
      "100% (728 of 728) |######################| Elapsed Time: 0:00:00 Time:  0:00:00\n"
     ]
    },
    {
     "name": "stdout",
     "output_type": "stream",
     "text": [
      "\n",
      "Finished backtest: 0:00:00\n"
     ]
    }
   ],
   "source": [
    "def trying_strategy(ctx: ExecContext):\n",
    "    if \"one_buy_sell\" not in ctx.session:\n",
    "        ctx.session[\"one_buy_sell\"] = False\n",
    "\n",
    "    if not ctx.long_pos() and not ctx.session[\"one_buy_sell\"]:\n",
    "        ctx.buy_shares = ctx.calc_target_shares(0.5)\n",
    "        ctx.stop_loss_pct = 10\n",
    "        ctx.session[\"one_buy_sell\"] = True\n",
    "\n",
    "strategy = Strategy(akshare, start_date='2020-01-01', end_date='2023-01-01')\n",
    "strategy.add_execution(trying_strategy, ['000001.SZ','002594.SZ'])\n",
    "result = strategy.backtest()"
   ]
  },
  {
   "cell_type": "code",
   "execution_count": 54,
   "metadata": {},
   "outputs": [
    {
     "data": {
      "text/html": [
       "<div>\n",
       "<style scoped>\n",
       "    .dataframe tbody tr th:only-of-type {\n",
       "        vertical-align: middle;\n",
       "    }\n",
       "\n",
       "    .dataframe tbody tr th {\n",
       "        vertical-align: top;\n",
       "    }\n",
       "\n",
       "    .dataframe thead th {\n",
       "        text-align: right;\n",
       "    }\n",
       "</style>\n",
       "<table border=\"1\" class=\"dataframe\">\n",
       "  <thead>\n",
       "    <tr style=\"text-align: right;\">\n",
       "      <th></th>\n",
       "      <th>type</th>\n",
       "      <th>symbol</th>\n",
       "      <th>date</th>\n",
       "      <th>shares</th>\n",
       "      <th>limit_price</th>\n",
       "      <th>fill_price</th>\n",
       "      <th>fees</th>\n",
       "    </tr>\n",
       "    <tr>\n",
       "      <th>id</th>\n",
       "      <th></th>\n",
       "      <th></th>\n",
       "      <th></th>\n",
       "      <th></th>\n",
       "      <th></th>\n",
       "      <th></th>\n",
       "      <th></th>\n",
       "    </tr>\n",
       "  </thead>\n",
       "  <tbody>\n",
       "    <tr>\n",
       "      <th>1</th>\n",
       "      <td>buy</td>\n",
       "      <td>000001.SZ</td>\n",
       "      <td>2020-01-03</td>\n",
       "      <td>2963</td>\n",
       "      <td>NaN</td>\n",
       "      <td>17.12</td>\n",
       "      <td>0.0</td>\n",
       "    </tr>\n",
       "    <tr>\n",
       "      <th>2</th>\n",
       "      <td>buy</td>\n",
       "      <td>002594.SZ</td>\n",
       "      <td>2020-01-03</td>\n",
       "      <td>1019</td>\n",
       "      <td>NaN</td>\n",
       "      <td>48.34</td>\n",
       "      <td>0.0</td>\n",
       "    </tr>\n",
       "    <tr>\n",
       "      <th>3</th>\n",
       "      <td>sell</td>\n",
       "      <td>000001.SZ</td>\n",
       "      <td>2020-01-23</td>\n",
       "      <td>2963</td>\n",
       "      <td>NaN</td>\n",
       "      <td>15.41</td>\n",
       "      <td>0.0</td>\n",
       "    </tr>\n",
       "  </tbody>\n",
       "</table>\n",
       "</div>"
      ],
      "text/plain": [
       "    type     symbol       date  shares  limit_price  fill_price  fees\n",
       "id                                                                   \n",
       "1    buy  000001.SZ 2020-01-03    2963          NaN       17.12   0.0\n",
       "2    buy  002594.SZ 2020-01-03    1019          NaN       48.34   0.0\n",
       "3   sell  000001.SZ 2020-01-23    2963          NaN       15.41   0.0"
      ]
     },
     "execution_count": 54,
     "metadata": {},
     "output_type": "execute_result"
    }
   ],
   "source": [
    "result.orders"
   ]
  },
  {
   "cell_type": "code",
   "execution_count": 55,
   "metadata": {},
   "outputs": [
    {
     "data": {
      "text/html": [
       "<div>\n",
       "<style scoped>\n",
       "    .dataframe tbody tr th:only-of-type {\n",
       "        vertical-align: middle;\n",
       "    }\n",
       "\n",
       "    .dataframe tbody tr th {\n",
       "        vertical-align: top;\n",
       "    }\n",
       "\n",
       "    .dataframe thead th {\n",
       "        text-align: right;\n",
       "    }\n",
       "</style>\n",
       "<table border=\"1\" class=\"dataframe\">\n",
       "  <thead>\n",
       "    <tr style=\"text-align: right;\">\n",
       "      <th></th>\n",
       "      <th>name</th>\n",
       "      <th>value</th>\n",
       "    </tr>\n",
       "  </thead>\n",
       "  <tbody>\n",
       "    <tr>\n",
       "      <th>0</th>\n",
       "      <td>trade_count</td>\n",
       "      <td>1.00</td>\n",
       "    </tr>\n",
       "    <tr>\n",
       "      <th>1</th>\n",
       "      <td>initial_market_value</td>\n",
       "      <td>100000.00</td>\n",
       "    </tr>\n",
       "    <tr>\n",
       "      <th>2</th>\n",
       "      <td>end_market_value</td>\n",
       "      <td>307521.31</td>\n",
       "    </tr>\n",
       "    <tr>\n",
       "      <th>3</th>\n",
       "      <td>total_pnl</td>\n",
       "      <td>-5072.66</td>\n",
       "    </tr>\n",
       "    <tr>\n",
       "      <th>4</th>\n",
       "      <td>unrealized_pnl</td>\n",
       "      <td>212593.97</td>\n",
       "    </tr>\n",
       "  </tbody>\n",
       "</table>\n",
       "</div>"
      ],
      "text/plain": [
       "                   name      value\n",
       "0           trade_count       1.00\n",
       "1  initial_market_value  100000.00\n",
       "2      end_market_value  307521.31\n",
       "3             total_pnl   -5072.66\n",
       "4        unrealized_pnl  212593.97"
      ]
     },
     "execution_count": 55,
     "metadata": {},
     "output_type": "execute_result"
    }
   ],
   "source": [
    "result.metrics_df.head(5)"
   ]
  },
  {
   "cell_type": "markdown",
   "metadata": {},
   "source": [
    "### 简单策略2：各买入50%亏损10%卖出或者赚20卖出，然后不再交易"
   ]
  },
  {
   "cell_type": "code",
   "execution_count": 45,
   "metadata": {},
   "outputs": [
    {
     "name": "stdout",
     "output_type": "stream",
     "text": [
      "Backtesting: 2020-01-01 00:00:00 to 2023-01-01 00:00:00\n",
      "\n",
      "Loaded cached bar data.\n",
      "\n",
      "Test split: 2020-01-02 00:00:00 to 2022-12-30 00:00:00\n"
     ]
    },
    {
     "name": "stderr",
     "output_type": "stream",
     "text": [
      "  0% (0 of 728) |                        | Elapsed Time: 0:00:00 ETA:  --:--:--\n",
      "100% (728 of 728) |######################| Elapsed Time: 0:00:00 Time:  0:00:00\n"
     ]
    },
    {
     "name": "stdout",
     "output_type": "stream",
     "text": [
      "\n",
      "Finished backtest: 0:00:00\n"
     ]
    }
   ],
   "source": [
    "def trying_strategy(ctx: ExecContext):\n",
    "    if \"one_buy_sell\" not in ctx.session:\n",
    "        ctx.session[\"one_buy_sell\"] = False\n",
    "\n",
    "    if not ctx.long_pos() and not ctx.session[\"one_buy_sell\"]:\n",
    "        ctx.buy_shares = ctx.calc_target_shares(0.5)\n",
    "        ctx.stop_trailing_pct = 10\n",
    "        ctx.stop_profit_pct = 20\n",
    "        ctx.session[\"one_buy_sell\"] = True\n",
    "\n",
    "strategy = Strategy(akshare, start_date='2020-01-01', end_date='2023-01-01')\n",
    "strategy.add_execution(trying_strategy, ['000001.SZ','002594.SZ'])\n",
    "result = strategy.backtest()"
   ]
  },
  {
   "cell_type": "code",
   "execution_count": 46,
   "metadata": {},
   "outputs": [
    {
     "data": {
      "text/html": [
       "<div>\n",
       "<style scoped>\n",
       "    .dataframe tbody tr th:only-of-type {\n",
       "        vertical-align: middle;\n",
       "    }\n",
       "\n",
       "    .dataframe tbody tr th {\n",
       "        vertical-align: top;\n",
       "    }\n",
       "\n",
       "    .dataframe thead th {\n",
       "        text-align: right;\n",
       "    }\n",
       "</style>\n",
       "<table border=\"1\" class=\"dataframe\">\n",
       "  <thead>\n",
       "    <tr style=\"text-align: right;\">\n",
       "      <th></th>\n",
       "      <th>type</th>\n",
       "      <th>symbol</th>\n",
       "      <th>date</th>\n",
       "      <th>shares</th>\n",
       "      <th>limit_price</th>\n",
       "      <th>fill_price</th>\n",
       "      <th>fees</th>\n",
       "    </tr>\n",
       "    <tr>\n",
       "      <th>id</th>\n",
       "      <th></th>\n",
       "      <th></th>\n",
       "      <th></th>\n",
       "      <th></th>\n",
       "      <th></th>\n",
       "      <th></th>\n",
       "      <th></th>\n",
       "    </tr>\n",
       "  </thead>\n",
       "  <tbody>\n",
       "    <tr>\n",
       "      <th>1</th>\n",
       "      <td>buy</td>\n",
       "      <td>000001.SZ</td>\n",
       "      <td>2020-01-03</td>\n",
       "      <td>2963</td>\n",
       "      <td>NaN</td>\n",
       "      <td>17.12</td>\n",
       "      <td>0.0</td>\n",
       "    </tr>\n",
       "    <tr>\n",
       "      <th>2</th>\n",
       "      <td>buy</td>\n",
       "      <td>002594.SZ</td>\n",
       "      <td>2020-01-03</td>\n",
       "      <td>1019</td>\n",
       "      <td>NaN</td>\n",
       "      <td>48.34</td>\n",
       "      <td>0.0</td>\n",
       "    </tr>\n",
       "    <tr>\n",
       "      <th>3</th>\n",
       "      <td>sell</td>\n",
       "      <td>002594.SZ</td>\n",
       "      <td>2020-01-17</td>\n",
       "      <td>1019</td>\n",
       "      <td>NaN</td>\n",
       "      <td>58.01</td>\n",
       "      <td>0.0</td>\n",
       "    </tr>\n",
       "    <tr>\n",
       "      <th>4</th>\n",
       "      <td>sell</td>\n",
       "      <td>000001.SZ</td>\n",
       "      <td>2020-01-23</td>\n",
       "      <td>2963</td>\n",
       "      <td>NaN</td>\n",
       "      <td>15.61</td>\n",
       "      <td>0.0</td>\n",
       "    </tr>\n",
       "  </tbody>\n",
       "</table>\n",
       "</div>"
      ],
      "text/plain": [
       "    type     symbol       date  shares  limit_price  fill_price  fees\n",
       "id                                                                   \n",
       "1    buy  000001.SZ 2020-01-03    2963          NaN       17.12   0.0\n",
       "2    buy  002594.SZ 2020-01-03    1019          NaN       48.34   0.0\n",
       "3   sell  002594.SZ 2020-01-17    1019          NaN       58.01   0.0\n",
       "4   sell  000001.SZ 2020-01-23    2963          NaN       15.61   0.0"
      ]
     },
     "execution_count": 46,
     "metadata": {},
     "output_type": "execute_result"
    }
   ],
   "source": [
    "result.orders"
   ]
  },
  {
   "cell_type": "code",
   "execution_count": 47,
   "metadata": {},
   "outputs": [
    {
     "data": {
      "text/html": [
       "<div>\n",
       "<style scoped>\n",
       "    .dataframe tbody tr th:only-of-type {\n",
       "        vertical-align: middle;\n",
       "    }\n",
       "\n",
       "    .dataframe tbody tr th {\n",
       "        vertical-align: top;\n",
       "    }\n",
       "\n",
       "    .dataframe thead th {\n",
       "        text-align: right;\n",
       "    }\n",
       "</style>\n",
       "<table border=\"1\" class=\"dataframe\">\n",
       "  <thead>\n",
       "    <tr style=\"text-align: right;\">\n",
       "      <th></th>\n",
       "      <th>name</th>\n",
       "      <th>value</th>\n",
       "    </tr>\n",
       "  </thead>\n",
       "  <tbody>\n",
       "    <tr>\n",
       "      <th>0</th>\n",
       "      <td>trade_count</td>\n",
       "      <td>2.000000e+00</td>\n",
       "    </tr>\n",
       "    <tr>\n",
       "      <th>1</th>\n",
       "      <td>initial_market_value</td>\n",
       "      <td>1.000000e+05</td>\n",
       "    </tr>\n",
       "    <tr>\n",
       "      <th>2</th>\n",
       "      <td>end_market_value</td>\n",
       "      <td>1.053657e+05</td>\n",
       "    </tr>\n",
       "    <tr>\n",
       "      <th>3</th>\n",
       "      <td>total_pnl</td>\n",
       "      <td>5.365710e+03</td>\n",
       "    </tr>\n",
       "    <tr>\n",
       "      <th>4</th>\n",
       "      <td>unrealized_pnl</td>\n",
       "      <td>5.456968e-12</td>\n",
       "    </tr>\n",
       "  </tbody>\n",
       "</table>\n",
       "</div>"
      ],
      "text/plain": [
       "                   name         value\n",
       "0           trade_count  2.000000e+00\n",
       "1  initial_market_value  1.000000e+05\n",
       "2      end_market_value  1.053657e+05\n",
       "3             total_pnl  5.365710e+03\n",
       "4        unrealized_pnl  5.456968e-12"
      ]
     },
     "execution_count": 47,
     "metadata": {},
     "output_type": "execute_result"
    }
   ],
   "source": [
    "result.metrics_df.head(5)"
   ]
  },
  {
   "cell_type": "markdown",
   "metadata": {},
   "source": [
    "### 简单策略3：各买入50%，最高市场价下跌10%止损, 然后不再交易"
   ]
  },
  {
   "cell_type": "code",
   "execution_count": 51,
   "metadata": {},
   "outputs": [
    {
     "name": "stdout",
     "output_type": "stream",
     "text": [
      "Backtesting: 2020-01-01 00:00:00 to 2023-01-01 00:00:00\n",
      "\n",
      "Loaded cached bar data.\n",
      "\n",
      "Test split: 2020-01-02 00:00:00 to 2022-12-30 00:00:00\n"
     ]
    },
    {
     "name": "stderr",
     "output_type": "stream",
     "text": [
      "  0% (0 of 728) |                        | Elapsed Time: 0:00:00 ETA:  --:--:--\n",
      "100% (728 of 728) |######################| Elapsed Time: 0:00:00 Time:  0:00:00\n"
     ]
    },
    {
     "name": "stdout",
     "output_type": "stream",
     "text": [
      "\n",
      "Finished backtest: 0:00:00\n"
     ]
    }
   ],
   "source": [
    "def trying_strategy(ctx: ExecContext):\n",
    "    if \"one_buy_sell\" not in ctx.session:\n",
    "        ctx.session[\"one_buy_sell\"] = False\n",
    "\n",
    "    if not ctx.long_pos() and not ctx.session[\"one_buy_sell\"]:\n",
    "        ctx.buy_shares = ctx.calc_target_shares(0.5)\n",
    "        ctx.stop_trailing_pct = 10\n",
    "        ctx.session[\"one_buy_sell\"] = True\n",
    "\n",
    "strategy = Strategy(akshare, start_date='2020-01-01', end_date='2023-01-01')\n",
    "strategy.add_execution(trying_strategy, ['000001.SZ','002594.SZ'])\n",
    "result = strategy.backtest()"
   ]
  },
  {
   "cell_type": "code",
   "execution_count": 49,
   "metadata": {},
   "outputs": [
    {
     "data": {
      "text/html": [
       "<div>\n",
       "<style scoped>\n",
       "    .dataframe tbody tr th:only-of-type {\n",
       "        vertical-align: middle;\n",
       "    }\n",
       "\n",
       "    .dataframe tbody tr th {\n",
       "        vertical-align: top;\n",
       "    }\n",
       "\n",
       "    .dataframe thead th {\n",
       "        text-align: right;\n",
       "    }\n",
       "</style>\n",
       "<table border=\"1\" class=\"dataframe\">\n",
       "  <thead>\n",
       "    <tr style=\"text-align: right;\">\n",
       "      <th></th>\n",
       "      <th>type</th>\n",
       "      <th>symbol</th>\n",
       "      <th>date</th>\n",
       "      <th>shares</th>\n",
       "      <th>limit_price</th>\n",
       "      <th>fill_price</th>\n",
       "      <th>fees</th>\n",
       "    </tr>\n",
       "    <tr>\n",
       "      <th>id</th>\n",
       "      <th></th>\n",
       "      <th></th>\n",
       "      <th></th>\n",
       "      <th></th>\n",
       "      <th></th>\n",
       "      <th></th>\n",
       "      <th></th>\n",
       "    </tr>\n",
       "  </thead>\n",
       "  <tbody>\n",
       "    <tr>\n",
       "      <th>1</th>\n",
       "      <td>buy</td>\n",
       "      <td>000001.SZ</td>\n",
       "      <td>2020-01-03</td>\n",
       "      <td>2963</td>\n",
       "      <td>NaN</td>\n",
       "      <td>17.12</td>\n",
       "      <td>0.0</td>\n",
       "    </tr>\n",
       "    <tr>\n",
       "      <th>2</th>\n",
       "      <td>buy</td>\n",
       "      <td>002594.SZ</td>\n",
       "      <td>2020-01-03</td>\n",
       "      <td>1019</td>\n",
       "      <td>NaN</td>\n",
       "      <td>48.34</td>\n",
       "      <td>0.0</td>\n",
       "    </tr>\n",
       "    <tr>\n",
       "      <th>3</th>\n",
       "      <td>sell</td>\n",
       "      <td>000001.SZ</td>\n",
       "      <td>2020-01-23</td>\n",
       "      <td>2963</td>\n",
       "      <td>NaN</td>\n",
       "      <td>15.61</td>\n",
       "      <td>0.0</td>\n",
       "    </tr>\n",
       "    <tr>\n",
       "      <th>4</th>\n",
       "      <td>sell</td>\n",
       "      <td>002594.SZ</td>\n",
       "      <td>2020-02-03</td>\n",
       "      <td>1019</td>\n",
       "      <td>NaN</td>\n",
       "      <td>54.48</td>\n",
       "      <td>0.0</td>\n",
       "    </tr>\n",
       "  </tbody>\n",
       "</table>\n",
       "</div>"
      ],
      "text/plain": [
       "    type     symbol       date  shares  limit_price  fill_price  fees\n",
       "id                                                                   \n",
       "1    buy  000001.SZ 2020-01-03    2963          NaN       17.12   0.0\n",
       "2    buy  002594.SZ 2020-01-03    1019          NaN       48.34   0.0\n",
       "3   sell  000001.SZ 2020-01-23    2963          NaN       15.61   0.0\n",
       "4   sell  002594.SZ 2020-02-03    1019          NaN       54.48   0.0"
      ]
     },
     "execution_count": 49,
     "metadata": {},
     "output_type": "execute_result"
    }
   ],
   "source": [
    "result.orders"
   ]
  },
  {
   "cell_type": "code",
   "execution_count": 50,
   "metadata": {},
   "outputs": [
    {
     "data": {
      "text/html": [
       "<div>\n",
       "<style scoped>\n",
       "    .dataframe tbody tr th:only-of-type {\n",
       "        vertical-align: middle;\n",
       "    }\n",
       "\n",
       "    .dataframe tbody tr th {\n",
       "        vertical-align: top;\n",
       "    }\n",
       "\n",
       "    .dataframe thead th {\n",
       "        text-align: right;\n",
       "    }\n",
       "</style>\n",
       "<table border=\"1\" class=\"dataframe\">\n",
       "  <thead>\n",
       "    <tr style=\"text-align: right;\">\n",
       "      <th></th>\n",
       "      <th>name</th>\n",
       "      <th>value</th>\n",
       "    </tr>\n",
       "  </thead>\n",
       "  <tbody>\n",
       "    <tr>\n",
       "      <th>0</th>\n",
       "      <td>trade_count</td>\n",
       "      <td>2.000000e+00</td>\n",
       "    </tr>\n",
       "    <tr>\n",
       "      <th>1</th>\n",
       "      <td>initial_market_value</td>\n",
       "      <td>1.000000e+05</td>\n",
       "    </tr>\n",
       "    <tr>\n",
       "      <th>2</th>\n",
       "      <td>end_market_value</td>\n",
       "      <td>1.017707e+05</td>\n",
       "    </tr>\n",
       "    <tr>\n",
       "      <th>3</th>\n",
       "      <td>total_pnl</td>\n",
       "      <td>1.770680e+03</td>\n",
       "    </tr>\n",
       "    <tr>\n",
       "      <th>4</th>\n",
       "      <td>unrealized_pnl</td>\n",
       "      <td>-7.275958e-12</td>\n",
       "    </tr>\n",
       "  </tbody>\n",
       "</table>\n",
       "</div>"
      ],
      "text/plain": [
       "                   name         value\n",
       "0           trade_count  2.000000e+00\n",
       "1  initial_market_value  1.000000e+05\n",
       "2      end_market_value  1.017707e+05\n",
       "3             total_pnl  1.770680e+03\n",
       "4        unrealized_pnl -7.275958e-12"
      ]
     },
     "execution_count": 50,
     "metadata": {},
     "output_type": "execute_result"
    }
   ],
   "source": [
    "result.metrics_df.head(5)"
   ]
  },
  {
   "cell_type": "markdown",
   "metadata": {},
   "source": [
    "## 常用简单量化策略的pybroker实现\n",
    "\n",
    "### 突破策略\n",
    "- **策略原理**：当股票价格突破近期的高点或者低点时，产生相应的买入或卖出信号。\n",
    "- **具体操作**：\n",
    "    - **买入条件**：观察一段时间（如10个交易日）内的股票最高价，当今日收盘价突破这10日的最高价时，以收盘价买入股票。同时，设置止损价位为买入价下跌10%，止盈价位为买入价上涨20%。\n",
    "    - **卖出条件**：当股票价格跌破止损价位或者达到止盈价位时，卖出股票。另外，若观察到一段时间内的最低价被突破（即收盘价低于过去10日最低价），也可考虑卖出股票，以控制风险。\n"
   ]
  },
  {
   "cell_type": "code",
   "execution_count": 79,
   "metadata": {},
   "outputs": [
    {
     "name": "stdout",
     "output_type": "stream",
     "text": [
      "Backtesting: 2020-01-01 00:00:00 to 2023-01-01 00:00:00\n",
      "\n",
      "Loaded cached bar data.\n",
      "\n",
      "Test split: 2020-01-02 00:00:00 to 2022-12-30 00:00:00\n"
     ]
    },
    {
     "name": "stderr",
     "output_type": "stream",
     "text": [
      "  0% (0 of 728) |                        | Elapsed Time: 0:00:00 ETA:  --:--:--\n",
      " 16% (121 of 728) |###                   | Elapsed Time: 0:00:00 ETA:   0:00:00\n",
      " 27% (201 of 728) |######                | Elapsed Time: 0:00:00 ETA:   0:00:00\n",
      " 46% (341 of 728) |##########            | Elapsed Time: 0:00:00 ETA:   0:00:00\n",
      " 66% (481 of 728) |##############        | Elapsed Time: 0:00:00 ETA:   0:00:00\n",
      " 90% (661 of 728) |###################   | Elapsed Time: 0:00:00 ETA:   0:00:00\n",
      "100% (728 of 728) |######################| Elapsed Time: 0:00:00 Time:  0:00:00\n"
     ]
    },
    {
     "name": "stdout",
     "output_type": "stream",
     "text": [
      "\n",
      "Finished backtest: 0:00:00\n"
     ]
    }
   ],
   "source": [
    "def trying_strategy(ctx: ExecContext):\n",
    "    high = ctx.high[-11:-1].max()\n",
    "    low = ctx.low[-11:-1].min()\n",
    "    #print(high, low)\n",
    "\n",
    "    if not ctx.long_pos() and ctx.close[-1] > high:\n",
    "        ctx.buy_shares = ctx.calc_target_shares(0.5)\n",
    "        ctx.stop_loss_pct = 10\n",
    "        ctx.stop_profit_pct = 20\n",
    "    \n",
    "    if ctx.long_pos() and ctx.close[-1] < low:\n",
    "        ctx.sell_all_shares()\n",
    "\n",
    "strategy = Strategy(akshare, start_date='2020-01-01', end_date='2023-01-01')\n",
    "strategy.add_execution(trying_strategy, ['000001.SZ','002594.SZ'])\n",
    "result = strategy.backtest(warmup=15)"
   ]
  },
  {
   "cell_type": "code",
   "execution_count": 80,
   "metadata": {},
   "outputs": [
    {
     "data": {
      "text/html": [
       "<div>\n",
       "<style scoped>\n",
       "    .dataframe tbody tr th:only-of-type {\n",
       "        vertical-align: middle;\n",
       "    }\n",
       "\n",
       "    .dataframe tbody tr th {\n",
       "        vertical-align: top;\n",
       "    }\n",
       "\n",
       "    .dataframe thead th {\n",
       "        text-align: right;\n",
       "    }\n",
       "</style>\n",
       "<table border=\"1\" class=\"dataframe\">\n",
       "  <thead>\n",
       "    <tr style=\"text-align: right;\">\n",
       "      <th></th>\n",
       "      <th>type</th>\n",
       "      <th>symbol</th>\n",
       "      <th>date</th>\n",
       "      <th>shares</th>\n",
       "      <th>limit_price</th>\n",
       "      <th>fill_price</th>\n",
       "      <th>fees</th>\n",
       "    </tr>\n",
       "    <tr>\n",
       "      <th>id</th>\n",
       "      <th></th>\n",
       "      <th></th>\n",
       "      <th></th>\n",
       "      <th></th>\n",
       "      <th></th>\n",
       "      <th></th>\n",
       "      <th></th>\n",
       "    </tr>\n",
       "  </thead>\n",
       "  <tbody>\n",
       "    <tr>\n",
       "      <th>1</th>\n",
       "      <td>buy</td>\n",
       "      <td>000001.SZ</td>\n",
       "      <td>2020-02-18</td>\n",
       "      <td>3253</td>\n",
       "      <td>NaN</td>\n",
       "      <td>15.17</td>\n",
       "      <td>0.0</td>\n",
       "    </tr>\n",
       "    <tr>\n",
       "      <th>2</th>\n",
       "      <td>buy</td>\n",
       "      <td>002594.SZ</td>\n",
       "      <td>2020-02-21</td>\n",
       "      <td>744</td>\n",
       "      <td>NaN</td>\n",
       "      <td>66.97</td>\n",
       "      <td>0.0</td>\n",
       "    </tr>\n",
       "    <tr>\n",
       "      <th>3</th>\n",
       "      <td>sell</td>\n",
       "      <td>000001.SZ</td>\n",
       "      <td>2020-03-02</td>\n",
       "      <td>3253</td>\n",
       "      <td>NaN</td>\n",
       "      <td>14.70</td>\n",
       "      <td>0.0</td>\n",
       "    </tr>\n",
       "    <tr>\n",
       "      <th>4</th>\n",
       "      <td>sell</td>\n",
       "      <td>002594.SZ</td>\n",
       "      <td>2020-03-09</td>\n",
       "      <td>744</td>\n",
       "      <td>NaN</td>\n",
       "      <td>60.27</td>\n",
       "      <td>0.0</td>\n",
       "    </tr>\n",
       "    <tr>\n",
       "      <th>5</th>\n",
       "      <td>buy</td>\n",
       "      <td>002594.SZ</td>\n",
       "      <td>2020-04-01</td>\n",
       "      <td>779</td>\n",
       "      <td>NaN</td>\n",
       "      <td>58.84</td>\n",
       "      <td>0.0</td>\n",
       "    </tr>\n",
       "    <tr>\n",
       "      <th>...</th>\n",
       "      <td>...</td>\n",
       "      <td>...</td>\n",
       "      <td>...</td>\n",
       "      <td>...</td>\n",
       "      <td>...</td>\n",
       "      <td>...</td>\n",
       "      <td>...</td>\n",
       "    </tr>\n",
       "    <tr>\n",
       "      <th>80</th>\n",
       "      <td>buy</td>\n",
       "      <td>000001.SZ</td>\n",
       "      <td>2022-11-14</td>\n",
       "      <td>8075</td>\n",
       "      <td>NaN</td>\n",
       "      <td>11.99</td>\n",
       "      <td>0.0</td>\n",
       "    </tr>\n",
       "    <tr>\n",
       "      <th>81</th>\n",
       "      <td>sell</td>\n",
       "      <td>002594.SZ</td>\n",
       "      <td>2022-11-21</td>\n",
       "      <td>341</td>\n",
       "      <td>NaN</td>\n",
       "      <td>249.76</td>\n",
       "      <td>0.0</td>\n",
       "    </tr>\n",
       "    <tr>\n",
       "      <th>82</th>\n",
       "      <td>buy</td>\n",
       "      <td>002594.SZ</td>\n",
       "      <td>2022-12-02</td>\n",
       "      <td>322</td>\n",
       "      <td>NaN</td>\n",
       "      <td>264.02</td>\n",
       "      <td>0.0</td>\n",
       "    </tr>\n",
       "    <tr>\n",
       "      <th>83</th>\n",
       "      <td>sell</td>\n",
       "      <td>000001.SZ</td>\n",
       "      <td>2022-12-21</td>\n",
       "      <td>8075</td>\n",
       "      <td>NaN</td>\n",
       "      <td>12.86</td>\n",
       "      <td>0.0</td>\n",
       "    </tr>\n",
       "    <tr>\n",
       "      <th>84</th>\n",
       "      <td>sell</td>\n",
       "      <td>002594.SZ</td>\n",
       "      <td>2022-12-26</td>\n",
       "      <td>322</td>\n",
       "      <td>NaN</td>\n",
       "      <td>257.85</td>\n",
       "      <td>0.0</td>\n",
       "    </tr>\n",
       "  </tbody>\n",
       "</table>\n",
       "<p>84 rows × 7 columns</p>\n",
       "</div>"
      ],
      "text/plain": [
       "    type     symbol       date  shares  limit_price  fill_price  fees\n",
       "id                                                                   \n",
       "1    buy  000001.SZ 2020-02-18    3253          NaN       15.17   0.0\n",
       "2    buy  002594.SZ 2020-02-21     744          NaN       66.97   0.0\n",
       "3   sell  000001.SZ 2020-03-02    3253          NaN       14.70   0.0\n",
       "4   sell  002594.SZ 2020-03-09     744          NaN       60.27   0.0\n",
       "5    buy  002594.SZ 2020-04-01     779          NaN       58.84   0.0\n",
       "..   ...        ...        ...     ...          ...         ...   ...\n",
       "80   buy  000001.SZ 2022-11-14    8075          NaN       11.99   0.0\n",
       "81  sell  002594.SZ 2022-11-21     341          NaN      249.76   0.0\n",
       "82   buy  002594.SZ 2022-12-02     322          NaN      264.02   0.0\n",
       "83  sell  000001.SZ 2022-12-21    8075          NaN       12.86   0.0\n",
       "84  sell  002594.SZ 2022-12-26     322          NaN      257.85   0.0\n",
       "\n",
       "[84 rows x 7 columns]"
      ]
     },
     "execution_count": 80,
     "metadata": {},
     "output_type": "execute_result"
    }
   ],
   "source": [
    "result.orders"
   ]
  },
  {
   "cell_type": "code",
   "execution_count": 81,
   "metadata": {},
   "outputs": [
    {
     "data": {
      "text/plain": [
       "name     end_market_value\n",
       "value           187026.36\n",
       "Name: 2, dtype: object"
      ]
     },
     "execution_count": 81,
     "metadata": {},
     "output_type": "execute_result"
    }
   ],
   "source": [
    "result.metrics_df.loc[2]"
   ]
  },
  {
   "cell_type": "code",
   "execution_count": 82,
   "metadata": {},
   "outputs": [
    {
     "data": {
      "text/plain": [
       "name       sharpe\n",
       "value    0.046867\n",
       "Name: 32, dtype: object"
      ]
     },
     "execution_count": 82,
     "metadata": {},
     "output_type": "execute_result"
    }
   ],
   "source": [
    "result.metrics_df.loc[32]"
   ]
  },
  {
   "cell_type": "markdown",
   "metadata": {},
   "source": [
    "### 高低点反转策略\n",
    "- **策略原理**：基于股票价格在高低点之间的反转趋势进行操作。\n",
    "- **具体操作**：\n",
    "    - **买入条件**：当股票价格连续下跌后，出现当日最低价低于前几日的最低价，且当日收盘价高于当日最低价一定幅度（如5%），则认为可能出现反转，以当日收盘价买入股票。止损设置为买入价下跌8%，止盈设置为买入价上涨15%。\n",
    "    - **卖出条件**：当股票价格达到止盈价位或者跌破止损价位时卖出。此外，若买入后股票价格未能持续上涨，再次出现当日最高价低于前几日最高价，且收盘价低于当日最高价一定幅度（如3%），也可考虑卖出股票，避免进一步损失。"
   ]
  },
  {
   "cell_type": "code",
   "execution_count": 83,
   "metadata": {},
   "outputs": [
    {
     "name": "stdout",
     "output_type": "stream",
     "text": [
      "Backtesting: 2020-01-01 00:00:00 to 2023-01-01 00:00:00\n",
      "\n",
      "Loaded cached bar data.\n",
      "\n",
      "Test split: 2020-01-02 00:00:00 to 2022-12-30 00:00:00\n"
     ]
    },
    {
     "name": "stderr",
     "output_type": "stream",
     "text": [
      "  0% (0 of 728) |                        | Elapsed Time: 0:00:00 ETA:  --:--:--\n",
      " 61% (451 of 728) |#############         | Elapsed Time: 0:00:00 ETA:   0:00:00\n",
      "100% (728 of 728) |######################| Elapsed Time: 0:00:00 Time:  0:00:00\n"
     ]
    },
    {
     "name": "stdout",
     "output_type": "stream",
     "text": [
      "\n",
      "Finished backtest: 0:00:00\n"
     ]
    }
   ],
   "source": [
    "def trying_strategy(ctx: ExecContext):\n",
    "    high = ctx.high[-6:-1].max()\n",
    "    low = ctx.low[-6:-1].min()\n",
    "    #print(high, low)\n",
    "\n",
    "    if not ctx.long_pos() and ctx.close[-1] > ctx.low[-1] * 1.05 and ctx.low[-1] < low:\n",
    "        ctx.buy_shares = ctx.calc_target_shares(0.5)\n",
    "        ctx.stop_loss_pct = 8\n",
    "        ctx.stop_profit_pct = 15\n",
    "\n",
    "    if ctx.long_pos() and ctx.close[-1] < ctx.high[-1] * 0.97 and ctx.high[-1] < high:\n",
    "        ctx.sell_all_shares()\n",
    "\n",
    "\n",
    "strategy = Strategy(akshare, start_date='2020-01-01', end_date='2023-01-01')\n",
    "strategy.add_execution(trying_strategy, ['000001.SZ','002594.SZ'])\n",
    "result = strategy.backtest(warmup=15)"
   ]
  },
  {
   "cell_type": "code",
   "execution_count": 84,
   "metadata": {},
   "outputs": [
    {
     "data": {
      "text/html": [
       "<div>\n",
       "<style scoped>\n",
       "    .dataframe tbody tr th:only-of-type {\n",
       "        vertical-align: middle;\n",
       "    }\n",
       "\n",
       "    .dataframe tbody tr th {\n",
       "        vertical-align: top;\n",
       "    }\n",
       "\n",
       "    .dataframe thead th {\n",
       "        text-align: right;\n",
       "    }\n",
       "</style>\n",
       "<table border=\"1\" class=\"dataframe\">\n",
       "  <thead>\n",
       "    <tr style=\"text-align: right;\">\n",
       "      <th></th>\n",
       "      <th>type</th>\n",
       "      <th>symbol</th>\n",
       "      <th>date</th>\n",
       "      <th>shares</th>\n",
       "      <th>limit_price</th>\n",
       "      <th>fill_price</th>\n",
       "      <th>fees</th>\n",
       "    </tr>\n",
       "    <tr>\n",
       "      <th>id</th>\n",
       "      <th></th>\n",
       "      <th></th>\n",
       "      <th></th>\n",
       "      <th></th>\n",
       "      <th></th>\n",
       "      <th></th>\n",
       "      <th></th>\n",
       "    </tr>\n",
       "  </thead>\n",
       "  <tbody>\n",
       "    <tr>\n",
       "      <th>1</th>\n",
       "      <td>buy</td>\n",
       "      <td>002594.SZ</td>\n",
       "      <td>2020-03-16</td>\n",
       "      <td>898</td>\n",
       "      <td>NaN</td>\n",
       "      <td>55.60</td>\n",
       "      <td>0.0</td>\n",
       "    </tr>\n",
       "    <tr>\n",
       "      <th>2</th>\n",
       "      <td>sell</td>\n",
       "      <td>002594.SZ</td>\n",
       "      <td>2020-03-17</td>\n",
       "      <td>898</td>\n",
       "      <td>NaN</td>\n",
       "      <td>53.42</td>\n",
       "      <td>0.0</td>\n",
       "    </tr>\n",
       "    <tr>\n",
       "      <th>3</th>\n",
       "      <td>buy</td>\n",
       "      <td>002594.SZ</td>\n",
       "      <td>2021-03-08</td>\n",
       "      <td>249</td>\n",
       "      <td>NaN</td>\n",
       "      <td>187.03</td>\n",
       "      <td>0.0</td>\n",
       "    </tr>\n",
       "    <tr>\n",
       "      <th>4</th>\n",
       "      <td>sell</td>\n",
       "      <td>002594.SZ</td>\n",
       "      <td>2021-03-09</td>\n",
       "      <td>249</td>\n",
       "      <td>NaN</td>\n",
       "      <td>170.32</td>\n",
       "      <td>0.0</td>\n",
       "    </tr>\n",
       "    <tr>\n",
       "      <th>5</th>\n",
       "      <td>buy</td>\n",
       "      <td>002594.SZ</td>\n",
       "      <td>2021-03-10</td>\n",
       "      <td>275</td>\n",
       "      <td>NaN</td>\n",
       "      <td>178.83</td>\n",
       "      <td>0.0</td>\n",
       "    </tr>\n",
       "    <tr>\n",
       "      <th>6</th>\n",
       "      <td>sell</td>\n",
       "      <td>002594.SZ</td>\n",
       "      <td>2021-03-15</td>\n",
       "      <td>275</td>\n",
       "      <td>NaN</td>\n",
       "      <td>176.50</td>\n",
       "      <td>0.0</td>\n",
       "    </tr>\n",
       "    <tr>\n",
       "      <th>7</th>\n",
       "      <td>buy</td>\n",
       "      <td>002594.SZ</td>\n",
       "      <td>2021-07-29</td>\n",
       "      <td>197</td>\n",
       "      <td>NaN</td>\n",
       "      <td>250.06</td>\n",
       "      <td>0.0</td>\n",
       "    </tr>\n",
       "    <tr>\n",
       "      <th>8</th>\n",
       "      <td>sell</td>\n",
       "      <td>002594.SZ</td>\n",
       "      <td>2021-08-02</td>\n",
       "      <td>197</td>\n",
       "      <td>NaN</td>\n",
       "      <td>287.57</td>\n",
       "      <td>0.0</td>\n",
       "    </tr>\n",
       "    <tr>\n",
       "      <th>9</th>\n",
       "      <td>buy</td>\n",
       "      <td>002594.SZ</td>\n",
       "      <td>2021-08-24</td>\n",
       "      <td>173</td>\n",
       "      <td>NaN</td>\n",
       "      <td>296.02</td>\n",
       "      <td>0.0</td>\n",
       "    </tr>\n",
       "    <tr>\n",
       "      <th>10</th>\n",
       "      <td>sell</td>\n",
       "      <td>002594.SZ</td>\n",
       "      <td>2021-08-27</td>\n",
       "      <td>173</td>\n",
       "      <td>NaN</td>\n",
       "      <td>288.02</td>\n",
       "      <td>0.0</td>\n",
       "    </tr>\n",
       "    <tr>\n",
       "      <th>11</th>\n",
       "      <td>buy</td>\n",
       "      <td>000001.SZ</td>\n",
       "      <td>2021-09-02</td>\n",
       "      <td>2775</td>\n",
       "      <td>NaN</td>\n",
       "      <td>18.29</td>\n",
       "      <td>0.0</td>\n",
       "    </tr>\n",
       "    <tr>\n",
       "      <th>12</th>\n",
       "      <td>sell</td>\n",
       "      <td>000001.SZ</td>\n",
       "      <td>2021-09-15</td>\n",
       "      <td>2775</td>\n",
       "      <td>NaN</td>\n",
       "      <td>20.09</td>\n",
       "      <td>0.0</td>\n",
       "    </tr>\n",
       "    <tr>\n",
       "      <th>13</th>\n",
       "      <td>buy</td>\n",
       "      <td>002594.SZ</td>\n",
       "      <td>2021-11-30</td>\n",
       "      <td>171</td>\n",
       "      <td>NaN</td>\n",
       "      <td>305.50</td>\n",
       "      <td>0.0</td>\n",
       "    </tr>\n",
       "    <tr>\n",
       "      <th>14</th>\n",
       "      <td>sell</td>\n",
       "      <td>002594.SZ</td>\n",
       "      <td>2021-12-07</td>\n",
       "      <td>171</td>\n",
       "      <td>NaN</td>\n",
       "      <td>298.72</td>\n",
       "      <td>0.0</td>\n",
       "    </tr>\n",
       "    <tr>\n",
       "      <th>15</th>\n",
       "      <td>buy</td>\n",
       "      <td>002594.SZ</td>\n",
       "      <td>2022-03-31</td>\n",
       "      <td>217</td>\n",
       "      <td>NaN</td>\n",
       "      <td>230.94</td>\n",
       "      <td>0.0</td>\n",
       "    </tr>\n",
       "    <tr>\n",
       "      <th>16</th>\n",
       "      <td>sell</td>\n",
       "      <td>002594.SZ</td>\n",
       "      <td>2022-04-12</td>\n",
       "      <td>217</td>\n",
       "      <td>NaN</td>\n",
       "      <td>234.88</td>\n",
       "      <td>0.0</td>\n",
       "    </tr>\n",
       "    <tr>\n",
       "      <th>17</th>\n",
       "      <td>buy</td>\n",
       "      <td>002594.SZ</td>\n",
       "      <td>2022-04-28</td>\n",
       "      <td>221</td>\n",
       "      <td>NaN</td>\n",
       "      <td>232.75</td>\n",
       "      <td>0.0</td>\n",
       "    </tr>\n",
       "    <tr>\n",
       "      <th>18</th>\n",
       "      <td>sell</td>\n",
       "      <td>002594.SZ</td>\n",
       "      <td>2022-05-13</td>\n",
       "      <td>221</td>\n",
       "      <td>NaN</td>\n",
       "      <td>267.66</td>\n",
       "      <td>0.0</td>\n",
       "    </tr>\n",
       "  </tbody>\n",
       "</table>\n",
       "</div>"
      ],
      "text/plain": [
       "    type     symbol       date  shares  limit_price  fill_price  fees\n",
       "id                                                                   \n",
       "1    buy  002594.SZ 2020-03-16     898          NaN       55.60   0.0\n",
       "2   sell  002594.SZ 2020-03-17     898          NaN       53.42   0.0\n",
       "3    buy  002594.SZ 2021-03-08     249          NaN      187.03   0.0\n",
       "4   sell  002594.SZ 2021-03-09     249          NaN      170.32   0.0\n",
       "5    buy  002594.SZ 2021-03-10     275          NaN      178.83   0.0\n",
       "6   sell  002594.SZ 2021-03-15     275          NaN      176.50   0.0\n",
       "7    buy  002594.SZ 2021-07-29     197          NaN      250.06   0.0\n",
       "8   sell  002594.SZ 2021-08-02     197          NaN      287.57   0.0\n",
       "9    buy  002594.SZ 2021-08-24     173          NaN      296.02   0.0\n",
       "10  sell  002594.SZ 2021-08-27     173          NaN      288.02   0.0\n",
       "11   buy  000001.SZ 2021-09-02    2775          NaN       18.29   0.0\n",
       "12  sell  000001.SZ 2021-09-15    2775          NaN       20.09   0.0\n",
       "13   buy  002594.SZ 2021-11-30     171          NaN      305.50   0.0\n",
       "14  sell  002594.SZ 2021-12-07     171          NaN      298.72   0.0\n",
       "15   buy  002594.SZ 2022-03-31     217          NaN      230.94   0.0\n",
       "16  sell  002594.SZ 2022-04-12     217          NaN      234.88   0.0\n",
       "17   buy  002594.SZ 2022-04-28     221          NaN      232.75   0.0\n",
       "18  sell  002594.SZ 2022-05-13     221          NaN      267.66   0.0"
      ]
     },
     "execution_count": 84,
     "metadata": {},
     "output_type": "execute_result"
    }
   ],
   "source": [
    "result.orders"
   ]
  },
  {
   "cell_type": "code",
   "execution_count": 85,
   "metadata": {},
   "outputs": [
    {
     "data": {
      "text/plain": [
       "name     end_market_value\n",
       "value           111652.36\n",
       "Name: 2, dtype: object"
      ]
     },
     "execution_count": 85,
     "metadata": {},
     "output_type": "execute_result"
    }
   ],
   "source": [
    "result.metrics_df.loc[2]"
   ]
  },
  {
   "cell_type": "markdown",
   "metadata": {},
   "source": [
    "### 收盘价偏离策略\n",
    "- **策略原理**：根据收盘价与近期价格的偏离程度来决定买卖操作。\n",
    "- **具体操作**：\n",
    "    - **买入条件**：计算过去N日（如15日）的平均收盘价，当今日收盘价低于该平均收盘价一定比例（如10%）时，买入股票。同时设置止损为买入价下跌7%，止盈为买入价上涨18%。\n",
    "    - **卖出条件**：当股票价格达到止盈价位或者跌破止损价位时进行卖出操作。如果在持有期间，收盘价连续多日（如3日）高于平均收盘价，也可考虑部分或全部卖出股票，落袋为安。"
   ]
  },
  {
   "cell_type": "code",
   "execution_count": null,
   "metadata": {},
   "outputs": [],
   "source": []
  }
 ],
 "metadata": {
  "kernelspec": {
   "display_name": "quant",
   "language": "python",
   "name": "python3"
  },
  "language_info": {
   "codemirror_mode": {
    "name": "ipython",
    "version": 3
   },
   "file_extension": ".py",
   "mimetype": "text/x-python",
   "name": "python",
   "nbconvert_exporter": "python",
   "pygments_lexer": "ipython3",
   "version": "3.11.11"
  }
 },
 "nbformat": 4,
 "nbformat_minor": 2
}
