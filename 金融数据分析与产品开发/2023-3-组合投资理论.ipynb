{
 "cells": [
  {
   "cell_type": "markdown",
   "metadata": {},
   "source": [
    "# 组合投资理论基础"
   ]
  },
  {
   "cell_type": "markdown",
   "metadata": {},
   "source": [
    "## 单期，多期收益率，连续复利\n",
    "\n",
    "https://zhuanlan.zhihu.com/p/514862524\n",
    "\n",
    "https://www.zhihu.com/column/c_1335724136769540096\n",
    "\n",
    "如果把一段时间内每一期的资产价格按照时间先后顺序排列起来，将得到资产价格的时间序列。第一期为P1，后续为P2等。假设投资者在t-1时投某资产，投入价格为Pt-1，持有一期后以Pt的价格卖掉。不考虑交易成本，其单期收益率Rt的计算公式为：\n",
    "\n",
    "<img src=https://pic2.zhimg.com/80/v2-00bdd267e1dccaa97fcc824efbe5b1ed_720w.webp width=30% />\n",
    "\n",
    "\n",
    "* 多期简单收益率\n",
    "\n",
    "根据上面公式，二期的单期收益率Rt(2)为：\n",
    "\n",
    "<img src=https://pic3.zhimg.com/80/v2-785ad915adbdf911c319e8d2d25fc126_720w.webp width=30% />\n",
    "\n",
    "推导下来，多期简单收益率则为：\n",
    "\n",
    "若投资者在t-k期以价格Pt-k买入该资产，在t期卖出，则k期单期收益率Rt(k)为：\n",
    "\n",
    "<img src=https://pic3.zhimg.com/80/v2-1aff916f31ddc34c724eea356650fb06_720w.webp width=30% />\n",
    "\n",
    "\n",
    "\n",
    "* 单期与多期简单收益率的关系\n",
    "\n",
    "以两期的简单收益率为例，可以将其分解为两个单期简单收益率的乘积的形式。\n",
    "<img src=https://pic1.zhimg.com/80/v2-0d70aca1f732fc7dfbfc68d3f0148c60_720w.webp width=30% />\n",
    "\n",
    "其中 （1+Rt）*(1+Rt-1) 的概念就是复利。\n",
    "\n",
    "* 平均收益率\n",
    "\n",
    "而如果不考虑复利，也就是说每一期获得的收益都没有再投入资产中的收益就是简单的单期收益加总。\n",
    "\n",
    "$$ R_t(k)=\\sum_{j=0}^{k-1}{R_{t-j}} $$ \n",
    "\n",
    "如果只知道多期收益，要计算单期收益率的平均值，并且不考虑复利，那么公式为：\n",
    "\n",
    "$$ 算术平均收益率=\\frac{R_t(k)}{k}=\\frac{\\sum_{j=0}^{k-1}{R_{t-j}}}{k} $$\n",
    "\n",
    "如果只知道多期收益，要计算单期收益率的平均值，并且考虑复利，那么公式为：\n",
    "\n",
    "$$ 几何平均收益率 = \\sqrt[k]{R_t(k)+1}-1=\\sqrt[k]{\\prod_{j=0}^{k-1}(1+R_{t-j})}-1 $$\n",
    "\n",
    "* 七日年化\n",
    "\n",
    "七日年化收益率是货币基金最近7日的平均收益水平，进行年化以后得出的数据；7日年化收益率上显示的收益率是年化收益率，也就是说投资这款理财产品一年可以获得的收益。\n",
    "\n",
    "* 连续复利收益率\n",
    "\n",
    "单期与多期连续复利收益率的关系\n",
    "我们以两期连续复利收益率为例，两期连续复利收益率等于前一天和当天的单期复利收益\n",
    "\n",
    "率之和。进而推知，k期连续复利收益率为k天的单期连续复利收益率之和。这体现了连续\n",
    "\n",
    "复利收益率的优良性质：单期加总得到多期。\n",
    "<img src=https://pic4.zhimg.com/80/v2-da9072b4cb2dc03a8a8985cf50167e37_720w.webp width=30% />"
   ]
  },
  {
   "cell_type": "code",
   "execution_count": null,
   "metadata": {},
   "outputs": [],
   "source": [
    "(r2+1)**(1/n)-1=r"
   ]
  },
  {
   "cell_type": "markdown",
   "metadata": {},
   "source": [
    "## classwork1（收益率的计算）\n",
    "\n",
    "1, 导入中国平安\"000001\" 从日期\"20200301\"到'20230207'的收盘价\n",
    "\n",
    "2，以1天为一期，分别计算第一第二天的单期收益率，及其二期收益率，比较二期收益率与第一第二的单期收益率的关系\n",
    "\n"
   ]
  },
  {
   "cell_type": "code",
   "execution_count": 1,
   "metadata": {},
   "outputs": [],
   "source": [
    "import akshare as ak\n",
    "import pandas as pd\n",
    "import numpy as np"
   ]
  },
  {
   "cell_type": "code",
   "execution_count": 2,
   "metadata": {},
   "outputs": [],
   "source": [
    "stock_pinan = ak.stock_zh_a_hist(symbol=\"000001\", period=\"daily\", start_date=\"20200301\", end_date='20230207', adjust=\"\")[\"收盘\"]"
   ]
  },
  {
   "cell_type": "code",
   "execution_count": 6,
   "metadata": {},
   "outputs": [
    {
     "data": {
      "text/plain": [
       "0      14.79\n",
       "1      14.72\n",
       "2      14.69\n",
       "3      15.39\n",
       "4      15.03\n",
       "       ...  \n",
       "708    14.70\n",
       "709    14.60\n",
       "710    14.32\n",
       "711    14.00\n",
       "712    14.21\n",
       "Name: 收盘, Length: 713, dtype: float64"
      ]
     },
     "execution_count": 6,
     "metadata": {},
     "output_type": "execute_result"
    }
   ],
   "source": [
    "stock_pinan"
   ]
  },
  {
   "cell_type": "code",
   "execution_count": 4,
   "metadata": {},
   "outputs": [
    {
     "data": {
      "text/plain": [
       "-0.004732927653820048"
      ]
     },
     "execution_count": 4,
     "metadata": {},
     "output_type": "execute_result"
    }
   ],
   "source": [
    "(stock_pinan[1]-stock_pinan[0])/stock_pinan[0]"
   ]
  },
  {
   "cell_type": "code",
   "execution_count": 5,
   "metadata": {},
   "outputs": [
    {
     "data": {
      "text/plain": [
       "-0.0047329276538200515"
      ]
     },
     "execution_count": 5,
     "metadata": {},
     "output_type": "execute_result"
    }
   ],
   "source": [
    "stock_pinan[1]/stock_pinan[0]-1"
   ]
  },
  {
   "cell_type": "code",
   "execution_count": 6,
   "metadata": {},
   "outputs": [
    {
     "data": {
      "text/plain": [
       "-0.0020380434782609758"
      ]
     },
     "execution_count": 6,
     "metadata": {},
     "output_type": "execute_result"
    }
   ],
   "source": [
    "stock_pinan[2]/stock_pinan[1]-1"
   ]
  },
  {
   "cell_type": "code",
   "execution_count": 7,
   "metadata": {},
   "outputs": [
    {
     "data": {
      "text/plain": [
       "-0.006761325219743042"
      ]
     },
     "execution_count": 7,
     "metadata": {},
     "output_type": "execute_result"
    }
   ],
   "source": [
    "stock_pinan[2]/stock_pinan[0]-1"
   ]
  },
  {
   "cell_type": "code",
   "execution_count": 8,
   "metadata": {},
   "outputs": [
    {
     "data": {
      "text/plain": [
       "-0.006770971132081027"
      ]
     },
     "execution_count": 8,
     "metadata": {},
     "output_type": "execute_result"
    }
   ],
   "source": [
    "stock_pinan[1]/stock_pinan[0]-1+stock_pinan[2]/stock_pinan[1]-1"
   ]
  },
  {
   "cell_type": "code",
   "execution_count": 9,
   "metadata": {},
   "outputs": [
    {
     "data": {
      "text/plain": [
       "-0.006761325219743042"
      ]
     },
     "execution_count": 9,
     "metadata": {},
     "output_type": "execute_result"
    }
   ],
   "source": [
    "(1-0.004732927653820048)*(1-0.0020380434782609758)-1"
   ]
  },
  {
   "cell_type": "markdown",
   "metadata": {},
   "source": [
    "## classwork2（多期收益率连续复利计算）\n",
    "\n",
    "1，计算最开始的七日收益率，并基于此计算七日年化收益率\n",
    "\n",
    "2，计算第一第二天的单期连续复利，计算二期连续复利，比较两者之间的关系\n",
    "\n",
    "3, 1天为期，计算所有期的单期收益率和所有期的连续复利,并可视化"
   ]
  },
  {
   "cell_type": "code",
   "execution_count": 27,
   "metadata": {},
   "outputs": [
    {
     "data": {
      "text/plain": [
       "<AxesSubplot:>"
      ]
     },
     "execution_count": 27,
     "metadata": {},
     "output_type": "execute_result"
    },
    {
     "data": {
      "image/png": "[encoded data removed]",
      "text/plain": [
       "<Figure size 432x288 with 1 Axes>"
      ]
     },
     "metadata": {
      "needs_background": "light"
     },
     "output_type": "display_data"
    }
   ],
   "source": [
    "(stock_pinan/stock_pinan.shift(1)-1).plot()"
   ]
  },
  {
   "cell_type": "code",
   "execution_count": 28,
   "metadata": {},
   "outputs": [
    {
     "data": {
      "text/plain": [
       "<AxesSubplot:>"
      ]
     },
     "execution_count": 28,
     "metadata": {},
     "output_type": "execute_result"
    },
    {
     "data": {
      "image/png": "[encoded data removed]",
      "text/plain": [
       "<Figure size 432x288 with 1 Axes>"
      ]
     },
     "metadata": {
      "needs_background": "light"
     },
     "output_type": "display_data"
    }
   ],
   "source": [
    "np.log(stock_pinan/stock_pinan.shift(1)).plot()"
   ]
  },
  {
   "cell_type": "code",
   "execution_count": 25,
   "metadata": {},
   "outputs": [
    {
     "data": {
      "text/plain": [
       "0        NaN\n",
       "1      14.79\n",
       "2      14.72\n",
       "3      14.69\n",
       "4      15.39\n",
       "       ...  \n",
       "708    14.99\n",
       "709    14.70\n",
       "710    14.60\n",
       "711    14.32\n",
       "712    14.00\n",
       "Name: 收盘, Length: 713, dtype: float64"
      ]
     },
     "execution_count": 25,
     "metadata": {},
     "output_type": "execute_result"
    }
   ],
   "source": [
    "stock_pinan.shift(1)"
   ]
  },
  {
   "cell_type": "code",
   "execution_count": 20,
   "metadata": {},
   "outputs": [
    {
     "data": {
      "text/plain": [
       "-0.004744163421978154"
      ]
     },
     "execution_count": 20,
     "metadata": {},
     "output_type": "execute_result"
    }
   ],
   "source": [
    "np.log(stock_pinan[1]/stock_pinan[0])"
   ]
  },
  {
   "cell_type": "code",
   "execution_count": 21,
   "metadata": {},
   "outputs": [
    {
     "data": {
      "text/plain": [
       "-0.002040123114944349"
      ]
     },
     "execution_count": 21,
     "metadata": {},
     "output_type": "execute_result"
    }
   ],
   "source": [
    "np.log(stock_pinan[2]/stock_pinan[1])"
   ]
  },
  {
   "cell_type": "code",
   "execution_count": 22,
   "metadata": {},
   "outputs": [
    {
     "data": {
      "text/plain": [
       "-0.006784286536922466"
      ]
     },
     "execution_count": 22,
     "metadata": {},
     "output_type": "execute_result"
    }
   ],
   "source": [
    "np.log(stock_pinan[2]/stock_pinan[0])"
   ]
  },
  {
   "cell_type": "code",
   "execution_count": 23,
   "metadata": {},
   "outputs": [
    {
     "data": {
      "text/plain": [
       "-0.0067842865369225035"
      ]
     },
     "execution_count": 23,
     "metadata": {},
     "output_type": "execute_result"
    }
   ],
   "source": [
    "-0.004744163421978154-0.002040123114944349"
   ]
  },
  {
   "cell_type": "code",
   "execution_count": 10,
   "metadata": {},
   "outputs": [
    {
     "data": {
      "text/plain": [
       "-0.006761325219743042"
      ]
     },
     "execution_count": 10,
     "metadata": {},
     "output_type": "execute_result"
    }
   ],
   "source": [
    "stock_pinan[7]/stock_pinan[0]-1"
   ]
  },
  {
   "cell_type": "code",
   "execution_count": 18,
   "metadata": {},
   "outputs": [
    {
     "data": {
      "text/plain": [
       "-0.2363662853131543"
      ]
     },
     "execution_count": 18,
     "metadata": {},
     "output_type": "execute_result"
    }
   ],
   "source": [
    "((stock_pinan[7]/stock_pinan[0])**(1/7)-1)*244"
   ]
  },
  {
   "cell_type": "code",
   "execution_count": 12,
   "metadata": {},
   "outputs": [
    {
     "data": {
      "text/plain": [
       "-0.23568047908818604"
      ]
     },
     "execution_count": 12,
     "metadata": {},
     "output_type": "execute_result"
    }
   ],
   "source": [
    "(stock_pinan[7]/stock_pinan[0]-1)/7*244"
   ]
  },
  {
   "cell_type": "code",
   "execution_count": 19,
   "metadata": {},
   "outputs": [],
   "source": [
    "#(stock_pinan[7]/stock_pinan[0]-1)**(1/7)"
   ]
  },
  {
   "cell_type": "markdown",
   "metadata": {},
   "source": [
    "# 资产风险的测度\n",
    "\n",
    "\n",
    "## 风险与方差\n",
    "\n",
    "Markowitz首先提出来用方差来度量风险。单个资产的风险具体可以表达为：\n",
    "\n",
    "$$ \\sigma^2(R)=E\\{[R-E(R)]^2\\} $$\n",
    "\n",
    "其中，R是所有可能发生的（或者已经实现的）收益率（随机变量），E（R）表示预期收益率。若收益率R是离散分布，则：\n",
    "\n",
    "$$ \\sigma^2(R)=\\sum_{K}{p_k[R_k-E(R)]} $$\n",
    "\n",
    "方差风险度量法观念简单，容易理解，但是也有一些弊端。比如这一定义偏离了风险的本意，风险往往认为是潜在的损失，而方差是一个中性的概念，只有向下的波动才和风险本义相契合，向上的波动反而会让投资者获益，无法反应风险的经济性质。并且Markowitz在构建均值-方差投资组合时，将收益率看成服从正态分布，这是一个重要假设，这样才能忽略收益率的偏度和峰度等统计特性，只需考虑均值、方差即可，但实际上很多产品的收益率是不满足正态分布的，具有明显的偏度和峰度，继续使用方差度量风险可能会带来较大的误差。"
   ]
  },
  {
   "cell_type": "code",
   "execution_count": 4,
   "metadata": {},
   "outputs": [],
   "source": [
    "r=stock_pinan.shift(1)/stock_pinan-1"
   ]
  },
  {
   "cell_type": "code",
   "execution_count": 5,
   "metadata": {},
   "outputs": [
    {
     "data": {
      "text/plain": [
       "<AxesSubplot:>"
      ]
     },
     "execution_count": 5,
     "metadata": {},
     "output_type": "execute_result"
    },
    {
     "data": {
      "image/png": "[encoded data removed]",
      "text/plain": [
       "<Figure size 432x288 with 1 Axes>"
      ]
     },
     "metadata": {
      "needs_background": "light"
     },
     "output_type": "display_data"
    }
   ],
   "source": [
    "r.plot()"
   ]
  },
  {
   "cell_type": "code",
   "execution_count": 17,
   "metadata": {},
   "outputs": [
    {
     "data": {
      "text/plain": [
       "0.022092094022788313"
      ]
     },
     "execution_count": 17,
     "metadata": {},
     "output_type": "execute_result"
    }
   ],
   "source": [
    "((r-r.mean())**2).mean()**0.5"
   ]
  },
  {
   "cell_type": "code",
   "execution_count": 20,
   "metadata": {},
   "outputs": [
    {
     "data": {
      "text/plain": [
       "0.0004880606183117191"
      ]
     },
     "execution_count": 20,
     "metadata": {},
     "output_type": "execute_result"
    }
   ],
   "source": [
    "((r-r.mean())**2).mean()"
   ]
  },
  {
   "cell_type": "code",
   "execution_count": 18,
   "metadata": {},
   "outputs": [
    {
     "data": {
      "text/plain": [
       "0.0004887470608128608"
      ]
     },
     "execution_count": 18,
     "metadata": {},
     "output_type": "execute_result"
    }
   ],
   "source": [
    "r.var()"
   ]
  },
  {
   "cell_type": "code",
   "execution_count": 19,
   "metadata": {},
   "outputs": [
    {
     "data": {
      "text/plain": [
       "0.022107624495021187"
      ]
     },
     "execution_count": 19,
     "metadata": {},
     "output_type": "execute_result"
    }
   ],
   "source": [
    "r.std()"
   ]
  },
  {
   "cell_type": "markdown",
   "metadata": {},
   "source": [
    "## 下行风险\n",
    "\n",
    "在Markowitz之后，Roy于1952年提出了用下行偏差（Downside Deviation）来度量风险的办法。下行偏差法和方差法类似，不过更贴近现实中投资者对风险的理解（只考虑低于目标收益率的变动）。计算下行偏差时，一个最重要的变量就是目标收益率，通常用可接受的最低收益率（Minimum Acceptable Rate of Return，MARR）来表示，MARR可以是无风险利率或者0，或者资产收益率的平均值。下行偏差描述的是低于MARR的收益率的发散程度，总体的下行偏差公式如下：\n",
    "\n",
    "$$ \\delta（R, MARR）=\\sqrt{E\\{[min(R-MARR,0)]^2\\}} $$\n",
    "若我们有R1，R2，...，RT作为R的随即样本，则样本额下行偏差为：\n",
    "\n",
    "$$ \\delta（R, MARR）=\\sqrt{\\frac{1}{T}\\sum_{t=1}^{T}\\{[min(R-MARR,0)]^2\\}} $$\n",
    "\n",
    "用下行偏差描述的风险称为下行风险（Downside Risk）"
   ]
  },
  {
   "cell_type": "code",
   "execution_count": 25,
   "metadata": {},
   "outputs": [
    {
     "data": {
      "text/plain": [
       "0.00026052540201265304"
      ]
     },
     "execution_count": 25,
     "metadata": {},
     "output_type": "execute_result"
    }
   ],
   "source": [
    "(r[r<r.mean()]**2).sum()/len(r)"
   ]
  },
  {
   "cell_type": "markdown",
   "metadata": {},
   "source": [
    "## 最大回撤\n",
    "\n",
    "实务上经常会用最大回撤（Maximum Drawdown，MDD）来衡量投资（特别是基金，股票投资组合）的表现，在介绍最大回撤前，我们先来了解下什么是回撤。某资产（或投资组合）在时刻T的回撤是指资产在（0，T）的最高峰值与现在价格 \n",
    " 之间的回落值，用数学公式表达为：\n",
    " \n",
    "$$ D(T)=max\\{0,max_{t\\in(0,T)}\\{P_t-P_T\\}\\} $$\n",
    " \n",
    " 对应的回撤率为：\n",
    " \n",
    "$$ d(T)=\\frac{D(T)}{max_{t\\in(0,T)}P_t} $$\n",
    " \n",
    "知晓回撤的含义，最大回撤就比较好理解了，资产在T时刻的最大回撤就是资产在（0，T）时段内回撤的最大值。直观地说就是这一时段内，资产价值从最高峰回落到最低谷的幅度。最大回撤通常用来描述投资者在持有资产时可能面临的最大亏损。"
   ]
  },
  {
   "cell_type": "code",
   "execution_count": null,
   "metadata": {},
   "outputs": [],
   "source": []
  },
  {
   "cell_type": "markdown",
   "metadata": {},
   "source": [
    "## classwork3(风险的计算)\n",
    "\n",
    "* 求中国平安从日期\"20200301\"到'20230207'的风险，下行风险，回测，回测率，最大回测\n",
    "\n",
    "* 在页面上实现选择不同的股票的不同时间段，自动计算以上量"
   ]
  },
  {
   "cell_type": "code",
   "execution_count": 33,
   "metadata": {},
   "outputs": [],
   "source": [
    "r_pinan=stock_pinan/stock_pinan.shift(1)-1"
   ]
  },
  {
   "cell_type": "code",
   "execution_count": 36,
   "metadata": {},
   "outputs": [],
   "source": [
    "r_pinan=r_pinan.dropna()"
   ]
  },
  {
   "cell_type": "code",
   "execution_count": 41,
   "metadata": {},
   "outputs": [
    {
     "data": {
      "text/plain": [
       "0.0004978777510949548"
      ]
     },
     "execution_count": 41,
     "metadata": {},
     "output_type": "execute_result"
    }
   ],
   "source": [
    "((r_pinan-r_pinan.mean())**2).mean()"
   ]
  },
  {
   "cell_type": "code",
   "execution_count": 42,
   "metadata": {},
   "outputs": [
    {
     "data": {
      "text/plain": [
       "0.02231317438409324"
      ]
     },
     "execution_count": 42,
     "metadata": {},
     "output_type": "execute_result"
    }
   ],
   "source": [
    "((r_pinan-r_pinan.mean())**2).mean()**0.5"
   ]
  },
  {
   "cell_type": "code",
   "execution_count": 43,
   "metadata": {},
   "outputs": [
    {
     "data": {
      "text/plain": [
       "0.0004985780010964948"
      ]
     },
     "execution_count": 43,
     "metadata": {},
     "output_type": "execute_result"
    }
   ],
   "source": [
    "r_pinan.var()"
   ]
  },
  {
   "cell_type": "code",
   "execution_count": 44,
   "metadata": {},
   "outputs": [
    {
     "data": {
      "text/plain": [
       "0.022328860273119512"
      ]
     },
     "execution_count": 44,
     "metadata": {},
     "output_type": "execute_result"
    }
   ],
   "source": [
    "r_pinan.std()"
   ]
  },
  {
   "cell_type": "code",
   "execution_count": 50,
   "metadata": {},
   "outputs": [
    {
     "data": {
      "text/plain": [
       "0.014634292206590085"
      ]
     },
     "execution_count": 50,
     "metadata": {},
     "output_type": "execute_result"
    }
   ],
   "source": [
    "(((r_pinan[r_pinan<r_pinan.mean()]-r_pinan.mean())**2).sum()/len(r_pinan))**0.5"
   ]
  },
  {
   "cell_type": "code",
   "execution_count": 59,
   "metadata": {},
   "outputs": [
    {
     "data": {
      "text/plain": [
       "10.8"
      ]
     },
     "execution_count": 59,
     "metadata": {},
     "output_type": "execute_result"
    }
   ],
   "source": [
    "stock_pinan.max()-stock_pinan.iloc[-1]"
   ]
  },
  {
   "cell_type": "code",
   "execution_count": 60,
   "metadata": {},
   "outputs": [
    {
     "data": {
      "text/plain": [
       "0.4318272690923631"
      ]
     },
     "execution_count": 60,
     "metadata": {},
     "output_type": "execute_result"
    }
   ],
   "source": [
    "(stock_pinan.max()-stock_pinan.iloc[-1])/stock_pinan.max()"
   ]
  },
  {
   "cell_type": "code",
   "execution_count": 61,
   "metadata": {},
   "outputs": [
    {
     "data": {
      "text/plain": [
       "14.670000000000002"
      ]
     },
     "execution_count": 61,
     "metadata": {},
     "output_type": "execute_result"
    }
   ],
   "source": [
    "stock_pinan.max()-stock_pinan.min()"
   ]
  },
  {
   "cell_type": "code",
   "execution_count": null,
   "metadata": {},
   "outputs": [],
   "source": [
    "import streamlit as st\n",
    "x = st.slider('x')\n",
    "st.write(x, 'squared is', x * x)"
   ]
  },
  {
   "cell_type": "markdown",
   "metadata": {},
   "source": [
    "# 组合投资的收益与风险\n",
    "\n",
    "\n",
    "https://zhuanlan.zhihu.com/p/361234664\n",
    "\n",
    "* 收益是有不确定性的\n",
    "\n",
    "* 收益越高不确定性越大"
   ]
  },
  {
   "cell_type": "markdown",
   "metadata": {},
   "source": [
    "## 投资组合的收益率\n",
    "\n",
    "在拓展到N中风险资产之前，先来看两种资产的情况。假设现在市场有资产A和资产B，其随机收益率分别为 \n",
    "$R_A$和$R_B$,若投资人将其财富的一部分投入资产A，剩下的全部投入资产B，投资比例分别为$\\omega_A$和$\\omega_B$\n",
    "我们就可以求得投资组合的收益率  ，就是总收益除以初始资本\n",
    "\n",
    "$$ R_p = {\\omega_AR_A+\\omega_BR_B} $$\n",
    "$$\\omega_A+\\omega_B=1$$\n",
    "\n"
   ]
  },
  {
   "cell_type": "code",
   "execution_count": 63,
   "metadata": {},
   "outputs": [
    {
     "data": {
      "text/plain": [
       "0.18000000000000005"
      ]
     },
     "execution_count": 63,
     "metadata": {},
     "output_type": "execute_result"
    }
   ],
   "source": [
    "0.1*0.2+0.2*0.8"
   ]
  },
  {
   "cell_type": "markdown",
   "metadata": {},
   "source": [
    "### akshare中多个股票数据的组合"
   ]
  },
  {
   "cell_type": "code",
   "execution_count": 3,
   "metadata": {},
   "outputs": [],
   "source": [
    "stock_set = ['000413','000063','002007',\"000001\",\"000002\"]\n",
    "\n",
    "#000413 东旭光电，000063 中兴通讯，002007 华兰生物，000001 平安银行，000002 万科A\n",
    "#https://zhuanlan.zhihu.com/p/20604930?refer=quantstory"
   ]
  },
  {
   "cell_type": "code",
   "execution_count": 4,
   "metadata": {},
   "outputs": [],
   "source": [
    "p0=ak.stock_zh_a_hist(symbol=\"000413\", period=\"daily\", start_date=\"20210201\", end_date='20230201', \n",
    "                     adjust=\"hfq\")[[\"日期\",\"收盘\"]]\n",
    "p0.set_index(\"日期\",inplace=True)\n",
    "\n",
    "for i in stock_set[1:]:\n",
    "    p1=ak.stock_zh_a_hist(symbol=i, period=\"daily\", start_date=\"20210201\", end_date='20230201', \n",
    "                     adjust=\"hfq\")[[\"日期\",\"收盘\"]]\n",
    "    p1.set_index(\"日期\",inplace=True)\n",
    "    p0=pd.concat([p0,p1],axis=1)\n",
    "\n",
    "p0.columns=stock_set\n",
    "p0=p0.fillna(method=\"ffill\")"
   ]
  },
  {
   "cell_type": "code",
   "execution_count": 5,
   "metadata": {},
   "outputs": [
    {
     "data": {
      "text/html": [
       "<div>\n",
       "<style scoped>\n",
       "    .dataframe tbody tr th:only-of-type {\n",
       "        vertical-align: middle;\n",
       "    }\n",
       "\n",
       "    .dataframe tbody tr th {\n",
       "        vertical-align: top;\n",
       "    }\n",
       "\n",
       "    .dataframe thead th {\n",
       "        text-align: right;\n",
       "    }\n",
       "</style>\n",
       "<table border=\"1\" class=\"dataframe\">\n",
       "  <thead>\n",
       "    <tr style=\"text-align: right;\">\n",
       "      <th></th>\n",
       "      <th>000413</th>\n",
       "      <th>000063</th>\n",
       "      <th>002007</th>\n",
       "      <th>000001</th>\n",
       "      <th>000002</th>\n",
       "    </tr>\n",
       "    <tr>\n",
       "      <th>日期</th>\n",
       "      <th></th>\n",
       "      <th></th>\n",
       "      <th></th>\n",
       "      <th></th>\n",
       "      <th></th>\n",
       "    </tr>\n",
       "  </thead>\n",
       "  <tbody>\n",
       "    <tr>\n",
       "      <th>2021-02-01</th>\n",
       "      <td>7.09</td>\n",
       "      <td>437.28</td>\n",
       "      <td>1251.42</td>\n",
       "      <td>4129.64</td>\n",
       "      <td>4464.71</td>\n",
       "    </tr>\n",
       "    <tr>\n",
       "      <th>2021-02-02</th>\n",
       "      <td>7.12</td>\n",
       "      <td>429.46</td>\n",
       "      <td>1276.79</td>\n",
       "      <td>3923.23</td>\n",
       "      <td>4500.06</td>\n",
       "    </tr>\n",
       "    <tr>\n",
       "      <th>2021-02-03</th>\n",
       "      <td>7.00</td>\n",
       "      <td>432.33</td>\n",
       "      <td>1252.20</td>\n",
       "      <td>4194.65</td>\n",
       "      <td>4445.07</td>\n",
       "    </tr>\n",
       "    <tr>\n",
       "      <th>2021-02-04</th>\n",
       "      <td>6.55</td>\n",
       "      <td>426.46</td>\n",
       "      <td>1234.60</td>\n",
       "      <td>4137.77</td>\n",
       "      <td>4441.15</td>\n",
       "    </tr>\n",
       "    <tr>\n",
       "      <th>2021-02-05</th>\n",
       "      <td>6.61</td>\n",
       "      <td>418.63</td>\n",
       "      <td>1336.31</td>\n",
       "      <td>4191.40</td>\n",
       "      <td>4570.75</td>\n",
       "    </tr>\n",
       "    <tr>\n",
       "      <th>...</th>\n",
       "      <td>...</td>\n",
       "      <td>...</td>\n",
       "      <td>...</td>\n",
       "      <td>...</td>\n",
       "      <td>...</td>\n",
       "    </tr>\n",
       "    <tr>\n",
       "      <th>2023-01-19</th>\n",
       "      <td>6.73</td>\n",
       "      <td>371.94</td>\n",
       "      <td>663.21</td>\n",
       "      <td>2658.44</td>\n",
       "      <td>3509.87</td>\n",
       "    </tr>\n",
       "    <tr>\n",
       "      <th>2023-01-20</th>\n",
       "      <td>6.79</td>\n",
       "      <td>379.11</td>\n",
       "      <td>655.70</td>\n",
       "      <td>2664.95</td>\n",
       "      <td>3513.80</td>\n",
       "    </tr>\n",
       "    <tr>\n",
       "      <th>2023-01-30</th>\n",
       "      <td>6.85</td>\n",
       "      <td>374.55</td>\n",
       "      <td>642.76</td>\n",
       "      <td>2668.20</td>\n",
       "      <td>3449.65</td>\n",
       "    </tr>\n",
       "    <tr>\n",
       "      <th>2023-01-31</th>\n",
       "      <td>6.85</td>\n",
       "      <td>369.72</td>\n",
       "      <td>632.41</td>\n",
       "      <td>2642.19</td>\n",
       "      <td>3475.83</td>\n",
       "    </tr>\n",
       "    <tr>\n",
       "      <th>2023-02-01</th>\n",
       "      <td>6.91</td>\n",
       "      <td>374.16</td>\n",
       "      <td>635.77</td>\n",
       "      <td>2595.06</td>\n",
       "      <td>3462.74</td>\n",
       "    </tr>\n",
       "  </tbody>\n",
       "</table>\n",
       "<p>482 rows × 5 columns</p>\n",
       "</div>"
      ],
      "text/plain": [
       "            000413  000063   002007   000001   000002\n",
       "日期                                                   \n",
       "2021-02-01    7.09  437.28  1251.42  4129.64  4464.71\n",
       "2021-02-02    7.12  429.46  1276.79  3923.23  4500.06\n",
       "2021-02-03    7.00  432.33  1252.20  4194.65  4445.07\n",
       "2021-02-04    6.55  426.46  1234.60  4137.77  4441.15\n",
       "2021-02-05    6.61  418.63  1336.31  4191.40  4570.75\n",
       "...            ...     ...      ...      ...      ...\n",
       "2023-01-19    6.73  371.94   663.21  2658.44  3509.87\n",
       "2023-01-20    6.79  379.11   655.70  2664.95  3513.80\n",
       "2023-01-30    6.85  374.55   642.76  2668.20  3449.65\n",
       "2023-01-31    6.85  369.72   632.41  2642.19  3475.83\n",
       "2023-02-01    6.91  374.16   635.77  2595.06  3462.74\n",
       "\n",
       "[482 rows x 5 columns]"
      ]
     },
     "execution_count": 5,
     "metadata": {},
     "output_type": "execute_result"
    }
   ],
   "source": [
    "p0"
   ]
  },
  {
   "cell_type": "code",
   "execution_count": 81,
   "metadata": {},
   "outputs": [],
   "source": [
    "#help(p0.fillna)"
   ]
  },
  {
   "cell_type": "code",
   "execution_count": 7,
   "metadata": {},
   "outputs": [],
   "source": []
  },
  {
   "cell_type": "code",
   "execution_count": 8,
   "metadata": {},
   "outputs": [
    {
     "data": {
      "text/html": [
       "<div>\n",
       "<style scoped>\n",
       "    .dataframe tbody tr th:only-of-type {\n",
       "        vertical-align: middle;\n",
       "    }\n",
       "\n",
       "    .dataframe tbody tr th {\n",
       "        vertical-align: top;\n",
       "    }\n",
       "\n",
       "    .dataframe thead th {\n",
       "        text-align: right;\n",
       "    }\n",
       "</style>\n",
       "<table border=\"1\" class=\"dataframe\">\n",
       "  <thead>\n",
       "    <tr style=\"text-align: right;\">\n",
       "      <th></th>\n",
       "      <th>000413</th>\n",
       "      <th>000063</th>\n",
       "      <th>002007</th>\n",
       "      <th>000001</th>\n",
       "      <th>000002</th>\n",
       "    </tr>\n",
       "    <tr>\n",
       "      <th>日期</th>\n",
       "      <th></th>\n",
       "      <th></th>\n",
       "      <th></th>\n",
       "      <th></th>\n",
       "      <th></th>\n",
       "    </tr>\n",
       "  </thead>\n",
       "  <tbody>\n",
       "    <tr>\n",
       "      <th>2021-02-01</th>\n",
       "      <td>7.09</td>\n",
       "      <td>437.28</td>\n",
       "      <td>1251.42</td>\n",
       "      <td>4129.64</td>\n",
       "      <td>4464.71</td>\n",
       "    </tr>\n",
       "    <tr>\n",
       "      <th>2021-02-02</th>\n",
       "      <td>7.12</td>\n",
       "      <td>429.46</td>\n",
       "      <td>1276.79</td>\n",
       "      <td>3923.23</td>\n",
       "      <td>4500.06</td>\n",
       "    </tr>\n",
       "    <tr>\n",
       "      <th>2021-02-03</th>\n",
       "      <td>7.00</td>\n",
       "      <td>432.33</td>\n",
       "      <td>1252.20</td>\n",
       "      <td>4194.65</td>\n",
       "      <td>4445.07</td>\n",
       "    </tr>\n",
       "    <tr>\n",
       "      <th>2021-02-04</th>\n",
       "      <td>6.55</td>\n",
       "      <td>426.46</td>\n",
       "      <td>1234.60</td>\n",
       "      <td>4137.77</td>\n",
       "      <td>4441.15</td>\n",
       "    </tr>\n",
       "    <tr>\n",
       "      <th>2021-02-05</th>\n",
       "      <td>6.61</td>\n",
       "      <td>418.63</td>\n",
       "      <td>1336.31</td>\n",
       "      <td>4191.40</td>\n",
       "      <td>4570.75</td>\n",
       "    </tr>\n",
       "    <tr>\n",
       "      <th>...</th>\n",
       "      <td>...</td>\n",
       "      <td>...</td>\n",
       "      <td>...</td>\n",
       "      <td>...</td>\n",
       "      <td>...</td>\n",
       "    </tr>\n",
       "    <tr>\n",
       "      <th>2023-01-19</th>\n",
       "      <td>6.73</td>\n",
       "      <td>371.94</td>\n",
       "      <td>663.21</td>\n",
       "      <td>2658.44</td>\n",
       "      <td>3509.87</td>\n",
       "    </tr>\n",
       "    <tr>\n",
       "      <th>2023-01-20</th>\n",
       "      <td>6.79</td>\n",
       "      <td>379.11</td>\n",
       "      <td>655.70</td>\n",
       "      <td>2664.95</td>\n",
       "      <td>3513.80</td>\n",
       "    </tr>\n",
       "    <tr>\n",
       "      <th>2023-01-30</th>\n",
       "      <td>6.85</td>\n",
       "      <td>374.55</td>\n",
       "      <td>642.76</td>\n",
       "      <td>2668.20</td>\n",
       "      <td>3449.65</td>\n",
       "    </tr>\n",
       "    <tr>\n",
       "      <th>2023-01-31</th>\n",
       "      <td>6.85</td>\n",
       "      <td>369.72</td>\n",
       "      <td>632.41</td>\n",
       "      <td>2642.19</td>\n",
       "      <td>3475.83</td>\n",
       "    </tr>\n",
       "    <tr>\n",
       "      <th>2023-02-01</th>\n",
       "      <td>6.91</td>\n",
       "      <td>374.16</td>\n",
       "      <td>635.77</td>\n",
       "      <td>2595.06</td>\n",
       "      <td>3462.74</td>\n",
       "    </tr>\n",
       "  </tbody>\n",
       "</table>\n",
       "<p>482 rows × 5 columns</p>\n",
       "</div>"
      ],
      "text/plain": [
       "            000413  000063   002007   000001   000002\n",
       "日期                                                   \n",
       "2021-02-01    7.09  437.28  1251.42  4129.64  4464.71\n",
       "2021-02-02    7.12  429.46  1276.79  3923.23  4500.06\n",
       "2021-02-03    7.00  432.33  1252.20  4194.65  4445.07\n",
       "2021-02-04    6.55  426.46  1234.60  4137.77  4441.15\n",
       "2021-02-05    6.61  418.63  1336.31  4191.40  4570.75\n",
       "...            ...     ...      ...      ...      ...\n",
       "2023-01-19    6.73  371.94   663.21  2658.44  3509.87\n",
       "2023-01-20    6.79  379.11   655.70  2664.95  3513.80\n",
       "2023-01-30    6.85  374.55   642.76  2668.20  3449.65\n",
       "2023-01-31    6.85  369.72   632.41  2642.19  3475.83\n",
       "2023-02-01    6.91  374.16   635.77  2595.06  3462.74\n",
       "\n",
       "[482 rows x 5 columns]"
      ]
     },
     "execution_count": 8,
     "metadata": {},
     "output_type": "execute_result"
    }
   ],
   "source": [
    "p0"
   ]
  },
  {
   "cell_type": "markdown",
   "metadata": {},
   "source": [
    "### classwork4（编程计算组合收益）\n",
    "\n",
    "1， 求这些股票每天的单期收益率与单期连续收益率\n",
    "\n",
    "2， 已知投资权重为[0.2,0.3,0.2,0.2,0.1], 求此权重下每天的组合收益率(np.dot，点乘的机制)\n",
    "\n",
    "3， 此投资组合下最终的收益率和连续收益率是多少？"
   ]
  },
  {
   "cell_type": "code",
   "execution_count": 13,
   "metadata": {},
   "outputs": [],
   "source": [
    "w1=np.array([0.2,0.3,0.2,0.2,0.1])"
   ]
  },
  {
   "cell_type": "code",
   "execution_count": 15,
   "metadata": {},
   "outputs": [
    {
     "data": {
      "text/plain": [
       "-0.0096689"
      ]
     },
     "execution_count": 15,
     "metadata": {},
     "output_type": "execute_result"
    }
   ],
   "source": [
    "0.2*0.004231+0.3*(-0.017883)+0.2*0.020273+0.2*(-0.049983)+0.1*0.007918"
   ]
  },
  {
   "cell_type": "code",
   "execution_count": 17,
   "metadata": {},
   "outputs": [],
   "source": [
    "r_n=np.dot(r,w1)"
   ]
  },
  {
   "cell_type": "code",
   "execution_count": 24,
   "metadata": {},
   "outputs": [
    {
     "data": {
      "text/plain": [
       "array([[1.0260492 , 1.16869788, 1.96835334, 1.59134664, 1.28935756]])"
      ]
     },
     "execution_count": 24,
     "metadata": {},
     "output_type": "execute_result"
    }
   ],
   "source": [
    "p0.head(1).values/p0.tail(1).values"
   ]
  },
  {
   "cell_type": "code",
   "execution_count": 25,
   "metadata": {},
   "outputs": [
    {
     "data": {
      "text/plain": [
       "array([[-0.02538787, -0.14434687, -0.49196113, -0.3716014 , -0.22441995]])"
      ]
     },
     "execution_count": 25,
     "metadata": {},
     "output_type": "execute_result"
    }
   ],
   "source": [
    "p0.tail(1).values/p0.head(1).values-1"
   ]
  },
  {
   "cell_type": "code",
   "execution_count": 26,
   "metadata": {},
   "outputs": [
    {
     "data": {
      "text/plain": [
       "array([-0.24353614])"
      ]
     },
     "execution_count": 26,
     "metadata": {},
     "output_type": "execute_result"
    }
   ],
   "source": [
    "np.dot(p0.tail(1).values/p0.head(1).values-1,w1)"
   ]
  },
  {
   "cell_type": "code",
   "execution_count": 29,
   "metadata": {},
   "outputs": [
    {
     "data": {
      "text/plain": [
       "-0.20590820923615286"
      ]
     },
     "execution_count": 29,
     "metadata": {},
     "output_type": "execute_result"
    }
   ],
   "source": [
    "r_n.sum()"
   ]
  },
  {
   "cell_type": "code",
   "execution_count": 31,
   "metadata": {},
   "outputs": [],
   "source": [
    "r_n_log=np.dot(r_log,w1)"
   ]
  },
  {
   "cell_type": "code",
   "execution_count": 33,
   "metadata": {},
   "outputs": [
    {
     "data": {
      "text/plain": [
       "-0.3056801953611613"
      ]
     },
     "execution_count": 33,
     "metadata": {},
     "output_type": "execute_result"
    }
   ],
   "source": [
    "r_n_log.sum()"
   ]
  },
  {
   "cell_type": "code",
   "execution_count": 35,
   "metadata": {},
   "outputs": [
    {
     "data": {
      "text/plain": [
       "array([[-0.0257157 , -0.15589021, -0.67719732, -0.4645806 , -0.25414408]])"
      ]
     },
     "execution_count": 35,
     "metadata": {},
     "output_type": "execute_result"
    }
   ],
   "source": [
    "np.log(p0.tail(1).values/p0.head(1).values)"
   ]
  },
  {
   "cell_type": "code",
   "execution_count": 36,
   "metadata": {},
   "outputs": [
    {
     "data": {
      "text/plain": [
       "array([-0.3056802])"
      ]
     },
     "execution_count": 36,
     "metadata": {},
     "output_type": "execute_result"
    }
   ],
   "source": [
    "np.dot(np.log(p0.tail(1).values/p0.head(1).values),w1)"
   ]
  },
  {
   "cell_type": "code",
   "execution_count": 9,
   "metadata": {},
   "outputs": [],
   "source": [
    "r=(p0/p0.shift(1)-1).dropna()"
   ]
  },
  {
   "cell_type": "code",
   "execution_count": 14,
   "metadata": {},
   "outputs": [
    {
     "data": {
      "text/html": [
       "<div>\n",
       "<style scoped>\n",
       "    .dataframe tbody tr th:only-of-type {\n",
       "        vertical-align: middle;\n",
       "    }\n",
       "\n",
       "    .dataframe tbody tr th {\n",
       "        vertical-align: top;\n",
       "    }\n",
       "\n",
       "    .dataframe thead th {\n",
       "        text-align: right;\n",
       "    }\n",
       "</style>\n",
       "<table border=\"1\" class=\"dataframe\">\n",
       "  <thead>\n",
       "    <tr style=\"text-align: right;\">\n",
       "      <th></th>\n",
       "      <th>000413</th>\n",
       "      <th>000063</th>\n",
       "      <th>002007</th>\n",
       "      <th>000001</th>\n",
       "      <th>000002</th>\n",
       "    </tr>\n",
       "    <tr>\n",
       "      <th>日期</th>\n",
       "      <th></th>\n",
       "      <th></th>\n",
       "      <th></th>\n",
       "      <th></th>\n",
       "      <th></th>\n",
       "    </tr>\n",
       "  </thead>\n",
       "  <tbody>\n",
       "    <tr>\n",
       "      <th>2021-02-02</th>\n",
       "      <td>0.004231</td>\n",
       "      <td>-0.017883</td>\n",
       "      <td>0.020273</td>\n",
       "      <td>-0.049983</td>\n",
       "      <td>0.007918</td>\n",
       "    </tr>\n",
       "    <tr>\n",
       "      <th>2021-02-03</th>\n",
       "      <td>-0.016854</td>\n",
       "      <td>0.006683</td>\n",
       "      <td>-0.019259</td>\n",
       "      <td>0.069183</td>\n",
       "      <td>-0.012220</td>\n",
       "    </tr>\n",
       "    <tr>\n",
       "      <th>2021-02-04</th>\n",
       "      <td>-0.064286</td>\n",
       "      <td>-0.013578</td>\n",
       "      <td>-0.014055</td>\n",
       "      <td>-0.013560</td>\n",
       "      <td>-0.000882</td>\n",
       "    </tr>\n",
       "    <tr>\n",
       "      <th>2021-02-05</th>\n",
       "      <td>0.009160</td>\n",
       "      <td>-0.018360</td>\n",
       "      <td>0.082383</td>\n",
       "      <td>0.012961</td>\n",
       "      <td>0.029182</td>\n",
       "    </tr>\n",
       "    <tr>\n",
       "      <th>2021-02-08</th>\n",
       "      <td>-0.018154</td>\n",
       "      <td>0.000932</td>\n",
       "      <td>0.010065</td>\n",
       "      <td>-0.005039</td>\n",
       "      <td>0.007159</td>\n",
       "    </tr>\n",
       "    <tr>\n",
       "      <th>...</th>\n",
       "      <td>...</td>\n",
       "      <td>...</td>\n",
       "      <td>...</td>\n",
       "      <td>...</td>\n",
       "      <td>...</td>\n",
       "    </tr>\n",
       "    <tr>\n",
       "      <th>2023-01-19</th>\n",
       "      <td>0.004478</td>\n",
       "      <td>0.000350</td>\n",
       "      <td>0.006297</td>\n",
       "      <td>-0.001221</td>\n",
       "      <td>0.002617</td>\n",
       "    </tr>\n",
       "    <tr>\n",
       "      <th>2023-01-20</th>\n",
       "      <td>0.008915</td>\n",
       "      <td>0.019277</td>\n",
       "      <td>-0.011324</td>\n",
       "      <td>0.002449</td>\n",
       "      <td>0.001120</td>\n",
       "    </tr>\n",
       "    <tr>\n",
       "      <th>2023-01-30</th>\n",
       "      <td>0.008837</td>\n",
       "      <td>-0.012028</td>\n",
       "      <td>-0.019735</td>\n",
       "      <td>0.001220</td>\n",
       "      <td>-0.018257</td>\n",
       "    </tr>\n",
       "    <tr>\n",
       "      <th>2023-01-31</th>\n",
       "      <td>0.000000</td>\n",
       "      <td>-0.012895</td>\n",
       "      <td>-0.016102</td>\n",
       "      <td>-0.009748</td>\n",
       "      <td>0.007589</td>\n",
       "    </tr>\n",
       "    <tr>\n",
       "      <th>2023-02-01</th>\n",
       "      <td>0.008759</td>\n",
       "      <td>0.012009</td>\n",
       "      <td>0.005313</td>\n",
       "      <td>-0.017837</td>\n",
       "      <td>-0.003766</td>\n",
       "    </tr>\n",
       "  </tbody>\n",
       "</table>\n",
       "<p>481 rows × 5 columns</p>\n",
       "</div>"
      ],
      "text/plain": [
       "              000413    000063    002007    000001    000002\n",
       "日期                                                          \n",
       "2021-02-02  0.004231 -0.017883  0.020273 -0.049983  0.007918\n",
       "2021-02-03 -0.016854  0.006683 -0.019259  0.069183 -0.012220\n",
       "2021-02-04 -0.064286 -0.013578 -0.014055 -0.013560 -0.000882\n",
       "2021-02-05  0.009160 -0.018360  0.082383  0.012961  0.029182\n",
       "2021-02-08 -0.018154  0.000932  0.010065 -0.005039  0.007159\n",
       "...              ...       ...       ...       ...       ...\n",
       "2023-01-19  0.004478  0.000350  0.006297 -0.001221  0.002617\n",
       "2023-01-20  0.008915  0.019277 -0.011324  0.002449  0.001120\n",
       "2023-01-30  0.008837 -0.012028 -0.019735  0.001220 -0.018257\n",
       "2023-01-31  0.000000 -0.012895 -0.016102 -0.009748  0.007589\n",
       "2023-02-01  0.008759  0.012009  0.005313 -0.017837 -0.003766\n",
       "\n",
       "[481 rows x 5 columns]"
      ]
     },
     "execution_count": 14,
     "metadata": {},
     "output_type": "execute_result"
    }
   ],
   "source": [
    "r"
   ]
  },
  {
   "cell_type": "code",
   "execution_count": 11,
   "metadata": {},
   "outputs": [],
   "source": [
    "r_log=np.log(p0/p0.shift(1)).dropna()"
   ]
  },
  {
   "cell_type": "code",
   "execution_count": 12,
   "metadata": {},
   "outputs": [
    {
     "data": {
      "text/html": [
       "<div>\n",
       "<style scoped>\n",
       "    .dataframe tbody tr th:only-of-type {\n",
       "        vertical-align: middle;\n",
       "    }\n",
       "\n",
       "    .dataframe tbody tr th {\n",
       "        vertical-align: top;\n",
       "    }\n",
       "\n",
       "    .dataframe thead th {\n",
       "        text-align: right;\n",
       "    }\n",
       "</style>\n",
       "<table border=\"1\" class=\"dataframe\">\n",
       "  <thead>\n",
       "    <tr style=\"text-align: right;\">\n",
       "      <th></th>\n",
       "      <th>000413</th>\n",
       "      <th>000063</th>\n",
       "      <th>002007</th>\n",
       "      <th>000001</th>\n",
       "      <th>000002</th>\n",
       "    </tr>\n",
       "    <tr>\n",
       "      <th>日期</th>\n",
       "      <th></th>\n",
       "      <th></th>\n",
       "      <th></th>\n",
       "      <th></th>\n",
       "      <th></th>\n",
       "    </tr>\n",
       "  </thead>\n",
       "  <tbody>\n",
       "    <tr>\n",
       "      <th>2021-02-02</th>\n",
       "      <td>0.004222</td>\n",
       "      <td>-0.018045</td>\n",
       "      <td>0.020070</td>\n",
       "      <td>-0.051275</td>\n",
       "      <td>0.007886</td>\n",
       "    </tr>\n",
       "    <tr>\n",
       "      <th>2021-02-03</th>\n",
       "      <td>-0.016998</td>\n",
       "      <td>0.006661</td>\n",
       "      <td>-0.019447</td>\n",
       "      <td>0.066895</td>\n",
       "      <td>-0.012295</td>\n",
       "    </tr>\n",
       "    <tr>\n",
       "      <th>2021-02-04</th>\n",
       "      <td>-0.066445</td>\n",
       "      <td>-0.013671</td>\n",
       "      <td>-0.014155</td>\n",
       "      <td>-0.013653</td>\n",
       "      <td>-0.000882</td>\n",
       "    </tr>\n",
       "    <tr>\n",
       "      <th>2021-02-05</th>\n",
       "      <td>0.009119</td>\n",
       "      <td>-0.018531</td>\n",
       "      <td>0.079165</td>\n",
       "      <td>0.012878</td>\n",
       "      <td>0.028764</td>\n",
       "    </tr>\n",
       "    <tr>\n",
       "      <th>2021-02-08</th>\n",
       "      <td>-0.018321</td>\n",
       "      <td>0.000931</td>\n",
       "      <td>0.010015</td>\n",
       "      <td>-0.005052</td>\n",
       "      <td>0.007133</td>\n",
       "    </tr>\n",
       "    <tr>\n",
       "      <th>...</th>\n",
       "      <td>...</td>\n",
       "      <td>...</td>\n",
       "      <td>...</td>\n",
       "      <td>...</td>\n",
       "      <td>...</td>\n",
       "    </tr>\n",
       "    <tr>\n",
       "      <th>2023-01-19</th>\n",
       "      <td>0.004468</td>\n",
       "      <td>0.000350</td>\n",
       "      <td>0.006277</td>\n",
       "      <td>-0.001222</td>\n",
       "      <td>0.002613</td>\n",
       "    </tr>\n",
       "    <tr>\n",
       "      <th>2023-01-20</th>\n",
       "      <td>0.008876</td>\n",
       "      <td>0.019094</td>\n",
       "      <td>-0.011388</td>\n",
       "      <td>0.002446</td>\n",
       "      <td>0.001119</td>\n",
       "    </tr>\n",
       "    <tr>\n",
       "      <th>2023-01-30</th>\n",
       "      <td>0.008798</td>\n",
       "      <td>-0.012101</td>\n",
       "      <td>-0.019932</td>\n",
       "      <td>0.001219</td>\n",
       "      <td>-0.018425</td>\n",
       "    </tr>\n",
       "    <tr>\n",
       "      <th>2023-01-31</th>\n",
       "      <td>0.000000</td>\n",
       "      <td>-0.012979</td>\n",
       "      <td>-0.016233</td>\n",
       "      <td>-0.009796</td>\n",
       "      <td>0.007561</td>\n",
       "    </tr>\n",
       "    <tr>\n",
       "      <th>2023-02-01</th>\n",
       "      <td>0.008721</td>\n",
       "      <td>0.011938</td>\n",
       "      <td>0.005299</td>\n",
       "      <td>-0.017998</td>\n",
       "      <td>-0.003773</td>\n",
       "    </tr>\n",
       "  </tbody>\n",
       "</table>\n",
       "<p>481 rows × 5 columns</p>\n",
       "</div>"
      ],
      "text/plain": [
       "              000413    000063    002007    000001    000002\n",
       "日期                                                          \n",
       "2021-02-02  0.004222 -0.018045  0.020070 -0.051275  0.007886\n",
       "2021-02-03 -0.016998  0.006661 -0.019447  0.066895 -0.012295\n",
       "2021-02-04 -0.066445 -0.013671 -0.014155 -0.013653 -0.000882\n",
       "2021-02-05  0.009119 -0.018531  0.079165  0.012878  0.028764\n",
       "2021-02-08 -0.018321  0.000931  0.010015 -0.005052  0.007133\n",
       "...              ...       ...       ...       ...       ...\n",
       "2023-01-19  0.004468  0.000350  0.006277 -0.001222  0.002613\n",
       "2023-01-20  0.008876  0.019094 -0.011388  0.002446  0.001119\n",
       "2023-01-30  0.008798 -0.012101 -0.019932  0.001219 -0.018425\n",
       "2023-01-31  0.000000 -0.012979 -0.016233 -0.009796  0.007561\n",
       "2023-02-01  0.008721  0.011938  0.005299 -0.017998 -0.003773\n",
       "\n",
       "[481 rows x 5 columns]"
      ]
     },
     "execution_count": 12,
     "metadata": {},
     "output_type": "execute_result"
    }
   ],
   "source": [
    "r_log"
   ]
  },
  {
   "cell_type": "code",
   "execution_count": 7,
   "metadata": {},
   "outputs": [],
   "source": [
    "r=(p0/p0.shift(1)-1).dropna()\n",
    "r_log=np.log(p0/p0.shift(1)).dropna()"
   ]
  },
  {
   "cell_type": "code",
   "execution_count": 8,
   "metadata": {},
   "outputs": [
    {
     "data": {
      "text/html": [
       "<div>\n",
       "<style scoped>\n",
       "    .dataframe tbody tr th:only-of-type {\n",
       "        vertical-align: middle;\n",
       "    }\n",
       "\n",
       "    .dataframe tbody tr th {\n",
       "        vertical-align: top;\n",
       "    }\n",
       "\n",
       "    .dataframe thead th {\n",
       "        text-align: right;\n",
       "    }\n",
       "</style>\n",
       "<table border=\"1\" class=\"dataframe\">\n",
       "  <thead>\n",
       "    <tr style=\"text-align: right;\">\n",
       "      <th></th>\n",
       "      <th>000413</th>\n",
       "      <th>000063</th>\n",
       "      <th>002007</th>\n",
       "      <th>000001</th>\n",
       "      <th>000002</th>\n",
       "    </tr>\n",
       "    <tr>\n",
       "      <th>日期</th>\n",
       "      <th></th>\n",
       "      <th></th>\n",
       "      <th></th>\n",
       "      <th></th>\n",
       "      <th></th>\n",
       "    </tr>\n",
       "  </thead>\n",
       "  <tbody>\n",
       "    <tr>\n",
       "      <th>2021-02-02</th>\n",
       "      <td>0.004222</td>\n",
       "      <td>-0.018045</td>\n",
       "      <td>0.020070</td>\n",
       "      <td>-0.051275</td>\n",
       "      <td>0.007886</td>\n",
       "    </tr>\n",
       "    <tr>\n",
       "      <th>2021-02-03</th>\n",
       "      <td>-0.016998</td>\n",
       "      <td>0.006661</td>\n",
       "      <td>-0.019447</td>\n",
       "      <td>0.066895</td>\n",
       "      <td>-0.012295</td>\n",
       "    </tr>\n",
       "    <tr>\n",
       "      <th>2021-02-04</th>\n",
       "      <td>-0.066445</td>\n",
       "      <td>-0.013671</td>\n",
       "      <td>-0.014155</td>\n",
       "      <td>-0.013653</td>\n",
       "      <td>-0.000882</td>\n",
       "    </tr>\n",
       "    <tr>\n",
       "      <th>2021-02-05</th>\n",
       "      <td>0.009119</td>\n",
       "      <td>-0.018531</td>\n",
       "      <td>0.079165</td>\n",
       "      <td>0.012878</td>\n",
       "      <td>0.028764</td>\n",
       "    </tr>\n",
       "    <tr>\n",
       "      <th>2021-02-08</th>\n",
       "      <td>-0.018321</td>\n",
       "      <td>0.000931</td>\n",
       "      <td>0.010015</td>\n",
       "      <td>-0.005052</td>\n",
       "      <td>0.007133</td>\n",
       "    </tr>\n",
       "    <tr>\n",
       "      <th>...</th>\n",
       "      <td>...</td>\n",
       "      <td>...</td>\n",
       "      <td>...</td>\n",
       "      <td>...</td>\n",
       "      <td>...</td>\n",
       "    </tr>\n",
       "    <tr>\n",
       "      <th>2023-01-19</th>\n",
       "      <td>0.004468</td>\n",
       "      <td>0.000350</td>\n",
       "      <td>0.006277</td>\n",
       "      <td>-0.001222</td>\n",
       "      <td>0.002613</td>\n",
       "    </tr>\n",
       "    <tr>\n",
       "      <th>2023-01-20</th>\n",
       "      <td>0.008876</td>\n",
       "      <td>0.019094</td>\n",
       "      <td>-0.011388</td>\n",
       "      <td>0.002446</td>\n",
       "      <td>0.001119</td>\n",
       "    </tr>\n",
       "    <tr>\n",
       "      <th>2023-01-30</th>\n",
       "      <td>0.008798</td>\n",
       "      <td>-0.012101</td>\n",
       "      <td>-0.019932</td>\n",
       "      <td>0.001219</td>\n",
       "      <td>-0.018425</td>\n",
       "    </tr>\n",
       "    <tr>\n",
       "      <th>2023-01-31</th>\n",
       "      <td>0.000000</td>\n",
       "      <td>-0.012979</td>\n",
       "      <td>-0.016233</td>\n",
       "      <td>-0.009796</td>\n",
       "      <td>0.007561</td>\n",
       "    </tr>\n",
       "    <tr>\n",
       "      <th>2023-02-01</th>\n",
       "      <td>0.008721</td>\n",
       "      <td>0.011938</td>\n",
       "      <td>0.005299</td>\n",
       "      <td>-0.017998</td>\n",
       "      <td>-0.003773</td>\n",
       "    </tr>\n",
       "  </tbody>\n",
       "</table>\n",
       "<p>481 rows × 5 columns</p>\n",
       "</div>"
      ],
      "text/plain": [
       "              000413    000063    002007    000001    000002\n",
       "日期                                                          \n",
       "2021-02-02  0.004222 -0.018045  0.020070 -0.051275  0.007886\n",
       "2021-02-03 -0.016998  0.006661 -0.019447  0.066895 -0.012295\n",
       "2021-02-04 -0.066445 -0.013671 -0.014155 -0.013653 -0.000882\n",
       "2021-02-05  0.009119 -0.018531  0.079165  0.012878  0.028764\n",
       "2021-02-08 -0.018321  0.000931  0.010015 -0.005052  0.007133\n",
       "...              ...       ...       ...       ...       ...\n",
       "2023-01-19  0.004468  0.000350  0.006277 -0.001222  0.002613\n",
       "2023-01-20  0.008876  0.019094 -0.011388  0.002446  0.001119\n",
       "2023-01-30  0.008798 -0.012101 -0.019932  0.001219 -0.018425\n",
       "2023-01-31  0.000000 -0.012979 -0.016233 -0.009796  0.007561\n",
       "2023-02-01  0.008721  0.011938  0.005299 -0.017998 -0.003773\n",
       "\n",
       "[481 rows x 5 columns]"
      ]
     },
     "execution_count": 8,
     "metadata": {},
     "output_type": "execute_result"
    }
   ],
   "source": [
    "r_log"
   ]
  },
  {
   "cell_type": "code",
   "execution_count": 64,
   "metadata": {},
   "outputs": [],
   "source": [
    "r_n=np.dot(r,np.array([0.2,0.3,0.2,0.2,0.1]))"
   ]
  },
  {
   "cell_type": "code",
   "execution_count": 10,
   "metadata": {},
   "outputs": [],
   "source": [
    "weight=np.array([0.2,0.3,0.2,0.2,0.1])"
   ]
  },
  {
   "cell_type": "code",
   "execution_count": 66,
   "metadata": {},
   "outputs": [
    {
     "data": {
      "text/plain": [
       "0.012715105464818532"
      ]
     },
     "execution_count": 66,
     "metadata": {},
     "output_type": "execute_result"
    }
   ],
   "source": [
    "r_n.std()"
   ]
  },
  {
   "cell_type": "code",
   "execution_count": 1,
   "metadata": {},
   "outputs": [],
   "source": [
    "#np.dot((p/p.shift(1)-1),np.array([0.2,0.3,0.2,0.2,0.1]))"
   ]
  },
  {
   "cell_type": "code",
   "execution_count": 2,
   "metadata": {},
   "outputs": [],
   "source": [
    "#np.dot(weight.T,(p/p.shift(1)-1).values)"
   ]
  },
  {
   "cell_type": "code",
   "execution_count": 62,
   "metadata": {},
   "outputs": [
    {
     "data": {
      "text/plain": [
       "000413   -0.025716\n",
       "000063   -0.158173\n",
       "002007   -0.677197\n",
       "000001   -0.464581\n",
       "000002   -0.254144\n",
       "dtype: float64"
      ]
     },
     "execution_count": 62,
     "metadata": {},
     "output_type": "execute_result"
    }
   ],
   "source": [
    "(np.log(p)-np.log(p.shift(1))).sum()"
   ]
  },
  {
   "cell_type": "code",
   "execution_count": 66,
   "metadata": {},
   "outputs": [
    {
     "data": {
      "text/html": [
       "<div>\n",
       "<style scoped>\n",
       "    .dataframe tbody tr th:only-of-type {\n",
       "        vertical-align: middle;\n",
       "    }\n",
       "\n",
       "    .dataframe tbody tr th {\n",
       "        vertical-align: top;\n",
       "    }\n",
       "\n",
       "    .dataframe thead th {\n",
       "        text-align: right;\n",
       "    }\n",
       "</style>\n",
       "<table border=\"1\" class=\"dataframe\">\n",
       "  <thead>\n",
       "    <tr style=\"text-align: right;\">\n",
       "      <th></th>\n",
       "      <th>000413</th>\n",
       "      <th>000063</th>\n",
       "      <th>002007</th>\n",
       "      <th>000001</th>\n",
       "      <th>000002</th>\n",
       "    </tr>\n",
       "    <tr>\n",
       "      <th>日期</th>\n",
       "      <th></th>\n",
       "      <th></th>\n",
       "      <th></th>\n",
       "      <th></th>\n",
       "      <th></th>\n",
       "    </tr>\n",
       "  </thead>\n",
       "  <tbody>\n",
       "    <tr>\n",
       "      <th>2021-02-01</th>\n",
       "      <td>7.09</td>\n",
       "      <td>437.28</td>\n",
       "      <td>1251.42</td>\n",
       "      <td>4129.64</td>\n",
       "      <td>4464.71</td>\n",
       "    </tr>\n",
       "    <tr>\n",
       "      <th>2021-02-02</th>\n",
       "      <td>7.12</td>\n",
       "      <td>429.46</td>\n",
       "      <td>1276.79</td>\n",
       "      <td>3923.23</td>\n",
       "      <td>4500.06</td>\n",
       "    </tr>\n",
       "    <tr>\n",
       "      <th>2021-02-03</th>\n",
       "      <td>7.00</td>\n",
       "      <td>432.33</td>\n",
       "      <td>1252.20</td>\n",
       "      <td>4194.65</td>\n",
       "      <td>4445.07</td>\n",
       "    </tr>\n",
       "    <tr>\n",
       "      <th>2021-02-04</th>\n",
       "      <td>6.55</td>\n",
       "      <td>426.46</td>\n",
       "      <td>1234.60</td>\n",
       "      <td>4137.77</td>\n",
       "      <td>4441.15</td>\n",
       "    </tr>\n",
       "    <tr>\n",
       "      <th>2021-02-05</th>\n",
       "      <td>6.61</td>\n",
       "      <td>418.63</td>\n",
       "      <td>1336.31</td>\n",
       "      <td>4191.40</td>\n",
       "      <td>4570.75</td>\n",
       "    </tr>\n",
       "    <tr>\n",
       "      <th>...</th>\n",
       "      <td>...</td>\n",
       "      <td>...</td>\n",
       "      <td>...</td>\n",
       "      <td>...</td>\n",
       "      <td>...</td>\n",
       "    </tr>\n",
       "    <tr>\n",
       "      <th>2023-01-19</th>\n",
       "      <td>6.73</td>\n",
       "      <td>371.94</td>\n",
       "      <td>663.21</td>\n",
       "      <td>2658.44</td>\n",
       "      <td>3509.87</td>\n",
       "    </tr>\n",
       "    <tr>\n",
       "      <th>2023-01-20</th>\n",
       "      <td>6.79</td>\n",
       "      <td>379.11</td>\n",
       "      <td>655.70</td>\n",
       "      <td>2664.95</td>\n",
       "      <td>3513.80</td>\n",
       "    </tr>\n",
       "    <tr>\n",
       "      <th>2023-01-30</th>\n",
       "      <td>6.85</td>\n",
       "      <td>374.55</td>\n",
       "      <td>642.76</td>\n",
       "      <td>2668.20</td>\n",
       "      <td>3449.65</td>\n",
       "    </tr>\n",
       "    <tr>\n",
       "      <th>2023-01-31</th>\n",
       "      <td>6.85</td>\n",
       "      <td>369.72</td>\n",
       "      <td>632.41</td>\n",
       "      <td>2642.19</td>\n",
       "      <td>3475.83</td>\n",
       "    </tr>\n",
       "    <tr>\n",
       "      <th>2023-02-01</th>\n",
       "      <td>6.91</td>\n",
       "      <td>374.16</td>\n",
       "      <td>635.77</td>\n",
       "      <td>2595.06</td>\n",
       "      <td>3462.74</td>\n",
       "    </tr>\n",
       "  </tbody>\n",
       "</table>\n",
       "<p>482 rows × 5 columns</p>\n",
       "</div>"
      ],
      "text/plain": [
       "            000413  000063   002007   000001   000002\n",
       "日期                                                   \n",
       "2021-02-01    7.09  437.28  1251.42  4129.64  4464.71\n",
       "2021-02-02    7.12  429.46  1276.79  3923.23  4500.06\n",
       "2021-02-03    7.00  432.33  1252.20  4194.65  4445.07\n",
       "2021-02-04    6.55  426.46  1234.60  4137.77  4441.15\n",
       "2021-02-05    6.61  418.63  1336.31  4191.40  4570.75\n",
       "...            ...     ...      ...      ...      ...\n",
       "2023-01-19    6.73  371.94   663.21  2658.44  3509.87\n",
       "2023-01-20    6.79  379.11   655.70  2664.95  3513.80\n",
       "2023-01-30    6.85  374.55   642.76  2668.20  3449.65\n",
       "2023-01-31    6.85  369.72   632.41  2642.19  3475.83\n",
       "2023-02-01    6.91  374.16   635.77  2595.06  3462.74\n",
       "\n",
       "[482 rows x 5 columns]"
      ]
     },
     "execution_count": 66,
     "metadata": {},
     "output_type": "execute_result"
    }
   ],
   "source": [
    "p"
   ]
  },
  {
   "cell_type": "code",
   "execution_count": 72,
   "metadata": {},
   "outputs": [
    {
     "data": {
      "text/plain": [
       "array([[-0.0257157 , -0.15589021, -0.67719732, -0.4645806 , -0.25414408]])"
      ]
     },
     "execution_count": 72,
     "metadata": {},
     "output_type": "execute_result"
    }
   ],
   "source": [
    "np.log(p.tail(1).values)-np.log(p.head(1).values)"
   ]
  },
  {
   "cell_type": "markdown",
   "metadata": {},
   "source": [
    "## 投资组合的风险\n",
    "\n",
    "资产风险的衡量我们上一节讲过了，这里我们还沿用收益率的方差来指代风险。单个资产收益率的方差为：\n",
    "\n",
    "$$ \\sigma^2(R_i)=E\\{[R_i-E(R_i)]^2\\ $$\n",
    "\n",
    "两个资产组成的投资组合的方差为：\n",
    "\n",
    "$$ \\sigma^2(R_p)=E\\{[R_p-E(R_p)]^2\\} $$\n",
    "\n",
    "$$ =E\\{[\\omega_AR_A+\\omega_BR_B-E(\\omega_AR_A+\\omega_BR_B)]^2\\} $$\n",
    "\n",
    "$$ =E\\{\\{\\omega_A[R_A-E(R_A)])+\\omega_B[R_B-E(R_B)]\\}^2\\} $$\n",
    "\n",
    "$$ =E\\{\\omega^2_A[R_A-E(R_A)]^2)+\\omega^2_B[R_B-E(R_B)]^2+2\\omega_A\\omega_B[R_A-E(R_A)][R_B-E(R_B)]\\} $$\n",
    "\n",
    "$$ =\\omega^2_A\\sigma^2(R_A)+\\omega^2_B\\sigma^2(R_B)+2\\omega_A\\omega_B\\sigma(R_A,R_B) $$\n",
    "\n",
    "其中 $ \\sigma(R_A,R_B) $为资产A与资产B的协方差，也可以写作 $ Cov（R_A,R_B）$ \n",
    "$$ Cov(R_A,R_B)=E\\{[R_A-E(R_A)][R_B-E(R_B)]\\} $$\n",
    "\n",
    "从上式可以看出，如果资产A与资产B收益率变化趋势一致（你为正，我也为正），那么协方差为正；反之（我赚了，你赔了）则为负。所以协方差也就是描述两个变量有多大的“可能”朝一个方向改变，但是协方差会受比例影响，比如A扩大十倍收益率，B扩大十倍收益率，那么协方差会扩大100倍。还有就是相关系数，更能刻画两者的相关度。相关系数和协方差的关系如下关系式：\n",
    "\n",
    "$$ \\rho(A,B)=\\frac{\\sigma(R_A,R_B)}{\\sigma(R_A)\\sigma(R_B)} $$\n",
    "\n",
    "当把两个投资组合推广到n个投资组合的时候，我们就得到了如下公式：\n",
    "\n",
    "$$ \\sigma^2(R_p)=\\sigma^2(\\sum_{i=1}^{N}{\\omega_iR_i})=\\sum_{i=1}^{N}{\\omega_i^2\\sigma^2(R_i)}+\\sum_{i\\ne j}{\\omega_i\\omega_j\\sigma(R_i,R_j)} $$"
   ]
  },
  {
   "cell_type": "code",
   "execution_count": 18,
   "metadata": {},
   "outputs": [],
   "source": [
    "r_log_q=pd.Series(np.dot(r_log,weight))"
   ]
  },
  {
   "cell_type": "code",
   "execution_count": 29,
   "metadata": {},
   "outputs": [
    {
     "data": {
      "text/plain": [
       "0.012734426476975919"
      ]
     },
     "execution_count": 29,
     "metadata": {},
     "output_type": "execute_result"
    }
   ],
   "source": [
    "r_log_q.std()"
   ]
  },
  {
   "cell_type": "code",
   "execution_count": 20,
   "metadata": {},
   "outputs": [
    {
     "data": {
      "text/plain": [
       "-0.0006355097616656162"
      ]
     },
     "execution_count": 20,
     "metadata": {},
     "output_type": "execute_result"
    }
   ],
   "source": [
    "r_log_q.mean()"
   ]
  },
  {
   "cell_type": "code",
   "execution_count": 28,
   "metadata": {},
   "outputs": [
    {
     "data": {
      "text/plain": [
       "0.009180972085122096"
      ]
     },
     "execution_count": 28,
     "metadata": {},
     "output_type": "execute_result"
    }
   ],
   "source": [
    "(((r_log_q[r_log_q<r_log_q.mean()]-r_log_q.mean())**2).sum()/len(r_log_q))**0.5"
   ]
  },
  {
   "cell_type": "code",
   "execution_count": 14,
   "metadata": {},
   "outputs": [
    {
     "data": {
      "text/plain": [
       "0.012721182140083113"
      ]
     },
     "execution_count": 14,
     "metadata": {},
     "output_type": "execute_result"
    }
   ],
   "source": [
    "np.dot(r_log,weight).std()"
   ]
  },
  {
   "cell_type": "code",
   "execution_count": 15,
   "metadata": {},
   "outputs": [
    {
     "data": {
      "text/html": [
       "<div>\n",
       "<style scoped>\n",
       "    .dataframe tbody tr th:only-of-type {\n",
       "        vertical-align: middle;\n",
       "    }\n",
       "\n",
       "    .dataframe tbody tr th {\n",
       "        vertical-align: top;\n",
       "    }\n",
       "\n",
       "    .dataframe thead th {\n",
       "        text-align: right;\n",
       "    }\n",
       "</style>\n",
       "<table border=\"1\" class=\"dataframe\">\n",
       "  <thead>\n",
       "    <tr style=\"text-align: right;\">\n",
       "      <th></th>\n",
       "      <th>000413</th>\n",
       "      <th>000063</th>\n",
       "      <th>002007</th>\n",
       "      <th>000001</th>\n",
       "      <th>000002</th>\n",
       "    </tr>\n",
       "    <tr>\n",
       "      <th>日期</th>\n",
       "      <th></th>\n",
       "      <th></th>\n",
       "      <th></th>\n",
       "      <th></th>\n",
       "      <th></th>\n",
       "    </tr>\n",
       "  </thead>\n",
       "  <tbody>\n",
       "    <tr>\n",
       "      <th>2021-02-02</th>\n",
       "      <td>0.004222</td>\n",
       "      <td>-0.018045</td>\n",
       "      <td>0.020070</td>\n",
       "      <td>-0.051275</td>\n",
       "      <td>0.007886</td>\n",
       "    </tr>\n",
       "    <tr>\n",
       "      <th>2021-02-03</th>\n",
       "      <td>-0.016998</td>\n",
       "      <td>0.006661</td>\n",
       "      <td>-0.019447</td>\n",
       "      <td>0.066895</td>\n",
       "      <td>-0.012295</td>\n",
       "    </tr>\n",
       "    <tr>\n",
       "      <th>2021-02-04</th>\n",
       "      <td>-0.066445</td>\n",
       "      <td>-0.013671</td>\n",
       "      <td>-0.014155</td>\n",
       "      <td>-0.013653</td>\n",
       "      <td>-0.000882</td>\n",
       "    </tr>\n",
       "    <tr>\n",
       "      <th>2021-02-05</th>\n",
       "      <td>0.009119</td>\n",
       "      <td>-0.018531</td>\n",
       "      <td>0.079165</td>\n",
       "      <td>0.012878</td>\n",
       "      <td>0.028764</td>\n",
       "    </tr>\n",
       "    <tr>\n",
       "      <th>2021-02-08</th>\n",
       "      <td>-0.018321</td>\n",
       "      <td>0.000931</td>\n",
       "      <td>0.010015</td>\n",
       "      <td>-0.005052</td>\n",
       "      <td>0.007133</td>\n",
       "    </tr>\n",
       "    <tr>\n",
       "      <th>...</th>\n",
       "      <td>...</td>\n",
       "      <td>...</td>\n",
       "      <td>...</td>\n",
       "      <td>...</td>\n",
       "      <td>...</td>\n",
       "    </tr>\n",
       "    <tr>\n",
       "      <th>2023-01-19</th>\n",
       "      <td>0.004468</td>\n",
       "      <td>0.000350</td>\n",
       "      <td>0.006277</td>\n",
       "      <td>-0.001222</td>\n",
       "      <td>0.002613</td>\n",
       "    </tr>\n",
       "    <tr>\n",
       "      <th>2023-01-20</th>\n",
       "      <td>0.008876</td>\n",
       "      <td>0.019094</td>\n",
       "      <td>-0.011388</td>\n",
       "      <td>0.002446</td>\n",
       "      <td>0.001119</td>\n",
       "    </tr>\n",
       "    <tr>\n",
       "      <th>2023-01-30</th>\n",
       "      <td>0.008798</td>\n",
       "      <td>-0.012101</td>\n",
       "      <td>-0.019932</td>\n",
       "      <td>0.001219</td>\n",
       "      <td>-0.018425</td>\n",
       "    </tr>\n",
       "    <tr>\n",
       "      <th>2023-01-31</th>\n",
       "      <td>0.000000</td>\n",
       "      <td>-0.012979</td>\n",
       "      <td>-0.016233</td>\n",
       "      <td>-0.009796</td>\n",
       "      <td>0.007561</td>\n",
       "    </tr>\n",
       "    <tr>\n",
       "      <th>2023-02-01</th>\n",
       "      <td>0.008721</td>\n",
       "      <td>0.011938</td>\n",
       "      <td>0.005299</td>\n",
       "      <td>-0.017998</td>\n",
       "      <td>-0.003773</td>\n",
       "    </tr>\n",
       "  </tbody>\n",
       "</table>\n",
       "<p>481 rows × 5 columns</p>\n",
       "</div>"
      ],
      "text/plain": [
       "              000413    000063    002007    000001    000002\n",
       "日期                                                          \n",
       "2021-02-02  0.004222 -0.018045  0.020070 -0.051275  0.007886\n",
       "2021-02-03 -0.016998  0.006661 -0.019447  0.066895 -0.012295\n",
       "2021-02-04 -0.066445 -0.013671 -0.014155 -0.013653 -0.000882\n",
       "2021-02-05  0.009119 -0.018531  0.079165  0.012878  0.028764\n",
       "2021-02-08 -0.018321  0.000931  0.010015 -0.005052  0.007133\n",
       "...              ...       ...       ...       ...       ...\n",
       "2023-01-19  0.004468  0.000350  0.006277 -0.001222  0.002613\n",
       "2023-01-20  0.008876  0.019094 -0.011388  0.002446  0.001119\n",
       "2023-01-30  0.008798 -0.012101 -0.019932  0.001219 -0.018425\n",
       "2023-01-31  0.000000 -0.012979 -0.016233 -0.009796  0.007561\n",
       "2023-02-01  0.008721  0.011938  0.005299 -0.017998 -0.003773\n",
       "\n",
       "[481 rows x 5 columns]"
      ]
     },
     "execution_count": 15,
     "metadata": {},
     "output_type": "execute_result"
    }
   ],
   "source": [
    "r_log"
   ]
  },
  {
   "cell_type": "code",
   "execution_count": null,
   "metadata": {},
   "outputs": [],
   "source": [
    "(r[r<r.mean()]**2).sum()/len(r)"
   ]
  },
  {
   "cell_type": "code",
   "execution_count": 40,
   "metadata": {
    "scrolled": true
   },
   "outputs": [
    {
     "data": {
      "text/plain": [
       "0.012715105464818532"
      ]
     },
     "execution_count": 40,
     "metadata": {},
     "output_type": "execute_result"
    }
   ],
   "source": [
    "np.dot(r,w1).std()"
   ]
  },
  {
   "cell_type": "code",
   "execution_count": 51,
   "metadata": {},
   "outputs": [
    {
     "name": "stdout",
     "output_type": "stream",
     "text": [
      "0.017650297354124954\n",
      "0.02023571339872403\n",
      "0.023556216229635107\n",
      "0.02082897428703604\n",
      "0.01832756921980858\n"
     ]
    }
   ],
   "source": [
    "for i in range(0,5):\n",
    "    print(r.iloc[:,i].std())"
   ]
  },
  {
   "cell_type": "code",
   "execution_count": 50,
   "metadata": {},
   "outputs": [
    {
     "data": {
      "text/plain": [
       "0.01832756921980858"
      ]
     },
     "execution_count": 50,
     "metadata": {},
     "output_type": "execute_result"
    }
   ],
   "source": [
    "r.iloc[:,4].std()"
   ]
  },
  {
   "cell_type": "code",
   "execution_count": 41,
   "metadata": {},
   "outputs": [
    {
     "data": {
      "text/html": [
       "<div>\n",
       "<style scoped>\n",
       "    .dataframe tbody tr th:only-of-type {\n",
       "        vertical-align: middle;\n",
       "    }\n",
       "\n",
       "    .dataframe tbody tr th {\n",
       "        vertical-align: top;\n",
       "    }\n",
       "\n",
       "    .dataframe thead th {\n",
       "        text-align: right;\n",
       "    }\n",
       "</style>\n",
       "<table border=\"1\" class=\"dataframe\">\n",
       "  <thead>\n",
       "    <tr style=\"text-align: right;\">\n",
       "      <th></th>\n",
       "      <th>000413</th>\n",
       "      <th>000063</th>\n",
       "      <th>002007</th>\n",
       "      <th>000001</th>\n",
       "      <th>000002</th>\n",
       "    </tr>\n",
       "  </thead>\n",
       "  <tbody>\n",
       "    <tr>\n",
       "      <th>000413</th>\n",
       "      <td>0.000312</td>\n",
       "      <td>0.000079</td>\n",
       "      <td>0.000044</td>\n",
       "      <td>0.000037</td>\n",
       "      <td>0.000027</td>\n",
       "    </tr>\n",
       "    <tr>\n",
       "      <th>000063</th>\n",
       "      <td>0.000079</td>\n",
       "      <td>0.000409</td>\n",
       "      <td>0.000132</td>\n",
       "      <td>0.000122</td>\n",
       "      <td>0.000071</td>\n",
       "    </tr>\n",
       "    <tr>\n",
       "      <th>002007</th>\n",
       "      <td>0.000044</td>\n",
       "      <td>0.000132</td>\n",
       "      <td>0.000555</td>\n",
       "      <td>0.000094</td>\n",
       "      <td>0.000057</td>\n",
       "    </tr>\n",
       "    <tr>\n",
       "      <th>000001</th>\n",
       "      <td>0.000037</td>\n",
       "      <td>0.000122</td>\n",
       "      <td>0.000094</td>\n",
       "      <td>0.000434</td>\n",
       "      <td>0.000202</td>\n",
       "    </tr>\n",
       "    <tr>\n",
       "      <th>000002</th>\n",
       "      <td>0.000027</td>\n",
       "      <td>0.000071</td>\n",
       "      <td>0.000057</td>\n",
       "      <td>0.000202</td>\n",
       "      <td>0.000336</td>\n",
       "    </tr>\n",
       "  </tbody>\n",
       "</table>\n",
       "</div>"
      ],
      "text/plain": [
       "          000413    000063    002007    000001    000002\n",
       "000413  0.000312  0.000079  0.000044  0.000037  0.000027\n",
       "000063  0.000079  0.000409  0.000132  0.000122  0.000071\n",
       "002007  0.000044  0.000132  0.000555  0.000094  0.000057\n",
       "000001  0.000037  0.000122  0.000094  0.000434  0.000202\n",
       "000002  0.000027  0.000071  0.000057  0.000202  0.000336"
      ]
     },
     "execution_count": 41,
     "metadata": {},
     "output_type": "execute_result"
    }
   ],
   "source": [
    "r.cov()"
   ]
  },
  {
   "cell_type": "code",
   "execution_count": 43,
   "metadata": {},
   "outputs": [
    {
     "data": {
      "text/plain": [
       "0.012728343475134648"
      ]
     },
     "execution_count": 43,
     "metadata": {},
     "output_type": "execute_result"
    }
   ],
   "source": [
    "np.sqrt(np.dot(w1, np.dot(r.cov(), w1)))"
   ]
  },
  {
   "cell_type": "code",
   "execution_count": 3,
   "metadata": {},
   "outputs": [],
   "source": [
    "#r_n=np.dot((p/p.shift(1)-1),np.array([0.2,0.3,0.2,0.2,0.1]))"
   ]
  },
  {
   "cell_type": "code",
   "execution_count": 107,
   "metadata": {},
   "outputs": [
    {
     "data": {
      "text/plain": [
       "0.012715105464818532"
      ]
     },
     "execution_count": 107,
     "metadata": {},
     "output_type": "execute_result"
    }
   ],
   "source": [
    "r_n[1:].std()"
   ]
  },
  {
   "cell_type": "code",
   "execution_count": 110,
   "metadata": {},
   "outputs": [
    {
     "data": {
      "text/plain": [
       "000413    0.017650\n",
       "000063    0.020236\n",
       "002007    0.023556\n",
       "000001    0.020829\n",
       "000002    0.018328\n",
       "dtype: float64"
      ]
     },
     "execution_count": 110,
     "metadata": {},
     "output_type": "execute_result"
    }
   ],
   "source": [
    "(p/p.shift(1)-1).dropna().std()"
   ]
  },
  {
   "cell_type": "code",
   "execution_count": 60,
   "metadata": {},
   "outputs": [],
   "source": [
    "weight=np.array([0.2,0.3,0.2,0.2,0.1])"
   ]
  },
  {
   "cell_type": "code",
   "execution_count": 67,
   "metadata": {},
   "outputs": [
    {
     "data": {
      "text/plain": [
       "0.012728343475134648"
      ]
     },
     "execution_count": 67,
     "metadata": {},
     "output_type": "execute_result"
    }
   ],
   "source": [
    "np.sqrt(np.dot(weight, np.dot(r.cov(), weight)))#协方差计算"
   ]
  },
  {
   "cell_type": "markdown",
   "metadata": {},
   "source": [
    "### classwork5（编程计算组合风险）\n",
    "\n",
    "1， 求这些股票的组合风险（两种方法1，先求组合收益再求风险，2 直接通过协方差求）\n",
    "\n",
    "2， 求这些股票单个风险，并与上题比较\n",
    "\n",
    "3， 蒙特卡洛模拟，随机生成weight数据，并基于此计算此投资组合的此时间段的收益与风险\n",
    "\n",
    "4,  在页面上实现输入不同的股票组合，生成股票组合的收益风险散点图"
   ]
  },
  {
   "cell_type": "code",
   "execution_count": 56,
   "metadata": {},
   "outputs": [
    {
     "data": {
      "text/plain": [
       "array([0.08332207, 0.04651511, 0.24801942, 0.44767755, 0.17446585])"
      ]
     },
     "execution_count": 56,
     "metadata": {},
     "output_type": "execute_result"
    }
   ],
   "source": [
    "#随机生成投资组合的权重\n",
    "weight_ram = np.random.random(len(stock_set))\n",
    "weight_ram=weight_ram/np.sum(weight_ram)\n",
    "weight_ram"
   ]
  },
  {
   "cell_type": "code",
   "execution_count": 54,
   "metadata": {},
   "outputs": [
    {
     "data": {
      "text/plain": [
       "-0.2596074884039496"
      ]
     },
     "execution_count": 54,
     "metadata": {},
     "output_type": "execute_result"
    }
   ],
   "source": [
    "np.dot(r,w0).sum()"
   ]
  },
  {
   "cell_type": "code",
   "execution_count": 58,
   "metadata": {},
   "outputs": [
    {
     "data": {
      "text/plain": [
       "0.012404593007410245"
      ]
     },
     "execution_count": 58,
     "metadata": {},
     "output_type": "execute_result"
    }
   ],
   "source": [
    "r_n_0.std()"
   ]
  },
  {
   "cell_type": "code",
   "execution_count": 30,
   "metadata": {},
   "outputs": [],
   "source": [
    "x=[]\n",
    "y=[]\n",
    "for i in range(1000):\n",
    "    w0=np.random.random(len(stock_set))\n",
    "    w0=w0/np.sum(w0)\n",
    "    r_log_q=np.dot(r_log,w0)\n",
    "    x.append((((r_log_q[r_log_q<r_log_q.mean()]-r_log_q.mean())**2).sum()/len(r_log_q))**0.5)\n",
    "    y.append(r_log_q.sum())"
   ]
  },
  {
   "cell_type": "code",
   "execution_count": 6,
   "metadata": {},
   "outputs": [
    {
     "data": {
      "text/html": [
       "<div>\n",
       "<style scoped>\n",
       "    .dataframe tbody tr th:only-of-type {\n",
       "        vertical-align: middle;\n",
       "    }\n",
       "\n",
       "    .dataframe tbody tr th {\n",
       "        vertical-align: top;\n",
       "    }\n",
       "\n",
       "    .dataframe thead th {\n",
       "        text-align: right;\n",
       "    }\n",
       "</style>\n",
       "<table border=\"1\" class=\"dataframe\">\n",
       "  <thead>\n",
       "    <tr style=\"text-align: right;\">\n",
       "      <th></th>\n",
       "      <th>000413</th>\n",
       "      <th>000063</th>\n",
       "      <th>002007</th>\n",
       "      <th>000001</th>\n",
       "      <th>000002</th>\n",
       "    </tr>\n",
       "    <tr>\n",
       "      <th>日期</th>\n",
       "      <th></th>\n",
       "      <th></th>\n",
       "      <th></th>\n",
       "      <th></th>\n",
       "      <th></th>\n",
       "    </tr>\n",
       "  </thead>\n",
       "  <tbody>\n",
       "    <tr>\n",
       "      <th>2021-02-01</th>\n",
       "      <td>7.09</td>\n",
       "      <td>437.28</td>\n",
       "      <td>1251.42</td>\n",
       "      <td>4129.64</td>\n",
       "      <td>4464.71</td>\n",
       "    </tr>\n",
       "    <tr>\n",
       "      <th>2021-02-02</th>\n",
       "      <td>7.12</td>\n",
       "      <td>429.46</td>\n",
       "      <td>1276.79</td>\n",
       "      <td>3923.23</td>\n",
       "      <td>4500.06</td>\n",
       "    </tr>\n",
       "    <tr>\n",
       "      <th>2021-02-03</th>\n",
       "      <td>7.00</td>\n",
       "      <td>432.33</td>\n",
       "      <td>1252.20</td>\n",
       "      <td>4194.65</td>\n",
       "      <td>4445.07</td>\n",
       "    </tr>\n",
       "    <tr>\n",
       "      <th>2021-02-04</th>\n",
       "      <td>6.55</td>\n",
       "      <td>426.46</td>\n",
       "      <td>1234.60</td>\n",
       "      <td>4137.77</td>\n",
       "      <td>4441.15</td>\n",
       "    </tr>\n",
       "    <tr>\n",
       "      <th>2021-02-05</th>\n",
       "      <td>6.61</td>\n",
       "      <td>418.63</td>\n",
       "      <td>1336.31</td>\n",
       "      <td>4191.40</td>\n",
       "      <td>4570.75</td>\n",
       "    </tr>\n",
       "    <tr>\n",
       "      <th>...</th>\n",
       "      <td>...</td>\n",
       "      <td>...</td>\n",
       "      <td>...</td>\n",
       "      <td>...</td>\n",
       "      <td>...</td>\n",
       "    </tr>\n",
       "    <tr>\n",
       "      <th>2023-01-19</th>\n",
       "      <td>6.73</td>\n",
       "      <td>371.94</td>\n",
       "      <td>663.21</td>\n",
       "      <td>2658.44</td>\n",
       "      <td>3509.87</td>\n",
       "    </tr>\n",
       "    <tr>\n",
       "      <th>2023-01-20</th>\n",
       "      <td>6.79</td>\n",
       "      <td>379.11</td>\n",
       "      <td>655.70</td>\n",
       "      <td>2664.95</td>\n",
       "      <td>3513.80</td>\n",
       "    </tr>\n",
       "    <tr>\n",
       "      <th>2023-01-30</th>\n",
       "      <td>6.85</td>\n",
       "      <td>374.55</td>\n",
       "      <td>642.76</td>\n",
       "      <td>2668.20</td>\n",
       "      <td>3449.65</td>\n",
       "    </tr>\n",
       "    <tr>\n",
       "      <th>2023-01-31</th>\n",
       "      <td>6.85</td>\n",
       "      <td>369.72</td>\n",
       "      <td>632.41</td>\n",
       "      <td>2642.19</td>\n",
       "      <td>3475.83</td>\n",
       "    </tr>\n",
       "    <tr>\n",
       "      <th>2023-02-01</th>\n",
       "      <td>6.91</td>\n",
       "      <td>374.16</td>\n",
       "      <td>635.77</td>\n",
       "      <td>2595.06</td>\n",
       "      <td>3462.74</td>\n",
       "    </tr>\n",
       "  </tbody>\n",
       "</table>\n",
       "<p>482 rows × 5 columns</p>\n",
       "</div>"
      ],
      "text/plain": [
       "            000413  000063   002007   000001   000002\n",
       "日期                                                   \n",
       "2021-02-01    7.09  437.28  1251.42  4129.64  4464.71\n",
       "2021-02-02    7.12  429.46  1276.79  3923.23  4500.06\n",
       "2021-02-03    7.00  432.33  1252.20  4194.65  4445.07\n",
       "2021-02-04    6.55  426.46  1234.60  4137.77  4441.15\n",
       "2021-02-05    6.61  418.63  1336.31  4191.40  4570.75\n",
       "...            ...     ...      ...      ...      ...\n",
       "2023-01-19    6.73  371.94   663.21  2658.44  3509.87\n",
       "2023-01-20    6.79  379.11   655.70  2664.95  3513.80\n",
       "2023-01-30    6.85  374.55   642.76  2668.20  3449.65\n",
       "2023-01-31    6.85  369.72   632.41  2642.19  3475.83\n",
       "2023-02-01    6.91  374.16   635.77  2595.06  3462.74\n",
       "\n",
       "[482 rows x 5 columns]"
      ]
     },
     "execution_count": 6,
     "metadata": {},
     "output_type": "execute_result"
    }
   ],
   "source": [
    "p0"
   ]
  },
  {
   "cell_type": "code",
   "execution_count": 31,
   "metadata": {},
   "outputs": [],
   "source": [
    "import matplotlib.pyplot as plt  "
   ]
  },
  {
   "cell_type": "code",
   "execution_count": 32,
   "metadata": {},
   "outputs": [
    {
     "data": {
      "text/plain": [
       "[<matplotlib.lines.Line2D at 0x282df62ed60>]"
      ]
     },
     "execution_count": 32,
     "metadata": {},
     "output_type": "execute_result"
    },
    {
     "data": {
      "image/png": "[encoded data removed]",
      "text/plain": [
       "<Figure size 432x288 with 1 Axes>"
      ]
     },
     "metadata": {
      "needs_background": "light"
     },
     "output_type": "display_data"
    }
   ],
   "source": [
    "plt.plot(x,y,\"o\")"
   ]
  },
  {
   "cell_type": "code",
   "execution_count": 64,
   "metadata": {},
   "outputs": [],
   "source": [
    "x=[]\n",
    "y=[]\n",
    "for i in range(1000):\n",
    "    weights = np.random.random(len(stock_set))\n",
    "    weights = weights/np.sum(weights)\n",
    "    y.append(np.sum(np.dot(r_log,weights)))\n",
    "    x.append(np.sqrt(np.dot(weights, np.dot(r_log.cov(), weights))))"
   ]
  },
  {
   "cell_type": "code",
   "execution_count": 23,
   "metadata": {},
   "outputs": [],
   "source": [
    "import matplotlib.pyplot as plt  "
   ]
  },
  {
   "cell_type": "code",
   "execution_count": 66,
   "metadata": {},
   "outputs": [
    {
     "data": {
      "image/png": "[encoded data removed]",
      "text/plain": [
       "<Figure size 432x288 with 1 Axes>"
      ]
     },
     "metadata": {
      "needs_background": "light"
     },
     "output_type": "display_data"
    }
   ],
   "source": [
    "plt.plot(x,y,\"o\")\n",
    "#plt.plot([0.017573927546898845],[-0.025715702764494558],\"o\")\n",
    "#plt.ylim(0,0.5)\n",
    "plt.grid()"
   ]
  },
  {
   "cell_type": "code",
   "execution_count": null,
   "metadata": {},
   "outputs": [],
   "source": [
    "002613,000063,002594,600519,600004"
   ]
  },
  {
   "cell_type": "markdown",
   "metadata": {},
   "source": [
    "## 夏普比率与最佳投资组合\n",
    "\n",
    "夏普比率（ Sharpe ratio），是指投资组合）在对其调整风险后，相对于无风险资产的表现。\n",
    "\n",
    "它代表投资者额外承受的每一单位风险所获得的超额收益。对一个投资组合而言，夏普比率越高越好。\n",
    "夏普比率 = (回报率 – 无风险利率)/标准差\n",
    "\n",
    "\n",
    "假设目前投资一个预期回报率为12%，波动率（标准差）为10%的投资组合。无风险利率是5%。\n",
    "夏普比率就是：\n",
    "\n",
    "$$ (Ra−Rf)/ σa = (0.12−0.05) /0.1 = 0.7 $$\n",
    "\n",
    "一般来说单纯买入并持有指数，例如持有标普500指数，夏普率大约在0.5左右，而经过资产配置后的投资组合，夏普率通常可以得到提升，如果是接近1，就是不错的策略，如果是1.5以上那就非常优秀了。"
   ]
  },
  {
   "cell_type": "code",
   "execution_count": 67,
   "metadata": {},
   "outputs": [],
   "source": [
    "x=[]\n",
    "y=[]\n",
    "for i in range(1000):\n",
    "    w0=np.random.random(len(stock_set))\n",
    "    w0=w0/np.sum(w0)\n",
    "    r_n_0=np.dot(r,w0)\n",
    "    x.append(r_n_0.std())\n",
    "    y.append(r_n_0.sum())"
   ]
  },
  {
   "cell_type": "code",
   "execution_count": 37,
   "metadata": {},
   "outputs": [],
   "source": [
    "def xiapu(w0):\n",
    "    w0=w0/np.sum(w0)\n",
    "    r_log_q=np.dot(r_log,w0)\n",
    "    #return (((r_log_q[r_log_q<r_log_q.mean()]-r_log_q.mean())**2).sum()/len(r_log_q))**0.5/r_log_q.sum()\n",
    "    return (((r_log_q[r_log_q<r_log_q.mean()]-r_log_q.mean())**2).sum()/len(r_log_q))**0.5\n",
    "    #return 1/r_log_q.sum()"
   ]
  },
  {
   "cell_type": "code",
   "execution_count": 82,
   "metadata": {},
   "outputs": [
    {
     "data": {
      "text/plain": [
       "array([0.0733588 , 0.17491114, 0.31811647, 0.04787831, 0.38573529])"
      ]
     },
     "execution_count": 82,
     "metadata": {},
     "output_type": "execute_result"
    }
   ],
   "source": [
    "w0"
   ]
  },
  {
   "cell_type": "code",
   "execution_count": null,
   "metadata": {},
   "outputs": [],
   "source": [
    "x=[]\n",
    "y=[]\n",
    "for i in range(1000):\n",
    "    w0=np.random.random(len(stock_set))\n",
    "    w0=w0/np.sum(w0)\n",
    "    r_log_q=np.dot(r_log,w0)\n",
    "    x.append((((r_log_q[r_log_q<r_log_q.mean()]-r_log_q.mean())**2).sum()/len(r_log_q))**0.5)\n",
    "    y.append(r_log_q.sum())"
   ]
  },
  {
   "cell_type": "code",
   "execution_count": null,
   "metadata": {},
   "outputs": [],
   "source": [
    "np.sum(np.dot(r_log.dropna(),weights))"
   ]
  },
  {
   "cell_type": "code",
   "execution_count": 80,
   "metadata": {},
   "outputs": [
    {
     "data": {
      "text/plain": [
       "array([0.0733588 , 0.17491114, 0.31811647, 0.04787831, 0.38573529])"
      ]
     },
     "execution_count": 80,
     "metadata": {},
     "output_type": "execute_result"
    }
   ],
   "source": [
    "w0"
   ]
  },
  {
   "cell_type": "code",
   "execution_count": 90,
   "metadata": {},
   "outputs": [
    {
     "data": {
      "text/plain": [
       "-0.03656299030214233"
      ]
     },
     "execution_count": 90,
     "metadata": {},
     "output_type": "execute_result"
    }
   ],
   "source": [
    "xiapu(w0)"
   ]
  },
  {
   "cell_type": "code",
   "execution_count": 38,
   "metadata": {},
   "outputs": [
    {
     "data": {
      "text/plain": [
       "     fun: 0.008455915347970811\n",
       "     jac: array([ 1.84678473e-04, -6.08382979e-05,  1.92591455e-04, -3.21958214e-06,\n",
       "       -3.21097672e-04])\n",
       " message: 'Optimization terminated successfully'\n",
       "    nfev: 54\n",
       "     nit: 9\n",
       "    njev: 9\n",
       "  status: 0\n",
       " success: True\n",
       "       x: array([0.38144102, 0.14092233, 0.12607768, 0.08409782, 0.26746114])"
      ]
     },
     "execution_count": 38,
     "metadata": {},
     "output_type": "execute_result"
    }
   ],
   "source": [
    "import scipy.optimize as sco\n",
    "\n",
    "noa=len(stock_set)\n",
    "#约束是所有参数(权重)的总和为1。这可以用minimize函数的约定表达如下\n",
    "cons = ({'type':'eq', 'fun':lambda x: np.sum(x)-1})\n",
    "\n",
    "#我们还将参数值(权重)限制在0和1之间。这些值以多个元组组成的一个元组形式提供给最小化函数\n",
    "bnds = tuple((0,1) for x in range(noa))\n",
    "\n",
    "#优化函数调用中忽略的唯一输入是起始参数列表(对权重的初始猜测)。我们简单的使用平均分布。\n",
    "opts = sco.minimize(xiapu, noa*[1./noa,], method = 'SLSQP', bounds = bnds, constraints = cons)\n",
    "\n",
    "opts"
   ]
  },
  {
   "cell_type": "code",
   "execution_count": 97,
   "metadata": {},
   "outputs": [
    {
     "data": {
      "text/plain": [
       "array([1., 0., 0., 0., 0.])"
      ]
     },
     "execution_count": 97,
     "metadata": {},
     "output_type": "execute_result"
    }
   ],
   "source": [
    "opts.x"
   ]
  },
  {
   "cell_type": "code",
   "execution_count": 99,
   "metadata": {},
   "outputs": [],
   "source": [
    "w0=opts.x"
   ]
  },
  {
   "cell_type": "code",
   "execution_count": 100,
   "metadata": {},
   "outputs": [
    {
     "name": "stdout",
     "output_type": "stream",
     "text": [
      "0.01755564992619949 -0.02571570276445901\n"
     ]
    }
   ],
   "source": [
    "w0=w0/np.sum(w0)\n",
    "r_n_0=np.dot(r_log,w0)\n",
    "print(r_n_0.std(),r_n_0.sum())"
   ]
  },
  {
   "cell_type": "code",
   "execution_count": 102,
   "metadata": {},
   "outputs": [
    {
     "data": {
      "text/plain": [
       "[<matplotlib.lines.Line2D at 0x1e2fca17130>]"
      ]
     },
     "execution_count": 102,
     "metadata": {},
     "output_type": "execute_result"
    },
    {
     "data": {
      "image/png": "[encoded data removed]",
      "text/plain": [
       "<Figure size 432x288 with 1 Axes>"
      ]
     },
     "metadata": {
      "needs_background": "light"
     },
     "output_type": "display_data"
    }
   ],
   "source": [
    "plt.plot(x,y,\"o\")\n",
    "plt.plot([0.01755564992619949],[-0.02571570276445901],\"o\")"
   ]
  },
  {
   "cell_type": "code",
   "execution_count": 73,
   "metadata": {},
   "outputs": [],
   "source": [
    "def min_sharpe(weights):\n",
    "    \n",
    "    weights = weights/np.sum(weights)\n",
    "    z_r=np.sum(np.dot(r_log.dropna(),weights))\n",
    "    z_f=np.sqrt(np.dot(weights, np.dot(r_log.dropna().cov(), weights)))\n",
    "\n",
    "    return z_f/z_r#optimize是去最小值，所以这里用夏普率的倒数"
   ]
  },
  {
   "cell_type": "code",
   "execution_count": 86,
   "metadata": {},
   "outputs": [],
   "source": [
    "def min_sharpe(weights):\n",
    "    \n",
    "    weights = weights/np.sum(weights)\n",
    "    z_r=np.sum(np.dot(r_log,weights))\n",
    "    z_f=np.sqrt(np.dot(weights, np.dot(r_log.cov(), weights)))\n",
    "\n",
    "    return z_f/z_r#optimize是去最小值，所以这里用夏普率的倒数"
   ]
  },
  {
   "cell_type": "code",
   "execution_count": 87,
   "metadata": {},
   "outputs": [
    {
     "data": {
      "text/plain": [
       "-0.03660105693431829"
      ]
     },
     "execution_count": 87,
     "metadata": {},
     "output_type": "execute_result"
    }
   ],
   "source": [
    "min_sharpe(w0)"
   ]
  },
  {
   "cell_type": "code",
   "execution_count": 88,
   "metadata": {},
   "outputs": [
    {
     "data": {
      "text/plain": [
       "     fun: -0.6833928556353901\n",
       "     jac: array([-0.        ,  3.96703061, 17.89853101, 12.26254153,  6.69299625])\n",
       " message: 'Optimization terminated successfully'\n",
       "    nfev: 48\n",
       "     nit: 9\n",
       "    njev: 8\n",
       "  status: 0\n",
       " success: True\n",
       "       x: array([1.00000000e+00, 1.36657175e-13, 0.00000000e+00, 0.00000000e+00,\n",
       "       5.67766337e-14])"
      ]
     },
     "execution_count": 88,
     "metadata": {},
     "output_type": "execute_result"
    }
   ],
   "source": [
    "import scipy.optimize as sco\n",
    "\n",
    "noa=len(stock_set)\n",
    "#约束是所有参数(权重)的总和为1。这可以用minimize函数的约定表达如下\n",
    "cons = ({'type':'eq', 'fun':lambda x: np.sum(x)-1})\n",
    "\n",
    "#我们还将参数值(权重)限制在0和1之间。这些值以多个元组组成的一个元组形式提供给最小化函数\n",
    "bnds = tuple((0,1) for x in range(noa))\n",
    "\n",
    "#优化函数调用中忽略的唯一输入是起始参数列表(对权重的初始猜测)。我们简单的使用平均分布。\n",
    "opts = sco.minimize(min_sharpe, noa*[1./noa,], method = 'SLSQP', bounds = bnds, constraints = cons)\n",
    "\n",
    "opts"
   ]
  },
  {
   "cell_type": "code",
   "execution_count": 49,
   "metadata": {},
   "outputs": [],
   "source": [
    "w=np.array([1.00000000e+00, 1.36657175e-13, 0.00000000e+00, 0.00000000e+00,5.67766337e-14])"
   ]
  },
  {
   "cell_type": "code",
   "execution_count": 50,
   "metadata": {},
   "outputs": [
    {
     "data": {
      "text/plain": [
       "-0.025715702764494558"
      ]
     },
     "execution_count": 50,
     "metadata": {},
     "output_type": "execute_result"
    }
   ],
   "source": [
    "np.sum(np.dot(r_log.dropna(),w))"
   ]
  },
  {
   "cell_type": "code",
   "execution_count": 51,
   "metadata": {},
   "outputs": [
    {
     "data": {
      "text/plain": [
       "0.017573927546898845"
      ]
     },
     "execution_count": 51,
     "metadata": {},
     "output_type": "execute_result"
    }
   ],
   "source": [
    "np.sqrt(np.dot(w, np.dot(r_log.dropna().cov(), w)))"
   ]
  },
  {
   "cell_type": "code",
   "execution_count": 54,
   "metadata": {},
   "outputs": [
    {
     "data": {
      "text/plain": [
       "-1.4632871733349349"
      ]
     },
     "execution_count": 54,
     "metadata": {},
     "output_type": "execute_result"
    }
   ],
   "source": [
    "-0.025715702764494558/0.017573927546898845"
   ]
  },
  {
   "cell_type": "code",
   "execution_count": 55,
   "metadata": {},
   "outputs": [
    {
     "data": {
      "text/plain": [
       "-2.045160723932827"
      ]
     },
     "execution_count": 55,
     "metadata": {},
     "output_type": "execute_result"
    }
   ],
   "source": [
    "-0.025715702764494558/0.012573927546898845"
   ]
  },
  {
   "cell_type": "code",
   "execution_count": 70,
   "metadata": {},
   "outputs": [
    {
     "data": {
      "text/plain": [
       "['2233', '9990']"
      ]
     },
     "execution_count": 70,
     "metadata": {},
     "output_type": "execute_result"
    }
   ],
   "source": [
    "\"2233,9990\".split(\",\")"
   ]
  },
  {
   "cell_type": "markdown",
   "metadata": {},
   "source": [
    "## classwork 6\n",
    "\n",
    "* 在页面上实现选择不同的股票组合，显示最优夏普率的选择\n",
    "\n",
    "* 找一个组合收益为正的股票组合，看此时的最佳组合位置"
   ]
  },
  {
   "cell_type": "markdown",
   "metadata": {},
   "source": [
    "### classwork 6.1\n",
    "\n",
    "* 如果使用下行风险代替风险，看看散点图有何变化\n",
    "\n",
    "* 下行风险下的最优组合怎样计算？\n",
    "\n",
    "* 风险最低\n",
    "\n",
    "* 收益最优"
   ]
  },
  {
   "cell_type": "code",
   "execution_count": null,
   "metadata": {},
   "outputs": [],
   "source": [
    "# 组合投资的下行风险"
   ]
  },
  {
   "cell_type": "code",
   "execution_count": 44,
   "metadata": {},
   "outputs": [],
   "source": [
    "r_log=np.log(p0/p0.shift(1)).dropna()"
   ]
  },
  {
   "cell_type": "code",
   "execution_count": 45,
   "metadata": {},
   "outputs": [],
   "source": [
    "r_log_n=np.dot(r_log,weight)"
   ]
  },
  {
   "cell_type": "code",
   "execution_count": 52,
   "metadata": {},
   "outputs": [
    {
     "data": {
      "text/plain": [
       "0.009180972085122096"
      ]
     },
     "execution_count": 52,
     "metadata": {},
     "output_type": "execute_result"
    }
   ],
   "source": [
    "(((r_log_n[r_log_n<r_log_n.mean()]-r_log_n.mean())**2).sum()/len(r_log_n))**0.5"
   ]
  },
  {
   "cell_type": "code",
   "execution_count": 53,
   "metadata": {},
   "outputs": [
    {
     "data": {
      "text/plain": [
       "0.012721182140083113"
      ]
     },
     "execution_count": 53,
     "metadata": {},
     "output_type": "execute_result"
    }
   ],
   "source": [
    "r_log_n.std()"
   ]
  },
  {
   "cell_type": "code",
   "execution_count": 57,
   "metadata": {},
   "outputs": [],
   "source": [
    "def xiapu(w0):\n",
    "    w0=w0/np.sum(w0)\n",
    "    r_log_q=np.dot(r_log,w0)\n",
    "    #return (((r_log_q[r_log_q<r_log_q.mean()]-r_log_q.mean())**2).sum()/len(r_log_q))**0.5/r_log_q.sum()\n",
    "    return (((r_log_q[r_log_q<r_log_q.mean()]-r_log_q.mean())**2).sum()/len(r_log_q))**0.5"
   ]
  },
  {
   "cell_type": "code",
   "execution_count": 58,
   "metadata": {},
   "outputs": [
    {
     "data": {
      "text/plain": [
       "     fun: 0.008455915347970811\n",
       "     jac: array([ 1.84678473e-04, -6.08382979e-05,  1.92591455e-04, -3.21958214e-06,\n",
       "       -3.21097672e-04])\n",
       " message: 'Optimization terminated successfully'\n",
       "    nfev: 54\n",
       "     nit: 9\n",
       "    njev: 9\n",
       "  status: 0\n",
       " success: True\n",
       "       x: array([0.38144102, 0.14092233, 0.12607768, 0.08409782, 0.26746114])"
      ]
     },
     "execution_count": 58,
     "metadata": {},
     "output_type": "execute_result"
    }
   ],
   "source": [
    "import scipy.optimize as sco\n",
    "\n",
    "noa=len(stock_set)\n",
    "#约束是所有参数(权重)的总和为1。这可以用minimize函数的约定表达如下\n",
    "cons = ({'type':'eq', 'fun':lambda x: np.sum(x)-1})\n",
    "\n",
    "#我们还将参数值(权重)限制在0和1之间。这些值以多个元组组成的一个元组形式提供给最小化函数\n",
    "bnds = tuple((0,1) for x in range(noa))\n",
    "\n",
    "#优化函数调用中忽略的唯一输入是起始参数列表(对权重的初始猜测)。我们简单的使用平均分布。\n",
    "opts = sco.minimize(xiapu, noa*[1./noa,], method = 'SLSQP', bounds = bnds, constraints = cons)\n",
    "\n",
    "opts"
   ]
  },
  {
   "cell_type": "code",
   "execution_count": 59,
   "metadata": {},
   "outputs": [
    {
     "data": {
      "text/plain": [
       "array([0.38144102, 0.14092233, 0.12607768, 0.08409782, 0.26746114])"
      ]
     },
     "execution_count": 59,
     "metadata": {},
     "output_type": "execute_result"
    }
   ],
   "source": [
    "opts.x"
   ]
  },
  {
   "cell_type": "code",
   "execution_count": 60,
   "metadata": {},
   "outputs": [],
   "source": [
    "w=opts.x"
   ]
  },
  {
   "cell_type": "code",
   "execution_count": 62,
   "metadata": {},
   "outputs": [],
   "source": [
    "r_log_q0=np.dot(r_log,w)"
   ]
  },
  {
   "cell_type": "code",
   "execution_count": 64,
   "metadata": {},
   "outputs": [
    {
     "data": {
      "text/plain": [
       "-0.2242007864140474"
      ]
     },
     "execution_count": 64,
     "metadata": {},
     "output_type": "execute_result"
    }
   ],
   "source": [
    "r_log_q0.sum()"
   ]
  },
  {
   "cell_type": "code",
   "execution_count": 65,
   "metadata": {},
   "outputs": [
    {
     "data": {
      "text/plain": [
       "0.00845591534797081"
      ]
     },
     "execution_count": 65,
     "metadata": {},
     "output_type": "execute_result"
    }
   ],
   "source": [
    "(((r_log_q0[r_log_q0<r_log_q0.mean()]-r_log_q0.mean())**2).sum()/len(r_log_q0))**0.5"
   ]
  },
  {
   "cell_type": "code",
   "execution_count": 66,
   "metadata": {},
   "outputs": [],
   "source": [
    "x=[]\n",
    "y=[]\n",
    "for i in range(1000):\n",
    "    w0=np.random.random(len(stock_set))\n",
    "    w0=w0/np.sum(w0)\n",
    "    r_log_q=np.dot(r_log,w0)\n",
    "    x.append((((r_log_q[r_log_q<r_log_q.mean()]-r_log_q.mean())**2).sum()/len(r_log_q))**0.5)\n",
    "    y.append(r_log_q.sum())"
   ]
  },
  {
   "cell_type": "code",
   "execution_count": 69,
   "metadata": {},
   "outputs": [
    {
     "data": {
      "text/plain": [
       "[<matplotlib.lines.Line2D at 0x282e1bf4d00>]"
      ]
     },
     "execution_count": 69,
     "metadata": {},
     "output_type": "execute_result"
    },
    {
     "data": {
      "image/png": "[encoded data removed]",
      "text/plain": [
       "<Figure size 432x288 with 1 Axes>"
      ]
     },
     "metadata": {
      "needs_background": "light"
     },
     "output_type": "display_data"
    }
   ],
   "source": [
    "plt.plot(x,y,\"o\")\n",
    "plt.plot([0.00845591534797081],[-0.2242007864140474],\"o\")"
   ]
  },
  {
   "cell_type": "markdown",
   "metadata": {},
   "source": [
    "## CAPM\n",
    "\n",
    "https://zhuanlan.zhihu.com/p/366322544\n",
    "\n",
    "在20世纪60年代，三位学者Sharpe（1964），Lintner（1965），Mossin（1966）在Markowitz模型框架下不约而同推导除了奠定现代投资学的经典模型：资本资产定价模型（Capital asset pricing model，CAPM）。三位学者经过严格的推导都得出以下结论：对于任意的资产组合，其收益率 满足以下关系式：\n",
    "\n",
    "$$ E(R_q)-R_f=\\beta_{qm}[E(R_m)-R_f] $$\n",
    "\n",
    "该公式被称为传统的CAPM应模型，其中：Rm是市场投资组合之收益率，该组合是市场上所有风险资产的组合，包括股票等金融资产，也包括黄金等实物资产，在现实中构建这样的投资组合时不大可能实现的，因此在实务中常常以大盘指数来替代市场投资组合，根据大盘指数计算出来的收益率被看做Rm\n",
    "\n",
    "$$ \\beta_{qm}=\\frac{\\sigma(R_q,R_m)}{\\sigma^2(R_m)} $$\n",
    "为投资组合q的beta值，其中分母为资产组合收益率与市场投资组合收益率的协方差， \n",
    "分子为市场投资组合的方差，beta贝塔值反映出资产组合q的系统性风险；如果拟采用大盘指数来计算Rm，那么系统性风险那就是大盘的涨跌。\n",
    "\n",
    "\n",
    "E(R_q)-R_f为风险投资组合q比无风险利率高出的期望收益率，高出来的部分是因为投资人在持有风险组合q时，承担了更多的风险，因此E(R_q)-R_f被称为风险溢价（Risk Premium）。\n",
    "\n",
    "CAPM中的投资组合q可以是任意投资组合，也可以是单只股票，单只股票我们用小写i表示，那么就可以得到单只股票的CAPM公式\n",
    "$$ E(R_q)=R_f+\\beta_{qm}[E(R_m)-R_f] $$\n",
    "\n",
    "\n",
    "其中的$\\beta_{qm}$可以反映出单个资产的系统风险水平，若等于1，则资产i的价格和市场投资组合的价格波动性是一样的。如果小于1，则资产i的价格波动程度小于市场投资组合的；若大于1，则资产i的波动性更大。值为正就说明资产i的价格和市场投资组合价格变动同方向，反之则相反变动。\n",
    "\n",
    "CAPM模型说明，单只股票的期望收益是无风险收益加上系统性风险溢价，非系统性风险可以通过分散化投资消除，所以没有对应的风险溢价。\n",
    "\n",
    "\n",
    "\n",
    "CAPM公式中个股和大盘的收益率都是期望值，Jenson（1968）在研究共同基金表现时将CAPM模型写成如下形式：\n",
    "\n",
    "$$ E(R_{it})-R_{ft}=\\alpha_i+\\beta_{i}[E(R_{mt})-R_{ft}]+\\varepsilon_{it} $$\n",
    "\n",
    "进行实证分析，$ R_{it},R_{ft},R_{mt}$\n",
    " 对应的是个股i、无风险资产（通常是银行存款、国债）、市场指数（大盘指数）的收益率之时间序列资料，对这些资料进行线性回归分析，得到未知参数alpha和beta的估计值 \n",
    " 。式子中的alpha是由Jenson引入的，所以又被称为Jenson's Alpha。根据CAPM模型之假设， \n",
    " $ R_{it}$是服从正态分布的随机数，这样就可以判断 alpha和beta\n",
    " 之统计显著性。 \n",
    " 可以解释个股过去的收益率与风险之间的关系， \n",
    " 表示收益率胜过大盘的部分，通常也用来衡量基金经理的绩效。现在所有的投资者在做的事情都可以用一句话来概括，就是试图运用各种方法创造显著的正阿尔法。这些方法包括：基本面分析，消息面分析，技术面分析和阿尔法策略。\n",
    "\n",
    "阿尔法策略的重点在于通过构建投资组合对冲掉系统风险，锁定alpha超额收益。若在有卖空机制的市场，对冲投资组合比较好构建。首先明确整个投资组合的资金，然后确定出具有较高alpha收益的、需要最多的证券组合和具有市场指数特征、用来对冲掉系统风险的、需要做空的证券组合，其次分配好资金的比重，最终获得稳定的Alpha收益率。另外也可以用证券和股指期货结合进行操作，比如投资者预测出未来会跑赢大盘的证券，则可以在证券市场将其买入，同时在期货市场卖空股指期货合约，以对冲系统性风险，这样市场的涨跌不会影响到投资组合的收益率。"
   ]
  },
  {
   "cell_type": "markdown",
   "metadata": {},
   "source": [
    "### classwork 7\n",
    "\n",
    "* 获取数据SHSE.000902（中证流通指数）与SHSE.600596（新安股份）的数据在2014-01-01到2014-12-31之间的数据\n",
    "\n",
    "* 由于数据缺失，通过pd.merge基于时间连接数据，并计算对应的Rq Rm Rf，然后做出Rm-Rf 与Rq-Rf的散点图，另外无风险利率为一年期的国债利率，其年化为3.6%\n",
    "\n",
    "* 通过sm.OLS函数进行线性拟合，并画出拟合结果"
   ]
  },
  {
   "cell_type": "markdown",
   "metadata": {},
   "source": [
    "### akshare 指数历史行情数据\n",
    "https://zhuanlan.zhihu.com/p/609079456\n",
    "\n",
    "接口: index_zh_a_hist\n",
    "\n",
    "目标地址: http://quote.eastmoney.com/center/hszs.html\n",
    "\n",
    "描述: 东方财富网-中国股票指数-行情数据\n",
    "\n",
    "限量: 单次返回具体指数指定 period 从 start_date 到 end_date 的之间的近期数据\n",
    "\n",
    "输入参数\n",
    "\n",
    "名称\t类型\t描述\n",
    "\n",
    "symbol\tstr\tsymbol=\"399282\"; 指数代码，此处不用市场标识\n",
    "\n",
    "period\tstr\tperiod=\"daily\"; choice of {'daily', 'weekly', 'monthly'}\n",
    "\n",
    "start_date\tstr\tstart_date=\"19700101\"; 开始日期\n",
    "\n",
    "end_date\tstr\tend_date=\"22220101\"; 结束时间"
   ]
  },
  {
   "cell_type": "code",
   "execution_count": 73,
   "metadata": {},
   "outputs": [],
   "source": [
    "index_zh = ak.index_zh_a_hist(symbol=\"000902\", period=\"daily\", start_date=\"20140101\", \n",
    "                                        end_date='20141231')[[\"日期\",\"收盘\"]]"
   ]
  },
  {
   "cell_type": "code",
   "execution_count": 75,
   "metadata": {},
   "outputs": [],
   "source": [
    "stock_xinan = ak.stock_zh_a_hist(symbol=\"600596\", period=\"daily\", start_date=\"20140101\", end_date='20141231', adjust=\"\")[[\"日期\",\"收盘\"]]"
   ]
  },
  {
   "cell_type": "code",
   "execution_count": 77,
   "metadata": {},
   "outputs": [],
   "source": [
    "zh_xinan=pd.merge(index_zh,stock_xinan,on=\"日期\",how=\"left\").fillna(method=\"ffill\")"
   ]
  },
  {
   "cell_type": "code",
   "execution_count": 79,
   "metadata": {},
   "outputs": [],
   "source": [
    "zh_xinan.columns=[\"date\",\"index_zh\",\"stock_xinan\"]"
   ]
  },
  {
   "cell_type": "code",
   "execution_count": 83,
   "metadata": {},
   "outputs": [],
   "source": [
    "Rf=(0.036+1)**(1/365)-1"
   ]
  },
  {
   "cell_type": "code",
   "execution_count": null,
   "metadata": {},
   "outputs": [],
   "source": []
  },
  {
   "cell_type": "code",
   "execution_count": 89,
   "metadata": {},
   "outputs": [],
   "source": [
    "Rq=(zh_xinan[\"stock_xinan\"]/zh_xinan[\"stock_xinan\"].shift(1)-1).dropna()"
   ]
  },
  {
   "cell_type": "code",
   "execution_count": 90,
   "metadata": {},
   "outputs": [],
   "source": [
    "Rm=(zh_xinan[\"index_zh\"]/zh_xinan[\"index_zh\"].shift(1)-1).dropna()"
   ]
  },
  {
   "cell_type": "code",
   "execution_count": 91,
   "metadata": {},
   "outputs": [
    {
     "data": {
      "text/plain": [
       "[<matplotlib.lines.Line2D at 0x282e206f790>]"
      ]
     },
     "execution_count": 91,
     "metadata": {},
     "output_type": "execute_result"
    },
    {
     "data": {
      "image/png": "[encoded data removed]",
      "text/plain": [
       "<Figure size 432x288 with 1 Axes>"
      ]
     },
     "metadata": {
      "needs_background": "light"
     },
     "output_type": "display_data"
    }
   ],
   "source": [
    "plt.plot(Rm-Rf,Rq-Rf,\"o\")"
   ]
  },
  {
   "cell_type": "code",
   "execution_count": 93,
   "metadata": {},
   "outputs": [
    {
     "data": {
      "text/html": [
       "<table class=\"simpletable\">\n",
       "<caption>OLS Regression Results</caption>\n",
       "<tr>\n",
       "  <th>Dep. Variable:</th>       <td>stock_xinan</td>   <th>  R-squared:         </th> <td>   0.241</td>\n",
       "</tr>\n",
       "<tr>\n",
       "  <th>Model:</th>                   <td>OLS</td>       <th>  Adj. R-squared:    </th> <td>   0.238</td>\n",
       "</tr>\n",
       "<tr>\n",
       "  <th>Method:</th>             <td>Least Squares</td>  <th>  F-statistic:       </th> <td>   76.79</td>\n",
       "</tr>\n",
       "<tr>\n",
       "  <th>Date:</th>             <td>Thu, 23 Mar 2023</td> <th>  Prob (F-statistic):</th> <td>3.39e-16</td>\n",
       "</tr>\n",
       "<tr>\n",
       "  <th>Time:</th>                 <td>11:33:09</td>     <th>  Log-Likelihood:    </th> <td>  581.51</td>\n",
       "</tr>\n",
       "<tr>\n",
       "  <th>No. Observations:</th>      <td>   244</td>      <th>  AIC:               </th> <td>  -1159.</td>\n",
       "</tr>\n",
       "<tr>\n",
       "  <th>Df Residuals:</th>          <td>   242</td>      <th>  BIC:               </th> <td>  -1152.</td>\n",
       "</tr>\n",
       "<tr>\n",
       "  <th>Df Model:</th>              <td>     1</td>      <th>                     </th>     <td> </td>   \n",
       "</tr>\n",
       "<tr>\n",
       "  <th>Covariance Type:</th>      <td>nonrobust</td>    <th>                     </th>     <td> </td>   \n",
       "</tr>\n",
       "</table>\n",
       "<table class=\"simpletable\">\n",
       "<tr>\n",
       "      <td></td>        <th>coef</th>     <th>std err</th>      <th>t</th>      <th>P>|t|</th>  <th>[0.025</th>    <th>0.975]</th>  \n",
       "</tr>\n",
       "<tr>\n",
       "  <th>const</th>    <td>   -0.0017</td> <td>    0.001</td> <td>   -1.165</td> <td> 0.245</td> <td>   -0.005</td> <td>    0.001</td>\n",
       "</tr>\n",
       "<tr>\n",
       "  <th>index_zh</th> <td>    1.1296</td> <td>    0.129</td> <td>    8.763</td> <td> 0.000</td> <td>    0.876</td> <td>    1.384</td>\n",
       "</tr>\n",
       "</table>\n",
       "<table class=\"simpletable\">\n",
       "<tr>\n",
       "  <th>Omnibus:</th>       <td>47.786</td> <th>  Durbin-Watson:     </th> <td>   1.992</td>\n",
       "</tr>\n",
       "<tr>\n",
       "  <th>Prob(Omnibus):</th> <td> 0.000</td> <th>  Jarque-Bera (JB):  </th> <td> 222.562</td>\n",
       "</tr>\n",
       "<tr>\n",
       "  <th>Skew:</th>          <td> 0.663</td> <th>  Prob(JB):          </th> <td>4.69e-49</td>\n",
       "</tr>\n",
       "<tr>\n",
       "  <th>Kurtosis:</th>      <td> 7.487</td> <th>  Cond. No.          </th> <td>    89.8</td>\n",
       "</tr>\n",
       "</table><br/><br/>Notes:<br/>[1] Standard Errors assume that the covariance matrix of the errors is correctly specified."
      ],
      "text/plain": [
       "<class 'statsmodels.iolib.summary.Summary'>\n",
       "\"\"\"\n",
       "                            OLS Regression Results                            \n",
       "==============================================================================\n",
       "Dep. Variable:            stock_xinan   R-squared:                       0.241\n",
       "Model:                            OLS   Adj. R-squared:                  0.238\n",
       "Method:                 Least Squares   F-statistic:                     76.79\n",
       "Date:                Thu, 23 Mar 2023   Prob (F-statistic):           3.39e-16\n",
       "Time:                        11:33:09   Log-Likelihood:                 581.51\n",
       "No. Observations:                 244   AIC:                            -1159.\n",
       "Df Residuals:                     242   BIC:                            -1152.\n",
       "Df Model:                           1                                         \n",
       "Covariance Type:            nonrobust                                         \n",
       "==============================================================================\n",
       "                 coef    std err          t      P>|t|      [0.025      0.975]\n",
       "------------------------------------------------------------------------------\n",
       "const         -0.0017      0.001     -1.165      0.245      -0.005       0.001\n",
       "index_zh       1.1296      0.129      8.763      0.000       0.876       1.384\n",
       "==============================================================================\n",
       "Omnibus:                       47.786   Durbin-Watson:                   1.992\n",
       "Prob(Omnibus):                  0.000   Jarque-Bera (JB):              222.562\n",
       "Skew:                           0.663   Prob(JB):                     4.69e-49\n",
       "Kurtosis:                       7.487   Cond. No.                         89.8\n",
       "==============================================================================\n",
       "\n",
       "Notes:\n",
       "[1] Standard Errors assume that the covariance matrix of the errors is correctly specified.\n",
       "\"\"\""
      ]
     },
     "execution_count": 93,
     "metadata": {},
     "output_type": "execute_result"
    }
   ],
   "source": [
    "model = sm.OLS((Rq-Rf), sm.add_constant(Rm-Rf))\n",
    "result = model.fit()\n",
    "result.summary()"
   ]
  },
  {
   "cell_type": "code",
   "execution_count": null,
   "metadata": {},
   "outputs": [],
   "source": [
    "-0.0017+1.1296*x"
   ]
  },
  {
   "cell_type": "code",
   "execution_count": 101,
   "metadata": {},
   "outputs": [],
   "source": [
    "x1=np.arange(-0.04,0.03,0.005)\n",
    "y1=-0.0017+1.1296*x1"
   ]
  },
  {
   "cell_type": "code",
   "execution_count": 102,
   "metadata": {},
   "outputs": [
    {
     "data": {
      "text/plain": [
       "[<matplotlib.lines.Line2D at 0x282e4521730>]"
      ]
     },
     "execution_count": 102,
     "metadata": {},
     "output_type": "execute_result"
    },
    {
     "data": {
      "image/png": "[encoded data removed]",
      "text/plain": [
       "<Figure size 432x288 with 1 Axes>"
      ]
     },
     "metadata": {
      "needs_background": "light"
     },
     "output_type": "display_data"
    }
   ],
   "source": [
    "plt.plot(Rm-Rf,Rq-Rf,\"o\")\n",
    "plt.plot(x1,y1,\"-\")"
   ]
  },
  {
   "cell_type": "code",
   "execution_count": 77,
   "metadata": {},
   "outputs": [],
   "source": [
    "zh_xinan=pd.merge(index_zh,stock_xinan,on=\"日期\",how=\"left\").fillna(method=\"ffill\")"
   ]
  },
  {
   "cell_type": "code",
   "execution_count": 78,
   "metadata": {},
   "outputs": [],
   "source": [
    "zh_xinan.columns=[\"date\",\"zhongz\",\"xinan\"]"
   ]
  },
  {
   "cell_type": "code",
   "execution_count": 39,
   "metadata": {},
   "outputs": [],
   "source": [
    "import matplotlib.pyplot as plt "
   ]
  },
  {
   "cell_type": "code",
   "execution_count": 81,
   "metadata": {},
   "outputs": [
    {
     "data": {
      "text/plain": [
       "[<matplotlib.lines.Line2D at 0x1e13239e790>]"
      ]
     },
     "execution_count": 81,
     "metadata": {},
     "output_type": "execute_result"
    },
    {
     "data": {
      "image/png": "[encoded data removed]",
      "text/plain": [
       "<Figure size 432x288 with 1 Axes>"
      ]
     },
     "metadata": {
      "needs_background": "light"
     },
     "output_type": "display_data"
    }
   ],
   "source": [
    "plt.plot(Rm,Rq,\"o\")"
   ]
  },
  {
   "cell_type": "code",
   "execution_count": 92,
   "metadata": {},
   "outputs": [],
   "source": [
    "import statsmodels.api as sm"
   ]
  },
  {
   "cell_type": "code",
   "execution_count": 82,
   "metadata": {},
   "outputs": [
    {
     "data": {
      "text/html": [
       "<table class=\"simpletable\">\n",
       "<caption>OLS Regression Results</caption>\n",
       "<tr>\n",
       "  <th>Dep. Variable:</th>          <td>xinan</td>      <th>  R-squared:         </th> <td>   0.241</td>\n",
       "</tr>\n",
       "<tr>\n",
       "  <th>Model:</th>                   <td>OLS</td>       <th>  Adj. R-squared:    </th> <td>   0.238</td>\n",
       "</tr>\n",
       "<tr>\n",
       "  <th>Method:</th>             <td>Least Squares</td>  <th>  F-statistic:       </th> <td>   76.82</td>\n",
       "</tr>\n",
       "<tr>\n",
       "  <th>Date:</th>             <td>Wed, 22 Mar 2023</td> <th>  Prob (F-statistic):</th> <td>3.36e-16</td>\n",
       "</tr>\n",
       "<tr>\n",
       "  <th>Time:</th>                 <td>22:04:15</td>     <th>  Log-Likelihood:    </th> <td>  623.10</td>\n",
       "</tr>\n",
       "<tr>\n",
       "  <th>No. Observations:</th>      <td>   244</td>      <th>  AIC:               </th> <td>  -1242.</td>\n",
       "</tr>\n",
       "<tr>\n",
       "  <th>Df Residuals:</th>          <td>   242</td>      <th>  BIC:               </th> <td>  -1235.</td>\n",
       "</tr>\n",
       "<tr>\n",
       "  <th>Df Model:</th>              <td>     1</td>      <th>                     </th>     <td> </td>   \n",
       "</tr>\n",
       "<tr>\n",
       "  <th>Covariance Type:</th>      <td>nonrobust</td>    <th>                     </th>     <td> </td>   \n",
       "</tr>\n",
       "</table>\n",
       "<table class=\"simpletable\">\n",
       "<tr>\n",
       "     <td></td>       <th>coef</th>     <th>std err</th>      <th>t</th>      <th>P>|t|</th>  <th>[0.025</th>    <th>0.975]</th>  \n",
       "</tr>\n",
       "<tr>\n",
       "  <th>const</th>  <td>   -0.0014</td> <td>    0.001</td> <td>   -1.161</td> <td> 0.247</td> <td>   -0.004</td> <td>    0.001</td>\n",
       "</tr>\n",
       "<tr>\n",
       "  <th>zhongz</th> <td>    0.9527</td> <td>    0.109</td> <td>    8.765</td> <td> 0.000</td> <td>    0.739</td> <td>    1.167</td>\n",
       "</tr>\n",
       "</table>\n",
       "<table class=\"simpletable\">\n",
       "<tr>\n",
       "  <th>Omnibus:</th>       <td>47.677</td> <th>  Durbin-Watson:     </th> <td>   1.989</td>\n",
       "</tr>\n",
       "<tr>\n",
       "  <th>Prob(Omnibus):</th> <td> 0.000</td> <th>  Jarque-Bera (JB):  </th> <td> 231.048</td>\n",
       "</tr>\n",
       "<tr>\n",
       "  <th>Skew:</th>          <td> 0.646</td> <th>  Prob(JB):          </th> <td>6.74e-51</td>\n",
       "</tr>\n",
       "<tr>\n",
       "  <th>Kurtosis:</th>      <td> 7.589</td> <th>  Cond. No.          </th> <td>    89.8</td>\n",
       "</tr>\n",
       "</table><br/><br/>Notes:<br/>[1] Standard Errors assume that the covariance matrix of the errors is correctly specified."
      ],
      "text/plain": [
       "<class 'statsmodels.iolib.summary.Summary'>\n",
       "\"\"\"\n",
       "                            OLS Regression Results                            \n",
       "==============================================================================\n",
       "Dep. Variable:                  xinan   R-squared:                       0.241\n",
       "Model:                            OLS   Adj. R-squared:                  0.238\n",
       "Method:                 Least Squares   F-statistic:                     76.82\n",
       "Date:                Wed, 22 Mar 2023   Prob (F-statistic):           3.36e-16\n",
       "Time:                        22:04:15   Log-Likelihood:                 623.10\n",
       "No. Observations:                 244   AIC:                            -1242.\n",
       "Df Residuals:                     242   BIC:                            -1235.\n",
       "Df Model:                           1                                         \n",
       "Covariance Type:            nonrobust                                         \n",
       "==============================================================================\n",
       "                 coef    std err          t      P>|t|      [0.025      0.975]\n",
       "------------------------------------------------------------------------------\n",
       "const         -0.0014      0.001     -1.161      0.247      -0.004       0.001\n",
       "zhongz         0.9527      0.109      8.765      0.000       0.739       1.167\n",
       "==============================================================================\n",
       "Omnibus:                       47.677   Durbin-Watson:                   1.989\n",
       "Prob(Omnibus):                  0.000   Jarque-Bera (JB):              231.048\n",
       "Skew:                           0.646   Prob(JB):                     6.74e-51\n",
       "Kurtosis:                       7.589   Cond. No.                         89.8\n",
       "==============================================================================\n",
       "\n",
       "Notes:\n",
       "[1] Standard Errors assume that the covariance matrix of the errors is correctly specified.\n",
       "\"\"\""
      ]
     },
     "execution_count": 82,
     "metadata": {},
     "output_type": "execute_result"
    }
   ],
   "source": [
    "model = sm.OLS((Rq-Rf), sm.add_constant(Rm-Rf))\n",
    "result = model.fit()\n",
    "result.summary()"
   ]
  },
  {
   "cell_type": "code",
   "execution_count": 83,
   "metadata": {},
   "outputs": [],
   "source": [
    "x=np.arange(-0.04,0.035,0.005)\n",
    "y=-0.0014+0.9527*x"
   ]
  },
  {
   "cell_type": "code",
   "execution_count": 84,
   "metadata": {},
   "outputs": [
    {
     "data": {
      "text/plain": [
       "[<matplotlib.lines.Line2D at 0x1e131fb4c40>]"
      ]
     },
     "execution_count": 84,
     "metadata": {},
     "output_type": "execute_result"
    },
    {
     "data": {
      "image/png": "[encoded data removed]",
      "text/plain": [
       "<Figure size 432x288 with 1 Axes>"
      ]
     },
     "metadata": {
      "needs_background": "light"
     },
     "output_type": "display_data"
    }
   ],
   "source": [
    "plt.plot(Rm,Rq,\"o\")\n",
    "plt.plot(x,y,\"-\")"
   ]
  },
  {
   "cell_type": "code",
   "execution_count": 79,
   "metadata": {},
   "outputs": [],
   "source": [
    "#ak.stock_zh_index_daily(symbol=\"sz399552\")"
   ]
  },
  {
   "cell_type": "markdown",
   "metadata": {},
   "source": [
    "## 怎样看待这些投资理论"
   ]
  }
 ],
 "metadata": {
  "kernelspec": {
   "display_name": "Python 3 (ipykernel)",
   "language": "python",
   "name": "python3"
  },
  "language_info": {
   "codemirror_mode": {
    "name": "ipython",
    "version": 3
   },
   "file_extension": ".py",
   "mimetype": "text/x-python",
   "name": "python",
   "nbconvert_exporter": "python",
   "pygments_lexer": "ipython3",
   "version": "3.9.12"
  },
  "toc": {
   "base_numbering": 1,
   "nav_menu": {},
   "number_sections": true,
   "sideBar": true,
   "skip_h1_title": false,
   "title_cell": "Table of Contents",
   "title_sidebar": "Contents",
   "toc_cell": false,
   "toc_position": {
    "height": "calc(100% - 180px)",
    "left": "10px",
    "top": "150px",
    "width": "245.76px"
   },
   "toc_section_display": true,
   "toc_window_display": true
  }
 },
 "nbformat": 4,
 "nbformat_minor": 4
}
