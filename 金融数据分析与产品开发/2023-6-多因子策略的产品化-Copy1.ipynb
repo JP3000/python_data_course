{
 "cells": [
  {
   "cell_type": "markdown",
   "id": "6718ac9c",
   "metadata": {},
   "source": [
    "# 因子策略的产品化\n",
    "\n",
    "\n",
    "## 在streamlit页面上运行backtrader策略，实现运行结果屏幕输出与作图\n",
    "\n",
    "\n",
    "\n"
   ]
  },
  {
   "cell_type": "code",
   "execution_count": null,
   "id": "0ff6a139",
   "metadata": {},
   "outputs": [],
   "source": []
  },
  {
   "cell_type": "markdown",
   "id": "ddde496d",
   "metadata": {},
   "source": [
    "## 有个表单选择在streamlit上运行可定制的单因子策略"
   ]
  },
  {
   "cell_type": "code",
   "execution_count": null,
   "id": "f74af511",
   "metadata": {},
   "outputs": [],
   "source": []
  },
  {
   "cell_type": "markdown",
   "id": "a218f25f",
   "metadata": {},
   "source": [
    "## 在streamlit上实现可定制多的因子策略"
   ]
  },
  {
   "cell_type": "code",
   "execution_count": null,
   "id": "2d4b19b5",
   "metadata": {},
   "outputs": [],
   "source": []
  },
  {
   "cell_type": "code",
   "execution_count": null,
   "id": "b5ae43d7",
   "metadata": {},
   "outputs": [],
   "source": []
  }
 ],
 "metadata": {
  "kernelspec": {
   "display_name": "Python 3 (ipykernel)",
   "language": "python",
   "name": "python3"
  },
  "language_info": {
   "codemirror_mode": {
    "name": "ipython",
    "version": 3
   },
   "file_extension": ".py",
   "mimetype": "text/x-python",
   "name": "python",
   "nbconvert_exporter": "python",
   "pygments_lexer": "ipython3",
   "version": "3.9.12"
  },
  "toc": {
   "base_numbering": 1,
   "nav_menu": {},
   "number_sections": true,
   "sideBar": true,
   "skip_h1_title": false,
   "title_cell": "Table of Contents",
   "title_sidebar": "Contents",
   "toc_cell": false,
   "toc_position": {},
   "toc_section_display": true,
   "toc_window_display": false
  }
 },
 "nbformat": 4,
 "nbformat_minor": 5
}
