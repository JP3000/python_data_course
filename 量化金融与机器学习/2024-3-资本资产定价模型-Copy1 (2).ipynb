{
 "cells": [
  {
   "cell_type": "markdown",
   "metadata": {},
   "source": [
    "# 资本资产定价模型\n",
    "\n",
    "资产定价模型（Asset Pricing Models）主要是用来计算资产（如股票、债券或其他投资工具）的预期收益率或者说是必要的收益率（Required Return）。在金融市场中，投资者根据资产的风险和预期收益来决定他们愿意支付的价格。\n",
    "\n",
    "资产定价模型的目标是计算资产的预期收益率,主要有以下几个重要原因:\n",
    "\n",
    "1. 投资决策依据\n",
    "\n",
    "投资者在做出投资决策时,需要对资产的潜在收益有一个合理的预期,作为参考依据。计算出资产的预期收益率,可以与其当前价格相比较,判断是高估或低估,从而做出买入、持有或卖出的决策。\n",
    "\n",
    "2. 机会成本参考\n",
    "\n",
    "投资者在权衡不同资产时,需要将其预期收益与其他备选投资的预期收益率相比较。资产的预期收益率就是这种机会成本的一个重要参考。\n",
    "\n",
    "3. 定价合理性评估\n",
    "\n",
    "通过计算出资产的理论预期收益率,可以将其与市场实际收益率进行对比,评估资产是否被正确定价,从而发现被高估或低估的投资标的。\n",
    "\n",
    "4. 成本资本估计\n",
    "\n",
    "企业需要估计资本的预期收益率,作为评估投资项目、并购等决策时所需的折现率(成本资本)参考。\n",
    "\n",
    "5. 风险与收益匹配\n",
    "\n",
    "资产定价模型通过估计资产对应的风险暴露程度,从而计算出合理的预期收益率,体现了风险收益匹配的原则。\n",
    "\n",
    "6. 绩效评估基准\n",
    "\n",
    "将实际投资组合的收益率与其理论预期收益率对比,可以评估基金经理的选股能力和投资组合的相对表现。\n",
    "\n",
    "总的来说,资产的预期收益率是投资决策、资产定价、资本成本和绩效评估等诸多金融决策的重要参考和出发点。因此,资产定价模型旨在为不同资产合理、精准地预计其预期收益率,是资产定价理论的核心目标。"
   ]
  },
  {
   "cell_type": "markdown",
   "metadata": {},
   "source": [
    "## CAPM\n",
    "\n",
    "在20世纪60年代，三位学者Sharpe（1964），Lintner（1965），Mossin（1966）在Markowitz模型框架下不约而同推导除了奠定现代投资学的经典模型：资本资产定价模型（Capital asset pricing model，CAPM）。三位学者经过严格的推导都得出以下结论：对于任意的资产组合，其收益率 满足以下关系式：\n",
    "\n",
    "$$ E(R_q)-R_f=\\beta_{qm}[E(R_m)-R_f] $$\n",
    "\n",
    "该公式被称为传统的CAPM应模型，\n",
    "其中:\n",
    "- $E(R_q)$ 是证券q的预期收益率\n",
    "- $R_f$ 是无风险利率\n",
    "- $\\beta_{qm}$ 是证券q的系统风险系数,反映其对市场投资组合的敏感程度\n",
    "$$ \\beta_{qm}=\\frac{\\sigma(R_q,R_m)}{\\sigma^2(R_m)} $$\n",
    "为投资组合q的beta值，其中分母为资产组合收益率与市场投资组合收益率的协方差， \n",
    "分子为市场投资组合的方差，beta贝塔值反映出资产组合q的系统性风险；如果拟采用大盘指数来计算Rm，那么系统性风险那就是大盘的涨跌。\n",
    "- $E(R_m)$ 是市场投资组合的预期收益率，该组合是市场上所有风险资产的组合，包括股票等金融资产，也包括黄金等实物资产，在现实中构建这样的投资组合时不大可能实现的，因此在实务中常常以大盘指数来替代市场投资组合，\n",
    "- $[E(R_m) - R_f]$ 是市场风险溢酬，为风险投资组合q比无风险利率高出的期望收益率，高出来的部分是因为投资人在持有风险组合q时，承担了更多的风险\n",
    "\n",
    "CAPM中的投资组合q可以是任意投资组合，也可以是单只股票，单只股票我们用小写i表示，那么就可以得到单只股票的CAPM公式\n",
    "$$ E(R_q)=R_f+\\beta_{qm}[E(R_m)-R_f] $$\n",
    "\n",
    "\n",
    "其中的$\\beta_{qm}$可以反映出单个资产的系统风险水平，若等于1，则资产i的价格和市场投资组合的价格波动性是一样的。如果小于1，则资产i的价格波动程度小于市场投资组合的；若大于1，则资产i的波动性更大。值为正就说明资产i的价格和市场投资组合价格变动同方向，反之则相反变动。\n",
    "\n",
    "CAPM模型说明，单只股票的期望收益是无风险收益加上系统性风险溢价，非系统性风险可以通过分散化投资消除，所以没有对应的风险溢价。\n",
    "\n",
    "* CAPM背后的核心思想是平衡风险和收益。\n",
    "具体来说:\n",
    "\n",
    "1. 投资者追求高收益,但也规避风险。CAPM认为,投资者只关注投资组合整体的预期收益和风险(标准差)。\n",
    "\n",
    "2. 存在风险溢酬率。无风险投资只能获得无风险利率,如果投资者承担了额外的系统风险(不可分散风险),就应该获得相应的风险补偿,即风险溢酬率。\n",
    "\n",
    "3. 只有系统风险才应获得补偿。通过分散投资可以消除非系统风险,因此CAPM认为,只有无法通过分散化而规避的系统风险(β值),才应该获得风险溢酬作为补偿。\n",
    "\n",
    "4. 高风险对应高收益。承担较高的系统风险(β值较大),应该获得较高的预期收益率,以补偿所承担的高风险。\n",
    "\n",
    "5. 证券市场线(SML)。CAPM通过证券市场线刻画了预期收益与β值之间的线性关系,为资产定价提供理论基础。\n",
    "\n",
    "\n",
    "\n",
    "尽管存在缺陷,CAPM作为最早的资产定价模型,其基本思路对后来的资产定价理论产生了深远影响,奠定了风险收益权衡的核心框架。许多后续模型如Fama-French三因子、AP模型等,都是在CAPM基础上发展而来。\n",
    "\n",
    "CAPM公式中个股和大盘的收益率都是期望值，Jenson（1968）在研究共同基金表现时将CAPM模型写成如下形式：\n",
    "\n",
    "$$ E(R_{it})-R_{ft}=\\alpha_i+\\beta_{i}[E(R_{mt})-R_{ft}]+\\varepsilon_{it} $$\n",
    "\n",
    "进行实证分析，$ R_{it},R_{ft},R_{mt}$\n",
    " 对应的是个股i、无风险资产（通常是银行存款、国债）、市场指数（大盘指数）的收益率之时间序列资料，对这些资料进行线性回归分析，得到未知参数alpha和beta的估计值 \n",
    " 。式子中的alpha是由Jenson引入的，所以又被称为Jenson's Alpha。根据CAPM模型之假设， \n",
    " $ R_{it}$是服从正态分布的随机数，这样就可以判断 alpha和beta\n",
    " 之统计显著性。 \n",
    " 可以解释个股过去的收益率与风险之间的关系， \n",
    " 表示收益率胜过大盘的部分，通常也用来衡量基金经理的绩效。现在所有的投资者在做的事情都可以用一句话来概括，就是试图运用各种方法创造显著的正阿尔法。这些方法包括：基本面分析，消息面分析，技术面分析和阿尔法策略。\n",
    "\n",
    "阿尔法策略的重点在于通过构建投资组合对冲掉系统风险，锁定alpha超额收益。若在有卖空机制的市场，对冲投资组合比较好构建。首先明确整个投资组合的资金，然后确定出具有较高alpha收益的、需要最多的证券组合和具有市场指数特征、用来对冲掉系统风险的、需要做空的证券组合，其次分配好资金的比重，最终获得稳定的Alpha收益率。另外也可以用证券和股指期货结合进行操作，比如投资者预测出未来会跑赢大盘的证券，则可以在证券市场将其买入，同时在期货市场卖空股指期货合约，以对冲系统性风险，这样市场的涨跌不会影响到投资组合的收益率。\n",
    "\n",
    "\n",
    "\n"
   ]
  },
  {
   "cell_type": "code",
   "execution_count": 1,
   "metadata": {},
   "outputs": [],
   "source": [
    "import akshare as ak\n",
    "import pandas as pd\n",
    "import numpy as np\n",
    "import matplotlib.pyplot as plt \n",
    "import statsmodels.api as sm\n",
    "\n",
    "import sqlite3\n",
    "import pandas as pd  \n",
    "import datetime"
   ]
  },
  {
   "cell_type": "markdown",
   "metadata": {},
   "source": [
    "### classwork1 capm模型的python实现\n",
    "\n",
    "* 获取数据SHSE.000902（中证流通指数）与SHSE.600596（新安股份）的数据在2014-01-01到2014-12-31之间的数据\n",
    "\n",
    "* 由于数据缺失，通过pd.merge基于时间连接数据，并计算对应的Rq Rm Rf，然后做出Rm-Rf 与Rq-Rf的散点图，另外无风险利率为一年期的国债利率，其年化为3.6%\n",
    "\n",
    "* 通过sm.OLS函数进行线性拟合，并画出拟合结果"
   ]
  },
  {
   "cell_type": "markdown",
   "metadata": {},
   "source": [
    "### akshare 指数历史行情数据\n",
    "https://zhuanlan.zhihu.com/p/609079456\n",
    "\n",
    "接口: index_zh_a_hist\n",
    "\n",
    "目标地址: http://quote.eastmoney.com/center/hszs.html\n",
    "\n",
    "描述: 东方财富网-中国股票指数-行情数据\n",
    "\n",
    "限量: 单次返回具体指数指定 period 从 start_date 到 end_date 的之间的近期数据\n",
    "\n",
    "输入参数\n",
    "\n",
    "名称\t类型\t描述\n",
    "\n",
    "symbol\tstr\tsymbol=\"399282\"; 指数代码，此处不用市场标识\n",
    "\n",
    "period\tstr\tperiod=\"daily\"; choice of {'daily', 'weekly', 'monthly'}\n",
    "\n",
    "start_date\tstr\tstart_date=\"19700101\"; 开始日期\n",
    "\n",
    "end_date\tstr\tend_date=\"22220101\"; 结束时间\n",
    "\n",
    "* 重要代码\n",
    "\n",
    "fillna(method=\"ffill\")\n",
    "\n",
    "pd.merge\n",
    "\n",
    "sm.OLS\n",
    "\n",
    "sm.add_constant\n"
   ]
  },
  {
   "cell_type": "code",
   "execution_count": 3,
   "metadata": {},
   "outputs": [],
   "source": [
    "stock_xinan=ak.stock_zh_a_hist(symbol=\"600596\", period=\"daily\", start_date=\"20140101\", end_date='20141231', \n",
    "                     adjust=\"hfq\")[[\"日期\",\"收盘\"]]\n",
    "index_zh = ak.index_zh_a_hist(symbol=\"000902\", period=\"daily\", start_date=\"20140101\", \n",
    "                                        end_date='20141231')[[\"日期\",\"收盘\"]]"
   ]
  },
  {
   "cell_type": "code",
   "execution_count": null,
   "metadata": {},
   "outputs": [],
   "source": []
  },
  {
   "cell_type": "code",
   "execution_count": 13,
   "metadata": {},
   "outputs": [
    {
     "data": {
      "text/html": [
       "<div>\n",
       "<style scoped>\n",
       "    .dataframe tbody tr th:only-of-type {\n",
       "        vertical-align: middle;\n",
       "    }\n",
       "\n",
       "    .dataframe tbody tr th {\n",
       "        vertical-align: top;\n",
       "    }\n",
       "\n",
       "    .dataframe thead th {\n",
       "        text-align: right;\n",
       "    }\n",
       "</style>\n",
       "<table border=\"1\" class=\"dataframe\">\n",
       "  <thead>\n",
       "    <tr style=\"text-align: right;\">\n",
       "      <th></th>\n",
       "      <th>日期</th>\n",
       "      <th>收盘_x</th>\n",
       "      <th>收盘_y</th>\n",
       "    </tr>\n",
       "  </thead>\n",
       "  <tbody>\n",
       "    <tr>\n",
       "      <th>0</th>\n",
       "      <td>2014-01-02</td>\n",
       "      <td>3028.75</td>\n",
       "      <td>74.63</td>\n",
       "    </tr>\n",
       "    <tr>\n",
       "      <th>1</th>\n",
       "      <td>2014-01-03</td>\n",
       "      <td>3001.46</td>\n",
       "      <td>73.98</td>\n",
       "    </tr>\n",
       "    <tr>\n",
       "      <th>2</th>\n",
       "      <td>2014-01-06</td>\n",
       "      <td>2927.48</td>\n",
       "      <td>69.58</td>\n",
       "    </tr>\n",
       "    <tr>\n",
       "      <th>3</th>\n",
       "      <td>2014-01-07</td>\n",
       "      <td>2938.60</td>\n",
       "      <td>69.63</td>\n",
       "    </tr>\n",
       "    <tr>\n",
       "      <th>4</th>\n",
       "      <td>2014-01-08</td>\n",
       "      <td>2950.73</td>\n",
       "      <td>69.34</td>\n",
       "    </tr>\n",
       "    <tr>\n",
       "      <th>...</th>\n",
       "      <td>...</td>\n",
       "      <td>...</td>\n",
       "      <td>...</td>\n",
       "    </tr>\n",
       "    <tr>\n",
       "      <th>240</th>\n",
       "      <td>2014-12-25</td>\n",
       "      <td>4308.49</td>\n",
       "      <td>74.63</td>\n",
       "    </tr>\n",
       "    <tr>\n",
       "      <th>241</th>\n",
       "      <td>2014-12-26</td>\n",
       "      <td>4396.30</td>\n",
       "      <td>74.86</td>\n",
       "    </tr>\n",
       "    <tr>\n",
       "      <th>242</th>\n",
       "      <td>2014-12-29</td>\n",
       "      <td>4370.19</td>\n",
       "      <td>73.10</td>\n",
       "    </tr>\n",
       "    <tr>\n",
       "      <th>243</th>\n",
       "      <td>2014-12-30</td>\n",
       "      <td>4334.98</td>\n",
       "      <td>72.16</td>\n",
       "    </tr>\n",
       "    <tr>\n",
       "      <th>244</th>\n",
       "      <td>2014-12-31</td>\n",
       "      <td>4403.62</td>\n",
       "      <td>72.51</td>\n",
       "    </tr>\n",
       "  </tbody>\n",
       "</table>\n",
       "<p>245 rows × 3 columns</p>\n",
       "</div>"
      ],
      "text/plain": [
       "             日期     收盘_x   收盘_y\n",
       "0    2014-01-02  3028.75  74.63\n",
       "1    2014-01-03  3001.46  73.98\n",
       "2    2014-01-06  2927.48  69.58\n",
       "3    2014-01-07  2938.60  69.63\n",
       "4    2014-01-08  2950.73  69.34\n",
       "..          ...      ...    ...\n",
       "240  2014-12-25  4308.49  74.63\n",
       "241  2014-12-26  4396.30  74.86\n",
       "242  2014-12-29  4370.19  73.10\n",
       "243  2014-12-30  4334.98  72.16\n",
       "244  2014-12-31  4403.62  72.51\n",
       "\n",
       "[245 rows x 3 columns]"
      ]
     },
     "execution_count": 13,
     "metadata": {},
     "output_type": "execute_result"
    }
   ],
   "source": [
    "stock_xi_zh=pd.merge(index_zh,stock_xinan,on=\"日期\",how=\"left\").fillna(method=\"ffill\")"
   ]
  },
  {
   "cell_type": "code",
   "execution_count": 16,
   "metadata": {},
   "outputs": [],
   "source": [
    "Ri=(stock_xi_zh[\"收盘_y\"]/stock_xi_zh[\"收盘_y\"].shift(1)-1).dropna()\n",
    "Rm=(stock_xi_zh[\"收盘_x\"]/stock_xi_zh[\"收盘_x\"].shift(1)-1).dropna()"
   ]
  },
  {
   "cell_type": "code",
   "execution_count": 18,
   "metadata": {},
   "outputs": [],
   "source": [
    "Rf=(0.036+1)**(1/360)-1"
   ]
  },
  {
   "cell_type": "code",
   "execution_count": 21,
   "metadata": {},
   "outputs": [
    {
     "data": {
      "text/plain": [
       "1     -0.008808\n",
       "2     -0.059574\n",
       "3      0.000620\n",
       "4     -0.004263\n",
       "5     -0.015385\n",
       "         ...   \n",
       "240   -0.000098\n",
       "241    0.002984\n",
       "242   -0.023609\n",
       "243   -0.012957\n",
       "244    0.004752\n",
       "Name: 收盘_y, Length: 244, dtype: float64"
      ]
     },
     "execution_count": 21,
     "metadata": {},
     "output_type": "execute_result"
    }
   ],
   "source": [
    "Ri-Rf"
   ]
  },
  {
   "cell_type": "code",
   "execution_count": 20,
   "metadata": {},
   "outputs": [
    {
     "data": {
      "text/plain": [
       "[<matplotlib.lines.Line2D at 0x1a26c005060>]"
      ]
     },
     "execution_count": 20,
     "metadata": {},
     "output_type": "execute_result"
    },
    {
     "data": {
      "image/png": "[encoded data removed]",
      "text/plain": [
       "<Figure size 640x480 with 1 Axes>"
      ]
     },
     "metadata": {},
     "output_type": "display_data"
    }
   ],
   "source": [
    "plt.plot(Rm-Rf,Ri-Rf,\"o\")"
   ]
  },
  {
   "cell_type": "code",
   "execution_count": 25,
   "metadata": {},
   "outputs": [
    {
     "name": "stdout",
     "output_type": "stream",
     "text": [
      "                            OLS Regression Results                            \n",
      "==============================================================================\n",
      "Dep. Variable:                   收盘_y   R-squared:                       0.241\n",
      "Model:                            OLS   Adj. R-squared:                  0.238\n",
      "Method:                 Least Squares   F-statistic:                     76.82\n",
      "Date:                Fri, 22 Mar 2024   Prob (F-statistic):           3.36e-16\n",
      "Time:                        14:23:00   Log-Likelihood:                 623.10\n",
      "No. Observations:                 244   AIC:                            -1242.\n",
      "Df Residuals:                     242   BIC:                            -1235.\n",
      "Df Model:                           1                                         \n",
      "Covariance Type:            nonrobust                                         \n",
      "==============================================================================\n",
      "                 coef    std err          t      P>|t|      [0.025      0.975]\n",
      "------------------------------------------------------------------------------\n",
      "const         -0.0014      0.001     -1.156      0.249      -0.004       0.001\n",
      "收盘_x           0.9527      0.109      8.765      0.000       0.739       1.167\n",
      "==============================================================================\n",
      "Omnibus:                       47.677   Durbin-Watson:                   1.989\n",
      "Prob(Omnibus):                  0.000   Jarque-Bera (JB):              231.048\n",
      "Skew:                           0.646   Prob(JB):                     6.74e-51\n",
      "Kurtosis:                       7.589   Cond. No.                         89.8\n",
      "==============================================================================\n",
      "\n",
      "Notes:\n",
      "[1] Standard Errors assume that the covariance matrix of the errors is correctly specified.\n"
     ]
    }
   ],
   "source": [
    "model=sm.OLS(Ri-Rf,sm.add_constant(Rm-Rf))\n",
    "result=model.fit()\n",
    "print(result.summary())"
   ]
  },
  {
   "cell_type": "code",
   "execution_count": 9,
   "metadata": {},
   "outputs": [
    {
     "data": {
      "text/html": [
       "<table class=\"simpletable\">\n",
       "<caption>OLS Regression Results</caption>\n",
       "<tr>\n",
       "  <th>Dep. Variable:</th>          <td>xinan</td>      <th>  R-squared:         </th> <td>   0.241</td>\n",
       "</tr>\n",
       "<tr>\n",
       "  <th>Model:</th>                   <td>OLS</td>       <th>  Adj. R-squared:    </th> <td>   0.238</td>\n",
       "</tr>\n",
       "<tr>\n",
       "  <th>Method:</th>             <td>Least Squares</td>  <th>  F-statistic:       </th> <td>   76.82</td>\n",
       "</tr>\n",
       "<tr>\n",
       "  <th>Date:</th>             <td>Thu, 21 Mar 2024</td> <th>  Prob (F-statistic):</th> <td>3.36e-16</td>\n",
       "</tr>\n",
       "<tr>\n",
       "  <th>Time:</th>                 <td>20:43:48</td>     <th>  Log-Likelihood:    </th> <td>  623.10</td>\n",
       "</tr>\n",
       "<tr>\n",
       "  <th>No. Observations:</th>      <td>   244</td>      <th>  AIC:               </th> <td>  -1242.</td>\n",
       "</tr>\n",
       "<tr>\n",
       "  <th>Df Residuals:</th>          <td>   242</td>      <th>  BIC:               </th> <td>  -1235.</td>\n",
       "</tr>\n",
       "<tr>\n",
       "  <th>Df Model:</th>              <td>     1</td>      <th>                     </th>     <td> </td>   \n",
       "</tr>\n",
       "<tr>\n",
       "  <th>Covariance Type:</th>      <td>nonrobust</td>    <th>                     </th>     <td> </td>   \n",
       "</tr>\n",
       "</table>\n",
       "<table class=\"simpletable\">\n",
       "<tr>\n",
       "     <td></td>       <th>coef</th>     <th>std err</th>      <th>t</th>      <th>P>|t|</th>  <th>[0.025</th>    <th>0.975]</th>  \n",
       "</tr>\n",
       "<tr>\n",
       "  <th>const</th>  <td>   -0.0014</td> <td>    0.001</td> <td>   -1.161</td> <td> 0.247</td> <td>   -0.004</td> <td>    0.001</td>\n",
       "</tr>\n",
       "<tr>\n",
       "  <th>zhongz</th> <td>    0.9527</td> <td>    0.109</td> <td>    8.765</td> <td> 0.000</td> <td>    0.739</td> <td>    1.167</td>\n",
       "</tr>\n",
       "</table>\n",
       "<table class=\"simpletable\">\n",
       "<tr>\n",
       "  <th>Omnibus:</th>       <td>47.677</td> <th>  Durbin-Watson:     </th> <td>   1.989</td>\n",
       "</tr>\n",
       "<tr>\n",
       "  <th>Prob(Omnibus):</th> <td> 0.000</td> <th>  Jarque-Bera (JB):  </th> <td> 231.048</td>\n",
       "</tr>\n",
       "<tr>\n",
       "  <th>Skew:</th>          <td> 0.646</td> <th>  Prob(JB):          </th> <td>6.74e-51</td>\n",
       "</tr>\n",
       "<tr>\n",
       "  <th>Kurtosis:</th>      <td> 7.589</td> <th>  Cond. No.          </th> <td>    89.8</td>\n",
       "</tr>\n",
       "</table><br/><br/>Notes:<br/>[1] Standard Errors assume that the covariance matrix of the errors is correctly specified."
      ],
      "text/plain": [
       "<class 'statsmodels.iolib.summary.Summary'>\n",
       "\"\"\"\n",
       "                            OLS Regression Results                            \n",
       "==============================================================================\n",
       "Dep. Variable:                  xinan   R-squared:                       0.241\n",
       "Model:                            OLS   Adj. R-squared:                  0.238\n",
       "Method:                 Least Squares   F-statistic:                     76.82\n",
       "Date:                Thu, 21 Mar 2024   Prob (F-statistic):           3.36e-16\n",
       "Time:                        20:43:48   Log-Likelihood:                 623.10\n",
       "No. Observations:                 244   AIC:                            -1242.\n",
       "Df Residuals:                     242   BIC:                            -1235.\n",
       "Df Model:                           1                                         \n",
       "Covariance Type:            nonrobust                                         \n",
       "==============================================================================\n",
       "                 coef    std err          t      P>|t|      [0.025      0.975]\n",
       "------------------------------------------------------------------------------\n",
       "const         -0.0014      0.001     -1.161      0.247      -0.004       0.001\n",
       "zhongz         0.9527      0.109      8.765      0.000       0.739       1.167\n",
       "==============================================================================\n",
       "Omnibus:                       47.677   Durbin-Watson:                   1.989\n",
       "Prob(Omnibus):                  0.000   Jarque-Bera (JB):              231.048\n",
       "Skew:                           0.646   Prob(JB):                     6.74e-51\n",
       "Kurtosis:                       7.589   Cond. No.                         89.8\n",
       "==============================================================================\n",
       "\n",
       "Notes:\n",
       "[1] Standard Errors assume that the covariance matrix of the errors is correctly specified.\n",
       "\"\"\""
      ]
     },
     "execution_count": 9,
     "metadata": {},
     "output_type": "execute_result"
    }
   ],
   "source": []
  },
  {
   "cell_type": "code",
   "execution_count": 26,
   "metadata": {},
   "outputs": [],
   "source": [
    "x=np.arange(-0.04,0.035,0.005)\n",
    "y=-0.0014+0.9527*x"
   ]
  },
  {
   "cell_type": "code",
   "execution_count": 27,
   "metadata": {},
   "outputs": [
    {
     "data": {
      "text/plain": [
       "[<matplotlib.lines.Line2D at 0x1a26c274610>]"
      ]
     },
     "execution_count": 27,
     "metadata": {},
     "output_type": "execute_result"
    },
    {
     "data": {
      "image/png": "[encoded data removed]",
      "text/plain": [
       "<Figure size 640x480 with 1 Axes>"
      ]
     },
     "metadata": {},
     "output_type": "display_data"
    }
   ],
   "source": [
    "plt.plot(Rm-Rf,Ri-Rf,\"o\")\n",
    "plt.plot(x,y,\"-\")"
   ]
  },
  {
   "cell_type": "code",
   "execution_count": 39,
   "metadata": {},
   "outputs": [],
   "source": [
    "#ak.stock_zh_index_daily(symbol=\"sz399552\")\n",
    "#![sm1.png](sm2.png) "
   ]
  },
  {
   "cell_type": "markdown",
   "metadata": {},
   "source": [
    "### 回归分析参数意义\n",
    "\n",
    "<img style=\"float: left;\" src=\"sm1.png\" >\n",
    "<img style=\"float: left;\" src=\"sm2.png\" >\n",
    "<img style=\"float: left;\" src=\"sm3.png\" >\n",
    "<img style=\"float: left;\" src=\"sm4.png\" >"
   ]
  },
  {
   "cell_type": "markdown",
   "metadata": {},
   "source": [
    "### CAPM的应用与局限\n",
    "\n",
    "* CAPM也存在一些局限性:\n",
    "\n",
    "1. 模型假设过于理想化。\n",
    "\n",
    "2. 模型难以精确估计参数,如市场组合、无风险利率和β系数的测算存在困难。\n",
    "\n",
    "3. 只考虑系统风险,忽视了其他影响证券收益的因素,如公司规模、账面市值比等。\n",
    "\n",
    "4. 实证研究发现,β值无法很好解释收益率的差异,低β股票往往表现优于高β股票。\n",
    "\n",
    "5. 难以精确定义和测量\"市场组合\",通常使用较窄的指数代替。\n",
    "\n",
    "* CAPM的主要应用:\n",
    "\n",
    "1. 资产定价\n",
    "CAPM为资产定价提供了理论基础。通过估计证券的$\\beta$值,可以计算出其理论预期收益率,判断是否被高估或低估。\n",
    "\n",
    "2. 资本成本估计  \n",
    "公司可利用CAPM估计自身的加权平均资本成本,作为投资项目评估和决策的依据。\n",
    "\n",
    "3. 投资组合管理\n",
    "CAPM为优化投资组合的风险收益特征提供了方法,投资者可构建具有最优$\\beta$值的投资组合。\n",
    "\n",
    "4. 绩效评估\n",
    "CAPM为基金经理和投资组合的绩效评估提供了方法,通过估计$\\alpha$值(超额收益)来评判选股能力。\n",
    "\n",
    "5. 企业并购\n",
    "并购时需要对标的公司估值,CAPM可以用于估计目标公司的成本资本率。\n",
    "\n",
    "CAPM模型简单直观,在实践中广泛应用,但也存在一些缺陷和局限性。尽管如此,作为经典的资产定价理论,CAPM对现代金融理论的发展贡献卓著。"
   ]
  },
  {
   "cell_type": "markdown",
   "metadata": {},
   "source": [
    "### classwork 2 CAPM模型在实际投资中应用的例子\n",
    "\n",
    "假设当前无风险利率为3%,市场投资组合的预期收益率为10%。一位基金经理管理着一个股票投资组合,该组合包含以下4只股票:\n",
    "\n",
    "股票代码|beta值|权重\n",
    "-------|------|-----\n",
    "A       |1.2   |30%\n",
    "B       |0.8   |20%  \n",
    "C       |1.5   |40%\n",
    "D       |1.0   |10%\n",
    "\n",
    "1. 计算该投资组合的预期收益率。\n",
    "\n",
    "2. 如果该投资组合去年实际年化收益率为13%,请计算基金经理的alpha值(选股能力)。\n",
    "\n",
    "3. 假设基金经理现在希望将投资组合的beta值控制在1.2以下,请调整各股票的权重。\n",
    "\n",
    "4. 公司D正在考虑一项投资项目,估计该项目的beta系数为1.2,请为该项目估算出适当的资本成本(也叫折现率,有效市场下,对于任何风险资产,它的预期收益率必须等于其资本成本率）。\n",
    "\n",
    "通过这个例题,我们综合体现了CAPM中alpha、beta指标在投资组合收益预测、基金经理绩效评估、投资组合优化以及公司资本成本估计等方面的应用。"
   ]
  },
  {
   "cell_type": "code",
   "execution_count": 28,
   "metadata": {},
   "outputs": [
    {
     "data": {
      "text/plain": [
       "1.2200000000000002"
      ]
     },
     "execution_count": 28,
     "metadata": {},
     "output_type": "execute_result"
    }
   ],
   "source": [
    "1.2*0.3+0.8*0.2+1.5*0.4+1*0.1"
   ]
  },
  {
   "cell_type": "code",
   "execution_count": 30,
   "metadata": {},
   "outputs": [
    {
     "data": {
      "text/plain": [
       "0.1154"
      ]
     },
     "execution_count": 30,
     "metadata": {},
     "output_type": "execute_result"
    }
   ],
   "source": [
    "1.22*(0.1-0.03)+0.03"
   ]
  },
  {
   "cell_type": "code",
   "execution_count": 31,
   "metadata": {},
   "outputs": [
    {
     "data": {
      "text/plain": [
       "0.014600000000000002"
      ]
     },
     "execution_count": 31,
     "metadata": {},
     "output_type": "execute_result"
    }
   ],
   "source": [
    "0.13-0.1154"
   ]
  },
  {
   "cell_type": "code",
   "execution_count": 32,
   "metadata": {},
   "outputs": [
    {
     "data": {
      "text/plain": [
       "0.114"
      ]
     },
     "execution_count": 32,
     "metadata": {},
     "output_type": "execute_result"
    }
   ],
   "source": [
    "1.2*(0.1-0.03)+0.03"
   ]
  },
  {
   "cell_type": "markdown",
   "metadata": {},
   "source": [
    "## capm的横截面回归代码实现以及证券特征线(SCL)与证券市场线(SML)\n",
    "\n",
    "\n",
    "在资本资产定价模型(CAPM)中,横截面回归(Cross-Sectional Regression)的具体实施方法和主要作用如下:\n",
    "\n",
    "1. 实施方法:\n",
    "\n",
    "横截面回归通常包括两个阶段的回归:\n",
    "\n",
    "第一阶段回归(Time-Series Regression):\n",
    "对于每一只股票 $i$,使用历史数据进行时间序列回归,估计其相对于市场组合的 beta 系数 $\\beta_i$:\n",
    "\n",
    "$$R_{it} - R_{ft} = \\alpha_i + \\beta_i(R_{mt} - R_{ft}) + \\epsilon_{it}$$\n",
    "\n",
    "其中 $R_{it}$ 为 $t$ 时点股票 $i$ 的收益率,$R_{ft}$ 为无风险利率,$R_{mt}$ 为市场组合收益率,$\\epsilon_{it}$ 为残差项。\n",
    "\n",
    "第二阶段横截面回归(Cross-Sectional Regression):\n",
    "将第一阶段估计得到的 beta 系数作为自变量,实证收益率作为因变量,进行横截面回归:\n",
    "\n",
    "$$R_i - R_f = \\gamma_0 + \\gamma_1\\beta_i + \\mu_i$$\n",
    "\n",
    "其中 $R_i$ 为股票 $i$ 的实际收益率,$R_f$ 为无风险利率,$\\beta_i$ 为股票 $i$ 的 beta 系数,$\\mu_i$ 为残差项。\n",
    "\n",
    "2. 主要作用:\n",
    "\n",
    "(1) 检验 CAPM 理论的适用性。根据 CAPM 理论,如果市场是有效的,那么 $\\gamma_0$ 应该等于 $0$,$\\gamma_1$ 应该等于市场风险溢价 $[E(R_m) - R_f]$。\n",
    "\n",
    "(2) 估计市场风险溢价 $[E(R_m) - R_f]$ 的水平,即投资者为承担市场风险所要求的补偿。\n",
    "\n",
    "(3) 评估单个证券是否被高估或低估。如果某证券的实际收益率明显高于或低于其基于 CAPM 计算的理论预期收益率,则可能被认为是被高估或低估。\n",
    "\n",
    "(4) 研究其他因素对收益率的影响。可以在横截面回归模型中加入其他解释变量(如公司规模、账面市值比等),检验 CAPM 的局限性,探索收益率的其他影响因素。\n",
    "\n",
    "需要注意的是,横截面回归存在一些争议和批评,如数据挖掘偏误(Data Mining Bias)、模型设定等问题,需要谨慎分析结果。但总体而言,它仍然是检验资产定价模型、研究收益率影响因素的重要工具。\n",
    "\n",
    "**证券特征线(Security Characteristic Line, SCL)和证券市场线(Security Market Line, SML)** 都是资本资产定价模型(CAPM)中非常重要的概念,它们分别具有以下意义和应用价值:\n",
    "\n",
    "1. 证券特征线(SCL):\n",
    "   - 意义: 证券特征线表示单只证券在给定风险水平(beta系数)下的预期收益率。它将证券的预期收益率与其系统风险(beta)关联起来。\n",
    "   - 应用价值:\n",
    "     a) 评估证券是否被正确定价。理论上,证券应该位于其证券特征线上,如果偏离过多,可能意味着被高估或低估。\n",
    "     b) 作为投资决策的参考。投资者可以根据证券相对于其特征线的位置,判断其估值水平,做出买入、持有或卖出的决策。\n",
    "     c) 对投资组合进行优化。投资组合管理人员可以利用证券特征线评估组合中单只证券的预期收益率和风险水平。\n",
    "\n",
    "2. 证券市场线(SML):\n",
    "   - 意义: 证券市场线表示在给定的风险水平下,所有证券的理论预期收益率。它反映了全市场证券收益率与系统风险之间的\"均衡\"关系。\n",
    "   - 应用价值:\n",
    "     a) 评判CAPM模型的适用性。通过实证分析,检验证券是否真正位于证券市场线上,从而验证CAPM模型的解释力。\n",
    "     b) 确定资产的合理定价。如果某证券明显偏离证券市场线,可能被认为是被高估或低估,需要重新定价。\n",
    "     c) 确定投资组合中各资产的合理权重。投资组合理论认为,投资组合应该位于证券市场线上以获得最优的风险收益比。\n",
    "\n",
    "总的来说,证券特征线关注单只证券,而证券市场线关注整个证券市场。它们共同构成了CAPM理论框架的重要组成部分,为投资者和金融从业人员提供了分析和决策的重要依据。通过对这两条线的实证研究,可以检验CAPM模型的有效性,并指导资产定价和投资组合管理实践。\n",
    "\n",
    "https://blog.csdn.net/weixin_56069388/article/details/127955693\n",
    "\n",
    "https://zhuanlan.zhihu.com/p/40984029"
   ]
  },
  {
   "cell_type": "code",
   "execution_count": 4,
   "metadata": {},
   "outputs": [],
   "source": [
    "# 此数据来自淘宝\n",
    "conn=sqlite3.connect(r'I:\\量化金融\\stock_2018.db')\n",
    "#获取数据库中的表"
   ]
  },
  {
   "cell_type": "code",
   "execution_count": 3,
   "metadata": {},
   "outputs": [
    {
     "data": {
      "text/html": [
       "<div>\n",
       "<style scoped>\n",
       "    .dataframe tbody tr th:only-of-type {\n",
       "        vertical-align: middle;\n",
       "    }\n",
       "\n",
       "    .dataframe tbody tr th {\n",
       "        vertical-align: top;\n",
       "    }\n",
       "\n",
       "    .dataframe thead th {\n",
       "        text-align: right;\n",
       "    }\n",
       "</style>\n",
       "<table border=\"1\" class=\"dataframe\">\n",
       "  <thead>\n",
       "    <tr style=\"text-align: right;\">\n",
       "      <th></th>\n",
       "      <th>交易日期</th>\n",
       "      <th>股票代码</th>\n",
       "      <th>收盘价</th>\n",
       "    </tr>\n",
       "  </thead>\n",
       "  <tbody>\n",
       "    <tr>\n",
       "      <th>0</th>\n",
       "      <td>20200102</td>\n",
       "      <td>000002.SZ</td>\n",
       "      <td>4832.2947</td>\n",
       "    </tr>\n",
       "    <tr>\n",
       "      <th>1</th>\n",
       "      <td>20200103</td>\n",
       "      <td>000002.SZ</td>\n",
       "      <td>4756.6046</td>\n",
       "    </tr>\n",
       "    <tr>\n",
       "      <th>2</th>\n",
       "      <td>20200106</td>\n",
       "      <td>000002.SZ</td>\n",
       "      <td>4676.4621</td>\n",
       "    </tr>\n",
       "    <tr>\n",
       "      <th>3</th>\n",
       "      <td>20200107</td>\n",
       "      <td>000002.SZ</td>\n",
       "      <td>4713.5651</td>\n",
       "    </tr>\n",
       "    <tr>\n",
       "      <th>4</th>\n",
       "      <td>20200108</td>\n",
       "      <td>000002.SZ</td>\n",
       "      <td>4701.6922</td>\n",
       "    </tr>\n",
       "  </tbody>\n",
       "</table>\n",
       "</div>"
      ],
      "text/plain": [
       "       交易日期       股票代码        收盘价\n",
       "0  20200102  000002.SZ  4832.2947\n",
       "1  20200103  000002.SZ  4756.6046\n",
       "2  20200106  000002.SZ  4676.4621\n",
       "3  20200107  000002.SZ  4713.5651\n",
       "4  20200108  000002.SZ  4701.6922"
      ]
     },
     "execution_count": 3,
     "metadata": {},
     "output_type": "execute_result"
    }
   ],
   "source": [
    "stock_daily0=pd.read_sql(\"select 交易日期,股票代码,收盘价 from stock_daily where 交易日期>'20200101' and 交易日期<'20210101' \",con=conn)\n",
    "stock_daily0.head()"
   ]
  },
  {
   "cell_type": "code",
   "execution_count": 8,
   "metadata": {},
   "outputs": [],
   "source": [
    "stock_drn=stock_daily0.pivot(index=\"交易日期\",columns=\"股票代码\",values=\"收盘价\").dropna(axis=1)"
   ]
  },
  {
   "cell_type": "code",
   "execution_count": 18,
   "metadata": {},
   "outputs": [
    {
     "data": {
      "text/plain": [
       "243"
      ]
     },
     "execution_count": 18,
     "metadata": {},
     "output_type": "execute_result"
    }
   ],
   "source": [
    "len(stock_drn)"
   ]
  },
  {
   "cell_type": "code",
   "execution_count": 11,
   "metadata": {},
   "outputs": [],
   "source": [
    "stock_drn_r=(stock_drn/stock_drn.shift(10)-1).dropna()"
   ]
  },
  {
   "cell_type": "code",
   "execution_count": 16,
   "metadata": {},
   "outputs": [],
   "source": [
    "stock_index=stock_drn_r.mean(axis=1)"
   ]
  },
  {
   "cell_type": "code",
   "execution_count": 17,
   "metadata": {},
   "outputs": [
    {
     "data": {
      "text/plain": [
       "交易日期\n",
       "20200116    0.033311\n",
       "20200117    0.022876\n",
       "20200120    0.025965\n",
       "20200121    0.001164\n",
       "20200122    0.017091\n",
       "              ...   \n",
       "20201225   -0.020516\n",
       "20201228   -0.039739\n",
       "20201229   -0.040162\n",
       "20201230   -0.023423\n",
       "20201231   -0.018705\n",
       "Length: 233, dtype: float64"
      ]
     },
     "execution_count": 17,
     "metadata": {},
     "output_type": "execute_result"
    }
   ],
   "source": [
    "stock_index"
   ]
  },
  {
   "cell_type": "code",
   "execution_count": 22,
   "metadata": {},
   "outputs": [],
   "source": [
    "Rf=0.03*10/243"
   ]
  },
  {
   "cell_type": "code",
   "execution_count": 21,
   "metadata": {},
   "outputs": [
    {
     "data": {
      "text/plain": [
       "交易日期\n",
       "20200116   -0.032009\n",
       "20200117   -0.045984\n",
       "20200120   -0.036321\n",
       "20200121   -0.067055\n",
       "20200122   -0.034214\n",
       "              ...   \n",
       "20201225   -0.025918\n",
       "20201228   -0.001589\n",
       "20201229    0.022946\n",
       "20201230    0.009995\n",
       "20201231    0.020580\n",
       "Name: 000001.SZ, Length: 233, dtype: float64"
      ]
     },
     "execution_count": 21,
     "metadata": {},
     "output_type": "execute_result"
    }
   ],
   "source": [
    "stock_drn_r[\"000001.SZ\"]"
   ]
  },
  {
   "cell_type": "code",
   "execution_count": 25,
   "metadata": {},
   "outputs": [
    {
     "data": {
      "text/plain": [
       "Index(['000001.SZ', '000002.SZ', '000004.SZ', '000005.SZ', '000006.SZ',\n",
       "       '000007.SZ', '000008.SZ', '000009.SZ', '000011.SZ', '000012.SZ',\n",
       "       ...\n",
       "       '300800.SZ', '300801.SZ', '300803.SZ', '300805.SZ', '300806.SZ',\n",
       "       '300807.SZ', '300808.SZ', '300809.SZ', '300810.SZ', '300811.SZ'],\n",
       "      dtype='object', name='股票代码', length=1918)"
      ]
     },
     "execution_count": 25,
     "metadata": {},
     "output_type": "execute_result"
    }
   ],
   "source": [
    "stock_drn_r.columns"
   ]
  },
  {
   "cell_type": "code",
   "execution_count": 36,
   "metadata": {},
   "outputs": [],
   "source": [
    "beta=[]\n",
    "alpha=[]\n",
    "for i in stock_drn_r.columns:\n",
    "    model=sm.OLS(stock_drn_r[i]-Rf,sm.add_constant(stock_index-Rf)).fit()\n",
    "    beta.append(model.params[0])\n",
    "    alpha.append(model.params[\"const\"])"
   ]
  },
  {
   "cell_type": "markdown",
   "metadata": {},
   "source": [
    "* 证券特征线(SCL):"
   ]
  },
  {
   "cell_type": "code",
   "execution_count": null,
   "metadata": {},
   "outputs": [],
   "source": [
    "beta[0]\n",
    "alpha[0]"
   ]
  },
  {
   "cell_type": "code",
   "execution_count": 55,
   "metadata": {},
   "outputs": [],
   "source": [
    "x=np.arange(-0.2,0.2,0.005)\n",
    "y=alpha[0]+beta[0]*x"
   ]
  },
  {
   "cell_type": "code",
   "execution_count": 56,
   "metadata": {},
   "outputs": [
    {
     "data": {
      "text/plain": [
       "[<matplotlib.lines.Line2D at 0x22e19486380>]"
      ]
     },
     "execution_count": 56,
     "metadata": {},
     "output_type": "execute_result"
    },
    {
     "data": {
      "image/png": "[encoded data removed]",
      "text/plain": [
       "<Figure size 640x480 with 1 Axes>"
      ]
     },
     "metadata": {},
     "output_type": "display_data"
    }
   ],
   "source": [
    "plt.plot(stock_index.values-Rf,stock_drn_r['000001.SZ'].values-Rf,\"o\")\n",
    "plt.plot(x,y)"
   ]
  },
  {
   "cell_type": "code",
   "execution_count": 39,
   "metadata": {},
   "outputs": [
    {
     "data": {
      "text/plain": [
       "[<matplotlib.lines.Line2D at 0x22e19113e20>]"
      ]
     },
     "execution_count": 39,
     "metadata": {},
     "output_type": "execute_result"
    },
    {
     "data": {
      "image/png": "[encoded data removed]",
      "text/plain": [
       "<Figure size 640x480 with 1 Axes>"
      ]
     },
     "metadata": {},
     "output_type": "display_data"
    }
   ],
   "source": [
    "plt.plot(stock_drn_r['000001.SZ'].values-Rf,stock_index.values-Rf,\"o\")\n",
    "plt.plot(x,y)"
   ]
  },
  {
   "cell_type": "code",
   "execution_count": 35,
   "metadata": {},
   "outputs": [
    {
     "data": {
      "text/plain": [
       "[0.001033990074986041, -0.007292563731446214, -0.0017647444433177535]"
      ]
     },
     "execution_count": 35,
     "metadata": {},
     "output_type": "execute_result"
    }
   ],
   "source": [
    "alpha"
   ]
  },
  {
   "cell_type": "code",
   "execution_count": 23,
   "metadata": {},
   "outputs": [
    {
     "name": "stdout",
     "output_type": "stream",
     "text": [
      "                            OLS Regression Results                            \n",
      "==============================================================================\n",
      "Dep. Variable:              000001.SZ   R-squared:                       0.308\n",
      "Model:                            OLS   Adj. R-squared:                  0.305\n",
      "Method:                 Least Squares   F-statistic:                     102.6\n",
      "Date:                Fri, 29 Mar 2024   Prob (F-statistic):           3.43e-20\n",
      "Time:                        13:59:32   Log-Likelihood:                 317.25\n",
      "No. Observations:                 233   AIC:                            -630.5\n",
      "Df Residuals:                     231   BIC:                            -623.6\n",
      "Df Model:                           1                                         \n",
      "Covariance Type:            nonrobust                                         \n",
      "==============================================================================\n",
      "                 coef    std err          t      P>|t|      [0.025      0.975]\n",
      "------------------------------------------------------------------------------\n",
      "const          0.0010      0.004      0.251      0.802      -0.007       0.009\n",
      "0              0.8341      0.082     10.129      0.000       0.672       0.996\n",
      "==============================================================================\n",
      "Omnibus:                       11.686   Durbin-Watson:                   0.225\n",
      "Prob(Omnibus):                  0.003   Jarque-Bera (JB):               12.577\n",
      "Skew:                           0.568   Prob(JB):                      0.00186\n",
      "Kurtosis:                       2.918   Cond. No.                         20.2\n",
      "==============================================================================\n",
      "\n",
      "Notes:\n",
      "[1] Standard Errors assume that the covariance matrix of the errors is correctly specified.\n"
     ]
    }
   ],
   "source": [
    "model=sm.OLS(stock_drn_r[\"000001.SZ\"]-Rf,sm.add_constant(stock_index-Rf)).fit()\n",
    "print(model.summary())"
   ]
  },
  {
   "cell_type": "markdown",
   "metadata": {},
   "source": [
    "* capm的横截面回归"
   ]
  },
  {
   "cell_type": "code",
   "execution_count": 43,
   "metadata": {},
   "outputs": [
    {
     "data": {
      "text/plain": [
       "array([ 0.00751542, -0.00124385,  0.01128645, ..., -0.01351092,\n",
       "       -0.02387653,  0.00792235])"
      ]
     },
     "execution_count": 43,
     "metadata": {},
     "output_type": "execute_result"
    }
   ],
   "source": [
    "stock_drn_r.mean().values"
   ]
  },
  {
   "cell_type": "code",
   "execution_count": 44,
   "metadata": {},
   "outputs": [
    {
     "name": "stdout",
     "output_type": "stream",
     "text": [
      "                            OLS Regression Results                            \n",
      "==============================================================================\n",
      "Dep. Variable:                      y   R-squared:                       0.001\n",
      "Model:                            OLS   Adj. R-squared:                  0.000\n",
      "Method:                 Least Squares   F-statistic:                     1.175\n",
      "Date:                Fri, 29 Mar 2024   Prob (F-statistic):              0.278\n",
      "Time:                        14:13:40   Log-Likelihood:                 5070.1\n",
      "No. Observations:                1918   AIC:                        -1.014e+04\n",
      "Df Residuals:                    1916   BIC:                        -1.013e+04\n",
      "Df Model:                           1                                         \n",
      "Covariance Type:            nonrobust                                         \n",
      "==============================================================================\n",
      "                 coef    std err          t      P>|t|      [0.025      0.975]\n",
      "------------------------------------------------------------------------------\n",
      "const          0.0052      0.001      4.825      0.000       0.003       0.007\n",
      "x1             0.0011      0.001      1.084      0.278      -0.001       0.003\n",
      "==============================================================================\n",
      "Omnibus:                      336.898   Durbin-Watson:                   1.942\n",
      "Prob(Omnibus):                  0.000   Jarque-Bera (JB):              706.441\n",
      "Skew:                           1.021   Prob(JB):                    3.96e-154\n",
      "Kurtosis:                       5.161   Cond. No.                         5.31\n",
      "==============================================================================\n",
      "\n",
      "Notes:\n",
      "[1] Standard Errors assume that the covariance matrix of the errors is correctly specified.\n"
     ]
    }
   ],
   "source": [
    "model=sm.OLS(stock_drn_r.mean().values-Rf,sm.add_constant(beta)).fit()\n",
    "print(model.summary())"
   ]
  },
  {
   "cell_type": "markdown",
   "metadata": {},
   "source": [
    "* 证券市场线(SML)"
   ]
  },
  {
   "cell_type": "code",
   "execution_count": 57,
   "metadata": {},
   "outputs": [],
   "source": [
    "x=np.arange(-1,4,0.005)\n",
    "y=0.0052+0.0011*x"
   ]
  },
  {
   "cell_type": "code",
   "execution_count": 58,
   "metadata": {},
   "outputs": [
    {
     "data": {
      "text/plain": [
       "[<matplotlib.lines.Line2D at 0x22e193f7940>]"
      ]
     },
     "execution_count": 58,
     "metadata": {},
     "output_type": "execute_result"
    },
    {
     "data": {
      "image/png": "[encoded data removed]",
      "text/plain": [
       "<Figure size 640x480 with 1 Axes>"
      ]
     },
     "metadata": {},
     "output_type": "display_data"
    }
   ],
   "source": [
    "plt.plot(beta,stock_drn_r.mean().values-Rf,\"o\")\n",
    "plt.plot(x,y)"
   ]
  },
  {
   "cell_type": "code",
   "execution_count": null,
   "metadata": {},
   "outputs": [],
   "source": []
  },
  {
   "cell_type": "markdown",
   "metadata": {},
   "source": [
    "## 股市中常见因子及其获取\n",
    "\n",
    "1. **换手率(%)**:\n",
    "   - 定义：换手率是衡量在一定时间段内股票或证券市场上股票转手买卖的频率，它反映了股票流通性的强弱。\n",
    "   - 公式：\n",
    "   $$ 换手率 (\\%) = \\frac{一段时间内的成交量}{流通股本} \\times 100\\% $$\n",
    "\n",
    "2. **量比**:\n",
    "   - 定义：量比是指当日开盘后平均每分钟的成交量与过去五个交易日平均每分钟成交量之比，用来判断当天交易量相对近期常态的增减情况。\n",
    "   - 公式：\n",
    "   $$ 量比 = \\frac{今日开盘后平均每分钟成交量}{过去五日平均每分钟成交量} $$\n",
    "\n",
    "3. **市盈率(静态)**:\n",
    "   - 定义：静态市盈率是股票市场价格与该公司最近一个完整会计年度每股收益（EPS）的比值，用于衡量投资回收期。\n",
    "   - 公式：\n",
    "   $$ 静态市盈率 = \\frac{股价}{每股收益_{上年度}} $$\n",
    "\n",
    "4. **市盈率(TTM)**:\n",
    "   - 定义：滚动市盈率（Trailing Twelve Months, TTM）是股票市场价格与最近四个季度（通常是过去一年）每股收益的简单平均值的比值，更及时地反映了当前的盈利能力。\n",
    "   - 公式：\n",
    "   $$ 市盈率(TTM) = \\frac{股价}{每股收益_{TTM}} $$\n",
    "\n",
    "5. **市盈率(动态)**:\n",
    "   - 定义：动态市盈率是基于对未来预期盈利增长的调整，计算方式可能包括使用预计的未来每股收益和现时股价进行计算，或者通过静态市盈率除以某个增长率的指数幂得到。\n",
    "   - 公式：\n",
    "   $$ 动态市盈率 = \\frac{股价}{预期的未来每股收益} $$\n",
    "   或者按照之前提到的一种计算方式：\n",
    "   $$ 动态市盈率 = \\frac{静态市盈率}{(1 + 年复合增长率)^N} $$\n",
    "\n",
    "6. **市净率**:\n",
    "   - 定义：市净率是股票市场价格与每股净资产（BVPS，即每股账面价值）的比率，体现了市场对每股净资产的定价。\n",
    "   - 公式：\n",
    "   $$ 市净率 = \\frac{股价}{每股净资产} $$\n",
    "\n",
    "7. **市销率**:\n",
    "   - 定义：市销率是股票市场价格与每股营业收入（或公司总营业收入除以总股本）的比率，体现的是市场对公司每单位销售收入的估值。\n",
    "   - 公式：\n",
    "   $$ 市销率 = \\frac{股价}{每股营业收入} $$ \n",
    "   或者 \n",
    "   $$ 市销率 = \\frac{总市值}{总收入} $$\n",
    "\n",
    "8. **市销率(TTM)**:\n",
    "   - 定义：滚动市销率（TTM）类似于滚动市盈率，它是股票市场价格与最近四个季度（通常是一年）营业收入的简单平均值的比值。\n",
    "   - 公式：\n",
    "    $$ 市销率(TTM) = \\frac{总市值}{最近四个季度营业收入_{TTM}} $$\n",
    "\n",
    "9. **股息率(%)**:\n",
    "   - 定义：股息率是股票过去一年每股分红金额与当前股价的比例，显示投资股票所获得的现金分红回报。\n",
    "   - 公式：\n",
    "   $$ 股息率(\\%) = \\frac{每股年度分红}{股价} \\times 100\\% $$\n",
    "\n",
    "10. **股息率(TTM)(%)**:\n",
    "    - 定义：滚动股息率（TTM）类似，它基于最近四个季度的总分红与当前股价计算，反映近一年的平均股息收益率。\n",
    "    - 公式：\n",
    "    $$ 股息率(TTM)(\\%) = \\frac{最近四个季度总分红}{股价} \\times 100\\% $$\n",
    "\n",
    "11. **总股本(万股)**:\n",
    "    - 定义：总股本是指公司发行的所有普通股的数量，不考虑限制流通的部分。\n",
    "\n",
    "12. **流通股本(万股)**:\n",
    "    - 定义：流通股本是指公司股票中能够在公开市场上自由买卖的那部分股份数量。\n",
    "\n",
    "13. **总市值(万元)**:\n",
    "    - 定义：总市值是公司所有已发行股票按当前市场价格计算的总价值。\n",
    "    - 公式：\n",
    "    $$ 总市值(万元) = 总股本(万股) \\times 当前股价 $$\n",
    "\n",
    "14. **流通市值(万元)**:\n",
    "    - 定义：流通市值是公司股票中能够自由交易的那部分股份按当前市场价格计算的总价值。\n",
    "    - 公式：\n",
    "    $$ 流通市值(万元) = 流通股本(万股) \\times 当前股价 $$ \n",
    "\n",
    "请注意，以上公式中的“当前股价”指的是分析时点上的股票市场价格。同时，不同国家和地区以及不同的金融数据服务商可能会在计算细节上有所差异。"
   ]
  },
  {
   "cell_type": "markdown",
   "metadata": {},
   "source": [
    "### 这些金融量化概念的归类以及它们在投资决策中的参考价值：\n",
    "\n",
    "1. **流动性指标**：\n",
    "   - **换手率(%)**：反映股票的活跃程度和流动性，较高的换手率意味着股票交易活跃，买卖容易，但过高也可能预示着市场情绪过热或投机气氛浓厚。\n",
    "   - **量比**：对比当前交易量与历史平均水平，有助于识别交易异常放大或缩小的情况，常被用来判断短期趋势的强度和持续性。\n",
    "\n",
    "2. **估值比率**：\n",
    "   - **市盈率(静态/TTM/动态)**：衡量投资者愿意为每一元净利润付出的价格，数值越高，理论上投资回收期越长，风险越大。较低的市盈率可能表明股票被低估，而较高的市盈率则可能代表市场对其未来增长有较高期待。\n",
    "   - **市净率**：比较股票价格与每股净资产的关系，用于评估资产价值是否被高估或低估，尤其是在重资产行业，如银行业和地产行业。\n",
    "   - **市销率及市销率(TTM)**：反映市场对每单位销售收入的估值，适用于利润不稳定或亏损但收入增长稳定的公司，例如科技创业公司。\n",
    "\n",
    "3. **收益质量及分红能力**：\n",
    "   - **股息率(%)及股息率(TTM)(%)**：衡量公司分红水平，是收益型投资者的重要参考指标，高股息率通常代表公司经营稳健且注重股东回报。\n",
    "\n",
    "4. **规模与流动性信息**：\n",
    "   - **总股本(万股)**、**流通股本(万股)**：揭示公司总体规模及市场中可交易股份的大小，影响股票的流通性和交易活跃度。\n",
    "   - **总市值(万元)**、**流通市值(万元)**：分别衡量公司全部股份和流通股份的市场价值，对于投资组合构建、市场权重分配等具有重要意义，同时也在一定程度上反映公司规模和影响力。\n",
    "\n",
    "综上所述，这些量化指标在投资过程中扮演了重要角色，帮助投资者从不同维度评估股票的投资价值、风险状况和市场表现，以便做出更为科学合理的投资决策。"
   ]
  },
  {
   "cell_type": "markdown",
   "metadata": {},
   "source": [
    "### 数据源及其指标调取"
   ]
  },
  {
   "cell_type": "code",
   "execution_count": 33,
   "metadata": {},
   "outputs": [
    {
     "data": {
      "text/plain": [
       "[('xjllb',), ('zcfzb',), ('lrb',), ('cwzbsj',), ('stock_daily',)]"
      ]
     },
     "execution_count": 33,
     "metadata": {},
     "output_type": "execute_result"
    }
   ],
   "source": [
    "# 此数据来自淘宝\n",
    "conn=sqlite3.connect(r'I:\\量化金融\\stock_2018.db')\n",
    "#获取数据库中的表\n",
    "c = conn.cursor()\n",
    "c.execute(\"select name from sqlite_master where type='table'\")\n",
    "tab_name=c.fetchall()\n",
    "tab_name"
   ]
  },
  {
   "cell_type": "code",
   "execution_count": 34,
   "metadata": {},
   "outputs": [
    {
     "data": {
      "text/html": [
       "<div>\n",
       "<style scoped>\n",
       "    .dataframe tbody tr th:only-of-type {\n",
       "        vertical-align: middle;\n",
       "    }\n",
       "\n",
       "    .dataframe tbody tr th {\n",
       "        vertical-align: top;\n",
       "    }\n",
       "\n",
       "    .dataframe thead th {\n",
       "        text-align: right;\n",
       "    }\n",
       "</style>\n",
       "<table border=\"1\" class=\"dataframe\">\n",
       "  <thead>\n",
       "    <tr style=\"text-align: right;\">\n",
       "      <th></th>\n",
       "      <th>index</th>\n",
       "      <th>交易日期</th>\n",
       "      <th>股票代码</th>\n",
       "      <th>股票简称</th>\n",
       "      <th>开盘价</th>\n",
       "      <th>最高价</th>\n",
       "      <th>最低价</th>\n",
       "      <th>收盘价</th>\n",
       "      <th>成交量(手)</th>\n",
       "      <th>成交额(千元)</th>\n",
       "      <th>...</th>\n",
       "      <th>市盈率(动态)</th>\n",
       "      <th>市净率</th>\n",
       "      <th>市销率</th>\n",
       "      <th>市销率(TTM)</th>\n",
       "      <th>股息率(%)</th>\n",
       "      <th>股息率(TTM)(%)</th>\n",
       "      <th>总股本(万股)</th>\n",
       "      <th>流通股本(万股)</th>\n",
       "      <th>总市值(万元)</th>\n",
       "      <th>流通市值(万元)</th>\n",
       "    </tr>\n",
       "  </thead>\n",
       "  <tbody>\n",
       "    <tr>\n",
       "      <th>0</th>\n",
       "      <td>6807</td>\n",
       "      <td>20200102</td>\n",
       "      <td>000002.SZ</td>\n",
       "      <td>万科A</td>\n",
       "      <td>4867.9136</td>\n",
       "      <td>4986.6432</td>\n",
       "      <td>4824.8741</td>\n",
       "      <td>4832.2947</td>\n",
       "      <td>1012130.40</td>\n",
       "      <td>3342373.870</td>\n",
       "      <td>...</td>\n",
       "      <td>NaN</td>\n",
       "      <td>2.2000</td>\n",
       "      <td>1.2362</td>\n",
       "      <td>1.0649</td>\n",
       "      <td>3.2098</td>\n",
       "      <td>3.2098</td>\n",
       "      <td>1.130214e+06</td>\n",
       "      <td>971517.0043</td>\n",
       "      <td>3.679978e+07</td>\n",
       "      <td>3.163259e+07</td>\n",
       "    </tr>\n",
       "    <tr>\n",
       "      <th>1</th>\n",
       "      <td>6808</td>\n",
       "      <td>20200103</td>\n",
       "      <td>000002.SZ</td>\n",
       "      <td>万科A</td>\n",
       "      <td>4854.5565</td>\n",
       "      <td>4869.3977</td>\n",
       "      <td>4716.5334</td>\n",
       "      <td>4756.6046</td>\n",
       "      <td>805536.29</td>\n",
       "      <td>2584309.903</td>\n",
       "      <td>...</td>\n",
       "      <td>14.89</td>\n",
       "      <td>2.1655</td>\n",
       "      <td>1.2169</td>\n",
       "      <td>1.0482</td>\n",
       "      <td>3.2608</td>\n",
       "      <td>3.2608</td>\n",
       "      <td>1.130214e+06</td>\n",
       "      <td>971517.0043</td>\n",
       "      <td>3.622337e+07</td>\n",
       "      <td>3.113712e+07</td>\n",
       "    </tr>\n",
       "    <tr>\n",
       "      <th>2</th>\n",
       "      <td>6809</td>\n",
       "      <td>20200106</td>\n",
       "      <td>000002.SZ</td>\n",
       "      <td>万科A</td>\n",
       "      <td>4712.0810</td>\n",
       "      <td>4713.5651</td>\n",
       "      <td>4637.8750</td>\n",
       "      <td>4676.4621</td>\n",
       "      <td>876840.58</td>\n",
       "      <td>2761448.649</td>\n",
       "      <td>...</td>\n",
       "      <td>14.64</td>\n",
       "      <td>2.1290</td>\n",
       "      <td>1.1964</td>\n",
       "      <td>1.0306</td>\n",
       "      <td>3.3167</td>\n",
       "      <td>3.3167</td>\n",
       "      <td>1.130214e+06</td>\n",
       "      <td>971517.0043</td>\n",
       "      <td>3.561305e+07</td>\n",
       "      <td>3.061250e+07</td>\n",
       "    </tr>\n",
       "    <tr>\n",
       "      <th>3</th>\n",
       "      <td>6810</td>\n",
       "      <td>20200107</td>\n",
       "      <td>000002.SZ</td>\n",
       "      <td>万科A</td>\n",
       "      <td>4691.3033</td>\n",
       "      <td>4738.7952</td>\n",
       "      <td>4652.7162</td>\n",
       "      <td>4713.5651</td>\n",
       "      <td>577933.43</td>\n",
       "      <td>1827510.871</td>\n",
       "      <td>...</td>\n",
       "      <td>14.76</td>\n",
       "      <td>2.1459</td>\n",
       "      <td>1.2058</td>\n",
       "      <td>1.0387</td>\n",
       "      <td>3.2906</td>\n",
       "      <td>3.2906</td>\n",
       "      <td>1.130214e+06</td>\n",
       "      <td>971517.0043</td>\n",
       "      <td>3.589561e+07</td>\n",
       "      <td>3.085538e+07</td>\n",
       "    </tr>\n",
       "    <tr>\n",
       "      <th>4</th>\n",
       "      <td>6811</td>\n",
       "      <td>20200108</td>\n",
       "      <td>000002.SZ</td>\n",
       "      <td>万科A</td>\n",
       "      <td>4645.2956</td>\n",
       "      <td>4715.0492</td>\n",
       "      <td>4608.1926</td>\n",
       "      <td>4701.6922</td>\n",
       "      <td>529996.84</td>\n",
       "      <td>1667143.803</td>\n",
       "      <td>...</td>\n",
       "      <td>14.72</td>\n",
       "      <td>2.1405</td>\n",
       "      <td>1.2028</td>\n",
       "      <td>1.0361</td>\n",
       "      <td>3.2989</td>\n",
       "      <td>3.2989</td>\n",
       "      <td>1.130214e+06</td>\n",
       "      <td>971517.0043</td>\n",
       "      <td>3.580519e+07</td>\n",
       "      <td>3.077766e+07</td>\n",
       "    </tr>\n",
       "  </tbody>\n",
       "</table>\n",
       "<p>5 rows × 24 columns</p>\n",
       "</div>"
      ],
      "text/plain": [
       "   index      交易日期       股票代码 股票简称        开盘价        最高价        最低价  \\\n",
       "0   6807  20200102  000002.SZ  万科A  4867.9136  4986.6432  4824.8741   \n",
       "1   6808  20200103  000002.SZ  万科A  4854.5565  4869.3977  4716.5334   \n",
       "2   6809  20200106  000002.SZ  万科A  4712.0810  4713.5651  4637.8750   \n",
       "3   6810  20200107  000002.SZ  万科A  4691.3033  4738.7952  4652.7162   \n",
       "4   6811  20200108  000002.SZ  万科A  4645.2956  4715.0492  4608.1926   \n",
       "\n",
       "         收盘价      成交量(手)      成交额(千元)  ...  市盈率(动态)     市净率     市销率  市销率(TTM)  \\\n",
       "0  4832.2947  1012130.40  3342373.870  ...      NaN  2.2000  1.2362    1.0649   \n",
       "1  4756.6046   805536.29  2584309.903  ...    14.89  2.1655  1.2169    1.0482   \n",
       "2  4676.4621   876840.58  2761448.649  ...    14.64  2.1290  1.1964    1.0306   \n",
       "3  4713.5651   577933.43  1827510.871  ...    14.76  2.1459  1.2058    1.0387   \n",
       "4  4701.6922   529996.84  1667143.803  ...    14.72  2.1405  1.2028    1.0361   \n",
       "\n",
       "   股息率(%)  股息率(TTM)(%)       总股本(万股)     流通股本(万股)       总市值(万元)      流通市值(万元)  \n",
       "0  3.2098       3.2098  1.130214e+06  971517.0043  3.679978e+07  3.163259e+07  \n",
       "1  3.2608       3.2608  1.130214e+06  971517.0043  3.622337e+07  3.113712e+07  \n",
       "2  3.3167       3.3167  1.130214e+06  971517.0043  3.561305e+07  3.061250e+07  \n",
       "3  3.2906       3.2906  1.130214e+06  971517.0043  3.589561e+07  3.085538e+07  \n",
       "4  3.2989       3.2989  1.130214e+06  971517.0043  3.580519e+07  3.077766e+07  \n",
       "\n",
       "[5 rows x 24 columns]"
      ]
     },
     "execution_count": 34,
     "metadata": {},
     "output_type": "execute_result"
    }
   ],
   "source": [
    "stock_daily0=pd.read_sql(\"select * from stock_daily where 交易日期>'20200101' and 交易日期<'20210101' \",con=conn)\n",
    "stock_daily0.head()"
   ]
  },
  {
   "cell_type": "code",
   "execution_count": 22,
   "metadata": {},
   "outputs": [
    {
     "data": {
      "text/plain": [
       "Index(['index', '交易日期', '股票代码', '股票简称', '开盘价', '最高价', '最低价', '收盘价', '成交量(手)',\n",
       "       '成交额(千元)', '换手率(%)', '量比', '市盈率(静态)', '市盈率(TTM)', '市盈率(动态)', '市净率',\n",
       "       '市销率', '市销率(TTM)', '股息率(%)', '股息率(TTM)(%)', '总股本(万股)', '流通股本(万股)',\n",
       "       '总市值(万元)', '流通市值(万元)'],\n",
       "      dtype='object')"
      ]
     },
     "execution_count": 22,
     "metadata": {},
     "output_type": "execute_result"
    }
   ],
   "source": [
    "stock_daily0.columns"
   ]
  },
  {
   "cell_type": "markdown",
   "metadata": {},
   "source": [
    "### classwork 3\n",
    "\n",
    "* 自行下载数据获取2022年全部股票的数据\n",
    "\n",
    "* 完成如下金融指标概念相关的练习题目:\n",
    "\n",
    "1. 一家公司的年度净利润为1.2亿元,目前股价为25元,流通股数量为5000万股。请根据给定信息,计算该公司的市盈率(静态)。\n",
    "\n",
    "2. 某公司的年化净利润预计为8000万元,预计明年增长10%,后年增长8%。若现金流折现率为12%,可以计算该公司的动态市盈率为多少?假设当前市值12亿元。\n",
    "\n",
    "3. 一家制造企业的年末账面净资产值为25亿元,当前股价为18元,流通股数量为10亿股。请计算该公司的市净率。\n",
    "\n",
    "4. 某零售企业的去年全年销售收入为50亿元,目前市值为120亿元。请计算该公司的市销率。\n",
    "\n",
    "5. 公司A每年派发1元的固定现金股利,当前股价为30元。公司B股利率为3%,当前股价为25元。请分别计算两家公司的股息率。\n",
    "\n",
    "6. 公司X和公司Y营收相同,公司X的市销率为2,公司Y的市销率为1.5。已知公司Y的市值是60亿元,请根据市销率指标估算公司X的市值。\n",
    "\n",
    "7. 某上市银行当前的静态市盈率为15倍，动态市盈率为13倍，其最近一年的每股收益为2元，预计下一年度的每股收益增长率为10%。请根据上述信息，估算未来该银行股票合理价格\n",
    "\n",
    "这些题目涵盖了静态估值、动态估值、相对估值等不同的股票估值方法,并考虑了各种常用的估值指标和公式,是不错的练习。解答时需要熟练运用各项指标的计算公式。"
   ]
  },
  {
   "cell_type": "code",
   "execution_count": 35,
   "metadata": {},
   "outputs": [
    {
     "data": {
      "text/plain": [
       "10.416666666666668"
      ]
     },
     "execution_count": 35,
     "metadata": {},
     "output_type": "execute_result"
    }
   ],
   "source": [
    "25/(120000000/50000000)"
   ]
  },
  {
   "cell_type": "code",
   "execution_count": 38,
   "metadata": {},
   "outputs": [
    {
     "data": {
      "text/plain": [
       "75765306.12244897"
      ]
     },
     "execution_count": 38,
     "metadata": {},
     "output_type": "execute_result"
    }
   ],
   "source": [
    "80000000*(1+0.1)*(1+0.08)/((1+0.12)*(1+0.12))"
   ]
  },
  {
   "cell_type": "code",
   "execution_count": 39,
   "metadata": {},
   "outputs": [
    {
     "data": {
      "text/plain": [
       "15.838383838383841"
      ]
     },
     "execution_count": 39,
     "metadata": {},
     "output_type": "execute_result"
    }
   ],
   "source": [
    "1200000000/75765306.12244897"
   ]
  },
  {
   "cell_type": "code",
   "execution_count": 41,
   "metadata": {},
   "outputs": [
    {
     "data": {
      "text/plain": [
       "7.2"
      ]
     },
     "execution_count": 41,
     "metadata": {},
     "output_type": "execute_result"
    }
   ],
   "source": [
    "18/(25/10)"
   ]
  },
  {
   "cell_type": "markdown",
   "metadata": {},
   "source": [
    "## Fama-French三因子模型\n",
    "\n",
    "Fama-French三因子模型是金融经济学领域中一种重要的资产定价模型，由Eugene Fama和Kenneth French于1992年提出，旨在改进资本资产定价模型（Capital Asset Pricing Model, CAPM），该模型仅依赖单一的市场因子无法完全解释不同股票的风险溢价差异。Fama-French三因子模型引入了两个额外的因子，即市值规模（Size）和账面市值比（Book-to-Market，B/M或HML因子）来更好地描述股票回报率的不同来源。\n",
    "\n",
    "模型的基本原理是：\n",
    "- 市场因子（Market factor）：市场风险溢价也叫市场风险溢酬 (Market Risk Premium)，表现为股票组合与整个市场的关联性，通常用市场组合（如大盘指数）的收益率减去无风险利率来表示。模型假设投资者要为承担整体市场风险获得补偿,即系统性风险。\n",
    "- 小市值效应（Small Minus Big, SMB因子）：小市值公司相对于大市值公司的超额收益，这是由于小市值公司在市场中往往表现出更高的风险和收益。\n",
    "- 价值效应（High Minus Low, HML因子）：账面市值比高的“价值型”股票相对于账面市值比低的“成长型”股票的超额收益，反映出投资者偏好某些时期内对账面价值高但市值相对较低股票的风险补偿。\n",
    "\n",
    "模型的公式可以用 LaTeX 表示为：\n",
    "$$ E(R_i) - R_f = \\alpha_i + \\beta_i (R_m - R_f) + s_i \\cdot SMB + h_i \\cdot HML + \\epsilon_i $$\n",
    "其中，\n",
    "- $ E(R_i) $ 是股票i的预期收益率；\n",
    "- $ R_f $ 是无风险收益率；\n",
    "- $ R_m $ 是市场组合的收益率；\n",
    "- $ \\beta_i $ 是股票i相对于市场组合的系统性风险系数；\n",
    "- $ s_i $ 是股票i在市值规模因子上的暴露度；\n",
    "- $ h_i $ 是股票i在账面市值比因子上的暴露度；\n",
    "- $ SMB $ 和 $ HML $ 分别是小市值和价值因子的预期收益率；\n",
    "- $ \\alpha_i $ 是残差项，代表不可被模型解释的特定股票的超额收益；\n",
    "- $ \\epsilon_i $ 是随机误差项。\n",
    "\n",
    "* 核心思想\n",
    "\n",
    "三因子模型的核心思想是:除了市场整体风险之外,投资者在投资决策中还关注公司规模和公司价值(账面市值比)等因素。具体来说:\n",
    "\n",
    "1. 公司规模效应\n",
    "小型公司股票往往有较高的预期收益,因为它们面临较高的风险和较低的流动性。投资者需要获得额外的风险补偿,才愿意持有这些股票。\n",
    "\n",
    "2. 公司价值效应  \n",
    "高账面市值比(价值股)股票的预期收益率较高,这可能是由于:\n",
    "(1) 这些公司可能被低估了; \n",
    "(2) 价值股面临较高的财务困难风险;\n",
    "(3) 投资者对成长型股票过于乐观。\n",
    "\n",
    "3. 综合多因素定价\n",
    "三因子模型将预期收益率分解为三个风险来源: 市场风险溢酬、公司规模风险溢酬和公司价值风险溢酬。相比CAPM单一的市场beta,它为定价引入了更多的解释变量。\n",
    "\n",
    "4. 实证证据\n",
    "该模型在实证研究中表现出了较好的解释力,能更准确捕捉不同股票间的收益差异。\n",
    "\n",
    "* 局限性:\n",
    "\n",
    "1. 缺乏足够的理论基础支撑\n",
    "该模型发现的规模效应和价值效应缺乏令人信服的理论解释,更多是基于实证发现。\n",
    "\n",
    "2. 模型参数不稳定\n",
    "规模和价值两个因子的风险补偿在不同时期和市场表现不一致,缺乏稳健性。\n",
    "\n",
    "3. 忽视了其他可能的风险因子\n",
    "可能还存在其他影响股票收益率的系统风险因子,如盈利质量、投资强度等,该模型没有纳入考虑。\n",
    "\n",
    "4. 数据挖掘偏误\n",
    "由于大量的数据分析检验,可能存在\"数据挖掘\"的问题,发现的效应并非真实存在。\n",
    "\n",
    "5. 缺乏足够的经济解释\n",
    "即使在控制其他变量后,规模和价值效应仍然存在,其背后的经济学根源仍不清晰。\n",
    "\n",
    "总的来说,Fama-French三因子模型拓展了CAPM单一市场风险的视角,为资产定价提供了更精细化的工具。但它也面临一些理论和实证上的批评和挑战。未来还需要进一步完善这一资产定价理论框架。\n",
    "该模型主要用于资产定价、投资组合优化、风险管理以及基金业绩评价等方面，尤其在解释和预测股票超额收益方面，提供了更全面的视角。后续研究中，Fama和French还进一步发展了五因子模型和其他扩展版本，以适应更多样化的市场环境和投资策略需求。"
   ]
  },
  {
   "cell_type": "code",
   "execution_count": 59,
   "metadata": {},
   "outputs": [
    {
     "data": {
      "text/html": [
       "<div>\n",
       "<style scoped>\n",
       "    .dataframe tbody tr th:only-of-type {\n",
       "        vertical-align: middle;\n",
       "    }\n",
       "\n",
       "    .dataframe tbody tr th {\n",
       "        vertical-align: top;\n",
       "    }\n",
       "\n",
       "    .dataframe thead th {\n",
       "        text-align: right;\n",
       "    }\n",
       "</style>\n",
       "<table border=\"1\" class=\"dataframe\">\n",
       "  <thead>\n",
       "    <tr style=\"text-align: right;\">\n",
       "      <th></th>\n",
       "      <th>index</th>\n",
       "      <th>交易日期</th>\n",
       "      <th>股票代码</th>\n",
       "      <th>股票简称</th>\n",
       "      <th>开盘价</th>\n",
       "      <th>最高价</th>\n",
       "      <th>最低价</th>\n",
       "      <th>收盘价</th>\n",
       "      <th>成交量(手)</th>\n",
       "      <th>成交额(千元)</th>\n",
       "      <th>...</th>\n",
       "      <th>市盈率(动态)</th>\n",
       "      <th>市净率</th>\n",
       "      <th>市销率</th>\n",
       "      <th>市销率(TTM)</th>\n",
       "      <th>股息率(%)</th>\n",
       "      <th>股息率(TTM)(%)</th>\n",
       "      <th>总股本(万股)</th>\n",
       "      <th>流通股本(万股)</th>\n",
       "      <th>总市值(万元)</th>\n",
       "      <th>流通市值(万元)</th>\n",
       "    </tr>\n",
       "  </thead>\n",
       "  <tbody>\n",
       "    <tr>\n",
       "      <th>0</th>\n",
       "      <td>6807</td>\n",
       "      <td>20200102</td>\n",
       "      <td>000002.SZ</td>\n",
       "      <td>万科A</td>\n",
       "      <td>4867.9136</td>\n",
       "      <td>4986.6432</td>\n",
       "      <td>4824.8741</td>\n",
       "      <td>4832.2947</td>\n",
       "      <td>1012130.40</td>\n",
       "      <td>3342373.870</td>\n",
       "      <td>...</td>\n",
       "      <td>NaN</td>\n",
       "      <td>2.2000</td>\n",
       "      <td>1.2362</td>\n",
       "      <td>1.0649</td>\n",
       "      <td>3.2098</td>\n",
       "      <td>3.2098</td>\n",
       "      <td>1.130214e+06</td>\n",
       "      <td>971517.0043</td>\n",
       "      <td>3.679978e+07</td>\n",
       "      <td>3.163259e+07</td>\n",
       "    </tr>\n",
       "    <tr>\n",
       "      <th>1</th>\n",
       "      <td>6808</td>\n",
       "      <td>20200103</td>\n",
       "      <td>000002.SZ</td>\n",
       "      <td>万科A</td>\n",
       "      <td>4854.5565</td>\n",
       "      <td>4869.3977</td>\n",
       "      <td>4716.5334</td>\n",
       "      <td>4756.6046</td>\n",
       "      <td>805536.29</td>\n",
       "      <td>2584309.903</td>\n",
       "      <td>...</td>\n",
       "      <td>14.89</td>\n",
       "      <td>2.1655</td>\n",
       "      <td>1.2169</td>\n",
       "      <td>1.0482</td>\n",
       "      <td>3.2608</td>\n",
       "      <td>3.2608</td>\n",
       "      <td>1.130214e+06</td>\n",
       "      <td>971517.0043</td>\n",
       "      <td>3.622337e+07</td>\n",
       "      <td>3.113712e+07</td>\n",
       "    </tr>\n",
       "    <tr>\n",
       "      <th>2</th>\n",
       "      <td>6809</td>\n",
       "      <td>20200106</td>\n",
       "      <td>000002.SZ</td>\n",
       "      <td>万科A</td>\n",
       "      <td>4712.0810</td>\n",
       "      <td>4713.5651</td>\n",
       "      <td>4637.8750</td>\n",
       "      <td>4676.4621</td>\n",
       "      <td>876840.58</td>\n",
       "      <td>2761448.649</td>\n",
       "      <td>...</td>\n",
       "      <td>14.64</td>\n",
       "      <td>2.1290</td>\n",
       "      <td>1.1964</td>\n",
       "      <td>1.0306</td>\n",
       "      <td>3.3167</td>\n",
       "      <td>3.3167</td>\n",
       "      <td>1.130214e+06</td>\n",
       "      <td>971517.0043</td>\n",
       "      <td>3.561305e+07</td>\n",
       "      <td>3.061250e+07</td>\n",
       "    </tr>\n",
       "    <tr>\n",
       "      <th>3</th>\n",
       "      <td>6810</td>\n",
       "      <td>20200107</td>\n",
       "      <td>000002.SZ</td>\n",
       "      <td>万科A</td>\n",
       "      <td>4691.3033</td>\n",
       "      <td>4738.7952</td>\n",
       "      <td>4652.7162</td>\n",
       "      <td>4713.5651</td>\n",
       "      <td>577933.43</td>\n",
       "      <td>1827510.871</td>\n",
       "      <td>...</td>\n",
       "      <td>14.76</td>\n",
       "      <td>2.1459</td>\n",
       "      <td>1.2058</td>\n",
       "      <td>1.0387</td>\n",
       "      <td>3.2906</td>\n",
       "      <td>3.2906</td>\n",
       "      <td>1.130214e+06</td>\n",
       "      <td>971517.0043</td>\n",
       "      <td>3.589561e+07</td>\n",
       "      <td>3.085538e+07</td>\n",
       "    </tr>\n",
       "    <tr>\n",
       "      <th>4</th>\n",
       "      <td>6811</td>\n",
       "      <td>20200108</td>\n",
       "      <td>000002.SZ</td>\n",
       "      <td>万科A</td>\n",
       "      <td>4645.2956</td>\n",
       "      <td>4715.0492</td>\n",
       "      <td>4608.1926</td>\n",
       "      <td>4701.6922</td>\n",
       "      <td>529996.84</td>\n",
       "      <td>1667143.803</td>\n",
       "      <td>...</td>\n",
       "      <td>14.72</td>\n",
       "      <td>2.1405</td>\n",
       "      <td>1.2028</td>\n",
       "      <td>1.0361</td>\n",
       "      <td>3.2989</td>\n",
       "      <td>3.2989</td>\n",
       "      <td>1.130214e+06</td>\n",
       "      <td>971517.0043</td>\n",
       "      <td>3.580519e+07</td>\n",
       "      <td>3.077766e+07</td>\n",
       "    </tr>\n",
       "  </tbody>\n",
       "</table>\n",
       "<p>5 rows × 24 columns</p>\n",
       "</div>"
      ],
      "text/plain": [
       "   index      交易日期       股票代码 股票简称        开盘价        最高价        最低价  \\\n",
       "0   6807  20200102  000002.SZ  万科A  4867.9136  4986.6432  4824.8741   \n",
       "1   6808  20200103  000002.SZ  万科A  4854.5565  4869.3977  4716.5334   \n",
       "2   6809  20200106  000002.SZ  万科A  4712.0810  4713.5651  4637.8750   \n",
       "3   6810  20200107  000002.SZ  万科A  4691.3033  4738.7952  4652.7162   \n",
       "4   6811  20200108  000002.SZ  万科A  4645.2956  4715.0492  4608.1926   \n",
       "\n",
       "         收盘价      成交量(手)      成交额(千元)  ...  市盈率(动态)     市净率     市销率  市销率(TTM)  \\\n",
       "0  4832.2947  1012130.40  3342373.870  ...      NaN  2.2000  1.2362    1.0649   \n",
       "1  4756.6046   805536.29  2584309.903  ...    14.89  2.1655  1.2169    1.0482   \n",
       "2  4676.4621   876840.58  2761448.649  ...    14.64  2.1290  1.1964    1.0306   \n",
       "3  4713.5651   577933.43  1827510.871  ...    14.76  2.1459  1.2058    1.0387   \n",
       "4  4701.6922   529996.84  1667143.803  ...    14.72  2.1405  1.2028    1.0361   \n",
       "\n",
       "   股息率(%)  股息率(TTM)(%)       总股本(万股)     流通股本(万股)       总市值(万元)      流通市值(万元)  \n",
       "0  3.2098       3.2098  1.130214e+06  971517.0043  3.679978e+07  3.163259e+07  \n",
       "1  3.2608       3.2608  1.130214e+06  971517.0043  3.622337e+07  3.113712e+07  \n",
       "2  3.3167       3.3167  1.130214e+06  971517.0043  3.561305e+07  3.061250e+07  \n",
       "3  3.2906       3.2906  1.130214e+06  971517.0043  3.589561e+07  3.085538e+07  \n",
       "4  3.2989       3.2989  1.130214e+06  971517.0043  3.580519e+07  3.077766e+07  \n",
       "\n",
       "[5 rows x 24 columns]"
      ]
     },
     "execution_count": 59,
     "metadata": {},
     "output_type": "execute_result"
    }
   ],
   "source": [
    "stock_daily0=pd.read_sql(\"select * from stock_daily where 交易日期>'20200101' and 交易日期<'20210101' \",con=conn)\n",
    "stock_daily0.head()"
   ]
  },
  {
   "cell_type": "markdown",
   "metadata": {},
   "source": [
    "### smb 与 hml 因子的计算"
   ]
  },
  {
   "cell_type": "code",
   "execution_count": 60,
   "metadata": {},
   "outputs": [
    {
     "data": {
      "text/html": [
       "<div>\n",
       "<style scoped>\n",
       "    .dataframe tbody tr th:only-of-type {\n",
       "        vertical-align: middle;\n",
       "    }\n",
       "\n",
       "    .dataframe tbody tr th {\n",
       "        vertical-align: top;\n",
       "    }\n",
       "\n",
       "    .dataframe thead th {\n",
       "        text-align: right;\n",
       "    }\n",
       "</style>\n",
       "<table border=\"1\" class=\"dataframe\">\n",
       "  <thead>\n",
       "    <tr style=\"text-align: right;\">\n",
       "      <th></th>\n",
       "      <th>index</th>\n",
       "      <th>交易日期</th>\n",
       "      <th>股票代码</th>\n",
       "      <th>股票简称</th>\n",
       "      <th>开盘价</th>\n",
       "      <th>最高价</th>\n",
       "      <th>最低价</th>\n",
       "      <th>收盘价</th>\n",
       "      <th>成交量(手)</th>\n",
       "      <th>成交额(千元)</th>\n",
       "      <th>...</th>\n",
       "      <th>市盈率(动态)</th>\n",
       "      <th>市净率</th>\n",
       "      <th>市销率</th>\n",
       "      <th>市销率(TTM)</th>\n",
       "      <th>股息率(%)</th>\n",
       "      <th>股息率(TTM)(%)</th>\n",
       "      <th>总股本(万股)</th>\n",
       "      <th>流通股本(万股)</th>\n",
       "      <th>总市值(万元)</th>\n",
       "      <th>流通市值(万元)</th>\n",
       "    </tr>\n",
       "  </thead>\n",
       "  <tbody>\n",
       "    <tr>\n",
       "      <th>0</th>\n",
       "      <td>6807</td>\n",
       "      <td>20200102</td>\n",
       "      <td>000002.SZ</td>\n",
       "      <td>万科A</td>\n",
       "      <td>4867.9136</td>\n",
       "      <td>4986.6432</td>\n",
       "      <td>4824.8741</td>\n",
       "      <td>4832.2947</td>\n",
       "      <td>1012130.4</td>\n",
       "      <td>3342373.87</td>\n",
       "      <td>...</td>\n",
       "      <td>NaN</td>\n",
       "      <td>2.2</td>\n",
       "      <td>1.2362</td>\n",
       "      <td>1.0649</td>\n",
       "      <td>3.2098</td>\n",
       "      <td>3.2098</td>\n",
       "      <td>1.130214e+06</td>\n",
       "      <td>971517.0043</td>\n",
       "      <td>3.679978e+07</td>\n",
       "      <td>31632593.66</td>\n",
       "    </tr>\n",
       "  </tbody>\n",
       "</table>\n",
       "<p>1 rows × 24 columns</p>\n",
       "</div>"
      ],
      "text/plain": [
       "   index      交易日期       股票代码 股票简称        开盘价        最高价        最低价  \\\n",
       "0   6807  20200102  000002.SZ  万科A  4867.9136  4986.6432  4824.8741   \n",
       "\n",
       "         收盘价     成交量(手)     成交额(千元)  ...  市盈率(动态)  市净率     市销率  市销率(TTM)  \\\n",
       "0  4832.2947  1012130.4  3342373.87  ...      NaN  2.2  1.2362    1.0649   \n",
       "\n",
       "   股息率(%)  股息率(TTM)(%)       总股本(万股)     流通股本(万股)       总市值(万元)     流通市值(万元)  \n",
       "0  3.2098       3.2098  1.130214e+06  971517.0043  3.679978e+07  31632593.66  \n",
       "\n",
       "[1 rows x 24 columns]"
      ]
     },
     "execution_count": 60,
     "metadata": {},
     "output_type": "execute_result"
    }
   ],
   "source": [
    "stock_daily0.head(1)"
   ]
  },
  {
   "cell_type": "code",
   "execution_count": 61,
   "metadata": {},
   "outputs": [],
   "source": [
    "\n",
    "\n",
    "daily=stock_daily0[\"交易日期\"].unique()\n",
    "smb=[]\n",
    "hml=[]\n",
    "test0=stock_daily0[stock_daily0[\"交易日期\"]==daily[0]][[\"股票代码\",\"收盘价\"]].copy()\n",
    "test0.set_index(\"股票代码\",inplace=True)\n",
    "\n",
    "for i in daily[1:]:\n",
    "\n",
    "    #构建各个股票在当天的收益率\n",
    "    test1=stock_daily0[stock_daily0[\"交易日期\"]==i][[\"股票代码\",\"收盘价\"]].copy()\n",
    "    test1.set_index(\"股票代码\",inplace=True)\n",
    "    test=test1/test0-1\n",
    "    test0=test1.copy()\n",
    "\n",
    "    #获取当天的市值表与市净率的倒数表\n",
    "    all_stocks=stock_daily0[stock_daily0[\"交易日期\"]==i][[\"股票代码\",\"市净率\",\"总市值(万元)\"]].copy()\n",
    "    all_stocks.set_index(\"股票代码\",inplace=True)\n",
    "    all_stocks[\"市净率\"]=1/all_stocks[\"市净率\"]\n",
    "\n",
    "    #将市值表与市净率倒数表进行排序，并按照市值与市净率倒数进行分组\n",
    "    all_stocks=all_stocks.sort_values('总市值(万元)')\n",
    "    s=all_stocks.index[:int(len(all_stocks)/2)]\n",
    "    b=all_stocks.index[int(len(all_stocks)/2):]\n",
    "    all_stocks=all_stocks.sort_values('市净率')\n",
    "    l=all_stocks.index[:int(len(all_stocks)*0.3)]\n",
    "    m=all_stocks.index[int(len(all_stocks)*0.3):int(len(all_stocks)*0.7)]\n",
    "    h=all_stocks.index[int(len(all_stocks)*0.7):]\n",
    "    portfolio={}\n",
    "    portfolio['sl']=list(set(s).intersection(set(l)))\n",
    "    portfolio['sm']=list(set(s).intersection(set(m)))\n",
    "    portfolio['sh']=list(set(s).intersection(set(h)))\n",
    "    portfolio['bl']=list(set(b).intersection(set(l)))\n",
    "    portfolio['bm']=list(set(b).intersection(set(m)))\n",
    "    portfolio['bh']=list(set(b).intersection(set(h)))\n",
    "\n",
    "    #计算当日的smb和hml\n",
    "    portfolio_return={}\n",
    "    for s in portfolio:\n",
    "        portfolio_return[s]=0\n",
    "        for h in portfolio[s]:\n",
    "            if (not np.isnan(all_stocks['总市值(万元)'][h])) and (not np.isnan(test[\"收盘价\"][h])): #如果有空值则直接跳过\n",
    "                portfolio_return[s]+=all_stocks['总市值(万元)'][h]*test[\"收盘价\"][h]\n",
    "        portfolio_return[s]=  portfolio_return[s]/np.sum(all_stocks['总市值(万元)'][portfolio[s]])\n",
    "\n",
    "    smb.append((portfolio_return['sl']+portfolio_return['sm']+portfolio_return['sh'])/3-(portfolio_return['bl']+portfolio_return['bm']+portfolio_return['bh'])/3)\n",
    "    hml.append((portfolio_return['sh']+portfolio_return['bh'])/2-(portfolio_return['sl']+portfolio_return['bl'])/2)\n"
   ]
  },
  {
   "cell_type": "code",
   "execution_count": 64,
   "metadata": {},
   "outputs": [],
   "source": [
    "#hml"
   ]
  },
  {
   "cell_type": "code",
   "execution_count": 65,
   "metadata": {},
   "outputs": [
    {
     "data": {
      "text/html": [
       "<div>\n",
       "<style scoped>\n",
       "    .dataframe tbody tr th:only-of-type {\n",
       "        vertical-align: middle;\n",
       "    }\n",
       "\n",
       "    .dataframe tbody tr th {\n",
       "        vertical-align: top;\n",
       "    }\n",
       "\n",
       "    .dataframe thead th {\n",
       "        text-align: right;\n",
       "    }\n",
       "</style>\n",
       "<table border=\"1\" class=\"dataframe\">\n",
       "  <thead>\n",
       "    <tr style=\"text-align: right;\">\n",
       "      <th></th>\n",
       "      <th>SMB</th>\n",
       "      <th>HML</th>\n",
       "      <th>date</th>\n",
       "    </tr>\n",
       "  </thead>\n",
       "  <tbody>\n",
       "    <tr>\n",
       "      <th>0</th>\n",
       "      <td>0.003815</td>\n",
       "      <td>0.001289</td>\n",
       "      <td>20200103</td>\n",
       "    </tr>\n",
       "    <tr>\n",
       "      <th>1</th>\n",
       "      <td>0.002781</td>\n",
       "      <td>0.000107</td>\n",
       "      <td>20200106</td>\n",
       "    </tr>\n",
       "    <tr>\n",
       "      <th>2</th>\n",
       "      <td>0.000671</td>\n",
       "      <td>-0.002336</td>\n",
       "      <td>20200107</td>\n",
       "    </tr>\n",
       "    <tr>\n",
       "      <th>3</th>\n",
       "      <td>-0.000778</td>\n",
       "      <td>-0.003993</td>\n",
       "      <td>20200108</td>\n",
       "    </tr>\n",
       "    <tr>\n",
       "      <th>4</th>\n",
       "      <td>0.001527</td>\n",
       "      <td>-0.010244</td>\n",
       "      <td>20200109</td>\n",
       "    </tr>\n",
       "    <tr>\n",
       "      <th>...</th>\n",
       "      <td>...</td>\n",
       "      <td>...</td>\n",
       "      <td>...</td>\n",
       "    </tr>\n",
       "    <tr>\n",
       "      <th>237</th>\n",
       "      <td>0.000048</td>\n",
       "      <td>0.003876</td>\n",
       "      <td>20201225</td>\n",
       "    </tr>\n",
       "    <tr>\n",
       "      <th>238</th>\n",
       "      <td>-0.016993</td>\n",
       "      <td>-0.001402</td>\n",
       "      <td>20201228</td>\n",
       "    </tr>\n",
       "    <tr>\n",
       "      <th>239</th>\n",
       "      <td>0.004505</td>\n",
       "      <td>0.004464</td>\n",
       "      <td>20201229</td>\n",
       "    </tr>\n",
       "    <tr>\n",
       "      <th>240</th>\n",
       "      <td>-0.011319</td>\n",
       "      <td>-0.008872</td>\n",
       "      <td>20201230</td>\n",
       "    </tr>\n",
       "    <tr>\n",
       "      <th>241</th>\n",
       "      <td>-0.003491</td>\n",
       "      <td>-0.008211</td>\n",
       "      <td>20201231</td>\n",
       "    </tr>\n",
       "  </tbody>\n",
       "</table>\n",
       "<p>242 rows × 3 columns</p>\n",
       "</div>"
      ],
      "text/plain": [
       "          SMB       HML      date\n",
       "0    0.003815  0.001289  20200103\n",
       "1    0.002781  0.000107  20200106\n",
       "2    0.000671 -0.002336  20200107\n",
       "3   -0.000778 -0.003993  20200108\n",
       "4    0.001527 -0.010244  20200109\n",
       "..        ...       ...       ...\n",
       "237  0.000048  0.003876  20201225\n",
       "238 -0.016993 -0.001402  20201228\n",
       "239  0.004505  0.004464  20201229\n",
       "240 -0.011319 -0.008872  20201230\n",
       "241 -0.003491 -0.008211  20201231\n",
       "\n",
       "[242 rows x 3 columns]"
      ]
     },
     "execution_count": 65,
     "metadata": {},
     "output_type": "execute_result"
    }
   ],
   "source": [
    "factors=pd.DataFrame({'SMB':smb,'HML':hml,\"date\":daily[1:]})\n",
    "factors"
   ]
  },
  {
   "cell_type": "code",
   "execution_count": null,
   "metadata": {},
   "outputs": [],
   "source": []
  },
  {
   "cell_type": "markdown",
   "metadata": {},
   "source": [
    "### 模型的时间序列回归分析\n",
    "\n",
    "Fama-French三因子模型不同于经典的多因子模型，没有采用横截面回归，而是进行时间序列的回归。其中 HML 和 SMB 是通过 BP 和市值将股票排序然后做多一部分并同时做空一部分来构建的投资组合。以 HML 为例，它代表着 high book-to-market ratio 公司相对于 low book-to-market ratio 公司的超额收益。该因子叫做 HML 因子而非 BP 因子，其意义也是强调因子本身是一个投资组合的收益率，而非 BP。Fama 和 French 用这三个投资组合的收益率来解释个股或者其他投资组合在截面上的收益率。\n",
    "\n",
    "个人理解时间序列回归和经典多因子模型的本质差别就是FAMA三因子模型为时间序列上的回归，经典多因子模型研究的核心是各股的超额收益在横截面上存在的差异，所以多因子模型反映的是收益率均值和因子暴露在截面上的关系，其回归是以最小化各股的定价错误值的平方为目标，但时间序列回归则不是。\n",
    "\n",
    "### classwork 3\n",
    "\n",
    "1. 计算股票000002.SZ的收益率\n",
    "\n",
    "2. 获得同期上证指数的收盘价，然后计算收益率\n",
    "\n",
    "3. 合并因子与收益率以及上证指数收益率\n",
    "\n",
    "4. 作图展现因子与股票收益率的关系\n",
    "\n",
    "5. 做股票000002.SZ的三因子模型的时间序列回归，求出其各个因子暴露度"
   ]
  },
  {
   "cell_type": "code",
   "execution_count": 67,
   "metadata": {},
   "outputs": [],
   "source": [
    "p_wk=stock_daily0[stock_daily0[\"股票代码\"]==\"000002.SZ\"][[\"交易日期\",\"收盘价\"]]"
   ]
  },
  {
   "cell_type": "code",
   "execution_count": 70,
   "metadata": {},
   "outputs": [],
   "source": [
    "p_wk.set_index(\"交易日期\",inplace=True)"
   ]
  },
  {
   "cell_type": "code",
   "execution_count": 76,
   "metadata": {},
   "outputs": [
    {
     "data": {
      "text/html": [
       "<div>\n",
       "<style scoped>\n",
       "    .dataframe tbody tr th:only-of-type {\n",
       "        vertical-align: middle;\n",
       "    }\n",
       "\n",
       "    .dataframe tbody tr th {\n",
       "        vertical-align: top;\n",
       "    }\n",
       "\n",
       "    .dataframe thead th {\n",
       "        text-align: right;\n",
       "    }\n",
       "</style>\n",
       "<table border=\"1\" class=\"dataframe\">\n",
       "  <thead>\n",
       "    <tr style=\"text-align: right;\">\n",
       "      <th></th>\n",
       "      <th>收盘价</th>\n",
       "    </tr>\n",
       "    <tr>\n",
       "      <th>交易日期</th>\n",
       "      <th></th>\n",
       "    </tr>\n",
       "  </thead>\n",
       "  <tbody>\n",
       "    <tr>\n",
       "      <th>20200102</th>\n",
       "      <td>4832.2947</td>\n",
       "    </tr>\n",
       "    <tr>\n",
       "      <th>20200103</th>\n",
       "      <td>4756.6046</td>\n",
       "    </tr>\n",
       "    <tr>\n",
       "      <th>20200106</th>\n",
       "      <td>4676.4621</td>\n",
       "    </tr>\n",
       "    <tr>\n",
       "      <th>20200107</th>\n",
       "      <td>4713.5651</td>\n",
       "    </tr>\n",
       "    <tr>\n",
       "      <th>20200108</th>\n",
       "      <td>4701.6922</td>\n",
       "    </tr>\n",
       "    <tr>\n",
       "      <th>...</th>\n",
       "      <td>...</td>\n",
       "    </tr>\n",
       "    <tr>\n",
       "      <th>20201225</th>\n",
       "      <td>4324.6181</td>\n",
       "    </tr>\n",
       "    <tr>\n",
       "      <th>20201228</th>\n",
       "      <td>4373.8664</td>\n",
       "    </tr>\n",
       "    <tr>\n",
       "      <th>20201229</th>\n",
       "      <td>4389.2565</td>\n",
       "    </tr>\n",
       "    <tr>\n",
       "      <th>20201230</th>\n",
       "      <td>4367.7104</td>\n",
       "    </tr>\n",
       "    <tr>\n",
       "      <th>20201231</th>\n",
       "      <td>4416.9587</td>\n",
       "    </tr>\n",
       "  </tbody>\n",
       "</table>\n",
       "<p>243 rows × 1 columns</p>\n",
       "</div>"
      ],
      "text/plain": [
       "                收盘价\n",
       "交易日期               \n",
       "20200102  4832.2947\n",
       "20200103  4756.6046\n",
       "20200106  4676.4621\n",
       "20200107  4713.5651\n",
       "20200108  4701.6922\n",
       "...             ...\n",
       "20201225  4324.6181\n",
       "20201228  4373.8664\n",
       "20201229  4389.2565\n",
       "20201230  4367.7104\n",
       "20201231  4416.9587\n",
       "\n",
       "[243 rows x 1 columns]"
      ]
     },
     "execution_count": 76,
     "metadata": {},
     "output_type": "execute_result"
    }
   ],
   "source": [
    "p_wk"
   ]
  },
  {
   "cell_type": "code",
   "execution_count": 74,
   "metadata": {},
   "outputs": [],
   "source": [
    "import datetime"
   ]
  },
  {
   "cell_type": "code",
   "execution_count": 81,
   "metadata": {},
   "outputs": [],
   "source": [
    "p_wk[\"index\"]=stock_index_daily[(stock_index_daily[\"date\"]>=datetime.date(2020,1,2))&(stock_index_daily[\"date\"]<=datetime.date(2020,12,31))][\"close\"].values"
   ]
  },
  {
   "cell_type": "code",
   "execution_count": 85,
   "metadata": {},
   "outputs": [
    {
     "data": {
      "text/plain": [
       "0.0001234567901234568"
      ]
     },
     "execution_count": 85,
     "metadata": {},
     "output_type": "execute_result"
    }
   ],
   "source": [
    "0.03/243"
   ]
  },
  {
   "cell_type": "code",
   "execution_count": 87,
   "metadata": {},
   "outputs": [],
   "source": [
    "y_x=(p_wk/p_wk.shift(1)-1).dropna()-0.0001234567901234568"
   ]
  },
  {
   "cell_type": "code",
   "execution_count": 90,
   "metadata": {},
   "outputs": [],
   "source": [
    "#daily[1:]"
   ]
  },
  {
   "cell_type": "code",
   "execution_count": 91,
   "metadata": {},
   "outputs": [],
   "source": [
    "y_x[\"smb\"]=smb\n",
    "y_x[\"hml\"]=hml"
   ]
  },
  {
   "cell_type": "code",
   "execution_count": 97,
   "metadata": {},
   "outputs": [
    {
     "data": {
      "text/plain": [
       "[<matplotlib.lines.Line2D at 0x22e3afff3a0>]"
      ]
     },
     "execution_count": 97,
     "metadata": {},
     "output_type": "execute_result"
    },
    {
     "data": {
      "image/png": "[encoded data removed]",
      "text/plain": [
       "<Figure size 640x480 with 1 Axes>"
      ]
     },
     "metadata": {},
     "output_type": "display_data"
    }
   ],
   "source": [
    "plt.plot(y_x[\"hml\"],y_x[\"收盘价\"],\"o\")"
   ]
  },
  {
   "cell_type": "code",
   "execution_count": 92,
   "metadata": {},
   "outputs": [
    {
     "data": {
      "text/html": [
       "<div>\n",
       "<style scoped>\n",
       "    .dataframe tbody tr th:only-of-type {\n",
       "        vertical-align: middle;\n",
       "    }\n",
       "\n",
       "    .dataframe tbody tr th {\n",
       "        vertical-align: top;\n",
       "    }\n",
       "\n",
       "    .dataframe thead th {\n",
       "        text-align: right;\n",
       "    }\n",
       "</style>\n",
       "<table border=\"1\" class=\"dataframe\">\n",
       "  <thead>\n",
       "    <tr style=\"text-align: right;\">\n",
       "      <th></th>\n",
       "      <th>收盘价</th>\n",
       "      <th>index</th>\n",
       "      <th>smb</th>\n",
       "      <th>hml</th>\n",
       "    </tr>\n",
       "    <tr>\n",
       "      <th>交易日期</th>\n",
       "      <th></th>\n",
       "      <th></th>\n",
       "      <th></th>\n",
       "      <th></th>\n",
       "    </tr>\n",
       "  </thead>\n",
       "  <tbody>\n",
       "    <tr>\n",
       "      <th>20200103</th>\n",
       "      <td>-0.015787</td>\n",
       "      <td>-0.000581</td>\n",
       "      <td>0.003815</td>\n",
       "      <td>0.001289</td>\n",
       "    </tr>\n",
       "    <tr>\n",
       "      <th>20200106</th>\n",
       "      <td>-0.016972</td>\n",
       "      <td>-0.000246</td>\n",
       "      <td>0.002781</td>\n",
       "      <td>0.000107</td>\n",
       "    </tr>\n",
       "    <tr>\n",
       "      <th>20200107</th>\n",
       "      <td>0.007811</td>\n",
       "      <td>0.006815</td>\n",
       "      <td>0.000671</td>\n",
       "      <td>-0.002336</td>\n",
       "    </tr>\n",
       "    <tr>\n",
       "      <th>20200108</th>\n",
       "      <td>-0.002642</td>\n",
       "      <td>-0.012333</td>\n",
       "      <td>-0.000778</td>\n",
       "      <td>-0.003993</td>\n",
       "    </tr>\n",
       "    <tr>\n",
       "      <th>20200109</th>\n",
       "      <td>0.016291</td>\n",
       "      <td>0.009003</td>\n",
       "      <td>0.001527</td>\n",
       "      <td>-0.010244</td>\n",
       "    </tr>\n",
       "    <tr>\n",
       "      <th>...</th>\n",
       "      <td>...</td>\n",
       "      <td>...</td>\n",
       "      <td>...</td>\n",
       "      <td>...</td>\n",
       "    </tr>\n",
       "    <tr>\n",
       "      <th>20201225</th>\n",
       "      <td>0.005603</td>\n",
       "      <td>0.009823</td>\n",
       "      <td>0.000048</td>\n",
       "      <td>0.003876</td>\n",
       "    </tr>\n",
       "    <tr>\n",
       "      <th>20201228</th>\n",
       "      <td>0.011264</td>\n",
       "      <td>0.000089</td>\n",
       "      <td>-0.016993</td>\n",
       "      <td>-0.001402</td>\n",
       "    </tr>\n",
       "    <tr>\n",
       "      <th>20201229</th>\n",
       "      <td>0.003395</td>\n",
       "      <td>-0.005495</td>\n",
       "      <td>0.004505</td>\n",
       "      <td>0.004464</td>\n",
       "    </tr>\n",
       "    <tr>\n",
       "      <th>20201230</th>\n",
       "      <td>-0.005032</td>\n",
       "      <td>0.010358</td>\n",
       "      <td>-0.011319</td>\n",
       "      <td>-0.008872</td>\n",
       "    </tr>\n",
       "    <tr>\n",
       "      <th>20201231</th>\n",
       "      <td>0.011152</td>\n",
       "      <td>0.017044</td>\n",
       "      <td>-0.003491</td>\n",
       "      <td>-0.008211</td>\n",
       "    </tr>\n",
       "  </tbody>\n",
       "</table>\n",
       "<p>242 rows × 4 columns</p>\n",
       "</div>"
      ],
      "text/plain": [
       "               收盘价     index       smb       hml\n",
       "交易日期                                            \n",
       "20200103 -0.015787 -0.000581  0.003815  0.001289\n",
       "20200106 -0.016972 -0.000246  0.002781  0.000107\n",
       "20200107  0.007811  0.006815  0.000671 -0.002336\n",
       "20200108 -0.002642 -0.012333 -0.000778 -0.003993\n",
       "20200109  0.016291  0.009003  0.001527 -0.010244\n",
       "...            ...       ...       ...       ...\n",
       "20201225  0.005603  0.009823  0.000048  0.003876\n",
       "20201228  0.011264  0.000089 -0.016993 -0.001402\n",
       "20201229  0.003395 -0.005495  0.004505  0.004464\n",
       "20201230 -0.005032  0.010358 -0.011319 -0.008872\n",
       "20201231  0.011152  0.017044 -0.003491 -0.008211\n",
       "\n",
       "[242 rows x 4 columns]"
      ]
     },
     "execution_count": 92,
     "metadata": {},
     "output_type": "execute_result"
    }
   ],
   "source": [
    "y_x"
   ]
  },
  {
   "cell_type": "code",
   "execution_count": 93,
   "metadata": {},
   "outputs": [
    {
     "name": "stdout",
     "output_type": "stream",
     "text": [
      "                            OLS Regression Results                            \n",
      "==============================================================================\n",
      "Dep. Variable:                    收盘价   R-squared:                       0.517\n",
      "Model:                            OLS   Adj. R-squared:                  0.511\n",
      "Method:                 Least Squares   F-statistic:                     84.93\n",
      "Date:                Fri, 29 Mar 2024   Prob (F-statistic):           2.17e-37\n",
      "Time:                        15:48:38   Log-Likelihood:                 696.64\n",
      "No. Observations:                 242   AIC:                            -1385.\n",
      "Df Residuals:                     238   BIC:                            -1371.\n",
      "Df Model:                           3                                         \n",
      "Covariance Type:            nonrobust                                         \n",
      "==============================================================================\n",
      "                 coef    std err          t      P>|t|      [0.025      0.975]\n",
      "------------------------------------------------------------------------------\n",
      "const          0.0012      0.001      1.249      0.213      -0.001       0.003\n",
      "index          0.8873      0.068     12.974      0.000       0.753       1.022\n",
      "smb           -0.5537      0.125     -4.445      0.000      -0.799      -0.308\n",
      "hml            0.9335      0.110      8.513      0.000       0.717       1.150\n",
      "==============================================================================\n",
      "Omnibus:                       26.580   Durbin-Watson:                   1.906\n",
      "Prob(Omnibus):                  0.000   Jarque-Bera (JB):               34.655\n",
      "Skew:                           0.745   Prob(JB):                     2.98e-08\n",
      "Kurtosis:                       4.104   Cond. No.                         146.\n",
      "==============================================================================\n",
      "\n",
      "Notes:\n",
      "[1] Standard Errors assume that the covariance matrix of the errors is correctly specified.\n"
     ]
    }
   ],
   "source": [
    "model=sm.OLS(y_x[\"收盘价\"],sm.add_constant(y_x[[\"index\",\"smb\",\"hml\"]])).fit()\n",
    "print(model.summary())"
   ]
  },
  {
   "cell_type": "code",
   "execution_count": 72,
   "metadata": {},
   "outputs": [
    {
     "data": {
      "text/html": [
       "<div>\n",
       "<style scoped>\n",
       "    .dataframe tbody tr th:only-of-type {\n",
       "        vertical-align: middle;\n",
       "    }\n",
       "\n",
       "    .dataframe tbody tr th {\n",
       "        vertical-align: top;\n",
       "    }\n",
       "\n",
       "    .dataframe thead th {\n",
       "        text-align: right;\n",
       "    }\n",
       "</style>\n",
       "<table border=\"1\" class=\"dataframe\">\n",
       "  <thead>\n",
       "    <tr style=\"text-align: right;\">\n",
       "      <th></th>\n",
       "      <th>date</th>\n",
       "      <th>open</th>\n",
       "      <th>high</th>\n",
       "      <th>low</th>\n",
       "      <th>close</th>\n",
       "      <th>volume</th>\n",
       "    </tr>\n",
       "  </thead>\n",
       "  <tbody>\n",
       "    <tr>\n",
       "      <th>0</th>\n",
       "      <td>1990-12-19</td>\n",
       "      <td>96.050</td>\n",
       "      <td>99.980</td>\n",
       "      <td>95.790</td>\n",
       "      <td>99.980</td>\n",
       "      <td>126000</td>\n",
       "    </tr>\n",
       "    <tr>\n",
       "      <th>1</th>\n",
       "      <td>1990-12-20</td>\n",
       "      <td>104.300</td>\n",
       "      <td>104.390</td>\n",
       "      <td>99.980</td>\n",
       "      <td>104.390</td>\n",
       "      <td>19700</td>\n",
       "    </tr>\n",
       "    <tr>\n",
       "      <th>2</th>\n",
       "      <td>1990-12-21</td>\n",
       "      <td>109.070</td>\n",
       "      <td>109.130</td>\n",
       "      <td>103.730</td>\n",
       "      <td>109.130</td>\n",
       "      <td>2800</td>\n",
       "    </tr>\n",
       "    <tr>\n",
       "      <th>3</th>\n",
       "      <td>1990-12-24</td>\n",
       "      <td>113.570</td>\n",
       "      <td>114.550</td>\n",
       "      <td>109.130</td>\n",
       "      <td>114.550</td>\n",
       "      <td>3200</td>\n",
       "    </tr>\n",
       "    <tr>\n",
       "      <th>4</th>\n",
       "      <td>1990-12-25</td>\n",
       "      <td>120.090</td>\n",
       "      <td>120.250</td>\n",
       "      <td>114.550</td>\n",
       "      <td>120.250</td>\n",
       "      <td>1500</td>\n",
       "    </tr>\n",
       "    <tr>\n",
       "      <th>...</th>\n",
       "      <td>...</td>\n",
       "      <td>...</td>\n",
       "      <td>...</td>\n",
       "      <td>...</td>\n",
       "      <td>...</td>\n",
       "      <td>...</td>\n",
       "    </tr>\n",
       "    <tr>\n",
       "      <th>8122</th>\n",
       "      <td>2024-03-22</td>\n",
       "      <td>3070.548</td>\n",
       "      <td>3073.206</td>\n",
       "      <td>3027.762</td>\n",
       "      <td>3048.034</td>\n",
       "      <td>39474048600</td>\n",
       "    </tr>\n",
       "    <tr>\n",
       "      <th>8123</th>\n",
       "      <td>2024-03-25</td>\n",
       "      <td>3040.501</td>\n",
       "      <td>3065.261</td>\n",
       "      <td>3026.306</td>\n",
       "      <td>3026.306</td>\n",
       "      <td>38748538900</td>\n",
       "    </tr>\n",
       "    <tr>\n",
       "      <th>8124</th>\n",
       "      <td>2024-03-26</td>\n",
       "      <td>3026.922</td>\n",
       "      <td>3036.494</td>\n",
       "      <td>3006.260</td>\n",
       "      <td>3031.481</td>\n",
       "      <td>34592878700</td>\n",
       "    </tr>\n",
       "    <tr>\n",
       "      <th>8125</th>\n",
       "      <td>2024-03-27</td>\n",
       "      <td>3026.814</td>\n",
       "      <td>3030.450</td>\n",
       "      <td>2993.139</td>\n",
       "      <td>2993.139</td>\n",
       "      <td>34319801000</td>\n",
       "    </tr>\n",
       "    <tr>\n",
       "      <th>8126</th>\n",
       "      <td>2024-03-28</td>\n",
       "      <td>2988.590</td>\n",
       "      <td>3033.367</td>\n",
       "      <td>2984.120</td>\n",
       "      <td>3010.664</td>\n",
       "      <td>35320002600</td>\n",
       "    </tr>\n",
       "  </tbody>\n",
       "</table>\n",
       "<p>8127 rows × 6 columns</p>\n",
       "</div>"
      ],
      "text/plain": [
       "            date      open      high       low     close       volume\n",
       "0     1990-12-19    96.050    99.980    95.790    99.980       126000\n",
       "1     1990-12-20   104.300   104.390    99.980   104.390        19700\n",
       "2     1990-12-21   109.070   109.130   103.730   109.130         2800\n",
       "3     1990-12-24   113.570   114.550   109.130   114.550         3200\n",
       "4     1990-12-25   120.090   120.250   114.550   120.250         1500\n",
       "...          ...       ...       ...       ...       ...          ...\n",
       "8122  2024-03-22  3070.548  3073.206  3027.762  3048.034  39474048600\n",
       "8123  2024-03-25  3040.501  3065.261  3026.306  3026.306  38748538900\n",
       "8124  2024-03-26  3026.922  3036.494  3006.260  3031.481  34592878700\n",
       "8125  2024-03-27  3026.814  3030.450  2993.139  2993.139  34319801000\n",
       "8126  2024-03-28  2988.590  3033.367  2984.120  3010.664  35320002600\n",
       "\n",
       "[8127 rows x 6 columns]"
      ]
     },
     "execution_count": 72,
     "metadata": {},
     "output_type": "execute_result"
    }
   ],
   "source": [
    "stock_index_daily = ak.stock_zh_index_daily(symbol=\"sh000001\")\n",
    "stock_index_daily"
   ]
  },
  {
   "cell_type": "code",
   "execution_count": 16,
   "metadata": {},
   "outputs": [],
   "source": []
  },
  {
   "cell_type": "code",
   "execution_count": 17,
   "metadata": {},
   "outputs": [],
   "source": []
  },
  {
   "cell_type": "code",
   "execution_count": 18,
   "metadata": {},
   "outputs": [
    {
     "data": {
      "text/html": [
       "<div>\n",
       "<style scoped>\n",
       "    .dataframe tbody tr th:only-of-type {\n",
       "        vertical-align: middle;\n",
       "    }\n",
       "\n",
       "    .dataframe tbody tr th {\n",
       "        vertical-align: top;\n",
       "    }\n",
       "\n",
       "    .dataframe thead th {\n",
       "        text-align: right;\n",
       "    }\n",
       "</style>\n",
       "<table border=\"1\" class=\"dataframe\">\n",
       "  <thead>\n",
       "    <tr style=\"text-align: right;\">\n",
       "      <th></th>\n",
       "      <th>SMB</th>\n",
       "      <th>HML</th>\n",
       "      <th>date</th>\n",
       "      <th>stock</th>\n",
       "      <th>shang_index</th>\n",
       "    </tr>\n",
       "  </thead>\n",
       "  <tbody>\n",
       "    <tr>\n",
       "      <th>0</th>\n",
       "      <td>0.003815</td>\n",
       "      <td>0.001289</td>\n",
       "      <td>20200103</td>\n",
       "      <td>-0.015663</td>\n",
       "      <td>-0.000458</td>\n",
       "    </tr>\n",
       "    <tr>\n",
       "      <th>1</th>\n",
       "      <td>0.002781</td>\n",
       "      <td>0.000107</td>\n",
       "      <td>20200106</td>\n",
       "      <td>-0.016849</td>\n",
       "      <td>-0.000123</td>\n",
       "    </tr>\n",
       "    <tr>\n",
       "      <th>2</th>\n",
       "      <td>0.000671</td>\n",
       "      <td>-0.002336</td>\n",
       "      <td>20200107</td>\n",
       "      <td>0.007934</td>\n",
       "      <td>0.006938</td>\n",
       "    </tr>\n",
       "    <tr>\n",
       "      <th>3</th>\n",
       "      <td>-0.000778</td>\n",
       "      <td>-0.003993</td>\n",
       "      <td>20200108</td>\n",
       "      <td>-0.002519</td>\n",
       "      <td>-0.012210</td>\n",
       "    </tr>\n",
       "    <tr>\n",
       "      <th>4</th>\n",
       "      <td>0.001527</td>\n",
       "      <td>-0.010244</td>\n",
       "      <td>20200109</td>\n",
       "      <td>0.016414</td>\n",
       "      <td>0.009126</td>\n",
       "    </tr>\n",
       "    <tr>\n",
       "      <th>...</th>\n",
       "      <td>...</td>\n",
       "      <td>...</td>\n",
       "      <td>...</td>\n",
       "      <td>...</td>\n",
       "      <td>...</td>\n",
       "    </tr>\n",
       "    <tr>\n",
       "      <th>237</th>\n",
       "      <td>0.000048</td>\n",
       "      <td>0.003876</td>\n",
       "      <td>20201225</td>\n",
       "      <td>0.005727</td>\n",
       "      <td>0.009946</td>\n",
       "    </tr>\n",
       "    <tr>\n",
       "      <th>238</th>\n",
       "      <td>-0.016993</td>\n",
       "      <td>-0.001402</td>\n",
       "      <td>20201228</td>\n",
       "      <td>0.011388</td>\n",
       "      <td>0.000213</td>\n",
       "    </tr>\n",
       "    <tr>\n",
       "      <th>239</th>\n",
       "      <td>0.004505</td>\n",
       "      <td>0.004464</td>\n",
       "      <td>20201229</td>\n",
       "      <td>0.003519</td>\n",
       "      <td>-0.005372</td>\n",
       "    </tr>\n",
       "    <tr>\n",
       "      <th>240</th>\n",
       "      <td>-0.011319</td>\n",
       "      <td>-0.008872</td>\n",
       "      <td>20201230</td>\n",
       "      <td>-0.004909</td>\n",
       "      <td>0.010481</td>\n",
       "    </tr>\n",
       "    <tr>\n",
       "      <th>241</th>\n",
       "      <td>-0.003491</td>\n",
       "      <td>-0.008211</td>\n",
       "      <td>20201231</td>\n",
       "      <td>0.011276</td>\n",
       "      <td>0.017167</td>\n",
       "    </tr>\n",
       "  </tbody>\n",
       "</table>\n",
       "<p>242 rows × 5 columns</p>\n",
       "</div>"
      ],
      "text/plain": [
       "          SMB       HML      date     stock  shang_index\n",
       "0    0.003815  0.001289  20200103 -0.015663    -0.000458\n",
       "1    0.002781  0.000107  20200106 -0.016849    -0.000123\n",
       "2    0.000671 -0.002336  20200107  0.007934     0.006938\n",
       "3   -0.000778 -0.003993  20200108 -0.002519    -0.012210\n",
       "4    0.001527 -0.010244  20200109  0.016414     0.009126\n",
       "..        ...       ...       ...       ...          ...\n",
       "237  0.000048  0.003876  20201225  0.005727     0.009946\n",
       "238 -0.016993 -0.001402  20201228  0.011388     0.000213\n",
       "239  0.004505  0.004464  20201229  0.003519    -0.005372\n",
       "240 -0.011319 -0.008872  20201230 -0.004909     0.010481\n",
       "241 -0.003491 -0.008211  20201231  0.011276     0.017167\n",
       "\n",
       "[242 rows x 5 columns]"
      ]
     },
     "execution_count": 18,
     "metadata": {},
     "output_type": "execute_result"
    }
   ],
   "source": [
    "factors"
   ]
  },
  {
   "cell_type": "code",
   "execution_count": 38,
   "metadata": {},
   "outputs": [
    {
     "data": {
      "text/plain": [
       "[<matplotlib.lines.Line2D at 0x27e42239750>]"
      ]
     },
     "execution_count": 38,
     "metadata": {},
     "output_type": "execute_result"
    },
    {
     "data": {
      "image/png": "[encoded data removed]",
      "text/plain": [
       "<Figure size 640x480 with 1 Axes>"
      ]
     },
     "metadata": {},
     "output_type": "display_data"
    }
   ],
   "source": []
  },
  {
   "cell_type": "code",
   "execution_count": 19,
   "metadata": {},
   "outputs": [],
   "source": []
  },
  {
   "cell_type": "code",
   "execution_count": 20,
   "metadata": {},
   "outputs": [
    {
     "name": "stdout",
     "output_type": "stream",
     "text": [
      "                            OLS Regression Results                            \n",
      "==============================================================================\n",
      "Dep. Variable:                      y   R-squared:                       0.517\n",
      "Model:                            OLS   Adj. R-squared:                  0.511\n",
      "Method:                 Least Squares   F-statistic:                     84.93\n",
      "Date:                Thu, 21 Mar 2024   Prob (F-statistic):           2.17e-37\n",
      "Time:                        20:45:49   Log-Likelihood:                 696.64\n",
      "No. Observations:                 242   AIC:                            -1385.\n",
      "Df Residuals:                     238   BIC:                            -1371.\n",
      "Df Model:                           3                                         \n",
      "Covariance Type:            nonrobust                                         \n",
      "===============================================================================\n",
      "                  coef    std err          t      P>|t|      [0.025      0.975]\n",
      "-------------------------------------------------------------------------------\n",
      "const           0.0012      0.001      1.264      0.207      -0.001       0.003\n",
      "shang_index     0.8873      0.068     12.974      0.000       0.753       1.022\n",
      "SMB            -0.5537      0.125     -4.445      0.000      -0.799      -0.308\n",
      "HML             0.9335      0.110      8.513      0.000       0.717       1.150\n",
      "==============================================================================\n",
      "Omnibus:                       26.580   Durbin-Watson:                   1.906\n",
      "Prob(Omnibus):                  0.000   Jarque-Bera (JB):               34.655\n",
      "Skew:                           0.745   Prob(JB):                     2.98e-08\n",
      "Kurtosis:                       4.104   Cond. No.                         146.\n",
      "==============================================================================\n",
      "\n",
      "Notes:\n",
      "[1] Standard Errors assume that the covariance matrix of the errors is correctly specified.\n"
     ]
    }
   ],
   "source": [
    "est=sm.OLS(y,x).fit()\n",
    "print(est.summary())"
   ]
  },
  {
   "cell_type": "markdown",
   "metadata": {},
   "source": [
    "### Fama-French三因子模型在资产定价方面的主要应用如下:\n",
    "\n",
    "1. 估计资产的预期收益率\n",
    "\n",
    "根据三因子模型,一只股票/投资组合的预期收益率可以表示为:\n",
    "\n",
    "\\begin{equation}\n",
    "E(R_i) = R_f + \\beta_i E(R_m - R_f) + s_i E(SMB) + h_i E(HML)\n",
    "\\end{equation}\n",
    "\n",
    "其中, $E(R_m - R_f)$、$E(SMB)$和$E(HML)$分别是市场风险溢酬、公司规模溢酬和账面市值比溢酬的预期值,可以通过历史数据估计得到。将估计的风险因子暴露程度($\\beta_i$、$s_i$、$h_i$)代入上式,即可计算出资产的预期收益率$E(R_i)$。\n",
    "\n",
    "2. 计算资产的成本资本\n",
    "\n",
    "成本资本反映了投资者对某资产所要求的预期回报率。三因子模型为计算成本资本提供了新方法:\n",
    "\n",
    "\\begin{equation}\n",
    "R_i = R_f + \\beta_i (R_m - R_f) + s_i (SMB) + h_i (HML)\n",
    "\\end{equation}\n",
    "\n",
    "其中,$R_i$即为该资产的成本资本。可通过估计风险因子暴露系数,代入预期的风险溢酬,得到资产的成本资本。\n",
    "\n",
    "3. 资产定价和投资策略\n",
    "\n",
    "三因子模型为资产定价提供了新的视角,即除了市场风险外,投资者还关注公司规模和账面市值比等因素。投资者可根据模型估计不同资产的预期收益率,发现被低估的资产,制定相应投资策略,期望获得超额收益。\n",
    "\n",
    "4. 绩效评估\n",
    "\n",
    "三因子模型可用于评估基金经理或投资组合的选股能力。在模型中,$\\alpha_i$项反映了非系统性的超额收益,如果$\\alpha_i$显著为正,则表明基金经理具有良好的选股能力。\n",
    "\n",
    "总的来说,Fama-French三因子模型为资产定价提供了一个新的理论框架,使定价更加精确,同时也为投资决策和绩效评估提供了有力工具。"
   ]
  },
  {
   "cell_type": "markdown",
   "metadata": {},
   "source": [
    "### classwork 4\n",
    "\n",
    "假设某投资基金经理希望根据Fama-French三因子模型,构建一个投资组合,以期获得较高的风险调整后收益。该经理估计了无风险利率为2%,市场风险溢酬为6%,公司规模风险溢酬为3%,账面市值比风险溢酬为4%。\n",
    "\n",
    "经理从股票池中精选了三只股票A、B、C,估计了它们对三个风险因子的暴露程度(根据过去数据回归得到),结果如下:\n",
    "\n",
    "股票 | 市场β | 规模因子暴露 | 账面市值比因子暴露\n",
    "--- | --- | --- | ---\n",
    "A | 1.1 | 0.3 | 1.2\n",
    "B | 0.9 | 0.8 | 0.6  \n",
    "C | 1.2 | 0.2 | 0.9\n",
    "\n",
    "应用Fama-French三因子模型公式,我们可以计算出每只股票的预期收益率？\n",
    "\n",
    "\n",
    "基于这些预期收益率计算结果,该基金经理可以:\n",
    "\n",
    "1. 构建满足约束条件(如总风险、行业分布等)的最优化投资组合,使其权重组合的预期收益最大化。\n",
    "\n",
    "2. 将股票的预期收益率与其当前价格相比较,发现被低估的投资机会,作为选股参考。\n",
    "\n",
    "3. 定期重新估计各股票的风险因子暴露度,动态调整投资组合,以确保风险收益匹配。\n",
    "\n",
    "4. 将实际投资组合收益与基于三因子模型计算的理论预期收益进行比较,评估超额收益的来源和经理的选股能力。\n",
    "\n",
    "通过这种方式,基金经理可以利用Fama-French三因子模型这一资产定价理论框架,结合实际数据估计和优化,来指导投资组合的构建、调整和绩效评估,以实现风险收益最大化。\n",
    "\n",
    "这个例子展示了基于三因子模型,资产定价理论可以为实际的投资管理和量化投资策略的开发提供重要的理论基础和操作框架。"
   ]
  },
  {
   "cell_type": "code",
   "execution_count": null,
   "metadata": {},
   "outputs": [],
   "source": []
  },
  {
   "cell_type": "markdown",
   "metadata": {},
   "source": [
    "## CAPM和Fama-French三因子模型的应用价值\n",
    "\n",
    "严格来说,CAPM和Fama-French三因子模型都不能被直接用于量化选股,但它们为量化选股提供了重要的理论基础和分析框架。具体来说:\n",
    "\n",
    "1. CAPM框架下的量化选股\n",
    "\n",
    "CAPM模型本身无法直接用于选股,但通过估计个股的β值,我们可以计算其理论预期收益率,并与实际收益率进行比较,从而识别被低估或高估的股票。具体做法是:\n",
    "\n",
    "(1) 估计个股β值\n",
    "\n",
    "(2) 根据CAPM公式计算理论预期收益率\n",
    "\n",
    "(3) 将理论值与实际收益率比较,Stock Picking Score = 实际收益率 - 理论收益率\n",
    "\n",
    "(4) 正值表示股票被低估,负值表示被高估\n",
    "\n",
    "此外,还可结合CAPM模型计算的成本资本率等指标,对股票估值水平进行评判。\n",
    "\n",
    "2. Fama-French三因子框架下的量化选股\n",
    "\n",
    "与CAPM类似,三因子模型无法直接用于选股,但可以提供一些量化选股思路:\n",
    "\n",
    "(1) 估计个股对三个风险因子的暴露程度(β,s,h)\n",
    "\n",
    "(2) 计算股票的理论预期收益率\n",
    "\n",
    "(3) 将理论值与实际收益率比较,判断是否被低估\n",
    "\n",
    "(4) 构建满足特定风险因子暴露(如小市值、高账面价值比)的投资组合\n",
    "\n",
    "此外,三因子模型暗示,可以关注公司规模、价值等特征指标,并据此构建量化选股策略。\n",
    "\n",
    "需要说明的是,虽然上述方法为量化选股提供了分析框架,但在实际操作中还需要:\n",
    "\n",
    "1) 权衡估计误差和交易成本的影响\n",
    "2) 结合其他量化选股因子和技术指标 \n",
    "3) 动态调整模型参数和投资组合\n",
    "\n",
    "总的来说,CAPM和三因子模型本身更多是资产定价的理论基础,不能直接运用于量化选股,但它们的基本思路和分析框架为量化选股提供了有价值的理论指导。"
   ]
  },
  {
   "cell_type": "markdown",
   "metadata": {},
   "source": [
    "参考链接：\n",
    "\n",
    "https://zhuanlan.zhihu.com/p/366322544\n",
    "\n",
    "https://gitcode.csdn.net/65e935891a836825ed78d50c.html\n",
    "\n",
    "https://zhuanlan.zhihu.com/p/595864393?utm_id=0\n",
    "\n",
    "https://zhuanlan.zhihu.com/p/442626024\n",
    "\n",
    "https://blog.csdn.net/weixin_44607126/article/details/108275686\n",
    "\n",
    "https://cloud.tencent.com/developer/article/1084689"
   ]
  },
  {
   "cell_type": "markdown",
   "metadata": {},
   "source": []
  },
  {
   "cell_type": "markdown",
   "metadata": {},
   "source": []
  }
 ],
 "metadata": {
  "kernelspec": {
   "display_name": "Python 3 (ipykernel)",
   "language": "python",
   "name": "python3"
  },
  "language_info": {
   "codemirror_mode": {
    "name": "ipython",
    "version": 3
   },
   "file_extension": ".py",
   "mimetype": "text/x-python",
   "name": "python",
   "nbconvert_exporter": "python",
   "pygments_lexer": "ipython3",
   "version": "3.10.9"
  },
  "toc": {
   "base_numbering": 1,
   "nav_menu": {},
   "number_sections": true,
   "sideBar": true,
   "skip_h1_title": false,
   "title_cell": "Table of Contents",
   "title_sidebar": "Contents",
   "toc_cell": false,
   "toc_position": {
    "height": "calc(100% - 180px)",
    "left": "10px",
    "top": "150px",
    "width": "245.76px"
   },
   "toc_section_display": true,
   "toc_window_display": true
  }
 },
 "nbformat": 4,
 "nbformat_minor": 4
}
