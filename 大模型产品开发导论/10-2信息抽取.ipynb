{
 "cells": [
  {
   "cell_type": "markdown",
   "metadata": {},
   "source": [
    "# 信息抽取\n",
    "https://python.langchain.com/docs/use_cases/extraction/"
   ]
  },
  {
   "cell_type": "code",
   "execution_count": 5,
   "metadata": {},
   "outputs": [],
   "source": [
    "#导入语言模型\n",
    "import os\n",
    "from langchain_community.llms import Tongyi\n",
    "from langchain_community.llms import SparkLLM\n",
    "from langchain_community.llms import QianfanLLMEndpoint\n",
    "\n",
    "import pandas as pd\n",
    "#导入模版\n",
    "from langchain.prompts import PromptTemplate\n",
    "\n",
    "#导入聊天模型\n",
    "from langchain.prompts.chat import (\n",
    "    ChatPromptTemplate,\n",
    "    SystemMessagePromptTemplate,\n",
    "    AIMessagePromptTemplate,\n",
    "    HumanMessagePromptTemplate,\n",
    ")\n",
    "from langchain.schema import (\n",
    "    AIMessage,\n",
    "    HumanMessage,\n",
    "    SystemMessage\n",
    ")\n",
    "\n",
    "from langchain_community.chat_models import ChatSparkLLM\n",
    "from langchain_community.chat_models.tongyi import ChatTongyi\n",
    "from langchain_community.chat_models import QianfanChatEndpoint\n",
    "\n",
    "#输入三个模型各自的key\n",
    "\n",
    "os.environ[\"DASHSCOPE_API_KEY\"] = \"\"\n",
    "\n",
    "os.environ[\"IFLYTEK_SPARK_APP_ID\"] = \"\"\n",
    "os.environ[\"IFLYTEK_SPARK_API_KEY\"] = \"\"\n",
    "os.environ[\"IFLYTEK_SPARK_API_SECRET\"] = \"\"\n",
    "\n",
    "os.environ[\"QIANFAN_AK\"] = \"\"\n",
    "os.environ[\"QIANFAN_SK\"] = \"\"\n",
    "\n",
    "from operator import itemgetter\n",
    "from langchain_core.runnables import RunnableLambda, RunnablePassthrough\n",
    "from langchain_core.output_parsers import StrOutputParser"
   ]
  },
  {
   "cell_type": "code",
   "execution_count": 6,
   "metadata": {},
   "outputs": [],
   "source": [
    "model_ty = Tongyi(temperature=0)\n",
    "model_qf = QianfanLLMEndpoint(temperature=0)\n",
    "model_sp = ChatSparkLLM()"
   ]
  },
  {
   "cell_type": "code",
   "execution_count": 7,
   "metadata": {},
   "outputs": [],
   "source": [
    "from dashscope import Generation\n",
    "import dashscope\n",
    "from langchain.tools.render import render_text_description\n",
    " \n",
    "dashscope.api_key = \"\""
   ]
  },
  {
   "cell_type": "code",
   "execution_count": 4,
   "metadata": {},
   "outputs": [
    {
     "data": {
      "text/plain": [
       "'0.1.9'"
      ]
     },
     "execution_count": 4,
     "metadata": {},
     "output_type": "execute_result"
    }
   ],
   "source": [
    "import langchain\n",
    "langchain.__version__"
   ]
  },
  {
   "cell_type": "code",
   "execution_count": 35,
   "metadata": {},
   "outputs": [],
   "source": [
    "import networkx"
   ]
  },
  {
   "cell_type": "code",
   "execution_count": 1,
   "metadata": {},
   "outputs": [],
   "source": [
    "#! pip install openpyxl -i https://mirrors.aliyun.com/pypi/simple"
   ]
  },
  {
   "cell_type": "code",
   "execution_count": 58,
   "metadata": {},
   "outputs": [],
   "source": [
    "#! pip install matplotlib -i https://mirrors.aliyun.com/pypi/simple"
   ]
  },
  {
   "cell_type": "markdown",
   "metadata": {},
   "source": [
    "## langchain的信息抽取\n",
    "\n",
    "https://python.langchain.com/docs/use_cases/extraction/\n",
    "\n",
    "* 大模型信息抽取的三种方式\n",
    "\n",
    "1. 工具/函数调用模式：一些LLM支持工具或函数调用模式，可以根据给定的模式构建输出。一般来说，这种方法最容易使用，并且有望产生良好的结果。\n",
    "\n",
    "2. JSON 模式：一些 LLM 可以强制输出有效的 JSON。这与工具/函数调用方法类似，只不过输出模式是作为提示的一部分提供的。一般来说，我们的直觉是，这比工具/函数调用方法的性能更差，但不要相信我们并针对您自己的用例进行验证！\n",
    "\n",
    "https://blog.csdn.net/wshzd/article/details/135834436\n",
    "\n",
    "3. 基于提示：可以很好地遵循说明的LLM可以被指示生成所需格式的文本。可以使用现有的输出解析器或使用自定义解析器将生成的文本解析为结构化格式（例如 JSON）。此方法可用于不支持 JSON 模式或工具/函数调用模式的 LLM。这种方法具有更广泛的适用性，但可能会比针对提取或函数调用进行微调的模型产生更差的结果。\n",
    "\n",
    "* llm.with_structured_output(schema=Person)  方法的作用\n",
    "\n",
    "https://github.com/langchain-ai/langchain/blob/a4896da2a0264c3405b5a97d03fff673ddee8402/libs/partners/openai/langchain_openai/chat_models/base.py#L765"
   ]
  },
  {
   "cell_type": "markdown",
   "metadata": {},
   "source": [
    "### 单个对象的抽取"
   ]
  },
  {
   "cell_type": "code",
   "execution_count": 11,
   "metadata": {},
   "outputs": [],
   "source": [
    "from typing import Optional\n",
    "\n",
    "from langchain_core.pydantic_v1 import BaseModel, Field\n",
    "\n",
    "\n",
    "class Person(BaseModel):\n",
    "    \"\"\"Information about a person.\"\"\"\n",
    "    name: Optional[str] = Field(default=None, description=\"The name of the person\")\n",
    "    hair_color: Optional[str] = Field(default=None, description=\"The color of the peron's hair if known\")\n",
    "    height_in_meters: Optional[str] = Field(default=None, description=\"Height measured in meters\")"
   ]
  },
  {
   "cell_type": "code",
   "execution_count": 12,
   "metadata": {},
   "outputs": [],
   "source": [
    "from typing import Optional\n",
    "\n",
    "from langchain_core.prompts import ChatPromptTemplate, MessagesPlaceholder\n",
    "from langchain_core.pydantic_v1 import BaseModel, Field\n",
    "\n",
    "prompt = ChatPromptTemplate.from_messages(\n",
    "    [\n",
    "        (\n",
    "            \"system\",\n",
    "            \"You are an expert extraction algorithm. \"\n",
    "            \"Only extract relevant information from the text. \"\n",
    "            \"If you do not know the value of an attribute asked to extract, \"\n",
    "            \"return null for the attribute's value.\",\n",
    "        ),\n",
    "        (\"human\", \"{text}\"),\n",
    "    ]\n",
    ")"
   ]
  },
  {
   "cell_type": "code",
   "execution_count": 13,
   "metadata": {},
   "outputs": [],
   "source": [
    "from langchain_core.utils.function_calling import convert_to_openai_tool"
   ]
  },
  {
   "cell_type": "code",
   "execution_count": 14,
   "metadata": {},
   "outputs": [
    {
     "data": {
      "text/plain": [
       "{'type': 'function',\n",
       " 'function': {'name': 'Person',\n",
       "  'description': 'Information about a person.',\n",
       "  'parameters': {'type': 'object',\n",
       "   'properties': {'name': {'description': 'The name of the person',\n",
       "     'type': 'string'},\n",
       "    'hair_color': {'description': \"The color of the peron's hair if known\",\n",
       "     'type': 'string'},\n",
       "    'height_in_meters': {'description': 'Height measured in meters',\n",
       "     'type': 'string'}}}}}"
      ]
     },
     "execution_count": 14,
     "metadata": {},
     "output_type": "execute_result"
    }
   ],
   "source": [
    "convert_to_openai_tool(Person)"
   ]
  },
  {
   "cell_type": "code",
   "execution_count": 22,
   "metadata": {},
   "outputs": [],
   "source": [
    "class Person(BaseModel):\n",
    "    \"\"\"Information about a person.\"\"\"\n",
    "    name: Optional[str] = Field(default=None, description=\"The name of the person\")\n",
    "    hair_color: Optional[str] = Field(default=None, description=\"The color of the peron's hair if known\")\n",
    "    height_in_meters: Optional[str] = Field(default=None, description=\"Height measured in meters\")\n",
    "    \n",
    "def get_response_1t(mess):\n",
    "    response = Generation.call(\n",
    "        model='qwen-plus',\n",
    "        messages=mess,\n",
    "        tools=[convert_to_openai_tool(Person)],\n",
    "        result_format='message', # 将输出设置为message形式\n",
    "    )\n",
    "    return response\n",
    "\n",
    "def prompt_ty(input):\n",
    "    pro_sys=\"You are an expert extraction algorithm.Only extract relevant information from the text.If you do not know the value of an attribute asked to extract,return null for the attribute's value.\"\n",
    "    return [{\"role\":\"system\",\"content\":pro_sys},{\"role\":\"user\",\"content\":input}]"
   ]
  },
  {
   "cell_type": "code",
   "execution_count": 30,
   "metadata": {},
   "outputs": [
    {
     "data": {
      "text/plain": [
       "[{'role': 'system',\n",
       "  'content': \"You are an expert extraction algorithm.Only extract relevant information from the text.If you do not know the value of an attribute asked to extract,return null for the attribute's value.\"},\n",
       " {'role': 'user', 'content': 'Alan Smith is 6 feet tall and has blond hair.'}]"
      ]
     },
     "execution_count": 30,
     "metadata": {},
     "output_type": "execute_result"
    }
   ],
   "source": [
    "p_y"
   ]
  },
  {
   "cell_type": "code",
   "execution_count": 26,
   "metadata": {},
   "outputs": [],
   "source": [
    "p_y=prompt_ty(\"Alan Smith is 6 feet tall and has blond hair.\")\n",
    "res=get_response_1t(p_y)"
   ]
  },
  {
   "cell_type": "code",
   "execution_count": 29,
   "metadata": {},
   "outputs": [
    {
     "name": "stdout",
     "output_type": "stream",
     "text": [
      "{'function': {'name': 'Person', 'arguments': '{\"properties\": {\"hair_color\": \"blond\", \"height_in_meters\": \"1.83\", \"name\": \"Alan Smith\"}}'}, 'id': '', 'type': 'function'}\n"
     ]
    }
   ],
   "source": [
    "print(res.output.choices[0].message[\"tool_calls\"][0])"
   ]
  },
  {
   "cell_type": "markdown",
   "metadata": {},
   "source": [
    "### 多个对象的抽取和样本的使用"
   ]
  },
  {
   "cell_type": "code",
   "execution_count": 62,
   "metadata": {},
   "outputs": [],
   "source": [
    "from typing import List, Optional\n",
    "\n",
    "class Person(BaseModel):\n",
    "    \"\"\"Information about a person.\"\"\"\n",
    "    name: Optional[str] = Field(default=None, description=\"The name of the person\")\n",
    "    hair_color: Optional[str] = Field(default=None, description=\"The color of the peron's hair if known\")\n",
    "    height_in_meters: Optional[str] = Field(default=None, description=\"Height measured in meters\")\n",
    "\n",
    "class Data(BaseModel):\n",
    "    \"\"\"Extracted data about people.\"\"\"\n",
    "    people: List[Person]\n",
    "\n",
    "def get_response_1t(mess):\n",
    "    response = Generation.call(\n",
    "        model='qwen-plus',\n",
    "        messages=mess,\n",
    "        tools=[convert_to_openai_tool(Data)],\n",
    "        result_format='message', # 将输出设置为message形式\n",
    "    )\n",
    "    return response\n",
    "\n",
    "def prompt_ty(input):\n",
    "    pro_sys=\"You are an expert extraction algorithm.Only extract relevant information from the text.If you do not know the value of an attribute asked to extract,return null for the attribute's value.\"\n",
    "    return [{\"role\":\"system\",\"content\":pro_sys},{\"role\":\"user\",\"content\":\"Alan Smith is 6 feet tall and has blond hair.\"},\\\n",
    "            {'role': 'assistant', 'content':\"\",'tool_calls': [{'function': {'name': 'Data', 'arguments': '{\"people\": [{\"name\": \"Alan Smith\", \"hair_color\": \"Blond\", \"height_in_meters\": \"1.83\"}]}'}, 'id': '', 'type': 'function'}]},{\"role\":\"user\",\"content\":input}]"
   ]
  },
  {
   "cell_type": "code",
   "execution_count": 45,
   "metadata": {},
   "outputs": [],
   "source": [
    "p_y=prompt_ty(\"Alan Smith is 6 feet tall and has blond hair.\")\n",
    "res=get_response_1t(p_y)"
   ]
  },
  {
   "cell_type": "code",
   "execution_count": 53,
   "metadata": {},
   "outputs": [
    {
     "data": {
      "text/plain": [
       "GenerationResponse(status_code=<HTTPStatus.OK: 200>, request_id='c1ca95cd-d417-9906-8dae-7bbc858bf2d9', code='', message='', output=GenerationOutput(text=None, choices=[Choice(finish_reason='tool_calls', message=Message({'role': 'assistant', 'content': \"Based on the information provided:\\n\\n- Name: Alan Smith\\n- Hair Color: Blond\\n- Height in Meters: To convert feet to meters, we can use the conversion factor of 1 foot = 0.3048 meters. Let's calculate Alan's height.\", 'tool_calls': [{'function': {'name': 'Data', 'arguments': '{\"people\": [{\"name\": \"Alan Smith\", \"hair_color\": \"Blond\", \"height_in_meters\": \"6 feet\"}]}'}, 'id': '', 'type': 'function'}]}))], finish_reason=None), usage=GenerationUsage(input_tokens=300, output_tokens=96))"
      ]
     },
     "execution_count": 53,
     "metadata": {},
     "output_type": "execute_result"
    }
   ],
   "source": [
    "res_ex"
   ]
  },
  {
   "cell_type": "code",
   "execution_count": 47,
   "metadata": {},
   "outputs": [],
   "source": [
    "res_ex=res"
   ]
  },
  {
   "cell_type": "code",
   "execution_count": 52,
   "metadata": {},
   "outputs": [
    {
     "data": {
      "text/plain": [
       "[{'function': {'name': 'Data',\n",
       "   'arguments': '{\"people\": [{\"name\": \"Alan Smith\", \"hair_color\": \"Blond\", \"height_in_meters\": \"6 feet\"}]}'},\n",
       "  'id': '',\n",
       "  'type': 'function'}]"
      ]
     },
     "execution_count": 52,
     "metadata": {},
     "output_type": "execute_result"
    }
   ],
   "source": [
    "res_ex.output.choices[0].message[\"tool_calls\"]"
   ]
  },
  {
   "cell_type": "code",
   "execution_count": 63,
   "metadata": {},
   "outputs": [],
   "source": [
    "text = \"My name is Jeff, my hair is black and i am 6 feet tall. Anna has the same color hair as me.\"\n",
    "p_y=prompt_ty(text)\n",
    "res=get_response_1t(p_y)"
   ]
  },
  {
   "cell_type": "code",
   "execution_count": 64,
   "metadata": {},
   "outputs": [
    {
     "data": {
      "text/plain": [
       "GenerationResponse(status_code=<HTTPStatus.OK: 200>, request_id='1424993c-9270-9021-934f-fe6a2cda5736', code='', message='', output=GenerationOutput(text=None, choices=[Choice(finish_reason='tool_calls', message=Message({'role': 'assistant', 'content': '', 'tool_calls': [{'function': {'name': 'Data', 'arguments': '{\"people\": [{\"name\": \"Jeff\", \"hair_color\": \"Black\", \"height_in_meters\": \"1.83\"}, {\"name\": \"Anna\", \"hair_color\": \"Black\", \"height_in_meters\": null}]}'}, 'id': '', 'type': 'function'}]}))], finish_reason=None), usage=GenerationUsage(input_tokens=377, output_tokens=60))"
      ]
     },
     "execution_count": 64,
     "metadata": {},
     "output_type": "execute_result"
    }
   ],
   "source": [
    "res"
   ]
  },
  {
   "cell_type": "code",
   "execution_count": 65,
   "metadata": {},
   "outputs": [
    {
     "name": "stdout",
     "output_type": "stream",
     "text": [
      "{'function': {'name': 'Data', 'arguments': '{\"people\": [{\"name\": \"Jeff\", \"hair_color\": \"Black\", \"height_in_meters\": \"1.83\"}, {\"name\": \"Anna\", \"hair_color\": \"Black\", \"height_in_meters\": null}]}'}, 'id': '', 'type': 'function'}\n"
     ]
    }
   ],
   "source": [
    "print(res.output.choices[0].message[\"tool_calls\"][0])"
   ]
  },
  {
   "cell_type": "code",
   "execution_count": 32,
   "metadata": {},
   "outputs": [
    {
     "data": {
      "text/plain": [
       "{'type': 'function',\n",
       " 'function': {'name': 'Data',\n",
       "  'description': 'Extracted data about people.',\n",
       "  'parameters': {'type': 'object',\n",
       "   'properties': {'people': {'type': 'array',\n",
       "     'items': {'description': 'Information about a person.',\n",
       "      'type': 'object',\n",
       "      'properties': {'name': {'description': 'The name of the person',\n",
       "        'type': 'string'},\n",
       "       'hair_color': {'description': \"The color of the peron's hair if known\",\n",
       "        'type': 'string'},\n",
       "       'height_in_meters': {'description': 'Height measured in meters',\n",
       "        'type': 'string'}}}}},\n",
       "   'required': ['people']}}}"
      ]
     },
     "execution_count": 32,
     "metadata": {},
     "output_type": "execute_result"
    }
   ],
   "source": [
    "convert_to_openai_tool(Data)"
   ]
  },
  {
   "cell_type": "code",
   "execution_count": 21,
   "metadata": {},
   "outputs": [],
   "source": [
    "text = \"My name is Jeff, my hair is black and i am 6 feet tall. Anna has the same color hair as me.\""
   ]
  },
  {
   "cell_type": "code",
   "execution_count": 47,
   "metadata": {},
   "outputs": [],
   "source": [
    "text = \"The solar system is large, but earth has only 1 moon.\""
   ]
  },
  {
   "cell_type": "code",
   "execution_count": 49,
   "metadata": {},
   "outputs": [
    {
     "data": {
      "text/plain": [
       "Message({'role': 'assistant', 'content': \"The text you provided does not contain information about the number of people or their specific details. It discusses the size of the solar system and the fact that Earth has only one moon. Here's the relevant information:\\n\\n- Solar System Size: Large (not quantified)\\n- Earth's Moons: 1 (specifically, the Moon)\\n\\nIf you need a count of people or details about individuals, please provide another text.\"})"
      ]
     },
     "execution_count": 49,
     "metadata": {},
     "output_type": "execute_result"
    }
   ],
   "source": [
    "res.output.choices[0].message"
   ]
  },
  {
   "cell_type": "code",
   "execution_count": null,
   "metadata": {},
   "outputs": [],
   "source": []
  },
  {
   "cell_type": "markdown",
   "metadata": {},
   "source": [
    "## 基于大模型抽取人物关系图谱\n",
    "\n",
    "* 文档的分割\n",
    "* 案例的重要性"
   ]
  },
  {
   "cell_type": "code",
   "execution_count": 68,
   "metadata": {},
   "outputs": [],
   "source": [
    "from langchain.document_loaders import TextLoader\n",
    "loader_txt = TextLoader(r'F:\\langchain\\云岚宗.txt', encoding='utf8')\n",
    "docs_txt = loader_txt.load()"
   ]
  },
  {
   "cell_type": "code",
   "execution_count": 69,
   "metadata": {},
   "outputs": [],
   "source": [
    "from langchain.text_splitter import RecursiveCharacterTextSplitter\n",
    "# 导入递归字符文本分割器\n",
    "text_splitter_txt = RecursiveCharacterTextSplitter(chunk_size = 300, chunk_overlap = 0, separators=[\"\\n\\n\", \"\\n\", \" \", \"\", \"。\", \"，\"])\n",
    "# 导入文本\n",
    "documents_txt = text_splitter_txt.split_documents(docs_txt)"
   ]
  },
  {
   "cell_type": "code",
   "execution_count": 71,
   "metadata": {},
   "outputs": [
    {
     "data": {
      "text/plain": [
       "9"
      ]
     },
     "execution_count": 71,
     "metadata": {},
     "output_type": "execute_result"
    }
   ],
   "source": [
    "len(documents_txt)"
   ]
  },
  {
   "cell_type": "code",
   "execution_count": 72,
   "metadata": {},
   "outputs": [
    {
     "data": {
      "text/plain": [
       "'第四章 云岚宗\\n\\n大厅中,萧战以及三位长老,正在颇为热切的与那位陌生老者交谈着,不过这位老者似乎有什么难以启齿的事情一般,每每到口的话语,都将会有些无奈的咽了回去,而每当这个时候,一旁的娇贵少女,都是忍不住的横了老者一眼…\\n\\n    倾耳听了一会，萧炎便是有些无聊的摇了摇头…\\n\\n    “萧炎哥哥，你知道他们的身份吗？”就在萧炎无聊得想要打瞌睡之时，身旁的熏儿，纤指再次翻开古朴的书页，目不斜视的微笑道。\\n\\n    “你知道？”好奇的转过头来，萧炎惊诧的问道。\\n\\n    “看见他们袍服袖口处的云彩银剑了么？”微微一笑，熏儿道。'"
      ]
     },
     "execution_count": 72,
     "metadata": {},
     "output_type": "execute_result"
    }
   ],
   "source": [
    "documents_txt[0].page_content"
   ]
  },
  {
   "cell_type": "code",
   "execution_count": 74,
   "metadata": {},
   "outputs": [],
   "source": [
    "class Relation(BaseModel):\n",
    "    \"\"\"两个人物之间的关系\"\"\"\n",
    "    name0: Optional[str] = Field(default=None, description=\"一个人物的名称\")\n",
    "    name1: Optional[str] = Field(default=None, description=\"另一个人物的名称\")\n",
    "    guanxi: Optional[str] = Field(default=None, description=\"两个人物间的关系\")\n",
    "\n",
    "class Data_guanxi(BaseModel):\n",
    "    \"\"\"抽取人物间关系数据\"\"\"\n",
    "    relation: List[Relation]\n",
    "\n",
    "def prompt_yun(ct):\n",
    "    system_prompt=\"您是提取算法专家。仅从文本中提取相关信息。如果您不知道要求提取的属性值，则为属性值返回 null。首先确定文本中包含哪些人物角色，给出这些人物角色间的关系\"\n",
    "    prompt=[{\"content\":system_prompt,\"role\":\"system\"},\\\n",
    "            {\"role\":\"user\",\"content\":\"小明上学路上看手机，被小强的足球踢脸上了，小红看见了哈哈大笑\"},\\\n",
    "            {'role': 'assistant', 'content': '', 'tool_calls': [{'function': {'name': 'Data_yun', 'arguments': '{\"relation\": [{\"name0\": \"小明\",\"name1\": \"小强\",\"guanxi\": \"小明被小强把球踢脸上了\"},{\"name0\": \"小红\",\"name1\": \"小明\",\"guanxi\": \"小明被小红嘲笑了\"}]}'}}]}]\n",
    "    prompt.append({\"role\":\"user\",\"content\":ct})\n",
    "    return prompt\n",
    "\n",
    "def get_response_1t(mess):\n",
    "    response = Generation.call(\n",
    "        model='qwen-plus',\n",
    "        messages=mess,\n",
    "        tools=[convert_to_openai_tool(Data_guanxi)],\n",
    "        result_format='message', # 将输出设置为message形式\n",
    "    )\n",
    "    return response"
   ]
  },
  {
   "cell_type": "code",
   "execution_count": 79,
   "metadata": {},
   "outputs": [
    {
     "data": {
      "text/plain": [
       "'第四章 云岚宗\\n\\n大厅中,萧战以及三位长老,正在颇为热切的与那位陌生老者交谈着,不过这位老者似乎有什么难以启齿的事情一般,每每到口的话语,都将会有些无奈的咽了回去,而每当这个时候,一旁的娇贵少女,都是忍不住的横了老者一眼…\\n\\n    倾耳听了一会，萧炎便是有些无聊的摇了摇头…\\n\\n    “萧炎哥哥，你知道他们的身份吗？”就在萧炎无聊得想要打瞌睡之时，身旁的熏儿，纤指再次翻开古朴的书页，目不斜视的微笑道。\\n\\n    “你知道？”好奇的转过头来，萧炎惊诧的问道。\\n\\n    “看见他们袍服袖口处的云彩银剑了么？”微微一笑，熏儿道。'"
      ]
     },
     "execution_count": 79,
     "metadata": {},
     "output_type": "execute_result"
    }
   ],
   "source": [
    "documents_txt[0].page_content"
   ]
  },
  {
   "cell_type": "code",
   "execution_count": 80,
   "metadata": {},
   "outputs": [],
   "source": [
    "text = documents_txt[0].page_content\n",
    "p_y=prompt_yun(text)\n",
    "res=get_response_1t(p_y)"
   ]
  },
  {
   "cell_type": "code",
   "execution_count": 91,
   "metadata": {},
   "outputs": [
    {
     "data": {
      "text/plain": [
       "[{'name0': '萧战', 'name1': '三位长老', 'guanxi': '与...交谈'},\n",
       " {'name0': '陌生老者', 'name1': '萧战', 'guanxi': '与...交谈'},\n",
       " {'name0': '娇贵少女', 'name1': '老者', 'guanxi': '横了...一眼'},\n",
       " {'name0': '萧炎', 'name1': '熏儿', 'guanxi': '对话'}]"
      ]
     },
     "execution_count": 91,
     "metadata": {},
     "output_type": "execute_result"
    }
   ],
   "source": [
    "res_relation=parser.parse(res.output.choices[0].message['tool_calls'][0]['function']['arguments'])['relation']\n",
    "res_relation"
   ]
  },
  {
   "cell_type": "code",
   "execution_count": null,
   "metadata": {},
   "outputs": [],
   "source": []
  },
  {
   "cell_type": "code",
   "execution_count": 88,
   "metadata": {},
   "outputs": [
    {
     "data": {
      "text/plain": [
       "{'result': '2 + 2 = 4', 'mode': 'math_operation'}"
      ]
     },
     "execution_count": 88,
     "metadata": {},
     "output_type": "execute_result"
    }
   ],
   "source": [
    "from langchain_core.output_parsers import JsonOutputParser\n",
    "\n",
    "parser = JsonOutputParser()\n",
    "output_dict = parser.parse('{\"result\": \"2 + 2 = 4\", \"mode\": \"math_operation\"}')\n",
    "output_dict"
   ]
  },
  {
   "cell_type": "code",
   "execution_count": 46,
   "metadata": {},
   "outputs": [],
   "source": [
    "text = documents_txt[0].page_content"
   ]
  },
  {
   "cell_type": "code",
   "execution_count": 47,
   "metadata": {},
   "outputs": [
    {
     "data": {
      "text/plain": [
       "Message({'role': 'assistant', 'content': '', 'tool_calls': [{'function': {'name': 'Data_yun', 'arguments': '{\"relation\": [{\"name0\": \"萧炎\", \"name1\": \"萧战\", \"guanxi\": \"正在交谈\"}, {\"name0\": \"萧炎\", \"name1\": \"三位长老\", \"guanxi\": \"正在交谈\"}, {\"name0\": \"一位陌生老者\", \"name1\": \"萧炎\", \"guanxi\": \"交谈时老者有难言之隐\"}, {\"name0\": \"娇贵少女\", \"name1\": \"老者\", \"guanxi\": \"少女对老者不满（可能是因为老者的犹豫）\"}, {\"name0\": \"熏儿\", \"name1\": \"萧炎\", \"guanxi\": \"向萧炎询问身份\"}]}'}, 'id': '', 'type': 'function'}]})"
      ]
     },
     "execution_count": 47,
     "metadata": {},
     "output_type": "execute_result"
    }
   ],
   "source": [
    "res.output.choices[0].message"
   ]
  },
  {
   "cell_type": "code",
   "execution_count": 48,
   "metadata": {},
   "outputs": [
    {
     "name": "stdout",
     "output_type": "stream",
     "text": [
      "{\"relation\": [{\"name0\": \"萧炎\", \"name1\": \"萧战\", \"guanxi\": \"正在交谈\"}, {\"name0\": \"萧炎\", \"name1\": \"三位长老\", \"guanxi\": \"正在交谈\"}, {\"name0\": \"一位陌生老者\", \"name1\": \"萧炎\", \"guanxi\": \"交谈时老者有难言之隐\"}, {\"name0\": \"娇贵少女\", \"name1\": \"老者\", \"guanxi\": \"少女对老者不满（可能是因为老者的犹豫）\"}, {\"name0\": \"熏儿\", \"name1\": \"萧炎\", \"guanxi\": \"向萧炎询问身份\"}]}\n"
     ]
    }
   ],
   "source": [
    "print(res.output.choices[0].message[\"tool_calls\"][0]['function']['arguments'])"
   ]
  },
  {
   "cell_type": "code",
   "execution_count": 93,
   "metadata": {},
   "outputs": [],
   "source": [
    "#正常显示画图时出现的中文和负号\n",
    "from pylab import mpl\n",
    "import networkx as nx\n",
    "import matplotlib.pyplot as plt\n",
    "import random\n",
    "\n",
    "mpl.rcParams['font.sans-serif']=['SimHei']\n",
    "mpl.rcParams['axes.unicode_minus']=False"
   ]
  },
  {
   "cell_type": "code",
   "execution_count": 52,
   "metadata": {},
   "outputs": [
    {
     "data": {
      "text/plain": [
       "[{'name0': '萧炎', 'name1': '萧战', 'guanxi': '正在交谈'},\n",
       " {'name0': '萧炎', 'name1': '三位长老', 'guanxi': '正在交谈'},\n",
       " {'name0': '一位陌生老者', 'name1': '萧炎', 'guanxi': '交谈时老者有难言之隐'},\n",
       " {'name0': '娇贵少女', 'name1': '老者', 'guanxi': '少女对老者不满（可能是因为老者的犹豫）'},\n",
       " {'name0': '熏儿', 'name1': '萧炎', 'guanxi': '向萧炎询问身份'}]"
      ]
     },
     "execution_count": 52,
     "metadata": {},
     "output_type": "execute_result"
    }
   ],
   "source": [
    "res_relation"
   ]
  },
  {
   "cell_type": "code",
   "execution_count": 94,
   "metadata": {},
   "outputs": [
    {
     "data": {
      "image/png": "[encoded data removed]",
      "text/plain": [
       "<Figure size 640x480 with 1 Axes>"
      ]
     },
     "metadata": {},
     "output_type": "display_data"
    }
   ],
   "source": [
    "G = nx.Graph()\n",
    "for i in res_relation:\n",
    "    G.add_edge(i[\"name0\"], i['name1'], name=i['guanxi'])\n",
    "pos = nx.spring_layout(G) \n",
    "\n",
    "for i in pos.keys():\n",
    "    pos[i][0]=pos[i][0]+random.randint(0, 20)\n",
    "    pos[i][1]=pos[i][1]+random.randint(0, 20)\n",
    "    \n",
    "nx.draw_networkx(G, pos=pos)\n",
    "edge_labels = nx.get_edge_attributes(G, 'name')\n",
    "nx.draw_networkx_edge_labels(G, pos, edge_labels=edge_labels)\n",
    "plt.show()"
   ]
  },
  {
   "cell_type": "code",
   "execution_count": null,
   "metadata": {},
   "outputs": [],
   "source": []
  },
  {
   "cell_type": "markdown",
   "metadata": {},
   "source": [
    "## 基于大模型的商品评论分析"
   ]
  },
  {
   "cell_type": "code",
   "execution_count": 56,
   "metadata": {},
   "outputs": [],
   "source": [
    "import pandas as pd"
   ]
  },
  {
   "cell_type": "code",
   "execution_count": 60,
   "metadata": {},
   "outputs": [],
   "source": [
    "df=pd.read_excel(r\"F:\\langchain\\原始数据.xlsx\")"
   ]
  },
  {
   "cell_type": "code",
   "execution_count": 61,
   "metadata": {},
   "outputs": [
    {
     "data": {
      "text/plain": [
       "Index(['Class_Name', 'Clothing_ID', 'Department_Name', 'Division_Name',\n",
       "       'Review_Text', 'Title', 'Age', 'F0', 'Positive_Feedback_Count',\n",
       "       'Rating', 'Recommended_IND'],\n",
       "      dtype='object')"
      ]
     },
     "execution_count": 61,
     "metadata": {},
     "output_type": "execute_result"
    }
   ],
   "source": [
    "df.columns"
   ]
  },
  {
   "cell_type": "code",
   "execution_count": 135,
   "metadata": {},
   "outputs": [
    {
     "data": {
      "text/html": [
       "<div>\n",
       "<style scoped>\n",
       "    .dataframe tbody tr th:only-of-type {\n",
       "        vertical-align: middle;\n",
       "    }\n",
       "\n",
       "    .dataframe tbody tr th {\n",
       "        vertical-align: top;\n",
       "    }\n",
       "\n",
       "    .dataframe thead th {\n",
       "        text-align: right;\n",
       "    }\n",
       "</style>\n",
       "<table border=\"1\" class=\"dataframe\">\n",
       "  <thead>\n",
       "    <tr style=\"text-align: right;\">\n",
       "      <th></th>\n",
       "      <th>Class_Name</th>\n",
       "      <th>Clothing_ID</th>\n",
       "      <th>Department_Name</th>\n",
       "      <th>Division_Name</th>\n",
       "      <th>Review_Text</th>\n",
       "      <th>Title</th>\n",
       "      <th>Age</th>\n",
       "      <th>F0</th>\n",
       "      <th>Positive_Feedback_Count</th>\n",
       "      <th>Rating</th>\n",
       "      <th>Recommended_IND</th>\n",
       "    </tr>\n",
       "  </thead>\n",
       "  <tbody>\n",
       "    <tr>\n",
       "      <th>0</th>\n",
       "      <td>Intimates</td>\n",
       "      <td>767</td>\n",
       "      <td>Intimate</td>\n",
       "      <td>Initmates</td>\n",
       "      <td>Absolutely wonderful - silky and sexy and comf...</td>\n",
       "      <td>NaN</td>\n",
       "      <td>33</td>\n",
       "      <td>0</td>\n",
       "      <td>0</td>\n",
       "      <td>4</td>\n",
       "      <td>1</td>\n",
       "    </tr>\n",
       "    <tr>\n",
       "      <th>1</th>\n",
       "      <td>Dresses</td>\n",
       "      <td>1080</td>\n",
       "      <td>Dresses</td>\n",
       "      <td>General</td>\n",
       "      <td>Love this dress!  it's sooo pretty.  i happene...</td>\n",
       "      <td>NaN</td>\n",
       "      <td>34</td>\n",
       "      <td>1</td>\n",
       "      <td>4</td>\n",
       "      <td>5</td>\n",
       "      <td>1</td>\n",
       "    </tr>\n",
       "  </tbody>\n",
       "</table>\n",
       "</div>"
      ],
      "text/plain": [
       "  Class_Name  Clothing_ID Department_Name Division_Name  \\\n",
       "0  Intimates          767        Intimate     Initmates   \n",
       "1    Dresses         1080         Dresses       General   \n",
       "\n",
       "                                         Review_Text Title  Age  F0  \\\n",
       "0  Absolutely wonderful - silky and sexy and comf...   NaN   33   0   \n",
       "1  Love this dress!  it's sooo pretty.  i happene...   NaN   34   1   \n",
       "\n",
       "   Positive_Feedback_Count  Rating  Recommended_IND  \n",
       "0                        0       4                1  \n",
       "1                        4       5                1  "
      ]
     },
     "execution_count": 135,
     "metadata": {},
     "output_type": "execute_result"
    }
   ],
   "source": [
    "df.head(2)"
   ]
  },
  {
   "cell_type": "code",
   "execution_count": 144,
   "metadata": {},
   "outputs": [
    {
     "data": {
      "text/plain": [
       "Clothing_ID\n",
       "1056    11\n",
       "1072    13\n",
       "820     13\n",
       "829     14\n",
       "867     16\n",
       "1081    16\n",
       "868     19\n",
       "1094    24\n",
       "1078    29\n",
       "862     34\n",
       "dtype: int64"
      ]
     },
     "execution_count": 144,
     "metadata": {},
     "output_type": "execute_result"
    }
   ],
   "source": [
    "df[df[\"Rating\"]<2].groupby(\"Clothing_ID\").size().sort_values().tail(10)"
   ]
  },
  {
   "cell_type": "code",
   "execution_count": 65,
   "metadata": {},
   "outputs": [],
   "source": [
    "re_862=df[(df[\"Rating\"]<2)&(df[\"Clothing_ID\"]==862)].Review_Text.tolist()"
   ]
  },
  {
   "cell_type": "code",
   "execution_count": 154,
   "metadata": {},
   "outputs": [
    {
     "data": {
      "text/plain": [
       "'The material is cheap and looks torn. not as nice as the picture.'"
      ]
     },
     "execution_count": 154,
     "metadata": {},
     "output_type": "execute_result"
    }
   ],
   "source": [
    "re_862[1]"
   ]
  },
  {
   "cell_type": "code",
   "execution_count": 62,
   "metadata": {},
   "outputs": [],
   "source": [
    "class clothing(BaseModel):\n",
    "    \"\"\"Reasons for negative user reviews\"\"\"\n",
    "    Fabric_problems: Optional[str] = Field(default=None, description=\"Fabric problems: noticeable holes, loose threads, pilling, or abnormal color fading and shrinkage\")\n",
    "    Workmanship_defects: Optional[str] = Field(default=None, description=\"Workmanship defects: poor stitching, excessive loose threads, easily detachable buttons, etc\")\n",
    "    Size_discrepancies : Optional[str] = Field(default=None, description=\"Size discrepancies: the actual product size differs from the described dimensions, leading to ill-fitting garments.\")\n",
    "    Uncomfortable_wear : Optional[str] = Field(default=None, description=\"non-breathable fabrics, irritation against the skin, or discomfort during wear.\")\n",
    "    Fit_design: Optional[str] = Field(default=None, description=\"Fit and design: unsuitable cut, not conforming to ergonomics, or unflattering when worn\")\n",
    "    Appearance_Discrepancies: Optional[str] = Field(default=None, description=\"Mismatch between the product received and online images in terms of style or color.\")\n",
    "    After_Sales: Optional[str] = Field(default=None, description=\"Unsatisfactory customer service attitude or response efficiency.\")\n",
    "    Value_Money: Optional[str] = Field(default=None, description=\"Consumers feel that the price does not align with the actual quality or value of the product, perceiving it as overpriced.\")\n",
    "\n",
    "class Data_yun(BaseModel):\n",
    "    \"\"\"Extraction of user negative review information\"\"\"\n",
    "    comment: List[clothing]"
   ]
  },
  {
   "cell_type": "code",
   "execution_count": 2,
   "metadata": {},
   "outputs": [],
   "source": [
    "#convert_to_openai_tool(Data_yun)"
   ]
  },
  {
   "cell_type": "code",
   "execution_count": 66,
   "metadata": {},
   "outputs": [],
   "source": [
    "text = re_862[4]\n",
    "p_y=prompt_yun(text)\n",
    "res=get_response_yun(p_y)"
   ]
  },
  {
   "cell_type": "code",
   "execution_count": 188,
   "metadata": {},
   "outputs": [
    {
     "name": "stdout",
     "output_type": "stream",
     "text": [
      "{\"comment\": [{\"Size_discrepancies\": \"shrank significantly after washing, became unwearable\", \"Workmanship_defects\": \"poor shrink resistance\"}]}\n"
     ]
    }
   ],
   "source": [
    "print(res.output.choices[0].message[\"tool_calls\"][0]['function']['arguments'])"
   ]
  },
  {
   "cell_type": "code",
   "execution_count": 180,
   "metadata": {},
   "outputs": [
    {
     "data": {
      "text/plain": [
       "'I loved this shirt until the first time i washed it. it shrunk so much it became unwearable. when i returned it the salesperson said she had also bought this shirt and the same thing happened.'"
      ]
     },
     "execution_count": 180,
     "metadata": {},
     "output_type": "execute_result"
    }
   ],
   "source": [
    "re_862[4]"
   ]
  },
  {
   "cell_type": "code",
   "execution_count": 189,
   "metadata": {},
   "outputs": [
    {
     "data": {
      "text/plain": [
       "'{\"comment\": [{\"Size_discrepancies\": \"shrank significantly after washing, became unwearable\", \"Workmanship_defects\": \"poor shrink resistance\"}]}'"
      ]
     },
     "execution_count": 189,
     "metadata": {},
     "output_type": "execute_result"
    }
   ],
   "source": [
    "res.output.choices[0].message[\"tool_calls\"][0]['function']['arguments']"
   ]
  },
  {
   "cell_type": "code",
   "execution_count": 211,
   "metadata": {},
   "outputs": [
    {
     "data": {
      "text/plain": [
       "{'Fit_design': 25,\n",
       " 'Fabric_problems': 5,\n",
       " 'Appearance_Discrepancies': 6,\n",
       " 'Size_discrepancies': 12,\n",
       " 'Return_policy': 1,\n",
       " 'Value_Money': 9,\n",
       " 'Uncomfortable_wear': 4,\n",
       " 'Workmanship_defects': 9,\n",
       " 'Unsuitable_product': 1,\n",
       " 'Quality': 1}"
      ]
     },
     "execution_count": 211,
     "metadata": {},
     "output_type": "execute_result"
    }
   ],
   "source": [
    "dict0"
   ]
  },
  {
   "cell_type": "code",
   "execution_count": null,
   "metadata": {},
   "outputs": [],
   "source": []
  },
  {
   "cell_type": "code",
   "execution_count": null,
   "metadata": {},
   "outputs": [],
   "source": []
  },
  {
   "cell_type": "code",
   "execution_count": null,
   "metadata": {},
   "outputs": [],
   "source": []
  },
  {
   "cell_type": "markdown",
   "metadata": {},
   "source": [
    "https://api.python.langchain.com/en/latest/_modules/langchain_anthropic/chat_models.html#ChatAnthropic.bind_tools\n",
    "\n",
    "https://zhuanlan.zhihu.com/p/685741041\n",
    "\n",
    "https://github.com/langchain-ai/langchain/blob/a4896da2a0264c3405b5a97d03fff673ddee8402/libs/partners/openai/langchain_openai/chat_models/base.py#L765"
   ]
  },
  {
   "cell_type": "code",
   "execution_count": null,
   "metadata": {},
   "outputs": [],
   "source": []
  },
  {
   "cell_type": "markdown",
   "metadata": {},
   "source": [
    "## "
   ]
  }
 ],
 "metadata": {
  "kernelspec": {
   "display_name": "Python 3 (ipykernel)",
   "language": "python",
   "name": "python3"
  },
  "language_info": {
   "codemirror_mode": {
    "name": "ipython",
    "version": 3
   },
   "file_extension": ".py",
   "mimetype": "text/x-python",
   "name": "python",
   "nbconvert_exporter": "python",
   "pygments_lexer": "ipython3",
   "version": "3.9.0"
  }
 },
 "nbformat": 4,
 "nbformat_minor": 4
}
