{
 "cells": [
  {
   "cell_type": "markdown",
   "id": "06fb9bb9",
   "metadata": {},
   "source": [
    "# 衡量投资质量的基本指标\n",
    "\n",
    "* 收益率\n",
    "\n",
    "* 风险\n",
    "\n",
    "* 最大回撤\n",
    "\n",
    "本节内容对应《量化投资以python为工具》电子书的265-273页（同时也是书上的247-255页）"
   ]
  },
  {
   "cell_type": "code",
   "execution_count": 3,
   "id": "c5b64033",
   "metadata": {},
   "outputs": [],
   "source": [
    "from gm.api import *\n",
    "import pandas as pd\n",
    "\n",
    "set_token(\"eea4b28a3ceb7048603d388bb777ebc67de47385\")"
   ]
  },
  {
   "cell_type": "markdown",
   "id": "37f8ef57",
   "metadata": {},
   "source": [
    "## 收益率\n",
    "\n",
    "* 掘金数据的处理\n",
    "\n",
    "* 单期与多期收益率"
   ]
  },
  {
   "cell_type": "code",
   "execution_count": 4,
   "id": "b87ebf53",
   "metadata": {},
   "outputs": [
    {
     "data": {
      "text/html": [
       "<div>\n",
       "<style scoped>\n",
       "    .dataframe tbody tr th:only-of-type {\n",
       "        vertical-align: middle;\n",
       "    }\n",
       "\n",
       "    .dataframe tbody tr th {\n",
       "        vertical-align: top;\n",
       "    }\n",
       "\n",
       "    .dataframe thead th {\n",
       "        text-align: right;\n",
       "    }\n",
       "</style>\n",
       "<table border=\"1\" class=\"dataframe\">\n",
       "  <thead>\n",
       "    <tr style=\"text-align: right;\">\n",
       "      <th></th>\n",
       "      <th>symbol</th>\n",
       "      <th>open</th>\n",
       "      <th>close</th>\n",
       "      <th>low</th>\n",
       "      <th>high</th>\n",
       "      <th>eob</th>\n",
       "    </tr>\n",
       "  </thead>\n",
       "  <tbody>\n",
       "    <tr>\n",
       "      <th>0</th>\n",
       "      <td>SZSE.000002</td>\n",
       "      <td>24.4712</td>\n",
       "      <td>24.5077</td>\n",
       "      <td>24.2797</td>\n",
       "      <td>24.6263</td>\n",
       "      <td>2020-07-28 00:00:00+08:00</td>\n",
       "    </tr>\n",
       "    <tr>\n",
       "      <th>1</th>\n",
       "      <td>SZSE.000063</td>\n",
       "      <td>38.1755</td>\n",
       "      <td>37.9678</td>\n",
       "      <td>37.6512</td>\n",
       "      <td>38.3832</td>\n",
       "      <td>2020-07-28 00:00:00+08:00</td>\n",
       "    </tr>\n",
       "    <tr>\n",
       "      <th>2</th>\n",
       "      <td>SZSE.002007</td>\n",
       "      <td>57.2363</td>\n",
       "      <td>55.6690</td>\n",
       "      <td>53.7446</td>\n",
       "      <td>57.2363</td>\n",
       "      <td>2020-07-28 00:00:00+08:00</td>\n",
       "    </tr>\n",
       "    <tr>\n",
       "      <th>3</th>\n",
       "      <td>SZSE.000001</td>\n",
       "      <td>13.2359</td>\n",
       "      <td>13.2359</td>\n",
       "      <td>13.0772</td>\n",
       "      <td>13.3252</td>\n",
       "      <td>2020-07-28 00:00:00+08:00</td>\n",
       "    </tr>\n",
       "    <tr>\n",
       "      <th>4</th>\n",
       "      <td>SZSE.000413</td>\n",
       "      <td>2.7600</td>\n",
       "      <td>2.8000</td>\n",
       "      <td>2.7500</td>\n",
       "      <td>2.8400</td>\n",
       "      <td>2020-07-28 00:00:00+08:00</td>\n",
       "    </tr>\n",
       "    <tr>\n",
       "      <th>...</th>\n",
       "      <td>...</td>\n",
       "      <td>...</td>\n",
       "      <td>...</td>\n",
       "      <td>...</td>\n",
       "      <td>...</td>\n",
       "      <td>...</td>\n",
       "    </tr>\n",
       "    <tr>\n",
       "      <th>1229</th>\n",
       "      <td>SZSE.000002</td>\n",
       "      <td>19.2828</td>\n",
       "      <td>19.5381</td>\n",
       "      <td>19.0086</td>\n",
       "      <td>19.5760</td>\n",
       "      <td>2021-07-30 00:00:00+08:00</td>\n",
       "    </tr>\n",
       "    <tr>\n",
       "      <th>1230</th>\n",
       "      <td>SZSE.000063</td>\n",
       "      <td>37.0447</td>\n",
       "      <td>38.5862</td>\n",
       "      <td>36.8955</td>\n",
       "      <td>38.9143</td>\n",
       "      <td>2021-07-30 00:00:00+08:00</td>\n",
       "    </tr>\n",
       "    <tr>\n",
       "      <th>1231</th>\n",
       "      <td>SZSE.002007</td>\n",
       "      <td>36.5400</td>\n",
       "      <td>36.7900</td>\n",
       "      <td>35.7000</td>\n",
       "      <td>37.2400</td>\n",
       "      <td>2021-07-30 00:00:00+08:00</td>\n",
       "    </tr>\n",
       "    <tr>\n",
       "      <th>1232</th>\n",
       "      <td>SZSE.000001</td>\n",
       "      <td>17.9200</td>\n",
       "      <td>17.6900</td>\n",
       "      <td>17.2400</td>\n",
       "      <td>18.0500</td>\n",
       "      <td>2021-07-30 00:00:00+08:00</td>\n",
       "    </tr>\n",
       "    <tr>\n",
       "      <th>1233</th>\n",
       "      <td>SZSE.000413</td>\n",
       "      <td>1.9800</td>\n",
       "      <td>2.0600</td>\n",
       "      <td>1.9700</td>\n",
       "      <td>2.0800</td>\n",
       "      <td>2021-07-30 00:00:00+08:00</td>\n",
       "    </tr>\n",
       "  </tbody>\n",
       "</table>\n",
       "<p>1234 rows × 6 columns</p>\n",
       "</div>"
      ],
      "text/plain": [
       "           symbol     open    close      low     high  \\\n",
       "0     SZSE.000002  24.4712  24.5077  24.2797  24.6263   \n",
       "1     SZSE.000063  38.1755  37.9678  37.6512  38.3832   \n",
       "2     SZSE.002007  57.2363  55.6690  53.7446  57.2363   \n",
       "3     SZSE.000001  13.2359  13.2359  13.0772  13.3252   \n",
       "4     SZSE.000413   2.7600   2.8000   2.7500   2.8400   \n",
       "...           ...      ...      ...      ...      ...   \n",
       "1229  SZSE.000002  19.2828  19.5381  19.0086  19.5760   \n",
       "1230  SZSE.000063  37.0447  38.5862  36.8955  38.9143   \n",
       "1231  SZSE.002007  36.5400  36.7900  35.7000  37.2400   \n",
       "1232  SZSE.000001  17.9200  17.6900  17.2400  18.0500   \n",
       "1233  SZSE.000413   1.9800   2.0600   1.9700   2.0800   \n",
       "\n",
       "                           eob  \n",
       "0    2020-07-28 00:00:00+08:00  \n",
       "1    2020-07-28 00:00:00+08:00  \n",
       "2    2020-07-28 00:00:00+08:00  \n",
       "3    2020-07-28 00:00:00+08:00  \n",
       "4    2020-07-28 00:00:00+08:00  \n",
       "...                        ...  \n",
       "1229 2021-07-30 00:00:00+08:00  \n",
       "1230 2021-07-30 00:00:00+08:00  \n",
       "1231 2021-07-30 00:00:00+08:00  \n",
       "1232 2021-07-30 00:00:00+08:00  \n",
       "1233 2021-07-30 00:00:00+08:00  \n",
       "\n",
       "[1234 rows x 6 columns]"
      ]
     },
     "execution_count": 4,
     "metadata": {},
     "output_type": "execute_result"
    }
   ],
   "source": [
    "#000413 东旭光电，000063 中兴通讯，002007 华兰生物，000001 平安银行，000002 万科A\n",
    "stock_n = history(symbol='SZSE.000413,SZSE.000063,SZSE.002007,SZSE.000001,SZSE.000002', frequency='1d', start_time='2020-07-28',  end_time='2021-07-30', fields='symbol,open, close, low, high, eob', adjust=ADJUST_PREV, df= True)\n",
    "stock_n"
   ]
  },
  {
   "cell_type": "code",
   "execution_count": 7,
   "id": "e4ec0853",
   "metadata": {},
   "outputs": [
    {
     "data": {
      "text/plain": [
       "'2020-07-28'"
      ]
     },
     "execution_count": 7,
     "metadata": {},
     "output_type": "execute_result"
    }
   ],
   "source": [
    "str(stock_n.eob[0].date())"
   ]
  },
  {
   "cell_type": "code",
   "execution_count": 8,
   "id": "f208c5e9",
   "metadata": {},
   "outputs": [],
   "source": [
    "def time_str(x):\n",
    "    return str(x.date())\n",
    "\n",
    "stock_n.eob=stock_n.eob.apply(time_str)"
   ]
  },
  {
   "cell_type": "code",
   "execution_count": 10,
   "id": "cfcf522d",
   "metadata": {},
   "outputs": [
    {
     "data": {
      "text/html": [
       "<div>\n",
       "<style scoped>\n",
       "    .dataframe tbody tr th:only-of-type {\n",
       "        vertical-align: middle;\n",
       "    }\n",
       "\n",
       "    .dataframe tbody tr th {\n",
       "        vertical-align: top;\n",
       "    }\n",
       "\n",
       "    .dataframe thead th {\n",
       "        text-align: right;\n",
       "    }\n",
       "</style>\n",
       "<table border=\"1\" class=\"dataframe\">\n",
       "  <thead>\n",
       "    <tr style=\"text-align: right;\">\n",
       "      <th></th>\n",
       "      <th>symbol</th>\n",
       "      <th>open</th>\n",
       "      <th>close</th>\n",
       "      <th>low</th>\n",
       "      <th>high</th>\n",
       "      <th>eob</th>\n",
       "    </tr>\n",
       "  </thead>\n",
       "  <tbody>\n",
       "    <tr>\n",
       "      <th>0</th>\n",
       "      <td>SZSE.000002</td>\n",
       "      <td>24.4712</td>\n",
       "      <td>24.5077</td>\n",
       "      <td>24.2797</td>\n",
       "      <td>24.6263</td>\n",
       "      <td>2020-07-28</td>\n",
       "    </tr>\n",
       "    <tr>\n",
       "      <th>1</th>\n",
       "      <td>SZSE.000063</td>\n",
       "      <td>38.1755</td>\n",
       "      <td>37.9678</td>\n",
       "      <td>37.6512</td>\n",
       "      <td>38.3832</td>\n",
       "      <td>2020-07-28</td>\n",
       "    </tr>\n",
       "    <tr>\n",
       "      <th>2</th>\n",
       "      <td>SZSE.002007</td>\n",
       "      <td>57.2363</td>\n",
       "      <td>55.6690</td>\n",
       "      <td>53.7446</td>\n",
       "      <td>57.2363</td>\n",
       "      <td>2020-07-28</td>\n",
       "    </tr>\n",
       "    <tr>\n",
       "      <th>3</th>\n",
       "      <td>SZSE.000001</td>\n",
       "      <td>13.2359</td>\n",
       "      <td>13.2359</td>\n",
       "      <td>13.0772</td>\n",
       "      <td>13.3252</td>\n",
       "      <td>2020-07-28</td>\n",
       "    </tr>\n",
       "    <tr>\n",
       "      <th>4</th>\n",
       "      <td>SZSE.000413</td>\n",
       "      <td>2.7600</td>\n",
       "      <td>2.8000</td>\n",
       "      <td>2.7500</td>\n",
       "      <td>2.8400</td>\n",
       "      <td>2020-07-28</td>\n",
       "    </tr>\n",
       "    <tr>\n",
       "      <th>...</th>\n",
       "      <td>...</td>\n",
       "      <td>...</td>\n",
       "      <td>...</td>\n",
       "      <td>...</td>\n",
       "      <td>...</td>\n",
       "      <td>...</td>\n",
       "    </tr>\n",
       "    <tr>\n",
       "      <th>1224</th>\n",
       "      <td>SZSE.000002</td>\n",
       "      <td>19.5760</td>\n",
       "      <td>19.4814</td>\n",
       "      <td>19.1126</td>\n",
       "      <td>19.7178</td>\n",
       "      <td>2021-07-29</td>\n",
       "    </tr>\n",
       "    <tr>\n",
       "      <th>1225</th>\n",
       "      <td>SZSE.000063</td>\n",
       "      <td>37.9099</td>\n",
       "      <td>37.3431</td>\n",
       "      <td>36.8458</td>\n",
       "      <td>38.0690</td>\n",
       "      <td>2021-07-29</td>\n",
       "    </tr>\n",
       "    <tr>\n",
       "      <th>1226</th>\n",
       "      <td>SZSE.002007</td>\n",
       "      <td>37.1500</td>\n",
       "      <td>36.7900</td>\n",
       "      <td>36.4100</td>\n",
       "      <td>37.4400</td>\n",
       "      <td>2021-07-29</td>\n",
       "    </tr>\n",
       "    <tr>\n",
       "      <th>1227</th>\n",
       "      <td>SZSE.000001</td>\n",
       "      <td>17.9100</td>\n",
       "      <td>17.9600</td>\n",
       "      <td>17.7800</td>\n",
       "      <td>18.2400</td>\n",
       "      <td>2021-07-29</td>\n",
       "    </tr>\n",
       "    <tr>\n",
       "      <th>1228</th>\n",
       "      <td>SZSE.000413</td>\n",
       "      <td>1.9700</td>\n",
       "      <td>1.9900</td>\n",
       "      <td>1.9700</td>\n",
       "      <td>2.0000</td>\n",
       "      <td>2021-07-29</td>\n",
       "    </tr>\n",
       "  </tbody>\n",
       "</table>\n",
       "<p>1229 rows × 6 columns</p>\n",
       "</div>"
      ],
      "text/plain": [
       "           symbol     open    close      low     high         eob\n",
       "0     SZSE.000002  24.4712  24.5077  24.2797  24.6263  2020-07-28\n",
       "1     SZSE.000063  38.1755  37.9678  37.6512  38.3832  2020-07-28\n",
       "2     SZSE.002007  57.2363  55.6690  53.7446  57.2363  2020-07-28\n",
       "3     SZSE.000001  13.2359  13.2359  13.0772  13.3252  2020-07-28\n",
       "4     SZSE.000413   2.7600   2.8000   2.7500   2.8400  2020-07-28\n",
       "...           ...      ...      ...      ...      ...         ...\n",
       "1224  SZSE.000002  19.5760  19.4814  19.1126  19.7178  2021-07-29\n",
       "1225  SZSE.000063  37.9099  37.3431  36.8458  38.0690  2021-07-29\n",
       "1226  SZSE.002007  37.1500  36.7900  36.4100  37.4400  2021-07-29\n",
       "1227  SZSE.000001  17.9100  17.9600  17.7800  18.2400  2021-07-29\n",
       "1228  SZSE.000413   1.9700   1.9900   1.9700   2.0000  2021-07-29\n",
       "\n",
       "[1229 rows x 6 columns]"
      ]
     },
     "execution_count": 10,
     "metadata": {},
     "output_type": "execute_result"
    }
   ],
   "source": [
    "stock_n[stock_n.eob<\"2021-07-30\"]"
   ]
  },
  {
   "cell_type": "code",
   "execution_count": 14,
   "id": "0ea82ea4",
   "metadata": {},
   "outputs": [
    {
     "data": {
      "text/html": [
       "<div>\n",
       "<style scoped>\n",
       "    .dataframe tbody tr th:only-of-type {\n",
       "        vertical-align: middle;\n",
       "    }\n",
       "\n",
       "    .dataframe tbody tr th {\n",
       "        vertical-align: top;\n",
       "    }\n",
       "\n",
       "    .dataframe thead th {\n",
       "        text-align: right;\n",
       "    }\n",
       "</style>\n",
       "<table border=\"1\" class=\"dataframe\">\n",
       "  <thead>\n",
       "    <tr style=\"text-align: right;\">\n",
       "      <th></th>\n",
       "      <th>symbol</th>\n",
       "      <th>close</th>\n",
       "      <th>eob</th>\n",
       "    </tr>\n",
       "  </thead>\n",
       "  <tbody>\n",
       "    <tr>\n",
       "      <th>0</th>\n",
       "      <td>SZSE.000002</td>\n",
       "      <td>24.5077</td>\n",
       "      <td>2020-07-28</td>\n",
       "    </tr>\n",
       "    <tr>\n",
       "      <th>1</th>\n",
       "      <td>SZSE.000063</td>\n",
       "      <td>37.9678</td>\n",
       "      <td>2020-07-28</td>\n",
       "    </tr>\n",
       "    <tr>\n",
       "      <th>2</th>\n",
       "      <td>SZSE.002007</td>\n",
       "      <td>55.6690</td>\n",
       "      <td>2020-07-28</td>\n",
       "    </tr>\n",
       "    <tr>\n",
       "      <th>3</th>\n",
       "      <td>SZSE.000001</td>\n",
       "      <td>13.2359</td>\n",
       "      <td>2020-07-28</td>\n",
       "    </tr>\n",
       "    <tr>\n",
       "      <th>4</th>\n",
       "      <td>SZSE.000413</td>\n",
       "      <td>2.8000</td>\n",
       "      <td>2020-07-28</td>\n",
       "    </tr>\n",
       "    <tr>\n",
       "      <th>...</th>\n",
       "      <td>...</td>\n",
       "      <td>...</td>\n",
       "      <td>...</td>\n",
       "    </tr>\n",
       "    <tr>\n",
       "      <th>1229</th>\n",
       "      <td>SZSE.000002</td>\n",
       "      <td>19.5381</td>\n",
       "      <td>2021-07-30</td>\n",
       "    </tr>\n",
       "    <tr>\n",
       "      <th>1230</th>\n",
       "      <td>SZSE.000063</td>\n",
       "      <td>38.5862</td>\n",
       "      <td>2021-07-30</td>\n",
       "    </tr>\n",
       "    <tr>\n",
       "      <th>1231</th>\n",
       "      <td>SZSE.002007</td>\n",
       "      <td>36.7900</td>\n",
       "      <td>2021-07-30</td>\n",
       "    </tr>\n",
       "    <tr>\n",
       "      <th>1232</th>\n",
       "      <td>SZSE.000001</td>\n",
       "      <td>17.6900</td>\n",
       "      <td>2021-07-30</td>\n",
       "    </tr>\n",
       "    <tr>\n",
       "      <th>1233</th>\n",
       "      <td>SZSE.000413</td>\n",
       "      <td>2.0600</td>\n",
       "      <td>2021-07-30</td>\n",
       "    </tr>\n",
       "  </tbody>\n",
       "</table>\n",
       "<p>1234 rows × 3 columns</p>\n",
       "</div>"
      ],
      "text/plain": [
       "           symbol    close         eob\n",
       "0     SZSE.000002  24.5077  2020-07-28\n",
       "1     SZSE.000063  37.9678  2020-07-28\n",
       "2     SZSE.002007  55.6690  2020-07-28\n",
       "3     SZSE.000001  13.2359  2020-07-28\n",
       "4     SZSE.000413   2.8000  2020-07-28\n",
       "...           ...      ...         ...\n",
       "1229  SZSE.000002  19.5381  2021-07-30\n",
       "1230  SZSE.000063  38.5862  2021-07-30\n",
       "1231  SZSE.002007  36.7900  2021-07-30\n",
       "1232  SZSE.000001  17.6900  2021-07-30\n",
       "1233  SZSE.000413   2.0600  2021-07-30\n",
       "\n",
       "[1234 rows x 3 columns]"
      ]
     },
     "execution_count": 14,
     "metadata": {},
     "output_type": "execute_result"
    }
   ],
   "source": [
    "stock_n[[\"symbol\",\"close\",\"eob\"]]"
   ]
  },
  {
   "cell_type": "code",
   "execution_count": 19,
   "id": "031060b9",
   "metadata": {},
   "outputs": [
    {
     "data": {
      "text/html": [
       "<div>\n",
       "<style scoped>\n",
       "    .dataframe tbody tr th:only-of-type {\n",
       "        vertical-align: middle;\n",
       "    }\n",
       "\n",
       "    .dataframe tbody tr th {\n",
       "        vertical-align: top;\n",
       "    }\n",
       "\n",
       "    .dataframe thead th {\n",
       "        text-align: right;\n",
       "    }\n",
       "</style>\n",
       "<table border=\"1\" class=\"dataframe\">\n",
       "  <thead>\n",
       "    <tr style=\"text-align: right;\">\n",
       "      <th>symbol</th>\n",
       "      <th>SZSE.000001</th>\n",
       "      <th>SZSE.000002</th>\n",
       "      <th>SZSE.000063</th>\n",
       "      <th>SZSE.000413</th>\n",
       "      <th>SZSE.002007</th>\n",
       "    </tr>\n",
       "    <tr>\n",
       "      <th>eob</th>\n",
       "      <th></th>\n",
       "      <th></th>\n",
       "      <th></th>\n",
       "      <th></th>\n",
       "      <th></th>\n",
       "    </tr>\n",
       "  </thead>\n",
       "  <tbody>\n",
       "    <tr>\n",
       "      <th>2020-07-28</th>\n",
       "      <td>13.2359</td>\n",
       "      <td>24.5077</td>\n",
       "      <td>37.9678</td>\n",
       "      <td>2.80</td>\n",
       "      <td>55.6690</td>\n",
       "    </tr>\n",
       "    <tr>\n",
       "      <th>2020-07-29</th>\n",
       "      <td>13.4344</td>\n",
       "      <td>24.7266</td>\n",
       "      <td>39.1153</td>\n",
       "      <td>2.84</td>\n",
       "      <td>59.3492</td>\n",
       "    </tr>\n",
       "    <tr>\n",
       "      <th>2020-07-30</th>\n",
       "      <td>13.2657</td>\n",
       "      <td>24.5168</td>\n",
       "      <td>38.4921</td>\n",
       "      <td>2.79</td>\n",
       "      <td>60.4899</td>\n",
       "    </tr>\n",
       "    <tr>\n",
       "      <th>2020-07-31</th>\n",
       "      <td>13.2359</td>\n",
       "      <td>24.4803</td>\n",
       "      <td>38.7493</td>\n",
       "      <td>2.80</td>\n",
       "      <td>64.4082</td>\n",
       "    </tr>\n",
       "    <tr>\n",
       "      <th>2020-08-03</th>\n",
       "      <td>13.4840</td>\n",
       "      <td>24.8816</td>\n",
       "      <td>39.0757</td>\n",
       "      <td>2.86</td>\n",
       "      <td>70.8460</td>\n",
       "    </tr>\n",
       "    <tr>\n",
       "      <th>...</th>\n",
       "      <td>...</td>\n",
       "      <td>...</td>\n",
       "      <td>...</td>\n",
       "      <td>...</td>\n",
       "      <td>...</td>\n",
       "    </tr>\n",
       "    <tr>\n",
       "      <th>2021-07-26</th>\n",
       "      <td>18.8000</td>\n",
       "      <td>20.2001</td>\n",
       "      <td>35.9508</td>\n",
       "      <td>2.08</td>\n",
       "      <td>36.4600</td>\n",
       "    </tr>\n",
       "    <tr>\n",
       "      <th>2021-07-27</th>\n",
       "      <td>17.7600</td>\n",
       "      <td>19.0653</td>\n",
       "      <td>36.5674</td>\n",
       "      <td>2.08</td>\n",
       "      <td>35.8900</td>\n",
       "    </tr>\n",
       "    <tr>\n",
       "      <th>2021-07-28</th>\n",
       "      <td>17.7500</td>\n",
       "      <td>19.3774</td>\n",
       "      <td>37.0845</td>\n",
       "      <td>1.96</td>\n",
       "      <td>36.9000</td>\n",
       "    </tr>\n",
       "    <tr>\n",
       "      <th>2021-07-29</th>\n",
       "      <td>17.9600</td>\n",
       "      <td>19.4814</td>\n",
       "      <td>37.3431</td>\n",
       "      <td>1.99</td>\n",
       "      <td>36.7900</td>\n",
       "    </tr>\n",
       "    <tr>\n",
       "      <th>2021-07-30</th>\n",
       "      <td>17.6900</td>\n",
       "      <td>19.5381</td>\n",
       "      <td>38.5862</td>\n",
       "      <td>2.06</td>\n",
       "      <td>36.7900</td>\n",
       "    </tr>\n",
       "  </tbody>\n",
       "</table>\n",
       "<p>247 rows × 5 columns</p>\n",
       "</div>"
      ],
      "text/plain": [
       "symbol      SZSE.000001  SZSE.000002  SZSE.000063  SZSE.000413  SZSE.002007\n",
       "eob                                                                        \n",
       "2020-07-28      13.2359      24.5077      37.9678         2.80      55.6690\n",
       "2020-07-29      13.4344      24.7266      39.1153         2.84      59.3492\n",
       "2020-07-30      13.2657      24.5168      38.4921         2.79      60.4899\n",
       "2020-07-31      13.2359      24.4803      38.7493         2.80      64.4082\n",
       "2020-08-03      13.4840      24.8816      39.0757         2.86      70.8460\n",
       "...                 ...          ...          ...          ...          ...\n",
       "2021-07-26      18.8000      20.2001      35.9508         2.08      36.4600\n",
       "2021-07-27      17.7600      19.0653      36.5674         2.08      35.8900\n",
       "2021-07-28      17.7500      19.3774      37.0845         1.96      36.9000\n",
       "2021-07-29      17.9600      19.4814      37.3431         1.99      36.7900\n",
       "2021-07-30      17.6900      19.5381      38.5862         2.06      36.7900\n",
       "\n",
       "[247 rows x 5 columns]"
      ]
     },
     "execution_count": 19,
     "metadata": {},
     "output_type": "execute_result"
    }
   ],
   "source": [
    "pd.pivot_table(stock_n,index=[\"eob\"],columns=[\"symbol\"],values=[\"close\"]).close"
   ]
  },
  {
   "cell_type": "code",
   "execution_count": 20,
   "id": "67176aab",
   "metadata": {},
   "outputs": [],
   "source": [
    "stock_close=pd.pivot_table(stock_n,index=[\"eob\"],columns=[\"symbol\"],values=[\"close\"]).close"
   ]
  },
  {
   "cell_type": "code",
   "execution_count": 21,
   "id": "3e48bf87",
   "metadata": {},
   "outputs": [
    {
     "data": {
      "text/html": [
       "<div>\n",
       "<style scoped>\n",
       "    .dataframe tbody tr th:only-of-type {\n",
       "        vertical-align: middle;\n",
       "    }\n",
       "\n",
       "    .dataframe tbody tr th {\n",
       "        vertical-align: top;\n",
       "    }\n",
       "\n",
       "    .dataframe thead th {\n",
       "        text-align: right;\n",
       "    }\n",
       "</style>\n",
       "<table border=\"1\" class=\"dataframe\">\n",
       "  <thead>\n",
       "    <tr style=\"text-align: right;\">\n",
       "      <th>symbol</th>\n",
       "      <th>SZSE.000001</th>\n",
       "      <th>SZSE.000002</th>\n",
       "      <th>SZSE.000063</th>\n",
       "      <th>SZSE.000413</th>\n",
       "      <th>SZSE.002007</th>\n",
       "    </tr>\n",
       "    <tr>\n",
       "      <th>eob</th>\n",
       "      <th></th>\n",
       "      <th></th>\n",
       "      <th></th>\n",
       "      <th></th>\n",
       "      <th></th>\n",
       "    </tr>\n",
       "  </thead>\n",
       "  <tbody>\n",
       "    <tr>\n",
       "      <th>2020-07-28</th>\n",
       "      <td>13.2359</td>\n",
       "      <td>24.5077</td>\n",
       "      <td>37.9678</td>\n",
       "      <td>2.80</td>\n",
       "      <td>55.6690</td>\n",
       "    </tr>\n",
       "    <tr>\n",
       "      <th>2020-07-29</th>\n",
       "      <td>13.4344</td>\n",
       "      <td>24.7266</td>\n",
       "      <td>39.1153</td>\n",
       "      <td>2.84</td>\n",
       "      <td>59.3492</td>\n",
       "    </tr>\n",
       "    <tr>\n",
       "      <th>2020-07-30</th>\n",
       "      <td>13.2657</td>\n",
       "      <td>24.5168</td>\n",
       "      <td>38.4921</td>\n",
       "      <td>2.79</td>\n",
       "      <td>60.4899</td>\n",
       "    </tr>\n",
       "    <tr>\n",
       "      <th>2020-07-31</th>\n",
       "      <td>13.2359</td>\n",
       "      <td>24.4803</td>\n",
       "      <td>38.7493</td>\n",
       "      <td>2.80</td>\n",
       "      <td>64.4082</td>\n",
       "    </tr>\n",
       "    <tr>\n",
       "      <th>2020-08-03</th>\n",
       "      <td>13.4840</td>\n",
       "      <td>24.8816</td>\n",
       "      <td>39.0757</td>\n",
       "      <td>2.86</td>\n",
       "      <td>70.8460</td>\n",
       "    </tr>\n",
       "    <tr>\n",
       "      <th>...</th>\n",
       "      <td>...</td>\n",
       "      <td>...</td>\n",
       "      <td>...</td>\n",
       "      <td>...</td>\n",
       "      <td>...</td>\n",
       "    </tr>\n",
       "    <tr>\n",
       "      <th>2021-07-26</th>\n",
       "      <td>18.8000</td>\n",
       "      <td>20.2001</td>\n",
       "      <td>35.9508</td>\n",
       "      <td>2.08</td>\n",
       "      <td>36.4600</td>\n",
       "    </tr>\n",
       "    <tr>\n",
       "      <th>2021-07-27</th>\n",
       "      <td>17.7600</td>\n",
       "      <td>19.0653</td>\n",
       "      <td>36.5674</td>\n",
       "      <td>2.08</td>\n",
       "      <td>35.8900</td>\n",
       "    </tr>\n",
       "    <tr>\n",
       "      <th>2021-07-28</th>\n",
       "      <td>17.7500</td>\n",
       "      <td>19.3774</td>\n",
       "      <td>37.0845</td>\n",
       "      <td>1.96</td>\n",
       "      <td>36.9000</td>\n",
       "    </tr>\n",
       "    <tr>\n",
       "      <th>2021-07-29</th>\n",
       "      <td>17.9600</td>\n",
       "      <td>19.4814</td>\n",
       "      <td>37.3431</td>\n",
       "      <td>1.99</td>\n",
       "      <td>36.7900</td>\n",
       "    </tr>\n",
       "    <tr>\n",
       "      <th>2021-07-30</th>\n",
       "      <td>17.6900</td>\n",
       "      <td>19.5381</td>\n",
       "      <td>38.5862</td>\n",
       "      <td>2.06</td>\n",
       "      <td>36.7900</td>\n",
       "    </tr>\n",
       "  </tbody>\n",
       "</table>\n",
       "<p>247 rows × 5 columns</p>\n",
       "</div>"
      ],
      "text/plain": [
       "symbol      SZSE.000001  SZSE.000002  SZSE.000063  SZSE.000413  SZSE.002007\n",
       "eob                                                                        \n",
       "2020-07-28      13.2359      24.5077      37.9678         2.80      55.6690\n",
       "2020-07-29      13.4344      24.7266      39.1153         2.84      59.3492\n",
       "2020-07-30      13.2657      24.5168      38.4921         2.79      60.4899\n",
       "2020-07-31      13.2359      24.4803      38.7493         2.80      64.4082\n",
       "2020-08-03      13.4840      24.8816      39.0757         2.86      70.8460\n",
       "...                 ...          ...          ...          ...          ...\n",
       "2021-07-26      18.8000      20.2001      35.9508         2.08      36.4600\n",
       "2021-07-27      17.7600      19.0653      36.5674         2.08      35.8900\n",
       "2021-07-28      17.7500      19.3774      37.0845         1.96      36.9000\n",
       "2021-07-29      17.9600      19.4814      37.3431         1.99      36.7900\n",
       "2021-07-30      17.6900      19.5381      38.5862         2.06      36.7900\n",
       "\n",
       "[247 rows x 5 columns]"
      ]
     },
     "execution_count": 21,
     "metadata": {},
     "output_type": "execute_result"
    }
   ],
   "source": [
    "stock_close"
   ]
  },
  {
   "cell_type": "markdown",
   "id": "3322ab2c",
   "metadata": {},
   "source": [
    "## classwork1\n",
    "\n",
    "* 请计算'sz000413'的第一期收益率（2020-07-28收盘价买入，通过2020-07-29收盘价看收益）\n",
    "\n",
    "* 请计算stockset中所有股票所有期的单期收益率，并作图(shift函数的使用)\n",
    "\n",
    "* 请计算'sz000413'的2020-07-28收盘价买入，通过2020-07-30卖出的收益率\n",
    "\n",
    "* 请计算所有股票所有天的二期收益率"
   ]
  },
  {
   "cell_type": "code",
   "execution_count": 35,
   "id": "24e40358",
   "metadata": {},
   "outputs": [
    {
     "data": {
      "text/plain": [
       "-0.003571425226269879"
      ]
     },
     "execution_count": 35,
     "metadata": {},
     "output_type": "execute_result"
    }
   ],
   "source": [
    "(stock_close[\"SZSE.000413\"][\"2020-07-30\"]-stock_close[\"SZSE.000413\"][\"2020-07-28\"])/stock_close[\"SZSE.000413\"][\"2020-07-28\"]"
   ]
  },
  {
   "cell_type": "code",
   "execution_count": 27,
   "id": "47fefa83",
   "metadata": {},
   "outputs": [
    {
     "data": {
      "text/html": [
       "<div>\n",
       "<style scoped>\n",
       "    .dataframe tbody tr th:only-of-type {\n",
       "        vertical-align: middle;\n",
       "    }\n",
       "\n",
       "    .dataframe tbody tr th {\n",
       "        vertical-align: top;\n",
       "    }\n",
       "\n",
       "    .dataframe thead th {\n",
       "        text-align: right;\n",
       "    }\n",
       "</style>\n",
       "<table border=\"1\" class=\"dataframe\">\n",
       "  <thead>\n",
       "    <tr style=\"text-align: right;\">\n",
       "      <th>symbol</th>\n",
       "      <th>SZSE.000001</th>\n",
       "      <th>SZSE.000002</th>\n",
       "      <th>SZSE.000063</th>\n",
       "      <th>SZSE.000413</th>\n",
       "      <th>SZSE.002007</th>\n",
       "    </tr>\n",
       "    <tr>\n",
       "      <th>eob</th>\n",
       "      <th></th>\n",
       "      <th></th>\n",
       "      <th></th>\n",
       "      <th></th>\n",
       "      <th></th>\n",
       "    </tr>\n",
       "  </thead>\n",
       "  <tbody>\n",
       "    <tr>\n",
       "      <th>2020-07-28</th>\n",
       "      <td>NaN</td>\n",
       "      <td>NaN</td>\n",
       "      <td>NaN</td>\n",
       "      <td>NaN</td>\n",
       "      <td>NaN</td>\n",
       "    </tr>\n",
       "    <tr>\n",
       "      <th>2020-07-29</th>\n",
       "      <td>13.2359</td>\n",
       "      <td>24.5077</td>\n",
       "      <td>37.9678</td>\n",
       "      <td>2.80</td>\n",
       "      <td>55.6690</td>\n",
       "    </tr>\n",
       "    <tr>\n",
       "      <th>2020-07-30</th>\n",
       "      <td>13.4344</td>\n",
       "      <td>24.7266</td>\n",
       "      <td>39.1153</td>\n",
       "      <td>2.84</td>\n",
       "      <td>59.3492</td>\n",
       "    </tr>\n",
       "    <tr>\n",
       "      <th>2020-07-31</th>\n",
       "      <td>13.2657</td>\n",
       "      <td>24.5168</td>\n",
       "      <td>38.4921</td>\n",
       "      <td>2.79</td>\n",
       "      <td>60.4899</td>\n",
       "    </tr>\n",
       "    <tr>\n",
       "      <th>2020-08-03</th>\n",
       "      <td>13.2359</td>\n",
       "      <td>24.4803</td>\n",
       "      <td>38.7493</td>\n",
       "      <td>2.80</td>\n",
       "      <td>64.4082</td>\n",
       "    </tr>\n",
       "    <tr>\n",
       "      <th>...</th>\n",
       "      <td>...</td>\n",
       "      <td>...</td>\n",
       "      <td>...</td>\n",
       "      <td>...</td>\n",
       "      <td>...</td>\n",
       "    </tr>\n",
       "    <tr>\n",
       "      <th>2021-07-26</th>\n",
       "      <td>20.1000</td>\n",
       "      <td>21.8551</td>\n",
       "      <td>36.1696</td>\n",
       "      <td>2.10</td>\n",
       "      <td>38.1200</td>\n",
       "    </tr>\n",
       "    <tr>\n",
       "      <th>2021-07-27</th>\n",
       "      <td>18.8000</td>\n",
       "      <td>20.2001</td>\n",
       "      <td>35.9508</td>\n",
       "      <td>2.08</td>\n",
       "      <td>36.4600</td>\n",
       "    </tr>\n",
       "    <tr>\n",
       "      <th>2021-07-28</th>\n",
       "      <td>17.7600</td>\n",
       "      <td>19.0653</td>\n",
       "      <td>36.5674</td>\n",
       "      <td>2.08</td>\n",
       "      <td>35.8900</td>\n",
       "    </tr>\n",
       "    <tr>\n",
       "      <th>2021-07-29</th>\n",
       "      <td>17.7500</td>\n",
       "      <td>19.3774</td>\n",
       "      <td>37.0845</td>\n",
       "      <td>1.96</td>\n",
       "      <td>36.9000</td>\n",
       "    </tr>\n",
       "    <tr>\n",
       "      <th>2021-07-30</th>\n",
       "      <td>17.9600</td>\n",
       "      <td>19.4814</td>\n",
       "      <td>37.3431</td>\n",
       "      <td>1.99</td>\n",
       "      <td>36.7900</td>\n",
       "    </tr>\n",
       "  </tbody>\n",
       "</table>\n",
       "<p>247 rows × 5 columns</p>\n",
       "</div>"
      ],
      "text/plain": [
       "symbol      SZSE.000001  SZSE.000002  SZSE.000063  SZSE.000413  SZSE.002007\n",
       "eob                                                                        \n",
       "2020-07-28          NaN          NaN          NaN          NaN          NaN\n",
       "2020-07-29      13.2359      24.5077      37.9678         2.80      55.6690\n",
       "2020-07-30      13.4344      24.7266      39.1153         2.84      59.3492\n",
       "2020-07-31      13.2657      24.5168      38.4921         2.79      60.4899\n",
       "2020-08-03      13.2359      24.4803      38.7493         2.80      64.4082\n",
       "...                 ...          ...          ...          ...          ...\n",
       "2021-07-26      20.1000      21.8551      36.1696         2.10      38.1200\n",
       "2021-07-27      18.8000      20.2001      35.9508         2.08      36.4600\n",
       "2021-07-28      17.7600      19.0653      36.5674         2.08      35.8900\n",
       "2021-07-29      17.7500      19.3774      37.0845         1.96      36.9000\n",
       "2021-07-30      17.9600      19.4814      37.3431         1.99      36.7900\n",
       "\n",
       "[247 rows x 5 columns]"
      ]
     },
     "execution_count": 27,
     "metadata": {},
     "output_type": "execute_result"
    }
   ],
   "source": [
    "stock_close.shift(1)"
   ]
  },
  {
   "cell_type": "code",
   "execution_count": 32,
   "id": "eff3d155",
   "metadata": {},
   "outputs": [],
   "source": [
    "r1=((stock_close-stock_close.shift(1))/stock_close.shift(1)).loc[\"2020-07-29\":]"
   ]
  },
  {
   "cell_type": "code",
   "execution_count": 37,
   "id": "27970096",
   "metadata": {},
   "outputs": [
    {
     "data": {
      "text/html": [
       "<div>\n",
       "<style scoped>\n",
       "    .dataframe tbody tr th:only-of-type {\n",
       "        vertical-align: middle;\n",
       "    }\n",
       "\n",
       "    .dataframe tbody tr th {\n",
       "        vertical-align: top;\n",
       "    }\n",
       "\n",
       "    .dataframe thead th {\n",
       "        text-align: right;\n",
       "    }\n",
       "</style>\n",
       "<table border=\"1\" class=\"dataframe\">\n",
       "  <thead>\n",
       "    <tr style=\"text-align: right;\">\n",
       "      <th>symbol</th>\n",
       "      <th>SZSE.000001</th>\n",
       "      <th>SZSE.000002</th>\n",
       "      <th>SZSE.000063</th>\n",
       "      <th>SZSE.000413</th>\n",
       "      <th>SZSE.002007</th>\n",
       "    </tr>\n",
       "    <tr>\n",
       "      <th>eob</th>\n",
       "      <th></th>\n",
       "      <th></th>\n",
       "      <th></th>\n",
       "      <th></th>\n",
       "      <th></th>\n",
       "    </tr>\n",
       "  </thead>\n",
       "  <tbody>\n",
       "    <tr>\n",
       "      <th>2020-07-30</th>\n",
       "      <td>0.0022</td>\n",
       "      <td>0.0004</td>\n",
       "      <td>0.0138</td>\n",
       "      <td>-0.0036</td>\n",
       "      <td>0.0866</td>\n",
       "    </tr>\n",
       "    <tr>\n",
       "      <th>2020-07-31</th>\n",
       "      <td>-0.0148</td>\n",
       "      <td>-0.0100</td>\n",
       "      <td>-0.0094</td>\n",
       "      <td>-0.0141</td>\n",
       "      <td>0.0852</td>\n",
       "    </tr>\n",
       "    <tr>\n",
       "      <th>2020-08-03</th>\n",
       "      <td>0.0165</td>\n",
       "      <td>0.0149</td>\n",
       "      <td>0.0152</td>\n",
       "      <td>0.0251</td>\n",
       "      <td>0.1712</td>\n",
       "    </tr>\n",
       "    <tr>\n",
       "      <th>2020-08-04</th>\n",
       "      <td>0.0525</td>\n",
       "      <td>0.0335</td>\n",
       "      <td>-0.0074</td>\n",
       "      <td>0.0321</td>\n",
       "      <td>0.0547</td>\n",
       "    </tr>\n",
       "    <tr>\n",
       "      <th>2020-08-05</th>\n",
       "      <td>0.0125</td>\n",
       "      <td>0.0026</td>\n",
       "      <td>-0.0091</td>\n",
       "      <td>0.0315</td>\n",
       "      <td>-0.0175</td>\n",
       "    </tr>\n",
       "    <tr>\n",
       "      <th>...</th>\n",
       "      <td>...</td>\n",
       "      <td>...</td>\n",
       "      <td>...</td>\n",
       "      <td>...</td>\n",
       "      <td>...</td>\n",
       "    </tr>\n",
       "    <tr>\n",
       "      <th>2021-07-26</th>\n",
       "      <td>-0.0775</td>\n",
       "      <td>-0.0797</td>\n",
       "      <td>-0.0267</td>\n",
       "      <td>-0.0326</td>\n",
       "      <td>-0.0627</td>\n",
       "    </tr>\n",
       "    <tr>\n",
       "      <th>2021-07-27</th>\n",
       "      <td>-0.1164</td>\n",
       "      <td>-0.1277</td>\n",
       "      <td>0.0110</td>\n",
       "      <td>-0.0095</td>\n",
       "      <td>-0.0585</td>\n",
       "    </tr>\n",
       "    <tr>\n",
       "      <th>2021-07-28</th>\n",
       "      <td>-0.0559</td>\n",
       "      <td>-0.0407</td>\n",
       "      <td>0.0315</td>\n",
       "      <td>-0.0577</td>\n",
       "      <td>0.0121</td>\n",
       "    </tr>\n",
       "    <tr>\n",
       "      <th>2021-07-29</th>\n",
       "      <td>0.0113</td>\n",
       "      <td>0.0218</td>\n",
       "      <td>0.0212</td>\n",
       "      <td>-0.0433</td>\n",
       "      <td>0.0251</td>\n",
       "    </tr>\n",
       "    <tr>\n",
       "      <th>2021-07-30</th>\n",
       "      <td>-0.0034</td>\n",
       "      <td>0.0083</td>\n",
       "      <td>0.0405</td>\n",
       "      <td>0.0510</td>\n",
       "      <td>-0.0030</td>\n",
       "    </tr>\n",
       "  </tbody>\n",
       "</table>\n",
       "<p>245 rows × 5 columns</p>\n",
       "</div>"
      ],
      "text/plain": [
       "symbol      SZSE.000001  SZSE.000002  SZSE.000063  SZSE.000413  SZSE.002007\n",
       "eob                                                                        \n",
       "2020-07-30       0.0022       0.0004       0.0138      -0.0036       0.0866\n",
       "2020-07-31      -0.0148      -0.0100      -0.0094      -0.0141       0.0852\n",
       "2020-08-03       0.0165       0.0149       0.0152       0.0251       0.1712\n",
       "2020-08-04       0.0525       0.0335      -0.0074       0.0321       0.0547\n",
       "2020-08-05       0.0125       0.0026      -0.0091       0.0315      -0.0175\n",
       "...                 ...          ...          ...          ...          ...\n",
       "2021-07-26      -0.0775      -0.0797      -0.0267      -0.0326      -0.0627\n",
       "2021-07-27      -0.1164      -0.1277       0.0110      -0.0095      -0.0585\n",
       "2021-07-28      -0.0559      -0.0407       0.0315      -0.0577       0.0121\n",
       "2021-07-29       0.0113       0.0218       0.0212      -0.0433       0.0251\n",
       "2021-07-30      -0.0034       0.0083       0.0405       0.0510      -0.0030\n",
       "\n",
       "[245 rows x 5 columns]"
      ]
     },
     "execution_count": 37,
     "metadata": {},
     "output_type": "execute_result"
    }
   ],
   "source": [
    "r2=((stock_close-stock_close.shift(2))/stock_close.shift(2)).loc[\"2020-07-30\":]\n",
    "r2"
   ]
  },
  {
   "cell_type": "code",
   "execution_count": 34,
   "id": "5ddd5263",
   "metadata": {},
   "outputs": [
    {
     "data": {
      "text/plain": [
       "<AxesSubplot:xlabel='eob'>"
      ]
     },
     "execution_count": 34,
     "metadata": {},
     "output_type": "execute_result"
    },
    {
     "data": {
      "image/png": "[encoded data removed]",
      "text/plain": [
       "<Figure size 432x288 with 1 Axes>"
      ]
     },
     "metadata": {
      "needs_background": "light"
     },
     "output_type": "display_data"
    }
   ],
   "source": [
    "r1.plot()"
   ]
  },
  {
   "cell_type": "code",
   "execution_count": 44,
   "id": "c771c705",
   "metadata": {},
   "outputs": [
    {
     "data": {
      "text/html": [
       "<div>\n",
       "<style scoped>\n",
       "    .dataframe tbody tr th:only-of-type {\n",
       "        vertical-align: middle;\n",
       "    }\n",
       "\n",
       "    .dataframe tbody tr th {\n",
       "        vertical-align: top;\n",
       "    }\n",
       "\n",
       "    .dataframe thead th {\n",
       "        text-align: right;\n",
       "    }\n",
       "</style>\n",
       "<table border=\"1\" class=\"dataframe\">\n",
       "  <thead>\n",
       "    <tr style=\"text-align: right;\">\n",
       "      <th>symbol</th>\n",
       "      <th>SZSE.000001</th>\n",
       "      <th>SZSE.000002</th>\n",
       "      <th>SZSE.000063</th>\n",
       "      <th>SZSE.000413</th>\n",
       "      <th>SZSE.002007</th>\n",
       "    </tr>\n",
       "    <tr>\n",
       "      <th>eob</th>\n",
       "      <th></th>\n",
       "      <th></th>\n",
       "      <th></th>\n",
       "      <th></th>\n",
       "      <th></th>\n",
       "    </tr>\n",
       "  </thead>\n",
       "  <tbody>\n",
       "    <tr>\n",
       "      <th>2020-07-28</th>\n",
       "      <td>NaN</td>\n",
       "      <td>NaN</td>\n",
       "      <td>NaN</td>\n",
       "      <td>NaN</td>\n",
       "      <td>NaN</td>\n",
       "    </tr>\n",
       "    <tr>\n",
       "      <th>2020-07-29</th>\n",
       "      <td>0.0150</td>\n",
       "      <td>0.0089</td>\n",
       "      <td>0.0302</td>\n",
       "      <td>0.0143</td>\n",
       "      <td>0.0661</td>\n",
       "    </tr>\n",
       "    <tr>\n",
       "      <th>2020-07-30</th>\n",
       "      <td>-0.0126</td>\n",
       "      <td>-0.0085</td>\n",
       "      <td>-0.0159</td>\n",
       "      <td>-0.0176</td>\n",
       "      <td>0.0192</td>\n",
       "    </tr>\n",
       "    <tr>\n",
       "      <th>2020-07-31</th>\n",
       "      <td>-0.0022</td>\n",
       "      <td>-0.0015</td>\n",
       "      <td>0.0067</td>\n",
       "      <td>0.0036</td>\n",
       "      <td>0.0648</td>\n",
       "    </tr>\n",
       "    <tr>\n",
       "      <th>2020-08-03</th>\n",
       "      <td>0.0187</td>\n",
       "      <td>0.0164</td>\n",
       "      <td>0.0084</td>\n",
       "      <td>0.0214</td>\n",
       "      <td>0.1000</td>\n",
       "    </tr>\n",
       "    <tr>\n",
       "      <th>...</th>\n",
       "      <td>...</td>\n",
       "      <td>...</td>\n",
       "      <td>...</td>\n",
       "      <td>...</td>\n",
       "      <td>...</td>\n",
       "    </tr>\n",
       "    <tr>\n",
       "      <th>2021-07-26</th>\n",
       "      <td>-0.0647</td>\n",
       "      <td>-0.0757</td>\n",
       "      <td>-0.0060</td>\n",
       "      <td>-0.0095</td>\n",
       "      <td>-0.0435</td>\n",
       "    </tr>\n",
       "    <tr>\n",
       "      <th>2021-07-27</th>\n",
       "      <td>-0.0553</td>\n",
       "      <td>-0.0562</td>\n",
       "      <td>0.0172</td>\n",
       "      <td>0.0000</td>\n",
       "      <td>-0.0156</td>\n",
       "    </tr>\n",
       "    <tr>\n",
       "      <th>2021-07-28</th>\n",
       "      <td>-0.0006</td>\n",
       "      <td>0.0164</td>\n",
       "      <td>0.0141</td>\n",
       "      <td>-0.0577</td>\n",
       "      <td>0.0281</td>\n",
       "    </tr>\n",
       "    <tr>\n",
       "      <th>2021-07-29</th>\n",
       "      <td>0.0118</td>\n",
       "      <td>0.0054</td>\n",
       "      <td>0.0070</td>\n",
       "      <td>0.0153</td>\n",
       "      <td>-0.0030</td>\n",
       "    </tr>\n",
       "    <tr>\n",
       "      <th>2021-07-30</th>\n",
       "      <td>-0.0150</td>\n",
       "      <td>0.0029</td>\n",
       "      <td>0.0333</td>\n",
       "      <td>0.0352</td>\n",
       "      <td>0.0000</td>\n",
       "    </tr>\n",
       "  </tbody>\n",
       "</table>\n",
       "<p>247 rows × 5 columns</p>\n",
       "</div>"
      ],
      "text/plain": [
       "symbol      SZSE.000001  SZSE.000002  SZSE.000063  SZSE.000413  SZSE.002007\n",
       "eob                                                                        \n",
       "2020-07-28          NaN          NaN          NaN          NaN          NaN\n",
       "2020-07-29       0.0150       0.0089       0.0302       0.0143       0.0661\n",
       "2020-07-30      -0.0126      -0.0085      -0.0159      -0.0176       0.0192\n",
       "2020-07-31      -0.0022      -0.0015       0.0067       0.0036       0.0648\n",
       "2020-08-03       0.0187       0.0164       0.0084       0.0214       0.1000\n",
       "...                 ...          ...          ...          ...          ...\n",
       "2021-07-26      -0.0647      -0.0757      -0.0060      -0.0095      -0.0435\n",
       "2021-07-27      -0.0553      -0.0562       0.0172       0.0000      -0.0156\n",
       "2021-07-28      -0.0006       0.0164       0.0141      -0.0577       0.0281\n",
       "2021-07-29       0.0118       0.0054       0.0070       0.0153      -0.0030\n",
       "2021-07-30      -0.0150       0.0029       0.0333       0.0352       0.0000\n",
       "\n",
       "[247 rows x 5 columns]"
      ]
     },
     "execution_count": 44,
     "metadata": {},
     "output_type": "execute_result"
    }
   ],
   "source": [
    "r1=(stock_close-stock_close.shift(1))/stock_close.shift(1)\n",
    "r1"
   ]
  },
  {
   "cell_type": "code",
   "execution_count": 45,
   "id": "2d43b633",
   "metadata": {},
   "outputs": [
    {
     "data": {
      "text/plain": [
       "<AxesSubplot:xlabel='eob'>"
      ]
     },
     "execution_count": 45,
     "metadata": {},
     "output_type": "execute_result"
    },
    {
     "data": {
      "image/png": "[encoded data removed]",
      "text/plain": [
       "<Figure size 432x288 with 1 Axes>"
      ]
     },
     "metadata": {
      "needs_background": "light"
     },
     "output_type": "display_data"
    }
   ],
   "source": [
    "r1.plot()"
   ]
  },
  {
   "cell_type": "markdown",
   "id": "6f0d495a",
   "metadata": {},
   "source": [
    "## 多期与单期的关系\n",
    "\n",
    "### 年化收益率"
   ]
  },
  {
   "cell_type": "code",
   "execution_count": 44,
   "id": "f6855bed",
   "metadata": {},
   "outputs": [
    {
     "data": {
      "text/plain": [
       "0.016"
      ]
     },
     "execution_count": 44,
     "metadata": {},
     "output_type": "execute_result"
    }
   ],
   "source": [
    "0.008+0.008"
   ]
  },
  {
   "cell_type": "code",
   "execution_count": 43,
   "id": "d1c8960b",
   "metadata": {},
   "outputs": [
    {
     "data": {
      "text/plain": [
       "0.016064000000000078"
      ]
     },
     "execution_count": 43,
     "metadata": {},
     "output_type": "execute_result"
    }
   ],
   "source": [
    "1*(1+0.008)*(1+0.008)-1"
   ]
  },
  {
   "cell_type": "code",
   "execution_count": 45,
   "id": "fe227ff3",
   "metadata": {},
   "outputs": [
    {
     "data": {
      "text/plain": [
       "0.008032000000000039"
      ]
     },
     "execution_count": 45,
     "metadata": {},
     "output_type": "execute_result"
    }
   ],
   "source": [
    "0.016064000000000078/2"
   ]
  },
  {
   "cell_type": "code",
   "execution_count": 46,
   "id": "ccdd55e5",
   "metadata": {},
   "outputs": [
    {
     "data": {
      "text/plain": [
       "0.008000000000000007"
      ]
     },
     "execution_count": 46,
     "metadata": {},
     "output_type": "execute_result"
    }
   ],
   "source": [
    "(0.016064000000000078+1)**0.5-1"
   ]
  },
  {
   "cell_type": "code",
   "execution_count": 47,
   "id": "3a49b8b4",
   "metadata": {},
   "outputs": [
    {
     "data": {
      "text/plain": [
       "0.30822222222222223"
      ]
     },
     "execution_count": 47,
     "metadata": {},
     "output_type": "execute_result"
    }
   ],
   "source": [
    "(0.0076/9)*365"
   ]
  },
  {
   "cell_type": "code",
   "execution_count": 48,
   "id": "601d6a02",
   "metadata": {},
   "outputs": [
    {
     "data": {
      "text/plain": [
       "0.48406866689184724"
      ]
     },
     "execution_count": 48,
     "metadata": {},
     "output_type": "execute_result"
    }
   ],
   "source": [
    "(0.0076+1)**(365/7.0)-1"
   ]
  },
  {
   "cell_type": "markdown",
   "id": "8fb442fa",
   "metadata": {},
   "source": [
    "### classwork2\n",
    "\n",
    "* 选择输出000413 2021-01-08 这天的二期收益，比较其2021-01-07与2021-01-08单期收益之和的关系\n",
    "\n",
    "* 请通过单期收益率计算严格的二期收益率\n",
    "\n",
    "* 计算 '000413的2021-01-11这天的七日收益率，并基于此求七日年化收益率"
   ]
  },
  {
   "cell_type": "code",
   "execution_count": 65,
   "id": "1128cea2",
   "metadata": {},
   "outputs": [
    {
     "data": {
      "text/plain": [
       "-0.09842519832859187"
      ]
     },
     "execution_count": 65,
     "metadata": {},
     "output_type": "execute_result"
    }
   ],
   "source": [
    "((stock_close[\"SZSE.000413\"][\"2021-01-11\"]-stock_close[\"SZSE.000413\"][\"2021-01-05\"]))/stock_close[\"SZSE.000413\"][\"2021-01-05\"]"
   ]
  },
  {
   "cell_type": "code",
   "execution_count": 68,
   "id": "34475376",
   "metadata": {},
   "outputs": [
    {
     "data": {
      "text/plain": [
       "-3.515185654592567"
      ]
     },
     "execution_count": 68,
     "metadata": {},
     "output_type": "execute_result"
    }
   ],
   "source": [
    "(-0.09842519832859187/7)*250"
   ]
  },
  {
   "cell_type": "code",
   "execution_count": 72,
   "id": "a85daa7f",
   "metadata": {},
   "outputs": [
    {
     "data": {
      "text/plain": [
       "-0.9752873010373428"
      ]
     },
     "execution_count": 72,
     "metadata": {},
     "output_type": "execute_result"
    }
   ],
   "source": [
    "(1-0.09842519832859187)**(250/7.)-1"
   ]
  },
  {
   "cell_type": "code",
   "execution_count": 53,
   "id": "d0b43135",
   "metadata": {},
   "outputs": [
    {
     "data": {
      "text/plain": [
       "-0.04799995422363281"
      ]
     },
     "execution_count": 53,
     "metadata": {},
     "output_type": "execute_result"
    }
   ],
   "source": [
    "r2[\"SZSE.000413\"][\"2021-01-08\"]"
   ]
  },
  {
   "cell_type": "code",
   "execution_count": 55,
   "id": "7fcc6977",
   "metadata": {},
   "outputs": [
    {
     "data": {
      "text/plain": [
       "-0.0479999542236329"
      ]
     },
     "execution_count": 55,
     "metadata": {},
     "output_type": "execute_result"
    }
   ],
   "source": [
    "(1+r1[\"SZSE.000413\"][\"2021-01-07\"])*(1+r1[\"SZSE.000413\"][\"2021-01-08\"])-1"
   ]
  },
  {
   "cell_type": "code",
   "execution_count": 63,
   "id": "decf9d78",
   "metadata": {},
   "outputs": [
    {
     "data": {
      "text/plain": [
       "-10.999988555908203"
      ]
     },
     "execution_count": 63,
     "metadata": {},
     "output_type": "execute_result"
    }
   ],
   "source": [
    "-0.04799995422363281*250"
   ]
  },
  {
   "cell_type": "code",
   "execution_count": 60,
   "id": "c9e8b7bb",
   "metadata": {},
   "outputs": [
    {
     "data": {
      "text/plain": [
       "123115.40325744804"
      ]
     },
     "execution_count": 60,
     "metadata": {},
     "output_type": "execute_result"
    }
   ],
   "source": [
    "(1+0.04799995422363281)**250-1"
   ]
  },
  {
   "cell_type": "markdown",
   "id": "dab20ce7",
   "metadata": {},
   "source": [
    "# 资产风险的测度\n",
    "\n",
    "* 此部分可以参考《量化投资以python为工具》电子书的284页（同时也是书上的266页）\n",
    "\n",
    "\n",
    "### 风险——方差\n",
    "\n",
    "### 最大回撤\n",
    "\n",
    "就是从任一高点到其后续最低点的下跌幅度的最大值\n",
    "\n",
    "https://zhuanlan.zhihu.com/p/91249594\n",
    "\n",
    "### 夏普率\n",
    "\n",
    "夏普率(sharpe ratio): 衡量策略相对于无风险组合的表现，是策略所获得风险溢价的度量——即如果策略额外承担一单位的风险，可以获得多少单位的收益作为补偿\n",
    "\n",
    "假设国债利率是3%（既无风险回报率3%），投资组合预期回报利率是13%、标准偏差是5%，超出无风险投资回报为=13%-3%=10%，夏普比率=10%/5%=2，意味着投资风险每增长1单位，可产生超额收益2单位\n",
    "\n",
    "https://wiki.mbalib.com/wiki/%E5%A4%8F%E6%99%AE%E6%8C%87%E6%95%B0"
   ]
  },
  {
   "cell_type": "code",
   "execution_count": 73,
   "id": "08e5e9d1",
   "metadata": {},
   "outputs": [],
   "source": [
    "a1=pd.Series([1,4,3])"
   ]
  },
  {
   "cell_type": "code",
   "execution_count": 74,
   "id": "76ef134f",
   "metadata": {},
   "outputs": [
    {
     "data": {
      "text/plain": [
       "0    1\n",
       "1    4\n",
       "2    3\n",
       "dtype: int64"
      ]
     },
     "execution_count": 74,
     "metadata": {},
     "output_type": "execute_result"
    }
   ],
   "source": [
    "a1"
   ]
  },
  {
   "cell_type": "code",
   "execution_count": 75,
   "id": "4fd3333d",
   "metadata": {},
   "outputs": [
    {
     "data": {
      "text/plain": [
       "4.666666666666667"
      ]
     },
     "execution_count": 75,
     "metadata": {},
     "output_type": "execute_result"
    }
   ],
   "source": [
    "((a1-a1.mean())**2).sum()"
   ]
  },
  {
   "cell_type": "code",
   "execution_count": 78,
   "id": "12407aeb",
   "metadata": {},
   "outputs": [
    {
     "data": {
      "text/plain": [
       "4.666666666666667"
      ]
     },
     "execution_count": 78,
     "metadata": {},
     "output_type": "execute_result"
    }
   ],
   "source": [
    "a1.var()*2"
   ]
  },
  {
   "cell_type": "code",
   "execution_count": 48,
   "id": "a227f3d7",
   "metadata": {},
   "outputs": [
    {
     "data": {
      "text/plain": [
       "4.666666666666667"
      ]
     },
     "execution_count": 48,
     "metadata": {},
     "output_type": "execute_result"
    }
   ],
   "source": [
    "a1.var()*2"
   ]
  },
  {
   "cell_type": "code",
   "execution_count": 56,
   "id": "59b91a90",
   "metadata": {},
   "outputs": [
    {
     "data": {
      "text/plain": [
       "0.0006466586875528915"
      ]
     },
     "execution_count": 56,
     "metadata": {},
     "output_type": "execute_result"
    }
   ],
   "source": [
    "r1.loc[\"2020-07-29\":][\"SZSE.000413\"].var()"
   ]
  },
  {
   "cell_type": "markdown",
   "id": "e41dc33b",
   "metadata": {},
   "source": [
    "## classwork2\n",
    "\n",
    "* 计算SZSE.000063的全部时间的风险\n",
    "\n",
    "* 计算SZSE.000063的夏普率，假设无风险回报率3%\n",
    "\n",
    "* 计算SZSE.000063的最大回撤"
   ]
  },
  {
   "cell_type": "code",
   "execution_count": 89,
   "id": "51e17143",
   "metadata": {},
   "outputs": [
    {
     "data": {
      "text/plain": [
       "0.02357763122555496"
      ]
     },
     "execution_count": 89,
     "metadata": {},
     "output_type": "execute_result"
    }
   ],
   "source": [
    "r1[\"SZSE.000063\"].std()"
   ]
  },
  {
   "cell_type": "code",
   "execution_count": null,
   "id": "7340ea3f",
   "metadata": {},
   "outputs": [],
   "source": []
  },
  {
   "cell_type": "code",
   "execution_count": 87,
   "id": "56e74e08",
   "metadata": {},
   "outputs": [
    {
     "data": {
      "text/plain": [
       "3.0283004702328493"
      ]
     },
     "execution_count": 87,
     "metadata": {},
     "output_type": "execute_result"
    }
   ],
   "source": [
    "(((r1[\"SZSE.000063\"][\"2021-07-30\"]-r1[\"SZSE.000063\"][\"2020-07-29\"])/r1[\"SZSE.000063\"][\"2020-07-29\"])-0.03)/r1[\"SZSE.000063\"].std()"
   ]
  },
  {
   "cell_type": "code",
   "execution_count": 93,
   "id": "cd5d9175",
   "metadata": {},
   "outputs": [
    {
     "data": {
      "text/plain": [
       "0.10009822981183504"
      ]
     },
     "execution_count": 93,
     "metadata": {},
     "output_type": "execute_result"
    }
   ],
   "source": [
    "r1[\"SZSE.000063\"].max()"
   ]
  },
  {
   "cell_type": "code",
   "execution_count": 99,
   "id": "32501de5",
   "metadata": {},
   "outputs": [
    {
     "data": {
      "text/plain": [
       "0.1880103149991616"
      ]
     },
     "execution_count": 99,
     "metadata": {},
     "output_type": "execute_result"
    }
   ],
   "source": [
    "hc=[]\n",
    "for i in r1.index:\n",
    "    hc.append(r1[\"SZSE.000063\"][:i].max()-r1[\"SZSE.000063\"][i])\n",
    "    \n",
    "max(hc)"
   ]
  },
  {
   "cell_type": "code",
   "execution_count": 95,
   "id": "ba6b8b30",
   "metadata": {},
   "outputs": [
    {
     "data": {
      "text/plain": [
       "eob\n",
       "2020-07-29    0.0302\n",
       "2020-07-30   -0.0159\n",
       "2020-07-31    0.0067\n",
       "2020-08-03    0.0084\n",
       "2020-08-04   -0.0157\n",
       "               ...  \n",
       "2021-07-26   -0.0060\n",
       "2021-07-27    0.0172\n",
       "2021-07-28    0.0141\n",
       "2021-07-29    0.0070\n",
       "2021-07-30    0.0333\n",
       "Name: SZSE.000063, Length: 246, dtype: float64"
      ]
     },
     "execution_count": 95,
     "metadata": {},
     "output_type": "execute_result"
    }
   ],
   "source": [
    "r1[\"SZSE.000063\"][:\"2021-07-30\"]"
   ]
  },
  {
   "cell_type": "code",
   "execution_count": 94,
   "id": "aeb0b8ce",
   "metadata": {},
   "outputs": [
    {
     "data": {
      "text/plain": [
       "0.06680929208029299"
      ]
     },
     "execution_count": 94,
     "metadata": {},
     "output_type": "execute_result"
    }
   ],
   "source": [
    "r1[\"SZSE.000063\"][\"2021-07-30\"].max()-r1[\"SZSE.000063\"][\"2021-07-30\"]"
   ]
  },
  {
   "cell_type": "code",
   "execution_count": 90,
   "id": "06012fcc",
   "metadata": {},
   "outputs": [
    {
     "data": {
      "text/plain": [
       "eob\n",
       "2020-07-29    0.0302\n",
       "2020-07-30   -0.0159\n",
       "2020-07-31    0.0067\n",
       "2020-08-03    0.0084\n",
       "2020-08-04   -0.0157\n",
       "               ...  \n",
       "2021-07-26   -0.0060\n",
       "2021-07-27    0.0172\n",
       "2021-07-28    0.0141\n",
       "2021-07-29    0.0070\n",
       "2021-07-30    0.0333\n",
       "Name: SZSE.000063, Length: 246, dtype: float64"
      ]
     },
     "execution_count": 90,
     "metadata": {},
     "output_type": "execute_result"
    }
   ],
   "source": [
    "for i in r1[\"SZSE.000063\"]:\n",
    "    "
   ]
  },
  {
   "cell_type": "markdown",
   "id": "c7572bed",
   "metadata": {},
   "source": [
    "# 第一个策略的编写与运行\n",
    "\n",
    "https://www.myquant.cn/docs/python/python_basic\n",
    "\n",
    "* 定时任务\n",
    "\n",
    "* 初始化函数 ini\n",
    "\n",
    "* 定时运行函数 elgo\n",
    "\n",
    "不同的函数运行次数是不同的！\n",
    "\n",
    "init 函数最开始运行一次，其他函数运行次数由相关函数决定"
   ]
  },
  {
   "cell_type": "code",
   "execution_count": null,
   "id": "625bf31d",
   "metadata": {},
   "outputs": [],
   "source": [
    "# coding=utf-8\n",
    "from __future__ import print_function, absolute_import\n",
    "from gm.api import *\n",
    "def init(context):\n",
    "    # 每天14:50 定时执行algo任务,\n",
    "    # algo执行定时任务函数，只能传context参数\n",
    "    # date_rule执行频率，目前暂时支持1d、1w、1m，其中1w、1m仅用于回测，实时模式1d以上的频率，需要在algo判断日期\n",
    "    # time_rule执行时间， 注意多个定时任务设置同一个时间点，前面的定时任务会被后面的覆盖\n",
    "    schedule(schedule_func=algo, date_rule='1d', time_rule='14:50:00')\n",
    "def algo(context):\n",
    "    # 以市价购买200股浦发银行股票， price在市价类型不生效\n",
    "    order_volume(symbol='SHSE.600000', volume=200, side=OrderSide_Buy,\n",
    "                 order_type=OrderType_Market, position_effect=PositionEffect_Open, price=0)\n",
    "# 查看最终的回测结果\n",
    "def on_backtest_finished(context, indicator):\n",
    "    print(indicator)\n",
    "if __name__ == '__main__':\n",
    "    '''\n",
    "        strategy_id策略ID, 由系统生成\n",
    "        filename文件名, 请与本文件名保持一致\n",
    "        mode运行模式, 实时模式:MODE_LIVE回测模式:MODE_BACKTEST\n",
    "        token绑定计算机的ID, 可在系统设置-密钥管理中生成\n",
    "        backtest_start_time回测开始时间\n",
    "        backtest_end_time回测结束时间\n",
    "        backtest_adjust股票复权方式, 不复权:ADJUST_NONE前复权:ADJUST_PREV后复权:ADJUST_POST\n",
    "        backtest_initial_cash回测初始资金\n",
    "        backtest_commission_ratio回测佣金比例\n",
    "        backtest_slippage_ratio回测滑点比例\n",
    "    '''\n",
    "    run(strategy_id='strategy_id',\n",
    "        filename='main.py',\n",
    "        mode=MODE_BACKTEST,\n",
    "        token='token_id',\n",
    "        backtest_start_time='2020-11-01 08:00:00',\n",
    "        backtest_end_time='2020-11-10 16:00:00',\n",
    "        backtest_adjust=ADJUST_PREV,\n",
    "        backtest_initial_cash=10000000,\n",
    "        backtest_commission_ratio=0.0001,\n",
    "        backtest_slippage_ratio=0.0001)"
   ]
  },
  {
   "cell_type": "markdown",
   "id": "bd33d4f1",
   "metadata": {},
   "source": [
    "## 掘金平台下的股票代码\n",
    "\n",
    "\n",
    "上交所 SHSE\n",
    "\n",
    "深交所 SZSE\n",
    "\n",
    "## 不同的交易函数\n",
    "\n",
    "\n",
    "order_volume - 按指定量委托\n",
    "order_value - 按指定价值委托\n",
    "order_percent - 按总资产指定比例委托\n",
    "order_target_volume - 调仓到目标持仓量\n",
    "order_target_value - 调仓到目标持仓额\n",
    "order_target_percent - 调仓到目标持仓比例（总资产的比例）\n",
    "order_batch - 批量委托接口\n",
    "order_cancel - 撤销委托\n",
    "order_cancel_all - 撤销所有委托\n",
    "order_close_all - 平当前所有可平持仓\n",
    "\n",
    "\n",
    "## classwork1\n",
    "\n",
    "* 请找到贵州茅台股票的代码，并在2012年第一个交易日开始每天买入100股，直至钱花光，看20200101的收益\n",
    "\n",
    "* 并在2012年第一个交易日开始每天买入100000金额的贵州茅台股票，看20200101的收益\n",
    "\n",
    "* 请找到贵州茅台股票的代码，并在2012年第一个交易日开始保持仓位500股贵州茅台，直至钱花光，看20200101的收益\n",
    "\n",
    "* 一开始就买入100%资金的股票"
   ]
  },
  {
   "cell_type": "code",
   "execution_count": null,
   "id": "dc6f369a",
   "metadata": {},
   "outputs": [],
   "source": []
  }
 ],
 "metadata": {
  "kernelspec": {
   "display_name": "Python 3 (ipykernel)",
   "language": "python",
   "name": "python3"
  },
  "language_info": {
   "codemirror_mode": {
    "name": "ipython",
    "version": 3
   },
   "file_extension": ".py",
   "mimetype": "text/x-python",
   "name": "python",
   "nbconvert_exporter": "python",
   "pygments_lexer": "ipython3",
   "version": "3.7.6"
  }
 },
 "nbformat": 4,
 "nbformat_minor": 5
}
