{
 "cells": [
  {
   "cell_type": "markdown",
   "metadata": {},
   "source": [
    "# 位置编码与自注意力机制"
   ]
  },
  {
   "cell_type": "code",
   "execution_count": 3,
   "metadata": {},
   "outputs": [],
   "source": [
    "import torch\n",
    "from torch import nn\n",
    "from torch import optim\n",
    "from torch.nn import functional as F\n",
    "from torch.utils.data import TensorDataset\n",
    "from torch.utils.data import DataLoader\n",
    "import matplotlib.pyplot as plt\n",
    "import numpy as np\n",
    "import math\n",
    "from torch.autograd import Variable\n",
    "import copy"
   ]
  },
  {
   "cell_type": "markdown",
   "metadata": {},
   "source": [
    "# 位置编码\n",
    "\n",
    "以前的方法-表格型\n",
    "\n",
    "* 方法一：使用[0,1]范围分配\n",
    "\n",
    "这个方法的分配方式是，将0-1这个范围的，将第一个token分配0，最后一个token分配去1，其余的token按照文章的长度平均分配。具体形式如下：\n",
    "\n",
    "我喜欢吃洋葱 【0 0.16 0.32.....1】\n",
    "\n",
    "我真的不喜欢吃洋葱【0 0.125 0.25.....1】\n",
    "\n",
    "问题：我们可以看到，如果句子长度不同，那么位置编码是不一样，所以无法表示句子之间有什么相似性。\n",
    "\n",
    "* 方法二：1-n正整数范围分配\n",
    "\n",
    "这个方法比较直观，就是按照输入的顺序，一次分配给token所在的索引位置。具体形式如下：\n",
    "\n",
    "我喜欢吃洋葱 【1，2，3，4，5，6】\n",
    "\n",
    "我真的不喜欢吃洋葱【1，2，3，4，5，6，7】\n",
    "\n",
    "问题：往往句子越长，后面的值越大，数字越大说明这个位置占的权重也越大，这样的方式无法凸显每个位置的真实的权重。\n",
    "\n",
    "https://erdem.pl/2021/05/understanding-positional-encoding-in-transformers\n",
    "\n",
    "https://www.cnblogs.com/yanshw/p/16740972.html\n",
    "\n",
    "https://www.cnblogs.com/ghj1976/p/li-jietransformer-de-wei-zhi-bian-ma.html\n",
    "\n",
    "https://blog.csdn.net/Kaiyuan_sjtu/article/details/119621613"
   ]
  },
  {
   "cell_type": "code",
   "execution_count": 24,
   "metadata": {},
   "outputs": [
    {
     "data": {
      "text/html": [
       "<img src=\"31.jpg\" width=\"800\"/>"
      ],
      "text/plain": [
       "<IPython.core.display.Image object>"
      ]
     },
     "execution_count": 24,
     "metadata": {},
     "output_type": "execute_result"
    }
   ],
   "source": [
    "Image(url= \"31.jpg\",width=800)"
   ]
  },
  {
   "cell_type": "code",
   "execution_count": 23,
   "metadata": {},
   "outputs": [
    {
     "data": {
      "text/html": [
       "<img src=\"32.jpg\" width=\"800\"/>"
      ],
      "text/plain": [
       "<IPython.core.display.Image object>"
      ]
     },
     "execution_count": 23,
     "metadata": {},
     "output_type": "execute_result"
    }
   ],
   "source": [
    "Image(url= \"32.jpg\",width=800)"
   ]
  },
  {
   "cell_type": "markdown",
   "metadata": {},
   "source": [
    "### Transformer算法中的位置编码与其他方法的比较（chatgpt）\n",
    "\n",
    "Transformer算法中的位置编码(Positional Encoding)与RNN、LSTM处理顺序信息的方法具有以下优缺点:\n",
    "\n",
    "**位置编码的优点:**\n",
    "\n",
    "- 计算效率高,可以完全并行\n",
    "- 为模型带来一定位置不变性,对小的位置变化更鲁棒\n",
    "- 使用周期函数,使模型更好地学习位置信息\n",
    "- 避免位置信息过于绝对化\n",
    "- 较RNN和LSTM更简单,只编码位置信息\n",
    "\n",
    "**位置编码的缺点:**\n",
    "\n",
    "- 需要设置最大序列长度,长度过长会导致计算复杂度提升\n",
    "- 仅编码相对位置,无法表示绝对位置\n",
    "- 对语序变化不如RNN等顺序敏感\n",
    "- 需搭配注意力机制,单独使用效果较弱\n",
    "\n",
    "**RNN和LSTM的优点:** \n",
    "\n",
    "- 可以表示绝对位置信息\n",
    "- 对语序变化更敏感\n",
    "- LSTM可以捕捉长程依赖关系\n",
    "\n",
    "**RNN和LSTM的缺点:**\n",
    "\n",
    "- 计算复杂度高,无法并行计算\n",
    "- 对位置信息过于敏感\n",
    "- 隐状态编码了所有历史,计算资源利用率低\n",
    "\n",
    "总之,位置编码更高效并具有一定位置鲁棒性,但RNN和LSTM可以建模绝对位置并对语序更敏感。两者互补的特点可根据任务需求进行选择。"
   ]
  },
  {
   "cell_type": "markdown",
   "metadata": {},
   "source": [
    "1. 位置编码公式的难点，浅显易懂的方式\n",
    "\n",
    "2. 传统编码的优缺点\n",
    "\n",
    "3. 改良的问题\n",
    "\n",
    "4. 我的改良方案，优点缺点\n",
    "\n",
    "5. 进一步改良。\n",
    "\n",
    "6. 最后方案的精髓：取值范围，周期性，周期性随维度变化\n",
    "\n",
    "7. 神经网络构建的特性与正余弦方案的逻辑\n",
    "\n",
    "8. 具体代码实施\n",
    "\n",
    "9. 位置编码的应用"
   ]
  },
  {
   "cell_type": "code",
   "execution_count": null,
   "metadata": {},
   "outputs": [],
   "source": [
    "1,2,3,4"
   ]
  },
  {
   "cell_type": "code",
   "execution_count": 44,
   "metadata": {},
   "outputs": [],
   "source": [
    "def weizhi_yn(x,y,n):\n",
    "    return [(x//(y**i))%y for i in range(n)]"
   ]
  },
  {
   "cell_type": "code",
   "execution_count": 49,
   "metadata": {},
   "outputs": [
    {
     "data": {
      "text/plain": [
       "[1, 9, 9, 9]"
      ]
     },
     "execution_count": 49,
     "metadata": {},
     "output_type": "execute_result"
    }
   ],
   "source": [
    "weizhi_yn(119991,10,4)"
   ]
  },
  {
   "cell_type": "code",
   "execution_count": null,
   "metadata": {},
   "outputs": [],
   "source": [
    "# 神经网络"
   ]
  },
  {
   "cell_type": "markdown",
   "metadata": {},
   "source": [
    "1. 周期性\n",
    "2. 周期性随着维度的增长而增长（频率随着维度的增长而降低）\n",
    "3. 取值范围是有限，最好是-1~1"
   ]
  },
  {
   "cell_type": "code",
   "execution_count": 27,
   "metadata": {},
   "outputs": [
    {
     "name": "stdout",
     "output_type": "stream",
     "text": [
      "2345\n"
     ]
    }
   ],
   "source": [
    "a=0\n",
    "for i,j in enumerate(weizhi_yn(2345,5,7)):\n",
    "    a=a+j*(5**i)\n",
    "print(a)"
   ]
  },
  {
   "cell_type": "code",
   "execution_count": 31,
   "metadata": {},
   "outputs": [],
   "source": [
    "x=list(range(300))\n",
    "y0=[(i//(10**0))%10 for i in x]\n",
    "y1=[(i//(10**1))%10 for i in x]"
   ]
  },
  {
   "cell_type": "code",
   "execution_count": 32,
   "metadata": {},
   "outputs": [
    {
     "data": {
      "text/plain": [
       "[<matplotlib.lines.Line2D at 0x2175ae842b0>]"
      ]
     },
     "execution_count": 32,
     "metadata": {},
     "output_type": "execute_result"
    },
    {
     "data": {
      "image/png": "[encoded data removed]",
      "text/plain": [
       "<Figure size 1000x300 with 1 Axes>"
      ]
     },
     "metadata": {},
     "output_type": "display_data"
    }
   ],
   "source": [
    "plt.figure(figsize=(10,3))\n",
    "plt.plot(x,y0)\n",
    "plt.plot(x,y1)"
   ]
  },
  {
   "cell_type": "code",
   "execution_count": 60,
   "metadata": {},
   "outputs": [
    {
     "data": {
      "text/plain": [
       "[<matplotlib.lines.Line2D at 0x2059760fd90>]"
      ]
     },
     "execution_count": 60,
     "metadata": {},
     "output_type": "execute_result"
    },
    {
     "data": {
      "image/png": "[encoded data removed]",
      "text/plain": [
       "<Figure size 1000x300 with 1 Axes>"
      ]
     },
     "metadata": {},
     "output_type": "display_data"
    }
   ],
   "source": [
    "plt.figure(figsize=(10,3))\n",
    "plt.plot(x,y1)"
   ]
  },
  {
   "cell_type": "code",
   "execution_count": 29,
   "metadata": {},
   "outputs": [],
   "source": [
    "#np.zeros(shape=(60,4))"
   ]
  },
  {
   "cell_type": "code",
   "execution_count": 41,
   "metadata": {},
   "outputs": [
    {
     "name": "stdout",
     "output_type": "stream",
     "text": [
      "0\n",
      "-0.5440211108893698\n",
      "-0.8390715290764524\n",
      "1\n",
      "0.4476708347189573\n",
      "0.8941984252625543\n",
      "2\n",
      "0.02154268027233166\n",
      "0.9997679295349917\n"
     ]
    }
   ],
   "source": [
    "pos=10\n",
    "dim=6\n",
    "n=10000\n",
    "for i in range(int(dim/2)):\n",
    "    print(i)\n",
    "    denominator = np.power(n, 2*i/dim)\n",
    "    print(np.sin(pos/denominator))\n",
    "    print(np.cos(pos/denominator))"
   ]
  },
  {
   "cell_type": "code",
   "execution_count": 43,
   "metadata": {},
   "outputs": [
    {
     "data": {
      "text/plain": [
       "array([[ 0.00000000e+00,  1.00000000e+00,  0.00000000e+00, ...,\n",
       "         1.00000000e+00,  0.00000000e+00,  1.00000000e+00],\n",
       "       [ 8.41470985e-01,  5.40302306e-01,  7.61720408e-01, ...,\n",
       "         9.99999991e-01,  1.15478198e-04,  9.99999993e-01],\n",
       "       [ 9.09297427e-01, -4.16146837e-01,  9.87046251e-01, ...,\n",
       "         9.99999964e-01,  2.30956395e-04,  9.99999973e-01],\n",
       "       ...,\n",
       "       [ 1.23573123e-01, -9.92335469e-01,  1.39920673e-01, ...,\n",
       "         9.99980359e-01,  5.42744868e-03,  9.99985271e-01],\n",
       "       [-7.68254661e-01, -6.40144339e-01, -6.63571724e-01, ...,\n",
       "         9.99979514e-01,  5.54292514e-03,  9.99984638e-01],\n",
       "       [-9.53752653e-01,  3.00592544e-01, -9.99784705e-01, ...,\n",
       "         9.99978652e-01,  5.65840153e-03,  9.99983991e-01]])"
      ]
     },
     "execution_count": 43,
     "metadata": {},
     "output_type": "execute_result"
    }
   ],
   "source": [
    "PE"
   ]
  },
  {
   "cell_type": "code",
   "execution_count": 42,
   "metadata": {},
   "outputs": [
    {
     "name": "stdout",
     "output_type": "stream",
     "text": [
      "[[ 0.00000000e+00  1.00000000e+00  0.00000000e+00 ...  1.00000000e+00\n",
      "   0.00000000e+00  1.00000000e+00]\n",
      " [ 8.41470985e-01  5.40302306e-01  7.61720408e-01 ...  9.99999991e-01\n",
      "   1.15478198e-04  9.99999993e-01]\n",
      " [ 9.09297427e-01 -4.16146837e-01  9.87046251e-01 ...  9.99999964e-01\n",
      "   2.30956395e-04  9.99999973e-01]\n",
      " ...\n",
      " [ 1.23573123e-01 -9.92335469e-01  1.39920673e-01 ...  9.99980359e-01\n",
      "   5.42744868e-03  9.99985271e-01]\n",
      " [-7.68254661e-01 -6.40144339e-01 -6.63571724e-01 ...  9.99979514e-01\n",
      "   5.54292514e-03  9.99984638e-01]\n",
      " [-9.53752653e-01  3.00592544e-01 -9.99784705e-01 ...  9.99978652e-01\n",
      "   5.65840153e-03  9.99983991e-01]]\n"
     ]
    },
    {
     "data": {
      "image/png": "[encoded data removed]",
      "text/plain": [
       "<Figure size 1228.8x480 with 2 Axes>"
      ]
     },
     "metadata": {},
     "output_type": "display_data"
    }
   ],
   "source": [
    "def getPositionEncoding(seq_len,dim,n=10000):\n",
    "  PE = np.zeros(shape=(seq_len,dim))\n",
    "  for pos in range(seq_len):\n",
    "    for i in range(int(dim/2)):\n",
    "      denominator = np.power(n, 2*i/dim)\n",
    "      PE[pos,2*i] = np.sin(pos/denominator)\n",
    "      PE[pos,2*i+1] = np.cos(pos/denominator)\n",
    "\n",
    "  return PE\n",
    "\n",
    "PE = getPositionEncoding(seq_len=50, dim=128, n=10000)\n",
    "print(PE)\n",
    "\n",
    "caxes = plt.matshow(PE,interpolation ='nearest')\n",
    "plt.colorbar(caxes) \n",
    "plt.show()"
   ]
  },
  {
   "cell_type": "markdown",
   "metadata": {},
   "source": [
    "## transformer 中的位置编码的使用\n",
    "\n",
    "https://blog.csdn.net/qq_52785473/article/details/124537101\n",
    "\n",
    "* register_buffer(self, name, tensor)是一个PyTorch中的方法，它的作用是向模块（module）中添加一个持久的缓冲区（buffer）缓冲区是一种不被视为模型参数（model parameter）的张量（tensor），它不会在训练过程中更新梯度（gradient），但是会作为模块的状态（state）被保存和迁移"
   ]
  },
  {
   "cell_type": "markdown",
   "metadata": {},
   "source": [
    "### classwork1\n",
    "\n",
    "* 已知如下类，通过给定的x运行下面的词嵌入类和位置编码类，并打印结果张量及其维度"
   ]
  },
  {
   "cell_type": "code",
   "execution_count": 4,
   "metadata": {},
   "outputs": [],
   "source": [
    "#词嵌入\n",
    "class Embeddings(nn.Module):\n",
    "    def __init__(self, d_model, vocab):\n",
    "    # d_model:词嵌入维度\n",
    "    # vocab:字典大小\n",
    "        super(Embeddings, self).__init__()\n",
    "        self.lut = nn.Embedding(vocab, d_model)\n",
    "        self.d_model = d_model\n",
    "    def forward(self, x):\n",
    "        return self.lut(x) * math.sqrt(self.d_model)"
   ]
  },
  {
   "cell_type": "code",
   "execution_count": 3,
   "metadata": {},
   "outputs": [
    {
     "name": "stdout",
     "output_type": "stream",
     "text": [
      "torch.Size([2, 4, 10])\n"
     ]
    }
   ],
   "source": [
    "d_model = 10  # embedding_size\n",
    "vocab = 1000  # 词典大小\n",
    "x=torch.tensor([[100, 2, 421, 508], [491, 998, 1, 221]], dtype=torch.long)\n",
    "emb = Embeddings(d_model, vocab)\n",
    "embr = emb(x)\n",
    "print(embr.shape)"
   ]
  },
  {
   "cell_type": "code",
   "execution_count": 4,
   "metadata": {},
   "outputs": [
    {
     "data": {
      "text/plain": [
       "tensor([[[ 1.6527, -4.2898, -7.0676, -0.2879,  0.4503,  1.6593, -2.8290,\n",
       "           1.3239, -1.3528, -4.3423],\n",
       "         [-4.9873, -3.2457,  0.4685,  4.4773, -1.5115,  1.9148,  5.6802,\n",
       "           0.6057, -1.2208,  6.1044],\n",
       "         [-4.9777, -0.6284,  3.7511, -2.1237, -2.1275, -2.0945,  1.9090,\n",
       "          -0.8950, -1.1659,  3.0948],\n",
       "         [ 1.4378, -0.2923,  3.4058, -3.2347, -0.0213, -0.3064,  4.0613,\n",
       "          -1.1672,  1.3529,  4.8704]],\n",
       "\n",
       "        [[-2.6389,  2.8365,  0.8154, -0.3518, -6.1504,  1.6444, -5.8082,\n",
       "          -2.5264,  1.7637,  4.9342],\n",
       "         [-3.8343, -0.5000,  2.1118, -3.0764, -0.7894, -4.6728,  9.5358,\n",
       "          -1.1405,  1.7375,  2.8379],\n",
       "         [-5.8903, -1.5858,  2.1292, -3.7824, -5.0227,  6.0156, -4.5564,\n",
       "           0.9712, -1.4247,  2.6252],\n",
       "         [-4.0722, -5.1162, -0.9665, -2.3756,  0.1784,  1.8918,  2.3819,\n",
       "           2.1925, -3.7461, -0.3825]]], grad_fn=<MulBackward0>)"
      ]
     },
     "execution_count": 4,
     "metadata": {},
     "output_type": "execute_result"
    }
   ],
   "source": [
    "embr"
   ]
  },
  {
   "cell_type": "code",
   "execution_count": 5,
   "metadata": {},
   "outputs": [],
   "source": [
    "#位置编码\n",
    "class PositionalEncoding(nn.Module):\n",
    "    def __init__(self, d_model, dropout, max_len=5000):\n",
    "    # d_model:词嵌入维度\n",
    "    # dropout:置零比率\n",
    "    # max_len:每个句子最大的长度\n",
    "        super(PositionalEncoding, self).__init__()\n",
    "        self.dropout = nn.Dropout(p=dropout)\n",
    "        pe = torch.zeros(max_len, d_model)\n",
    "        position = torch.arange(0,  max_len).unsqueeze(1)\n",
    "        div_term = torch.exp(torch.arange(0, d_model, 2) * -(math.log(1000.0) / d_model))\n",
    "        pe[:, 0::2] = torch.sin(position * div_term)\n",
    "        pe[:, 1::2] = torch.cos(position * div_term)\n",
    "        pe = pe.unsqueeze(0)\n",
    "        self.register_buffer(\"pe\", pe)\n",
    "\n",
    "    def forward(self, x):\n",
    "        x = x + self.pe[:, :x.size(1)]\n",
    "        return self.dropout(x)\n",
    "        #return x"
   ]
  },
  {
   "cell_type": "code",
   "execution_count": 86,
   "metadata": {},
   "outputs": [
    {
     "name": "stdout",
     "output_type": "stream",
     "text": [
      "torch.Size([2, 4, 10])\n"
     ]
    }
   ],
   "source": [
    "dropout = 0.1\n",
    "max_len = 60\n",
    "pe = PositionalEncoding(d_model, dropout, max_len)\n",
    "pe_result = pe(embr)\n",
    "print(pe_result.shape)"
   ]
  },
  {
   "cell_type": "markdown",
   "metadata": {},
   "source": [
    "# 注意力机制的思想与原理\n",
    "\n",
    "文字，全流程详细讲解，无代码 https://blog.csdn.net/benzhujie1245com/article/details/117173090\n",
    "\n",
    "视频，原因讲解 https://www.bilibili.com/video/BV1dt4y1J7ov/\n",
    "\n",
    "视频，讲解详细 https://www.bilibili.com/video/BV1v3411r78R/\n",
    "\n",
    "文字，简单讲解，有代码 https://blog.csdn.net/qq_52785473/article/details/124537101\n",
    "\n",
    "文字，简单讲解，有代码 https://blog.csdn.net/Datawhale/article/details/120320116\n",
    "\n",
    "https://wmathor.com/index.php/archives/1438/\n",
    "\n",
    "内积的几何意义\n",
    "\n",
    "https://cloud.tencent.com/developer/article/2157496\n",
    "\n",
    "\n",
    "https://zhuanlan.zhihu.com/p/631398525\n",
    "\n",
    "注意力机制（Attention Mechanism）是机器学习，尤其是深度学习领域中的一种技术，它模仿了人类视觉或听觉系统中的注意力选择能力。在处理信息时，人类不会对所有部分给予同等关注，而是有选择地聚焦于某些特定的部分。这种机制允许模型在处理序列数据时，比如翻译任务中的源语言句子到目标语言句子的转换，能够“关注”到输入序列的不同部分。\n",
    "\n",
    "### 注意力机制的起源\n",
    "\n",
    "注意力机制的概念最早可以追溯到20世纪90年代的人工神经网络研究，但直到2014年，Bahdanau等人在其论文《Neural Machine Translation by Jointly Learning to Align and Translate》中首次将注意力机制成功应用于神经机器翻译（NMT），才使得这一概念在深度学习领域得到了广泛的关注和发展。这篇论文提出了一种模型，该模型不仅能够学习如何翻译，还能学习如何对齐源语言和目标语言中的词语，即通过一个软对齐的方式确定哪些源语言词对于生成某个目标语言词更重要。\n",
    "\n",
    "### 注意力机制的基本公式\n",
    "\n",
    "注意力机制的核心在于计算一个权重分布，这个分布反映了在给定上下文的情况下，各个输入元素的重要性。基本的注意力机制可以分为以下几个步骤：\n",
    "\n",
    "1. **得分函数（Score Function）**：首先计算查询向量（query vector）与每个键向量（key vector）之间的相似度得分。常用的得分函数包括点积、加性（或称巴赫达努式，Bahdanau-style）、缩放点积等。例如，使用点积作为得分函数：\n",
    "   $$ e_{ij} = \\text{score}(\\mathbf{q}_i, \\mathbf{k}_j) = \\mathbf{q}_i^T\\mathbf{k}_j $$\n",
    "   其中，$\\mathbf{q}_i$ 是查询向量，$\\mathbf{k}_j$ 是第 $j$ 个键向量。\n",
    "\n",
    "2. **权重计算（Weight Calculation）**：将得分转化为概率分布，通常使用softmax函数来实现，这样可以确保所有权重的总和为1。\n",
    "   $$ \\alpha_{ij} = \\frac{\\exp(e_{ij})}{\\sum_{k=1}^{T}\\exp(e_{ik})} $$\n",
    "   其中，$T$ 是键向量的数量，$\\alpha_{ij}$ 表示第 $j$ 个键向量相对于查询向量 $i$ 的注意力权重。\n",
    "\n",
    "3. **加权求和（Weighted Sum）**：根据计算得到的权重，对值向量（value vector）进行加权求和，生成上下文向量（context vector）。\n",
    "   $$ \\mathbf{c}_i = \\sum_{j=1}^{T} \\alpha_{ij} \\mathbf{v}_j $$\n",
    "   其中，$\\mathbf{v}_j$ 是与键向量 $\\mathbf{k}_j$ 相对应的值向量，$\\mathbf{c}_i$ 是最终的上下文向量，用于后续的处理或决策。\n",
    "\n",
    "这些步骤构成了注意力机制的基础框架，但在实际应用中，根据不同的任务需求，可能会有所变化或扩展。例如，在自然语言处理任务中，查询、键和值向量通常是从文本序列中提取的特征表示；而在计算机视觉任务中，则可能是从图像中提取的特征图。"
   ]
  },
  {
   "cell_type": "markdown",
   "metadata": {},
   "source": [
    "### 线性运算的意义\n",
    "\n",
    "* 向量点乘向量\n",
    "\n",
    "点乘的一个重要几何意义是它可以表示一个向量在另一个向量上的投影长度。\n",
    "\n",
    "* 矩阵点乘自身转置\n",
    "\n",
    "当一个矩阵与自身的转置进行点乘（内积）运算时，我们实际上是在计算该矩阵的每个行向量与其自身或其它行向量的点积。这种操作通常用于计算矩阵的行向量之间的相似度或者构造协方差矩阵等。\n",
    "\n",
    "* 矩阵点乘自身的相似性系数矩阵\n",
    "\n",
    "当你用若干向量构成一个矩阵，并且考虑这些向量之间的相关性系数时，你实际上是在探索这些向量之间的线性关系。\n",
    "\n",
    "假设你有一个 $ m \\times n $ 的矩阵 $ A $，其中每一列代表一个向量，共有 $ n $ 个向量，每个向量有 $ m $ 个元素。为了计算这些向量之间的相关性系数，通常需要对这些向量进行标准化处理，使其均值为 0，标准差为 1。这样做的目的是消除量纲的影响，使得相关性系数能够更好地反映向量之间的线性关系。\n",
    "\n",
    "* 相关性系数矩阵\n",
    "\n",
    "1. **标准化**：首先，对矩阵 $ A $ 中的每个向量进行标准化处理，得到标准化后的矩阵 $ Z $。标准化的公式为：\n",
    "   $$\n",
    "   z_{ij} = \\frac{a_{ij} - \\bar{a}_j}{s_j}\n",
    "   $$\n",
    "   其中，$ \\bar{a}_j $ 是第 $ j $ 列的均值，$ s_j $ 是第 $ j $ 列的标准差。\n",
    "\n",
    "2. **计算相关性系数矩阵**：接下来，计算标准化后的矩阵 $ Z $ 的转置 $ Z^T $ 与 $ Z $ 的乘积，然后除以 $ m-1 $（样本数量减一），得到相关性系数矩阵 $ R $：\n",
    "   $$\n",
    "   R = \\frac{1}{m-1} Z^T Z\n",
    "   $$\n",
    "   其中，$ R $ 是一个 $ n \\times n $ 的矩阵，其元素 $ r_{ij} $ 表示第 $ i $ 列向量和第 $ j $ 列向量之间的相关性系数。\n",
    "\n",
    "3. 相关性系数点乘的意义\n",
    "\n",
    " **与向量点乘**：如果你有一个向量 $ v $（假设维度为 $ n $），你可以计算 $ Rv $ 或 $ v^TR $。这可以理解为将向量 $ v $ 在相关性系数矩阵 $ R $ 所定义的空间中进行变换。例如，$ Rv $ 的结果向量中的每个元素表示 $ v $ 与 $ A $ 中每个向量的相关性加权和。\n",
    "\n",
    " **与矩阵点乘**：如果你有一个矩阵 $ B $（假设维度为 $ n \\times p $），你可以计算 $ RB $ 或 $ BR $。这可以理解为将矩阵 $ B $ 中的每个向量在相关性系数矩阵 $ R $ 所定义的空间中进行变换。例如，$ RB $ 的结果矩阵中的每个列向量表示 $ B $ 中对应列向量与 $ A $ 中每个向量的相关性加权和。\n",
    "\n",
    "4. 应用场景\n",
    "\n",
    " **特征选择**：在机器学习中，相关性系数可以用于特征选择，帮助识别哪些特征之间存在高度相关性，从而避免模型中的多重共线性问题。\n",
    "\n",
    " **数据降维**：在主成分分析（PCA）中，相关性系数矩阵用于计算协方差矩阵，进而提取数据的主要成分。\n",
    " \n",
    " **聚类分析**：在聚类分析中，相关性系数可以用于度量不同样本之间的相似性，帮助构建聚类模型。\n",
    "\n",
    "总之，相关性系数矩阵及其点乘操作在数据分析和机器学习中有着广泛的应用，能够帮助我们更好地理解和处理多维数据。 "
   ]
  },
  {
   "cell_type": "code",
   "execution_count": 11,
   "metadata": {},
   "outputs": [
    {
     "data": {
      "text/html": [
       "<img src=\"https://pic1.zhimg.com/v2-43d8ebce2c5a2cb511331014a05aa688_1440w.jpg\"/>"
      ],
      "text/plain": [
       "<IPython.core.display.Image object>"
      ]
     },
     "execution_count": 11,
     "metadata": {},
     "output_type": "execute_result"
    }
   ],
   "source": [
    "from IPython.display import Image\n",
    "Image(url= \"https://pic1.zhimg.com/v2-43d8ebce2c5a2cb511331014a05aa688_1440w.jpg\")"
   ]
  },
  {
   "cell_type": "code",
   "execution_count": 1,
   "metadata": {},
   "outputs": [
    {
     "data": {
      "text/html": [
       "<img src=\"33.png\"/>"
      ],
      "text/plain": [
       "<IPython.core.display.Image object>"
      ]
     },
     "execution_count": 1,
     "metadata": {},
     "output_type": "execute_result"
    }
   ],
   "source": [
    "from IPython.display import Image\n",
    "Image(url= \"33.png\")"
   ]
  },
  {
   "cell_type": "code",
   "execution_count": 7,
   "metadata": {},
   "outputs": [
    {
     "data": {
      "text/html": [
       "<img src=\"34.png\"/>"
      ],
      "text/plain": [
       "<IPython.core.display.Image object>"
      ]
     },
     "execution_count": 7,
     "metadata": {},
     "output_type": "execute_result"
    }
   ],
   "source": [
    "Image(url= \"34.png\")"
   ]
  },
  {
   "cell_type": "markdown",
   "metadata": {},
   "source": [
    "自注意力（Self-Attention）机制是注意力机制的一种特殊形式，它允许模型在同一序列内进行信息交互，而不需要依赖于外部的上下文信息。自注意力机制在处理长距离依赖关系时表现尤为出色，因此在自然语言处理（NLP）领域得到了广泛应用，尤其是在Transformer模型中。最早的自注意力机制是由Vaswani等人在2017年的论文《Attention is All You Need》中提出的。\n",
    "\n",
    "### 自注意力的思想\n",
    "\n",
    "自注意力的核心思想是，让序列中的每个位置都能够关注到序列中的其他位置，从而捕获更丰富的上下文信息。这种机制使得模型能够在处理长序列时，有效地捕捉远距离的依赖关系，而不需要像传统的RNN或LSTM那样逐个处理序列元素。\n",
    "\n",
    "### 自注意力的工作原理\n",
    "\n",
    "自注意力机制的基本步骤如下：\n",
    "\n",
    "1. **输入表示**：假设我们有一个输入序列 $X = [x_1, x_2, \\ldots, x_n]$，其中每个 $x_i$ 是一个向量。\n",
    "\n",
    "2. **线性变换**：对输入序列中的每个向量进行线性变换，生成查询向量（Query）、键向量（Key）和值向量（Value）。这些变换通常通过矩阵乘法实现：\n",
    "   $$ Q = XW^Q, \\quad K = XW^K, \\quad V = XW^V $$\n",
    "   其中，$W^Q$, $W^K$, 和 $W^V$ 是可学习的权重矩阵。\n",
    "\n",
    "3. **计算注意力分数**：使用查询向量和键向量计算注意力分数。最常见的方法是缩放点积注意力（Scaled Dot-Product Attention）：\n",
    "   $$ \\text{Attention}(Q, K, V) = \\text{softmax}\\left(\\frac{QK^T}{\\sqrt{d_k}}\\right)V $$\n",
    "   其中，$d_k$ 是键向量的维度，用于缩放点积以防止梯度消失或爆炸。\n",
    "\n",
    "4. **加权求和**：将注意力分数与值向量相乘，并进行加权求和，得到最终的输出向量：\n",
    "   $$ \\text{Output} = \\text{Attention}(Q, K, V) $$\n",
    "\n",
    "### 详细公式\n",
    "\n",
    "假设输入序列 $X$ 的形状为 $(n, d)$，其中 $n$ 是序列长度，$d$ 是向量维度。经过线性变换后，查询向量 $Q$、键向量 $K$ 和值向量 $V$ 的形状均为 $(n, d_k)$。\n",
    "\n",
    "1. **线性变换**：\n",
    "   $$ Q = XW^Q, \\quad K = XW^K, \\quad V = XW^V $$\n",
    "   其中，$W^Q$, $W^K$, 和 $W^V$ 的形状分别为 $(d, d_k)$。\n",
    "\n",
    "2. **计算注意力分数**：\n",
    "   $$ \\text{Scores} = QK^T / \\sqrt{d_k} $$\n",
    "   这里的 $\\text{Scores}$ 形状为 $(n, n)$，表示每个位置对其他位置的注意力分数。\n",
    "\n",
    "3. **应用softmax**：\n",
    "   $$ \\text{Attention Weights} = \\text{softmax}(\\text{Scores}) $$\n",
    "   这里的 $\\text{Attention Weights}$ 形状也为 $(n, n)$，表示每个位置对其他位置的注意力权重。\n",
    "\n",
    "4. **加权求和**：\n",
    "   $$ \\text{Output} = \\text{Attention Weights} \\cdot V $$\n",
    "   这里的 $\\text{Output}$ 形状为 $(n, d_k)$，表示每个位置的输出向量。\n",
    "\n",
    "### 优点\n",
    "\n",
    "- **并行计算**：自注意力机制可以在并行计算中高效运行，因为每个位置的计算是独立的。\n",
    "- **长距离依赖**：自注意力机制能够有效捕捉长距离依赖关系，而不需要像RNN或LSTM那样逐个处理序列元素。\n",
    "- **灵活的上下文建模**：每个位置可以关注到序列中的任意其他位置，从而捕获更丰富的上下文信息。\n",
    "\n",
    "### 应用\n",
    "\n",
    "自注意力机制在许多NLP任务中表现出色，包括但不限于机器翻译、文本分类、情感分析、命名实体识别等。特别是在Transformer模型中，自注意力机制是其核心组成部分，使得Transformer在各种NLP基准测试中取得了显著的成绩。"
   ]
  },
  {
   "cell_type": "code",
   "execution_count": 8,
   "metadata": {},
   "outputs": [
    {
     "data": {
      "text/html": [
       "<img src=\"self0.png\"/>"
      ],
      "text/plain": [
       "<IPython.core.display.Image object>"
      ]
     },
     "execution_count": 8,
     "metadata": {},
     "output_type": "execute_result"
    }
   ],
   "source": [
    "Image(url= \"self0.png\")"
   ]
  },
  {
   "cell_type": "markdown",
   "metadata": {},
   "source": [
    "https://blog.csdn.net/benzhujie1245com/article/details/117173090"
   ]
  },
  {
   "cell_type": "code",
   "execution_count": 56,
   "metadata": {},
   "outputs": [],
   "source": [
    "input_size=40\n",
    "hidden_size=20\n",
    "query = nn.Linear(input_size, hidden_size)\n",
    "key = nn.Linear(input_size, hidden_size)\n",
    "value = nn.Linear(input_size, hidden_size)"
   ]
  },
  {
   "cell_type": "code",
   "execution_count": 62,
   "metadata": {},
   "outputs": [],
   "source": [
    "x = torch.randn(30, 40)\n",
    "q = query(x)\n",
    "k = key(x)\n",
    "v = value(x)\n",
    "#x"
   ]
  },
  {
   "cell_type": "code",
   "execution_count": 66,
   "metadata": {},
   "outputs": [
    {
     "data": {
      "text/plain": [
       "tensor([[-0.2679, -0.2205,  0.2756,  0.1129, -0.1622,  0.1292,  0.0112,  0.0633,\n",
       "          0.2567,  0.1563,  0.0401,  0.0610,  0.1346,  0.1730, -0.1554,  0.1603,\n",
       "          0.0114, -0.2817, -0.0760,  0.1398],\n",
       "        [-0.3397, -0.2865,  0.2437,  0.1693, -0.0989,  0.1774,  0.0426,  0.0056,\n",
       "          0.2165,  0.0444,  0.0655,  0.0495,  0.1462,  0.0825, -0.1607,  0.1153,\n",
       "          0.0105, -0.1826, -0.1456,  0.0346],\n",
       "        [-0.1287, -0.2080,  0.2769,  0.1123, -0.1086,  0.0015,  0.0135,  0.0934,\n",
       "          0.2634,  0.1655, -0.0381,  0.1561,  0.1477,  0.2539, -0.1699,  0.1506,\n",
       "          0.0036, -0.2497, -0.0871,  0.1638],\n",
       "        [-0.1649, -0.2830,  0.2431,  0.1282, -0.0949,  0.1305,  0.0420,  0.0427,\n",
       "          0.2329, -0.0145, -0.0466,  0.0741,  0.0861,  0.1564, -0.1680,  0.1151,\n",
       "          0.0456, -0.1558, -0.1820,  0.0415],\n",
       "        [-0.2099, -0.2515,  0.2563,  0.0168, -0.1187,  0.0099, -0.0300,  0.1171,\n",
       "          0.2640,  0.0848, -0.0839,  0.0782,  0.1152,  0.2258, -0.1635,  0.1898,\n",
       "         -0.0548, -0.2236, -0.1091,  0.0774],\n",
       "        [-0.0994, -0.2918,  0.2089,  0.1916, -0.0727, -0.0611, -0.0479,  0.0599,\n",
       "          0.2557,  0.0449, -0.1268,  0.1638,  0.1376,  0.1574, -0.1289,  0.0475,\n",
       "         -0.0618, -0.1789, -0.0477,  0.0604],\n",
       "        [-0.2212, -0.2692,  0.3132,  0.0456, -0.1057,  0.0926,  0.0107,  0.0894,\n",
       "          0.2622,  0.0051, -0.0487,  0.1174,  0.1549,  0.1817, -0.1957,  0.1868,\n",
       "         -0.0761, -0.2353, -0.1141, -0.0012],\n",
       "        [-0.1419, -0.2061,  0.2652,  0.1658, -0.0845,  0.0624,  0.0556,  0.0715,\n",
       "          0.2555,  0.1324, -0.0270,  0.1180,  0.1062,  0.2424, -0.1471,  0.1452,\n",
       "          0.0459, -0.2032, -0.1045,  0.1441],\n",
       "        [-0.1622, -0.2493,  0.2339,  0.1213, -0.1051,  0.0203,  0.0364,  0.0826,\n",
       "          0.2224,  0.0994, -0.0319,  0.1094,  0.0862,  0.2218, -0.1469,  0.1362,\n",
       "          0.0177, -0.1916, -0.1395,  0.1316],\n",
       "        [-0.2568, -0.2807,  0.2127,  0.1462, -0.0782,  0.1142,  0.0037,  0.0483,\n",
       "          0.2223,  0.0464, -0.0091,  0.0818,  0.0819,  0.1147, -0.1687,  0.1217,\n",
       "          0.0826, -0.1503, -0.1847,  0.0684],\n",
       "        [-0.2077, -0.1774,  0.3306,  0.1870, -0.0850,  0.1194,  0.0431,  0.0658,\n",
       "          0.2802,  0.1997, -0.0227,  0.0915,  0.0970,  0.2051, -0.1795,  0.1482,\n",
       "          0.0977, -0.2578, -0.0934,  0.1591],\n",
       "        [-0.2511, -0.2438,  0.2939,  0.0830, -0.1150, -0.0437, -0.0779,  0.0946,\n",
       "          0.3422,  0.1804, -0.1076,  0.1001,  0.1667,  0.2278, -0.1610,  0.1718,\n",
       "         -0.0830, -0.2746, -0.0308,  0.0550],\n",
       "        [-0.1318, -0.2731,  0.2263,  0.2420, -0.1180,  0.0196, -0.0480,  0.0425,\n",
       "          0.2290,  0.1058, -0.0983,  0.1191,  0.0712,  0.1392, -0.1590,  0.0537,\n",
       "          0.1077, -0.1758, -0.0927,  0.1177],\n",
       "        [-0.1426, -0.1665,  0.3070,  0.1483, -0.0729,  0.0497,  0.0366,  0.1126,\n",
       "          0.2439,  0.1786, -0.0663,  0.1028,  0.0401,  0.2418, -0.1956,  0.1778,\n",
       "          0.1517, -0.2081, -0.1432,  0.1877],\n",
       "        [-0.2755, -0.1562,  0.3172,  0.0518, -0.0986,  0.0578,  0.0775,  0.1157,\n",
       "          0.2513,  0.2158,  0.0451,  0.0778,  0.1316,  0.2536, -0.1940,  0.2520,\n",
       "         -0.0810, -0.2607, -0.0911,  0.1638],\n",
       "        [-0.2923, -0.2981,  0.2712,  0.1471, -0.1414,  0.1291, -0.0668, -0.0033,\n",
       "          0.3067,  0.0774, -0.0450,  0.0956,  0.1677,  0.1067, -0.1725,  0.1132,\n",
       "          0.0193, -0.2329, -0.1011,  0.0178],\n",
       "        [-0.1917, -0.2829,  0.2445,  0.1355, -0.0934,  0.0652, -0.0184,  0.0607,\n",
       "          0.2733,  0.0360, -0.1135,  0.1216,  0.0752,  0.1490, -0.1316,  0.1257,\n",
       "         -0.0192, -0.1724, -0.1225,  0.0176],\n",
       "        [-0.3185, -0.2353,  0.2593,  0.0846, -0.0528,  0.1629,  0.0171,  0.0334,\n",
       "          0.2595,  0.0690, -0.0116,  0.0410,  0.1040,  0.1444, -0.1688,  0.1748,\n",
       "          0.0490, -0.1580, -0.1909,  0.0138],\n",
       "        [-0.2145, -0.2423,  0.2743, -0.0130, -0.1171,  0.0298, -0.0117,  0.1207,\n",
       "          0.2630,  0.1008, -0.0472,  0.0957,  0.1473,  0.2221, -0.1918,  0.1858,\n",
       "         -0.0609, -0.2610, -0.1381,  0.0937],\n",
       "        [-0.2333, -0.2090,  0.2643,  0.1327, -0.0900,  0.1184,  0.0830,  0.0728,\n",
       "          0.2202,  0.1188,  0.0369,  0.0669,  0.0698,  0.1996, -0.1512,  0.1771,\n",
       "          0.0405, -0.2039, -0.1409,  0.1372],\n",
       "        [-0.2457, -0.2139,  0.2374,  0.0511, -0.1146,  0.0658,  0.0356,  0.0833,\n",
       "          0.2217,  0.1345,  0.0087,  0.0704,  0.0864,  0.2026, -0.1706,  0.1640,\n",
       "          0.0029, -0.2038, -0.1556,  0.1460],\n",
       "        [-0.2986, -0.2570,  0.2671,  0.1677, -0.0680,  0.2378,  0.0463,  0.0190,\n",
       "          0.2385,  0.0173,  0.0334,  0.0374,  0.1005,  0.0777, -0.1919,  0.1380,\n",
       "          0.1180, -0.1575, -0.2048,  0.0078],\n",
       "        [-0.2897, -0.2695,  0.2572,  0.0897, -0.1197,  0.1173, -0.1472,  0.0362,\n",
       "          0.3213,  0.0824, -0.0793,  0.0649,  0.1834,  0.0649, -0.1906,  0.1322,\n",
       "          0.0141, -0.2627, -0.0544,  0.0254],\n",
       "        [-0.1788, -0.0779,  0.2430,  0.1010, -0.0241,  0.0449,  0.1942,  0.1179,\n",
       "          0.1329,  0.2579,  0.0794,  0.0437, -0.0458,  0.2960, -0.1588,  0.1812,\n",
       "          0.1085, -0.1540, -0.2046,  0.3006],\n",
       "        [-0.1075, -0.2478,  0.2374,  0.2426, -0.1021, -0.0240, -0.0225,  0.0581,\n",
       "          0.2378,  0.1294, -0.0708,  0.1662,  0.1014,  0.1710, -0.1541,  0.0874,\n",
       "          0.0509, -0.1974, -0.0458,  0.1529],\n",
       "        [-0.0647, -0.2475,  0.2629,  0.1738, -0.1341, -0.0326, -0.0054,  0.1007,\n",
       "          0.2211,  0.1172, -0.0928,  0.1581,  0.0951,  0.1773, -0.1810,  0.0665,\n",
       "          0.0013, -0.2447, -0.0771,  0.1483],\n",
       "        [-0.2195, -0.2651,  0.2063, -0.0234, -0.1253,  0.0385,  0.0099,  0.0873,\n",
       "          0.2721,  0.0697, -0.0123,  0.1138,  0.1892,  0.2394, -0.1723,  0.1720,\n",
       "         -0.1702, -0.2116, -0.1055,  0.1214],\n",
       "        [-0.2445, -0.2014,  0.3096,  0.0517, -0.1206,  0.0623,  0.0646,  0.1139,\n",
       "          0.2311,  0.1485,  0.0327,  0.1018,  0.1206,  0.2256, -0.1933,  0.2226,\n",
       "         -0.0413, -0.2622, -0.1218,  0.1248],\n",
       "        [-0.1476, -0.2724,  0.2069,  0.1222, -0.0534,  0.0073,  0.0124,  0.0551,\n",
       "          0.2264,  0.0527, -0.0633,  0.1282,  0.1176,  0.2030, -0.1580,  0.1131,\n",
       "         -0.0561, -0.1459, -0.1133,  0.1015],\n",
       "        [-0.2514, -0.2996,  0.2219,  0.1457, -0.1331,  0.1515,  0.0300,  0.0170,\n",
       "          0.2391,  0.0092,  0.0386,  0.1031,  0.1554,  0.1247, -0.1601,  0.1149,\n",
       "         -0.0271, -0.1880, -0.1215,  0.0608]], grad_fn=<MmBackward0>)"
      ]
     },
     "execution_count": 66,
     "metadata": {},
     "output_type": "execute_result"
    }
   ],
   "source": [
    "out=torch.mm(q, k.transpose(0, 1))/math.sqrt(20)\n",
    "out=torch.softmax(out, dim=-1)\n",
    "out=torch.mm(out, v)\n",
    "out"
   ]
  },
  {
   "cell_type": "code",
   "execution_count": 26,
   "metadata": {},
   "outputs": [],
   "source": [
    "x = torch.randn(20, 40)\n",
    "q = query(x)\n",
    "k = key(x)\n",
    "v = value(x)"
   ]
  },
  {
   "cell_type": "code",
   "execution_count": 33,
   "metadata": {},
   "outputs": [],
   "source": [
    "attn_weights = torch.mm(q, k.transpose(0, 1))\n",
    "attn_weights = F.softmax(attn_weights, dim=-1)\n",
    "attn_output = torch.mm(attn_weights, v)"
   ]
  },
  {
   "cell_type": "code",
   "execution_count": 13,
   "metadata": {},
   "outputs": [],
   "source": [
    "class SelfAttention(nn.Module):\n",
    "    def __init__(self, input_size, hidden_size):\n",
    "        super(SelfAttention, self).__init__()\n",
    "        self.query = nn.Linear(input_size, hidden_size)\n",
    "        self.key = nn.Linear(input_size, hidden_size)\n",
    "        self.value = nn.Linear(input_size, hidden_size)\n",
    "\n",
    "    def forward(self, x):\n",
    "        # 计算Q、K、V\n",
    "        q = self.query(x)\n",
    "        k = self.key(x)\n",
    "        v = self.value(x)\n",
    "        # 计算自注意力矩阵\n",
    "        attn_weights = torch.mm(q, k.transpose(0, 1))\n",
    "        attn_weights = F.softmax(attn_weights, dim=-1)\n",
    "        # 使用自注意力矩阵对V进行加权平均\n",
    "        attn_output = torch.mm(attn_weights, v)\n",
    "        return attn_output"
   ]
  },
  {
   "cell_type": "code",
   "execution_count": 15,
   "metadata": {},
   "outputs": [
    {
     "data": {
      "text/plain": [
       "torch.Size([30, 20])"
      ]
     },
     "execution_count": 15,
     "metadata": {},
     "output_type": "execute_result"
    }
   ],
   "source": [
    "input_size=40\n",
    "hidden_size=20\n",
    "model = SelfAttention(input_size, hidden_size)\n",
    "x = torch.randn(30, 40)\n",
    "out = model(x)\n",
    "out.shape"
   ]
  },
  {
   "cell_type": "markdown",
   "metadata": {},
   "source": [
    "## 多头自注意力机制\n",
    "\n",
    "https://blog.csdn.net/benzhujie1245com/article/details/117173090\n",
    "\n",
    "多头注意力（Multi-Head Attention）机制是注意力机制的一个重要变体，它通过并行使用多个注意力头（attention heads）来捕捉输入序列中的不同信息。这种机制允许模型在不同的表示子空间中同时关注输入的不同方面，从而提高了模型的表达能力和灵活性。多头注意力最著名的应用是在Transformer模型中，该模型由Vaswani等人在2017年的论文《Attention is All You Need》中提出。\n",
    "\n",
    "### 多头注意力的思想\n",
    "\n",
    "多头注意力的基本思想是，通过将输入向量映射到多个不同的低维空间（即多个“头”），每个头可以专注于输入的不同方面或特征。然后，将这些头的输出组合起来，形成更丰富的表示。这种方式类似于人脑在处理信息时，能够同时关注多个特征的能力。\n",
    "\n",
    "### 多头注意力的工作原理\n",
    "\n",
    "1. **线性变换**：首先，输入向量通过线性变换映射到多个低维空间。具体来说，对于每个头，都有独立的权重矩阵 $W^Q_i$, $W^K_i$, 和 $W^V_i$ 分别用于查询（Query）、键（Key）和值（Value）的线性变换。假设我们有 $h$ 个头，那么对于每个头 $i$，我们可以得到：\n",
    "   $$ \\mathbf{Q}_i = X W^Q_i, \\quad \\mathbf{K}_i = X W^K_i, \\quad \\mathbf{V}_i = X W^V_i $$\n",
    "   其中，$X$ 是输入向量矩阵，$W^Q_i$, $W^K_i$, 和 $W^V_i$ 是第 $i$ 个头的权重矩阵。\n",
    "\n",
    "2. **计算注意力分数**：对于每个头，使用标准的注意力机制计算注意力分数。通常使用缩放点积注意力（Scaled Dot-Product Attention）：\n",
    "   $$ \\text{Attention}(\\mathbf{Q}_i, \\mathbf{K}_i, \\mathbf{V}_i) = \\text{softmax}\\left(\\frac{\\mathbf{Q}_i \\mathbf{K}_i^T}{\\sqrt{d_k}}\\right) \\mathbf{V}_i $$\n",
    "   其中，$d_k$ 是键向量的维度，用于缩放点积以防止梯度消失或爆炸。\n",
    "\n",
    "3. **拼接头的输出**：将所有头的输出拼接在一起，形成一个更大的向量：\n",
    "   $$ \\text{Concat}(\\text{head}_1, \\text{head}_2, \\ldots, \\text{head}_h) $$\n",
    "   其中，$\\text{head}_i = \\text{Attention}(\\mathbf{Q}_i, \\mathbf{K}_i, \\mathbf{V}_i)$。\n",
    "\n",
    "4. **最终线性变换**：为了将拼接后的向量映射回原始维度，通常会再进行一次线性变换：\n",
    "   $$ \\text{MultiHead}(Q, K, V) = \\text{Concat}(\\text{head}_1, \\text{head}_2, \\ldots, \\text{head}_h) W^O $$\n",
    "   其中，$W^O$ 是最终的线性变换矩阵。\n",
    "\n",
    "### 优点\n",
    "\n",
    "- **捕捉多种信息**：多头注意力机制可以通过不同的头捕捉输入序列中的不同信息，从而提高模型的表达能力。\n",
    "- **并行计算**：由于每个头的计算是独立的，可以并行执行，提高了计算效率。\n",
    "- **灵活性**：每个头可以学习不同的表示子空间，使得模型能够更好地适应复杂的任务。\n",
    "\n",
    "### 应用\n",
    "\n",
    "多头注意力机制在许多自然语言处理任务中取得了显著的效果，包括但不限于机器翻译、文本分类、情感分析等。它也是Transformer模型的核心组成部分，该模型在各种NLP基准测试中表现出色。"
   ]
  },
  {
   "cell_type": "code",
   "execution_count": 16,
   "metadata": {},
   "outputs": [
    {
     "data": {
      "text/html": [
       "<img src=\"https://i-blog.csdnimg.cn/blog_migrate/d4af5c34f2e6bc4436e739e112767fc6.png\"/>"
      ],
      "text/plain": [
       "<IPython.core.display.Image object>"
      ]
     },
     "execution_count": 16,
     "metadata": {},
     "output_type": "execute_result"
    }
   ],
   "source": [
    "Image(url= \"https://i-blog.csdnimg.cn/blog_migrate/d4af5c34f2e6bc4436e739e112767fc6.png\")"
   ]
  },
  {
   "cell_type": "code",
   "execution_count": 17,
   "metadata": {},
   "outputs": [
    {
     "data": {
      "text/html": [
       "<img src=\"https://i-blog.csdnimg.cn/blog_migrate/812411cda1aa0f9206469428b743e1c2.png\"/>"
      ],
      "text/plain": [
       "<IPython.core.display.Image object>"
      ]
     },
     "execution_count": 17,
     "metadata": {},
     "output_type": "execute_result"
    }
   ],
   "source": [
    "Image(url= \"https://i-blog.csdnimg.cn/blog_migrate/812411cda1aa0f9206469428b743e1c2.png\")"
   ]
  },
  {
   "cell_type": "markdown",
   "metadata": {},
   "source": []
  },
  {
   "cell_type": "code",
   "execution_count": 29,
   "metadata": {},
   "outputs": [],
   "source": [
    "def attention(query, key, value, mask=None, dropout=None):\n",
    "    d_k = query.size(-1)\n",
    "    scores = torch.matmul(query, key.transpose(-2, -1)) / math.sqrt(d_k)\n",
    "    print(\"scores\",scores.size())\n",
    "    if mask is not None:\n",
    "        scores = scores.masked_fill(mask == 0, -1e9)\n",
    "    p_attn = F.softmax(scores, dim = -1)\n",
    "\n",
    "    if dropout is not None:\n",
    "        p_attn = dropout(p_attn)\n",
    "    \n",
    "    return torch.matmul(p_attn, value), p_attn\n",
    "\n",
    "# 深层拷贝\n",
    "def clones(module, N):\n",
    "    return nn.ModuleList([copy.deepcopy(module) for _ in range(N)])\n",
    "\n",
    "class MultiHeadedAttention(nn.Module):\n",
    "    def __init__(self, head, embedding_dim, dropout=0.1):\n",
    "        # head:代表几个头\n",
    "        # embedding_dim:词嵌入维度\n",
    "        # dropout:置0比率\n",
    "        super(MultiHeadedAttention, self).__init__()\n",
    "\n",
    "        # 确认embedding_dim能够被head整除\n",
    "        assert embedding_dim % head == 0\n",
    "        self.head = head\n",
    "        self.d_k = embedding_dim // head\n",
    "        # 获得4个线性层， 分别是Q、K、V、以及最终的输出的线形层\n",
    "        self.linears = clones(nn.Linear(embedding_dim, embedding_dim), 4)\n",
    "        self.attn = None\n",
    "        self.dropout = nn.Dropout(p=dropout)\n",
    "\n",
    "    def forward(self, query, key, value, mask=None):\n",
    "        if mask is not None:\n",
    "            mask = mask.unsqueeze(0)\n",
    "        \n",
    "        batch_size = query.size(0)\n",
    "        print(query.size())\n",
    "\n",
    "        # 经过线性层投影后分成head个注意力头\n",
    "        query, key, value = [model(x).view(batch_size, -1, self.head, self.d_k).transpose(1, 2) for model, x in zip(self.linears, (query, key, value))]\n",
    "        # 各自计算每个头的注意力\n",
    "        print(\"query-hou\",query.size())\n",
    "        \n",
    "        x, self.attn = attention(query, key, value, mask=mask, dropout=self.dropout)\n",
    "        # 转换回来\n",
    "        print(\"x-qian\",x.size())\n",
    "        x = x.transpose(1, 2).contiguous().view(batch_size, -1, self.head * self.d_k)\n",
    "        print(\"x-hou\",x.size())\n",
    "        # 经过最后一个线性层得到最终多头注意力机制的结果\n",
    "        return self.linears[-1](x)"
   ]
  },
  {
   "cell_type": "code",
   "execution_count": null,
   "metadata": {},
   "outputs": [],
   "source": [
    "model(x)"
   ]
  },
  {
   "cell_type": "code",
   "execution_count": 22,
   "metadata": {},
   "outputs": [
    {
     "data": {
      "text/plain": [
       "[(1, 6), (2, 7), (3, 8)]"
      ]
     },
     "execution_count": 22,
     "metadata": {},
     "output_type": "execute_result"
    }
   ],
   "source": [
    "list(zip([1,2,3,4],[6,7,8]))"
   ]
  },
  {
   "cell_type": "code",
   "execution_count": 16,
   "metadata": {},
   "outputs": [
    {
     "name": "stdout",
     "output_type": "stream",
     "text": [
      "torch.Size([2, 4, 512])\n"
     ]
    }
   ],
   "source": [
    "d_model = 512  # embedding_size\n",
    "vocab = 1000  # 词典大小\n",
    "x=torch.tensor([[100, 2, 421, 508], [491, 998, 1, 221]], dtype=torch.long)\n",
    "emb = Embeddings(d_model, vocab)\n",
    "embr = emb(x)\n",
    "print(embr.shape)"
   ]
  },
  {
   "cell_type": "code",
   "execution_count": 17,
   "metadata": {},
   "outputs": [
    {
     "name": "stdout",
     "output_type": "stream",
     "text": [
      "torch.Size([2, 4, 512])\n"
     ]
    }
   ],
   "source": [
    "dropout = 0.1\n",
    "max_len = 60\n",
    "pe = PositionalEncoding(d_model, dropout, max_len)\n",
    "pe_result = pe(embr)\n",
    "print(pe_result.shape)"
   ]
  },
  {
   "cell_type": "code",
   "execution_count": 19,
   "metadata": {},
   "outputs": [
    {
     "data": {
      "text/plain": [
       "512"
      ]
     },
     "execution_count": 19,
     "metadata": {},
     "output_type": "execute_result"
    }
   ],
   "source": [
    "8*64"
   ]
  },
  {
   "cell_type": "code",
   "execution_count": 30,
   "metadata": {},
   "outputs": [
    {
     "name": "stdout",
     "output_type": "stream",
     "text": [
      "torch.Size([2, 4, 512])\n",
      "query-hou torch.Size([2, 8, 4, 64])\n",
      "scores torch.Size([2, 8, 4, 4])\n",
      "x-qian torch.Size([2, 8, 4, 64])\n",
      "x-hou torch.Size([2, 4, 512])\n",
      "tensor([[[ -3.1943,  -4.0948,   0.9919,  ...,   2.6264,   1.8804,  -1.6028],\n",
      "         [ -6.3764,  -4.1197,  -1.5219,  ...,  -1.4719,   6.4804,  -6.0069],\n",
      "         [ -4.0881,  -1.4219,   0.8747,  ...,   1.0582,   4.8356,  -2.7968],\n",
      "         [ -6.1818,  -2.3725,  -0.0891,  ...,   1.6376,   7.5973,  -2.0800]],\n",
      "\n",
      "        [[ -3.9450,  -9.1723,   2.0190,  ...,  -3.5826,  -6.9150,   0.4424],\n",
      "         [ -4.6037, -12.1414,   1.7822,  ...,  -2.4616,  -7.8320,   3.9605],\n",
      "         [ -2.9337, -10.4589,   2.3938,  ...,  -1.3707,  -6.5807,   3.7163],\n",
      "         [ -4.7333, -11.4768,   1.1390,  ...,  -1.2973,  -5.3891,   3.7132]]],\n",
      "       grad_fn=<ViewBackward0>)\n",
      "torch.Size([2, 4, 512])\n"
     ]
    }
   ],
   "source": [
    "head = 8\n",
    "embedding_dim = 512\n",
    "query = key = value = pe_result\n",
    "mask = torch.zeros(8, 4, 4)\n",
    "mha = MultiHeadedAttention(head, embedding_dim, dropout)\n",
    "mha_result = mha(query, key, value, mask)\n",
    "print(mha_result)\n",
    "print(mha_result.shape)"
   ]
  },
  {
   "cell_type": "code",
   "execution_count": 22,
   "metadata": {},
   "outputs": [],
   "source": [
    "query = key = value = pe_result\n",
    "mask = Variable(torch.zeros(2, 4, 4))\n",
    "attn, p_attn = attention(query, key, value,mask=mask)\n",
    "# print(attn)\n",
    "# print(attn.shape)\n",
    "# print(p_attn)\n",
    "# print(p_attn.shape)"
   ]
  },
  {
   "cell_type": "code",
   "execution_count": null,
   "metadata": {},
   "outputs": [],
   "source": []
  }
 ],
 "metadata": {
  "kernelspec": {
   "display_name": "torch24",
   "language": "python",
   "name": "python3"
  },
  "language_info": {
   "codemirror_mode": {
    "name": "ipython",
    "version": 3
   },
   "file_extension": ".py",
   "mimetype": "text/x-python",
   "name": "python",
   "nbconvert_exporter": "python",
   "pygments_lexer": "ipython3",
   "version": "3.9.19"
  }
 },
 "nbformat": 4,
 "nbformat_minor": 2
}
