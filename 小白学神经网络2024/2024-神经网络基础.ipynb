{
 "cells": [
  {
   "cell_type": "markdown",
   "metadata": {},
   "source": [
    "## 线性回归到神经网络\n",
    "\n",
    "* 线性回归是最简单的神经网络形式。可以把神经网络看成是线性回归的一种扩展。"
   ]
  },
  {
   "cell_type": "code",
   "execution_count": 2,
   "metadata": {},
   "outputs": [
    {
     "data": {
      "text/html": [
       "<img src=\"14.jpg\"/>"
      ],
      "text/plain": [
       "<IPython.core.display.Image object>"
      ]
     },
     "execution_count": 2,
     "metadata": {},
     "output_type": "execute_result"
    }
   ],
   "source": [
    "from IPython.display import Image\n",
    "Image(url= \"14.jpg\")"
   ]
  },
  {
   "cell_type": "markdown",
   "metadata": {},
   "source": [
    "* 为什么神经网络前先讲线性回归？迭代法解决线性回归问题，可以理解梯度下降法。\n",
    "\n",
    "* 迭代法：假设，判断，修正，再判断，再修正，直到满足条件。\n",
    "\n",
    "* 为什么损失函数用平方差；\n",
    "\n",
    "* 多种迭代法；梯度下降的理解，为什么减去梯度"
   ]
  },
  {
   "cell_type": "markdown",
   "metadata": {},
   "source": [
    "## 线性回归的神经网络理解\n",
    "\n",
    "$$y = b + \\omega_1 x_1 + \\omega_2 x_2 + ... + \\omega_p x_p$$\n",
    "\n",
    "$$y = b + \\omega_1 x_1 + \\omega_2 x_2 + ... + \\omega_p x_p + \\epsilon$$\n",
    "\n",
    "其中:\n",
    "\n",
    "$y$ 是因变量,需要预测的目标\n",
    "$x_1, x_2, ..., x_p$ 是自变量,输入特征\n",
    "$b$ 是截距项\n",
    "$\\omega_1, \\omega_2, ..., \\omega_p$ 是回归系数\n",
    "$\\epsilon$ 是误差项\n",
    "\n",
    "模型的目标是找到一组参数,使得预测$\\hat{z}$尽可能接近真实观测值z。\n",
    "常见的训练方法是最小二乘法,通过最小化所有样本的平方误差来求解最优参数。\n",
    "\n",
    "多元线性回归广泛用于数值预测任务,可以看作是最简单的机器学习模型之一。但表达能力有限,只能表示线性关系。\n",
    "\n",
    "\n",
    "### 线性回归的拟合过程（神经网络视角）\n",
    "\n",
    "https://www.mladdict.com/\n",
    "\n",
    "* 假设系统可以通过线性关系来描述\n",
    "\n",
    "* 先随机设定线性方程的参数，并算出对应结果\n",
    "\n",
    "* 计算误差（均方差损失），并调整参数（牛顿切线法）\n",
    "\n",
    "最小二乘法误差计算公式：\n",
    "$$\n",
    "\\text{MSE} = \\frac{1}{n} \\sum_{i=1}^{n} (y_i - \\hat{y}_i)^2\n",
    "$$\n",
    "\n",
    "其中，$y_i$ 是第 $i$ 个样本的真实值，$\\hat{y}_i$ 是第 $i$ 个样本的预测值，$n$ 是样本数量。\n",
    "\n",
    "均方差损失（Mean Squared Error, MSE）是回归问题中常用的损失函数，用于衡量预测值与真实值之间的差异。MSE 的值越小，表示模型的预测效果越好。\n",
    "\n",
    "上述最小二乘法误差公式中y需要用x和参数计算得到，即y=bx+e，其中e是误差项。如此公式变为\n",
    "\n",
    "$$\n",
    "\\text{MSE} = \\frac{1}{n} \\sum_{i=1}^{n} (y_i - (b + \\omega_1 x_{i1} + \\omega_2 x_{i2} + ... + \\omega_p x_{ip}))^2\n",
    "$$\n",
    "\n",
    "如果x只有一个维度，即x_i，则公式变为\n",
    "\n",
    "$$\n",
    "\\text{MSE} = \\frac{1}{n} \\sum_{i=1}^{n} (y_i - (b + \\omega x_{i}))^2\n",
    "$$\n",
    "\n",
    "其中，$x_{i1}$ 是第 $i$ 个样本的第 1 个特征值。\n",
    "\n",
    "上述公式对$\\omega$求导结果为\n",
    "\n",
    "当我们使用最小二乘法进行线性回归时，假设模型形式为 \\( y = wx + b \\)，其中 \\( w \\) 是权重（或斜率），\\( b \\) 是偏置（或截距），而 \\( x \\) 和 \\( y \\) 分别是输入和输出变量。最小二乘法的目标是最小化预测值与实际值之间的平方误差之和。\n",
    "\n",
    "损失函数 \\( J(w, b) \\) 通常定义为所有数据点的残差平方和的一半，即：\n",
    "$$ J(w, b) = \\frac{1}{2n} \\sum_{i=1}^{n} (y_i - (wx_i + b))^2 $$\n",
    "\n",
    "\n",
    "首先，我们对 \\( w \\) 求偏导：\n",
    "$$ \\frac{\\partial J}{\\partial w} = \\frac{1}{2n} \\sum_{i=1}^{n} -2x_i(y_i - (wx_i + b)) = \\frac{1}{n} \\sum_{i=1}^{n} -x_i(y_i - wx_i - b) $$\n",
    "\n",
    "然后，我们对 \\( b \\) 求偏导：\n",
    "$$ \\frac{\\partial J}{\\partial b} = \\frac{1}{2n} \\sum_{i=1}^{n} -2(y_i - (wx_i + b)) = \\frac{1}{n} \\sum_{i=1}^{n} -(y_i - wx_i - b) $$\n",
    "\n",
    "简化后得到：\n",
    "$$ \\frac{\\partial J}{\\partial w} = \\frac{1}{n} \\sum_{i=1}^{n} x_i(wx_i + b - y_i) $$\n",
    "$$ \\frac{\\partial J}{\\partial b} = \\frac{1}{n} \\sum_{i=1}^{n} (wx_i + b - y_i) $$\n",
    "\n",
    "为了找到最小值点，我们将这两个偏导数分别设为零，并解方程组来找到 \\( w \\) 和 \\( b \\) 的值。在实际应用中，这通常通过迭代优化算法（如梯度下降）来实现。\n",
    "\n",
    "\n",
    "* 重复上述过程，直到误差达到最小\n",
    "\n",
    "https://www.zhihu.com/question/305638940\n",
    "\n",
    "https://baike.baidu.com/item/%E5%88%87%E7%BA%BF%E6%B3%95/2428699?fr=ge_ala\n",
    "\n",
    "\n",
    "### 核心概念\n",
    "\n",
    "* 误差——均方差\n",
    "\n",
    "* 导数\n",
    "\n",
    "* 向前传播\n",
    "\n",
    "* 反向传播\n",
    "\n",
    "* 梯度下降\n",
    "\n",
    "* 损失函数"
   ]
  },
  {
   "cell_type": "markdown",
   "metadata": {},
   "source": [
    "### 梯度下降\n",
    "\n",
    "常见的迭代法\n",
    "\n",
    "https://www.cnblogs.com/shixiangwan/p/7532830.html\n",
    "\n",
    "\n",
    "梯度下降\n",
    "\n",
    "https://www.zhihu.com/question/305638940\n",
    "\n",
    "\n",
    "* 梯度向量\n",
    "\n",
    "梯度向量的方向和大小确定方式可以用以下公式解释:\n",
    "\n",
    "假设有目标函数$f(\\mathbf{x})$,其中$\\mathbf{x}$是$n$维向量。\n",
    "\n",
    "则目标函数$f$相对于$\\mathbf{x}$的梯度是一个向量:\n",
    "\n",
    "$$\\nabla_{\\mathbf{x}} f = \\begin{bmatrix} \\frac{\\partial f}{\\partial x_1} \\\\ \\frac{\\partial f}{\\partial x_2} \\\\ \\vdots \\\\ \\frac{\\partial f}{\\partial x_n} \\end{bmatrix}$$\n",
    "\n",
    "其中:\n",
    "\n",
    "- $\\frac{\\partial f}{\\partial x_i}$表示$f$相对于$x_i$的偏导数\n",
    "\n",
    "- 梯度向量的每个元素表示目标函数相对于对应变量的变化率\n",
    "\n",
    "梯度向量方向性质:\n",
    "\n",
    "- 梯度方向与目标函数增长最快的方向相反\n",
    "\n",
    "- 沿负梯度方向移动可以使目标函数值下降最快\n",
    "\n",
    "梯度向量大小性质:\n",
    "\n",
    "- 梯度大小表示目标函数沿该方向的变化率\n",
    "\n",
    "- 梯度越大,目标函数越“陡峭”\n",
    "\n",
    "所以梯度向量充分表示了目标函数的局部变化,方向和大小的合理利用都有利于设计优化算法。\n",
    "\n",
    "\n",
    "\n",
    "### 对于权重参数的梯度下降的更新公式\n",
    "\n",
    "假设一个优化问题,其目标是最小化损失函数$L(\\omega)$,其中ω表示模型的参数。\n",
    "\n",
    "则梯度下降法的迭代更新公式为:\n",
    "\n",
    "$$\\omega^{(t+1)} = \\omega^{(t)} - \\eta \\nabla_{\\omega} L(\\omega^{(t)})$$\n",
    "\n",
    "其中:\n",
    "\n",
    "- $\\omega^{(t)}$: 模型参数在第$t$次迭代的值  \n",
    "- $\\eta$: 学习率,确定更新步长\n",
    "- $\\nabla_{\\omega} L(\\omega^{(t)})$: $L$相对于$\\omega$的梯度向量\n",
    "- $t$: 迭代次数\n",
    "\n",
    "梯度下降的迭代过程是:\n",
    "\n",
    "1. 初始化参数$\\omega$ \n",
    "\n",
    "2. 计算损失函数$L(\\omega)$关于参数$\\omega$的梯度$\\nabla_{\\omega} L(\\omega)$\n",
    "\n",
    "3. 沿负梯度方向更新参数,步长为学习率$\\eta$\n",
    "\n",
    "4. 重复2-3,直到损失函数收敛或达到预定迭代次数"
   ]
  },
  {
   "cell_type": "code",
   "execution_count": 3,
   "metadata": {},
   "outputs": [
    {
     "data": {
      "text/html": [
       "<img src=\"20.png\"/>"
      ],
      "text/plain": [
       "<IPython.core.display.Image object>"
      ]
     },
     "execution_count": 3,
     "metadata": {},
     "output_type": "execute_result"
    }
   ],
   "source": [
    "from IPython.display import Image\n",
    "Image(url= \"20.png\")"
   ]
  },
  {
   "cell_type": "code",
   "execution_count": null,
   "metadata": {},
   "outputs": [],
   "source": []
  },
  {
   "cell_type": "markdown",
   "metadata": {},
   "source": [
    "### 课堂作业\n",
    "\n",
    "假设有个样本集，其中包含一个特征和一个目标值。请使用线性回归模型来拟合这个样本集，假设一开始参数为（1，1） 把参数带入某个样本计算损失函数的值，并计算导数，然后更新参数，然后求新的损失函数值\n",
    "\n",
    "样本集如下：\n",
    "\n",
    "| 特征1 |目标值 |\n",
    "| --- |--- |\n",
    "| 1.0 | 3.0 |\n",
    "| 3.0 | 5.0 |\n",
    "| 5.0 | 7.0 |"
   ]
  },
  {
   "cell_type": "code",
   "execution_count": 2,
   "metadata": {},
   "outputs": [
    {
     "data": {
      "text/plain": [
       "88.5"
      ]
     },
     "execution_count": 2,
     "metadata": {},
     "output_type": "execute_result"
    }
   ],
   "source": [
    "(95+82)/2"
   ]
  },
  {
   "cell_type": "code",
   "execution_count": null,
   "metadata": {},
   "outputs": [],
   "source": [
    "y=b+wx\n",
    "b=0.5\n",
    "w=0.5\n",
    "0.5+0.5*x"
   ]
  },
  {
   "cell_type": "code",
   "execution_count": null,
   "metadata": {},
   "outputs": [],
   "source": [
    "0.5+0.5*1.0\n",
    "0.5+0.5*3.0\n",
    "0.5+0.5*5.0"
   ]
  },
  {
   "cell_type": "code",
   "execution_count": 14,
   "metadata": {},
   "outputs": [
    {
     "name": "stdout",
     "output_type": "stream",
     "text": [
      "2.3\n",
      "5.3\n",
      "8.3\n"
     ]
    }
   ],
   "source": [
    "print(1.5*1.0+0.8)\n",
    "print(1.5*3.0+0.8)\n",
    "print(1.5*5.0+0.8)"
   ]
  },
  {
   "cell_type": "code",
   "execution_count": 15,
   "metadata": {},
   "outputs": [
    {
     "data": {
      "text/plain": [
       "0.7566666666666674"
      ]
     },
     "execution_count": 15,
     "metadata": {},
     "output_type": "execute_result"
    }
   ],
   "source": [
    "((3-2.3)**2+(5-5.3)**2+(7-8.3)**2)/3"
   ]
  },
  {
   "cell_type": "markdown",
   "metadata": {},
   "source": [
    "## 从两层到多层——深度学习的起源\n",
    "\n",
    "* 主要解决了参数量的问题，越是复杂的系统所需要的参数量必然是很大的，而线性回归的参数量是固定的，所以需要多层来增加参数量\n",
    "\n",
    "* 多层网络需要注意输入输出的维度衔接问题\n",
    "\n",
    "### 线性回归的图形表达\n",
    "\n",
    "* 输入点代表特征值\n",
    "\n",
    "* 一条边代表一个$x*w$\n",
    "\n",
    "* 输出点代表把每条边的结果相加后的值\n",
    "\n",
    "https://nnplayground.com/"
   ]
  },
  {
   "cell_type": "code",
   "execution_count": 11,
   "metadata": {},
   "outputs": [
    {
     "data": {
      "text/html": [
       "<img src=\"191.jpg\"/>"
      ],
      "text/plain": [
       "<IPython.core.display.Image object>"
      ]
     },
     "execution_count": 11,
     "metadata": {},
     "output_type": "execute_result"
    }
   ],
   "source": [
    "Image(url= \"191.jpg\")"
   ]
  },
  {
   "cell_type": "markdown",
   "metadata": {},
   "source": [
    "### 神经网络前向传播的代码实现\n",
    "\n",
    "* 简单代码实现\n",
    "\n",
    "torch.tensor\n",
    "\n",
    "torch.mv\n"
   ]
  },
  {
   "cell_type": "code",
   "execution_count": 2,
   "metadata": {},
   "outputs": [
    {
     "data": {
      "text/html": [
       "<img src=\"output1.png\"/>"
      ],
      "text/plain": [
       "<IPython.core.display.Image object>"
      ]
     },
     "execution_count": 2,
     "metadata": {},
     "output_type": "execute_result"
    }
   ],
   "source": [
    "Image(url= \"output1.png\")"
   ]
  },
  {
   "cell_type": "code",
   "execution_count": 2,
   "metadata": {},
   "outputs": [],
   "source": [
    "import torch"
   ]
  },
  {
   "cell_type": "code",
   "execution_count": 29,
   "metadata": {},
   "outputs": [
    {
     "data": {
      "text/plain": [
       "tensor([[1., 2.],\n",
       "        [3., 4.],\n",
       "        [5., 6.]])"
      ]
     },
     "execution_count": 29,
     "metadata": {},
     "output_type": "execute_result"
    }
   ],
   "source": [
    "x=torch.tensor([[1.0,2.0],[3.0,4.0],[5.0,6.0]],dtype = torch.float32)\n",
    "x"
   ]
  },
  {
   "cell_type": "code",
   "execution_count": 30,
   "metadata": {},
   "outputs": [
    {
     "data": {
      "text/plain": [
       "tensor([[1.],\n",
       "        [2.],\n",
       "        [3.]])"
      ]
     },
     "execution_count": 30,
     "metadata": {},
     "output_type": "execute_result"
    }
   ],
   "source": [
    "y=torch.tensor([[1.0],[2.0],[3.0]],dtype = torch.float32)\n",
    "y"
   ]
  },
  {
   "cell_type": "code",
   "execution_count": 32,
   "metadata": {},
   "outputs": [],
   "source": [
    "w=torch.tensor([-0.0588,  0.6530],dtype = torch.float32)"
   ]
  },
  {
   "cell_type": "code",
   "execution_count": 33,
   "metadata": {},
   "outputs": [
    {
     "data": {
      "text/plain": [
       "tensor([1.2472, 2.4356, 3.6240])"
      ]
     },
     "execution_count": 33,
     "metadata": {},
     "output_type": "execute_result"
    }
   ],
   "source": [
    "torch.mv(x,w)"
   ]
  },
  {
   "cell_type": "markdown",
   "metadata": {},
   "source": [
    "* 通过torch.nn.Linear()函数构建隐藏层\n",
    "\n",
    "torch.nn.Linear\n",
    "\n",
    "output.weight\n",
    "\n",
    "torch.tensor([[1.0,2.0],[3.0,4.0],[5.0,6.0]],dtype = torch.float32)"
   ]
  },
  {
   "cell_type": "code",
   "execution_count": 37,
   "metadata": {},
   "outputs": [],
   "source": [
    "x=torch.tensor([[1.0,2.0],[3.0,4.0],[5.0,6.0]],dtype = torch.float32)\n",
    "output0=torch.nn.Linear(2,1)"
   ]
  },
  {
   "cell_type": "code",
   "execution_count": 38,
   "metadata": {},
   "outputs": [
    {
     "data": {
      "text/plain": [
       "Parameter containing:\n",
       "tensor([[-0.1620,  0.0175]], requires_grad=True)"
      ]
     },
     "execution_count": 38,
     "metadata": {},
     "output_type": "execute_result"
    }
   ],
   "source": [
    "output0.weight"
   ]
  },
  {
   "cell_type": "code",
   "execution_count": 39,
   "metadata": {},
   "outputs": [
    {
     "data": {
      "text/plain": [
       "tensor([[-0.4798],\n",
       "        [-0.7686],\n",
       "        [-1.0574]], grad_fn=<AddmmBackward0>)"
      ]
     },
     "execution_count": 39,
     "metadata": {},
     "output_type": "execute_result"
    }
   ],
   "source": [
    "output0(x)"
   ]
  },
  {
   "cell_type": "code",
   "execution_count": 18,
   "metadata": {},
   "outputs": [
    {
     "data": {
      "text/plain": [
       "Parameter containing:\n",
       "tensor([[ 0.1624, -0.1619]], requires_grad=True)"
      ]
     },
     "execution_count": 18,
     "metadata": {},
     "output_type": "execute_result"
    }
   ],
   "source": [
    "output0.weight"
   ]
  },
  {
   "cell_type": "code",
   "execution_count": 22,
   "metadata": {},
   "outputs": [
    {
     "data": {
      "text/plain": [
       "tensor(20., grad_fn=<SumBackward0>)"
      ]
     },
     "execution_count": 22,
     "metadata": {},
     "output_type": "execute_result"
    }
   ],
   "source": [
    "y.sum()"
   ]
  },
  {
   "cell_type": "code",
   "execution_count": 23,
   "metadata": {},
   "outputs": [],
   "source": [
    "x = torch.tensor([[2.,4.]], requires_grad=True)\n",
    "y = x**2\n",
    "z=y.sum()\n",
    "z.backward()"
   ]
  },
  {
   "cell_type": "code",
   "execution_count": 24,
   "metadata": {},
   "outputs": [
    {
     "data": {
      "text/plain": [
       "tensor([[4., 8.]])"
      ]
     },
     "execution_count": 24,
     "metadata": {},
     "output_type": "execute_result"
    }
   ],
   "source": [
    "x.grad"
   ]
  },
  {
   "cell_type": "code",
   "execution_count": 14,
   "metadata": {},
   "outputs": [
    {
     "name": "stdout",
     "output_type": "stream",
     "text": [
      "<PowBackward0 object at 0x00000207C161BCD0>\n",
      "tensor(4.)\n"
     ]
    }
   ],
   "source": [
    "import torch\n",
    "\n",
    "# 创建一个张量\n",
    "x = torch.tensor(2.0, requires_grad=True)\n",
    "\n",
    "# 进行一些操作\n",
    "y = x**2\n",
    "\n",
    "print(y.grad_fn)  # 输出: <torch.autograd.function.PowBackward0 object at 0x7f8e3c0a8f70>\n",
    "\n",
    "y.backward()\n",
    "\n",
    "print(x.grad)  # 输出: 4.0\n",
    "\n"
   ]
  },
  {
   "cell_type": "code",
   "execution_count": 28,
   "metadata": {},
   "outputs": [
    {
     "data": {
      "text/plain": [
       "Parameter containing:\n",
       "tensor([[ 0.1624, -0.1619]], requires_grad=True)"
      ]
     },
     "execution_count": 28,
     "metadata": {},
     "output_type": "execute_result"
    }
   ],
   "source": [
    "output0.weight"
   ]
  },
  {
   "cell_type": "code",
   "execution_count": 32,
   "metadata": {},
   "outputs": [
    {
     "data": {
      "text/plain": [
       "tensor([[0.6937],\n",
       "        [1.2833],\n",
       "        [1.8729]], grad_fn=<AddmmBackward0>)"
      ]
     },
     "execution_count": 32,
     "metadata": {},
     "output_type": "execute_result"
    }
   ],
   "source": [
    "x=torch.tensor([[1.0,2.0],[3.0,4.0],[5.0,6.0]],dtype = torch.float32)\n",
    "output0=torch.nn.Linear(2,1)\n",
    "output0(x)\n"
   ]
  },
  {
   "cell_type": "code",
   "execution_count": 33,
   "metadata": {},
   "outputs": [
    {
     "data": {
      "text/plain": [
       "Parameter containing:\n",
       "tensor([[ 0.3967, -0.1019]], requires_grad=True)"
      ]
     },
     "execution_count": 33,
     "metadata": {},
     "output_type": "execute_result"
    }
   ],
   "source": [
    "output0.weight"
   ]
  },
  {
   "cell_type": "markdown",
   "metadata": {},
   "source": [
    "### 多层神经网络的传播实现\n",
    "\n",
    "* 神经元与隐藏层的增减的效果（chatgpt的回答）\n",
    "\n",
    "在构建深度学习模型时,增加单层神经元数量和增加隐藏层数量这两种方法都可以增强网络的表达能力,但带来的效果有些差异:\n",
    "\n",
    "1. 增加单层神经元数量,主要作用是提升该层对更多特征的学习表达能力。适合当前层特征不够情况。\n",
    "\n",
    "2. 增加隐藏层数量,主要作用是堆叠更多的非线性变换,提升全网络的层次化特征学习能力。适合功能表达不足情况。\n",
    "\n",
    "3. 增加单层神经元数量对网络宽度产生影响,而增加隐藏层对网络深度产生影响。\n",
    "\n",
    "4. 单层神经元增多容易导致过拟合;而层数增多可以通过有效的预训练及正则化方法减轻过拟合。\n",
    "\n",
    "5. 层数增多会使得训练时间加长,而单层神经元增加影响较小。\n",
    "\n",
    "综上,增多神经元数量的效果局限在单层,而增加层数影响全网;当特征表示力不足时,可以适当加大单层宽度;当层次表示不够时,可以适当加深网络。需要根据具体情况选择最优的网络结构。\n",
    "\n",
    "* 各层之间的衔接以及输出层\n"
   ]
  },
  {
   "cell_type": "code",
   "execution_count": 41,
   "metadata": {},
   "outputs": [
    {
     "data": {
      "text/plain": [
       "tensor([[0.1974],\n",
       "        [0.2597],\n",
       "        [0.3221]], grad_fn=<AddmmBackward0>)"
      ]
     },
     "execution_count": 41,
     "metadata": {},
     "output_type": "execute_result"
    }
   ],
   "source": [
    "x=torch.tensor([[1.0,2.0],[3.0,4.0],[5.0,6.0]],dtype = torch.float32)\n",
    "h1=torch.nn.Linear(2,3)\n",
    "h2=torch.nn.Linear(3,4)\n",
    "h3=torch.nn.Linear(4,1)\n",
    "output=h1(x)\n",
    "output=h2(output)\n",
    "output=h3(output)\n",
    "output"
   ]
  },
  {
   "cell_type": "code",
   "execution_count": 44,
   "metadata": {},
   "outputs": [
    {
     "data": {
      "text/html": [
       "<img src=\"191.jpg\"/>"
      ],
      "text/plain": [
       "<IPython.core.display.Image object>"
      ]
     },
     "execution_count": 44,
     "metadata": {},
     "output_type": "execute_result"
    }
   ],
   "source": [
    "Image(url= \"191.jpg\")"
   ]
  },
  {
   "cell_type": "markdown",
   "metadata": {},
   "source": [
    "* 无论是增加神经元或是隐藏层，都无法改变模型线性的本质\n",
    "\n",
    "* 线性模型无法拟合非线性关系\n",
    "\n",
    "* 隐藏层激活函数的引入使得模型能够拟合非线性关系（回归问题只需要隐藏层引入激活函数）\n",
    "\n",
    "* relu的特性\n",
    "\n",
    "* relu的pytorch实现"
   ]
  },
  {
   "cell_type": "markdown",
   "metadata": {},
   "source": [
    "## 从线性到非线性——激活函数的引入\n",
    "\n",
    "### 隐藏层激活函数\n",
    "\n",
    "* 隐藏层激活函数的作用是引入非线性，使得模型能够拟合非线性关系\n",
    "\n",
    "线性回归:\n",
    "\n",
    "$$ y = \\beta X + b $$\n",
    "\n",
    "其中,$X$是输入特征,$y$是输出,$b$是偏置项,$\\beta$是线性回归的参数。线性回归假设输入和输出之间是线性关系。\n",
    "\n",
    "单层神经网络:\n",
    "\n",
    "$$ y = f(X\\beta + b) $$\n",
    "\n",
    "其中$f$是一个非线性激活函数,如sigmoid。单层网络在线性回归基础上加了非线性变换。\n",
    "\n",
    "多层神经网络:\n",
    "\n",
    "$$ y = f_n(W_n...f_2(W_2f_1(W_1X+b_1)...)+b_n) $$\n",
    "\n",
    "其中$W_i, b_i$表示每一层的权重和偏置,$f_i$表示激活函数。多层网络堆叠线性变换和非线性变换,能够拟合更复杂的函数。\n",
    "\n",
    "从上式可以看出,线性回归是最简单的单层神经网络。随着层数的增加和非线性的引入,神经网络可以表示更加复杂的函数,拟合能力也越强。两者之间是渐进的关系。\n",
    "\n",
    "* 常用的隐藏层激活函数\n",
    "\n",
    "ReLU（Rectified Linear Unit）: $$ f(x) = \\max(0, x) $$\n",
    "\n",
    "* 隐藏层的激活函数主要有以下几个作用（chatgpt）:\n",
    "\n",
    "1. 引入非线性:\n",
    "激活函数的引入让网络可以拟合复杂的非线性函数,而不仅是简单的线性映射,这大大提高了模型的表达能力。\n",
    "\n",
    "2. 定义输出范围:\n",
    "不同的激活函数将输出值映射到不同的范围,如Sigmoid将实数映射到[0,1],tanh映射到[-1,1]。这为后续层提供合适数值范围的输入。\n",
    "\n",
    "3. 实现层间转换:\n",
    "激活函数实现了层与层之间的转换,一个层的输出通过激活函数成为下层的输入,完成信息的传递和转换。\n",
    "\n",
    "4. 提供可训练参数:\n",
    "激活函数的参数也可以加入训练,如批归一化层中的可学习参数,提高模型的表达能力。\n",
    "\n",
    "5. 提高泛化能力:\n",
    "激活函数增强了模型对未见样本的泛化能力,如ReLU具有稀疏化作用,减少了过拟合风险。\n",
    "\n",
    "6. 提供梯度:\n",
    "激活函数可导,为网络的反向传播提供了梯度,使网络可以通过梯度下降进行训练。\n",
    "\n",
    "7. 提供正则化:\n",
    "某些激活函数如ReLU也具有一定的正则化作用。\n",
    "\n",
    "所以隐藏层的激活函数对网络性能有重要影响,它实现了层与层之间的非线性变换,是网络可以拟合复杂函数的关键。\n",
    "\n",
    "* 机器学习中常用的激活函数\n",
    "\n",
    "机器学习中常用的激活函数只有恒等函数（identity function），阶跃函数（sign），sigmoid\n",
    "函数，ReLU，tanh，softmax这六种，其中Softmax与恒等函数几乎不会出现在隐藏层上，Sign、Tanh\n",
    "几乎不会出现在输出层上，ReLU与Sigmoid则是两种层都会出现，并且应用广泛。在这里，我们将总结性声明一下输出层的g(z)与隐藏层\n",
    "的h(z)之间的区别，以帮助大家获得更深的理解：\n",
    "\n",
    "1. 虽然都是激活函数，但隐藏层和输出层上的激活函数作用是完全不一样的。输出层的激活函数\n",
    "是为了让神经网络能够输出不同类型的标签而存在的。其中恒等函数用于回归，sigmoid函数用于\n",
    "二分类，softmax用于多分类。换句说， 仅仅与输出结果的表现形式有关，与神经网络的效果\n",
    "无关，也因此它可以使用线性的恒等函数。但隐藏层的激活函数就不同了，如我们之前尝试的\n",
    "XOR，隐藏层上的激活函数 的选择会影响神经网络的效果，而线性的 是会让神经网络的结\n",
    "构失效的。\n",
    "\n",
    "2. 在同一个神经网络中，输出层与隐藏层的激活函数可以是不同的，并且在大多数运行回归和多分类的神经网络时，他们也的确是不同的。每层上的 可以是不同的，但是同一层上的激活函数必须一致。\n",
    "\n",
    "\n",
    "* 前向传播的标准实现形式"
   ]
  },
  {
   "cell_type": "code",
   "execution_count": 4,
   "metadata": {},
   "outputs": [],
   "source": [
    "x=torch.tensor(range(-10,10),dtype = torch.float32)\n",
    "y=torch.relu(x)"
   ]
  },
  {
   "cell_type": "code",
   "execution_count": 8,
   "metadata": {},
   "outputs": [
    {
     "data": {
      "text/plain": [
       "[<matplotlib.lines.Line2D at 0x1a942bbc340>]"
      ]
     },
     "execution_count": 8,
     "metadata": {},
     "output_type": "execute_result"
    },
    {
     "data": {
      "image/png": "[encoded data removed]",
      "text/plain": [
       "<Figure size 1000x400 with 1 Axes>"
      ]
     },
     "metadata": {},
     "output_type": "display_data"
    }
   ],
   "source": [
    "import matplotlib.pyplot as plt\n",
    "plt.figure(figsize = (10,4))\n",
    "plt.plot(x,y,\"o-\")\n",
    "plt.plot(x,x,\"o-\")"
   ]
  },
  {
   "cell_type": "markdown",
   "metadata": {},
   "source": [
    "* 用两种方式分别实现如下的回归问题的神经网络,注意隐藏层需要使用ReLU激活函数,输出层使用恒等函数"
   ]
  },
  {
   "cell_type": "code",
   "execution_count": 50,
   "metadata": {},
   "outputs": [
    {
     "data": {
      "text/html": [
       "<img src=\"240.png\"/>"
      ],
      "text/plain": [
       "<IPython.core.display.Image object>"
      ]
     },
     "execution_count": 50,
     "metadata": {},
     "output_type": "execute_result"
    }
   ],
   "source": [
    "Image(url= \"240.png\")"
   ]
  },
  {
   "cell_type": "code",
   "execution_count": 10,
   "metadata": {},
   "outputs": [
    {
     "data": {
      "text/plain": [
       "tensor([[0.4171],\n",
       "        [0.5318],\n",
       "        [0.6598]], grad_fn=<AddmmBackward0>)"
      ]
     },
     "execution_count": 10,
     "metadata": {},
     "output_type": "execute_result"
    }
   ],
   "source": [
    "x=torch.tensor([[1.0,2.0,1.5],[3.0,4.0,2.3],[5.0,6.0,1.2]])\n",
    "\n",
    "h1=torch.nn.Linear(3,3)\n",
    "h2=torch.nn.Linear(3,2)\n",
    "out=torch.nn.Linear(2,1)\n",
    "\n",
    "h1_out=h1(x)\n",
    "h1_out_r=torch.relu(h1_out)\n",
    "h2_out=h2(h1_out_r)\n",
    "h2_out_r=torch.relu(h2_out)\n",
    "out_out=out(h2_out_r)\n",
    "out_out"
   ]
  },
  {
   "cell_type": "code",
   "execution_count": 12,
   "metadata": {},
   "outputs": [
    {
     "data": {
      "text/plain": [
       "tensor([[-0.6419],\n",
       "        [-0.7333],\n",
       "        [-0.6899]], grad_fn=<AddmmBackward0>)"
      ]
     },
     "execution_count": 12,
     "metadata": {},
     "output_type": "execute_result"
    }
   ],
   "source": [
    "# 用pytorch 类的方式把上面的代码改写\n",
    "class Net(torch.nn.Module):\n",
    "    def __init__(self):\n",
    "        super(Net,self).__init__()\n",
    "        self.h1=torch.nn.Linear(3,3)\n",
    "        self.h2=torch.nn.Linear(3,2)\n",
    "        self.out=torch.nn.Linear(2,1)\n",
    "    def forward(self,x):\n",
    "        h1_out=self.h1(x)\n",
    "        h1_out_r=torch.relu(h1_out)\n",
    "        h2_out=self.h2(h1_out_r)\n",
    "        h2_out_r=torch.relu(h2_out)\n",
    "        out_out=self.out(h2_out_r)\n",
    "        return out_out\n",
    "net=Net()\n",
    "x=torch.tensor([[1.0,2.0,1.5],[3.0,4.0,2.3],[5.0,6.0,1.2]])\n",
    "net(x)\n",
    "#net.forward(x)"
   ]
  },
  {
   "cell_type": "code",
   "execution_count": null,
   "metadata": {},
   "outputs": [],
   "source": []
  },
  {
   "cell_type": "markdown",
   "metadata": {},
   "source": [
    "* 输出层与隐藏层的激活函数功能不同\n",
    "\n",
    "* 输出层的结果最后要做损失函数进行评价的\n",
    "\n",
    "* 回归与二分类输出层都是一个神经元，但是意义不同\n",
    "\n",
    "* sigmoid函数的作用及双重功能\n",
    "\n",
    "* 代码实现\n",
    "\n",
    "* 多分类的输出层\n",
    "\n",
    "* softmax函数的作用，很少用在隐藏层\n",
    "\n",
    "* dim的意义\n",
    "\n",
    "* 代码实现\n"
   ]
  },
  {
   "cell_type": "code",
   "execution_count": 47,
   "metadata": {},
   "outputs": [
    {
     "data": {
      "text/html": [
       "<img src=\"17.jpg\"/>"
      ],
      "text/plain": [
       "<IPython.core.display.Image object>"
      ]
     },
     "execution_count": 47,
     "metadata": {},
     "output_type": "execute_result"
    }
   ],
   "source": [
    "Image(url= \"17.jpg\")"
   ]
  },
  {
   "cell_type": "code",
   "execution_count": 17,
   "metadata": {},
   "outputs": [
    {
     "data": {
      "text/plain": [
       "tensor([[0.6419],\n",
       "        [0.7707],\n",
       "        [0.8625]], grad_fn=<SigmoidBackward0>)"
      ]
     },
     "execution_count": 17,
     "metadata": {},
     "output_type": "execute_result"
    }
   ],
   "source": [
    "# 用pytorch实现一个二分类神经网络，输入是3个特征，隐藏层有1个神经元，输出层有1个神经元，隐藏层用relu和输出层使用sigmoid激活函数，并提供一个测试样本运行前向传播过程\n",
    "import torch\n",
    "import torch.nn as nn\n",
    "import torch.nn.functional as F\n",
    "\n",
    "class Net(nn.Module):\n",
    "    def __init__(self):\n",
    "        super(Net, self).__init__()\n",
    "        self.fc1 = nn.Linear(3, 1)\n",
    "        self.fc2 = nn.Linear(1, 1)\n",
    "    def forward(self, x):\n",
    "        x = F.relu(self.fc1(x))\n",
    "        x = torch.sigmoid(self.fc2(x))\n",
    "        return x\n",
    "net = Net()\n",
    "x=torch.tensor([[1.0,2.0,0.4],[3.0,4,0.1],[5.0,6.0,0.3]],dtype = torch.float32)\n",
    "net(x)"
   ]
  },
  {
   "cell_type": "markdown",
   "metadata": {},
   "source": [
    "### 输出层的激活函数sigmoid——从回归到二分类\n",
    "\n",
    "\n",
    "\n",
    "Sigmoid函数将实数映射到(0,1)区间,是一个S型的曲线。它的定义形式为:\n",
    "\n",
    "$\\sigma(x) = \\frac{1}{1+e^{-x}}=\\frac{e^x}{e^x+1}$\n",
    "\n",
    "x为输入,$\\sigma(x)$为Sigmoid激活函数的值。\n",
    "\n",
    "Sigmoid函数的主要特点是:\n",
    "\n",
    "取值范围在(0,1)之间\n",
    "单调递增\n",
    "曲线S形,与x轴相交于(0,0.5)\n",
    "导数求解简单\n",
    "存在梯度消失问题\n",
    "Sigmoid函数广泛用于二分类神经网络中,将任意实数映射为0-1之间的概率。但目前由于梯度消失问题,在深层网络中已较少使用。\n",
    "\n",
    "\n",
    "* 在神经网络的输出层加入Sigmoid激活函数,主要有以下目的:\n",
    "\n",
    "1.将网络输出转换为概率\n",
    "Sigmoid函数将实数映射到(0,1)区间,可将网络输出转换为概率值,表示预测的置信度。这对于进行预测很有用。\n",
    "\n",
    "2.实现二分类输出\n",
    "Sigmoid的输出区间为(0,1),可以直接用来表示二分类任务中的概率P(y=1|x)。值接近0表示预测第一类,接近1表示预测第二类。\n",
    "\n",
    "3.定义binary cross entropy loss\n",
    "Sigmoid可与binary cross entropy loss配合使用,构建二分类任务的loss函数,用于训练网络模型。\n",
    "\n",
    "4.提供可微分性\n",
    "Sigmoid函数可导,使得输出层也可导,便于使用梯度下降进行网络参数优化。\n",
    "\n",
    "5.减少梯度消失\n",
    "相比tanh等激活函数,Sigmoid在正负饱和区的梯度更大,一定程度上减轻了梯度消失问题。\n",
    "\n",
    "6.提升收敛性\n",
    "Sigmoid可强制网络输出在一个数值范围内,增强网络的收敛性。\n",
    "\n",
    "总之,Sigmoid适合作为输出层激活函数,将网络输出转换为概率,定义loss函数,实现二分类,并一定程度上提升优化性能。但其梯度消失问题仍限制了网络层数的增长。\n",
    "\n",
    "torch.sigmoid\n"
   ]
  },
  {
   "cell_type": "code",
   "execution_count": 6,
   "metadata": {},
   "outputs": [],
   "source": [
    "import matplotlib.pyplot as plt"
   ]
  },
  {
   "cell_type": "code",
   "execution_count": 7,
   "metadata": {},
   "outputs": [],
   "source": [
    "x=torch.tensor(range(-10,10),dtype = torch.float32)\n",
    "y=torch.sigmoid(x)"
   ]
  },
  {
   "cell_type": "code",
   "execution_count": 8,
   "metadata": {},
   "outputs": [
    {
     "data": {
      "text/plain": [
       "[<matplotlib.lines.Line2D at 0x17b48a76760>]"
      ]
     },
     "execution_count": 8,
     "metadata": {},
     "output_type": "execute_result"
    },
    {
     "data": {
      "image/png": "[encoded data removed]",
      "text/plain": [
       "<Figure size 800x320 with 1 Axes>"
      ]
     },
     "metadata": {},
     "output_type": "display_data"
    }
   ],
   "source": [
    "plt.figure(figsize = (10,4),dpi = 80)\n",
    "plt.plot(x,y,\"o-\")"
   ]
  },
  {
   "cell_type": "markdown",
   "metadata": {},
   "source": [
    "* 上图二分类神经网络的定义与前向过程的代码实现"
   ]
  },
  {
   "cell_type": "code",
   "execution_count": null,
   "metadata": {},
   "outputs": [],
   "source": []
  },
  {
   "cell_type": "code",
   "execution_count": null,
   "metadata": {},
   "outputs": [],
   "source": []
  },
  {
   "cell_type": "code",
   "execution_count": null,
   "metadata": {},
   "outputs": [],
   "source": []
  },
  {
   "cell_type": "code",
   "execution_count": null,
   "metadata": {},
   "outputs": [],
   "source": []
  },
  {
   "cell_type": "code",
   "execution_count": 15,
   "metadata": {},
   "outputs": [
    {
     "data": {
      "text/plain": [
       "tensor([[0.5513],\n",
       "        [0.5513],\n",
       "        [0.5513]], grad_fn=<SigmoidBackward0>)"
      ]
     },
     "execution_count": 15,
     "metadata": {},
     "output_type": "execute_result"
    }
   ],
   "source": [
    "# 帮我创建一个有一个隐藏层一个输出层的神经网络，输入是3个特征，隐藏层有1个神经元，输出层有1个神经元，隐藏层用relu和输出层使用sigmoid激活函数\n",
    "\n",
    "import torch\n",
    "import torch.nn as nn\n",
    "import torch.nn.functional as F\n",
    "\n",
    "class Net(nn.Module):\n",
    "    def __init__(self):\n",
    "        super(Net, self).__init__()\n",
    "        self.fc1 = nn.Linear(3, 1)\n",
    "        self.fc2 = nn.Linear(1, 1)\n",
    "    def forward(self, x):\n",
    "        x = F.relu(self.fc1(x))\n",
    "        x = torch.sigmoid(self.fc2(x))\n",
    "        return x\n",
    "net = Net()\n",
    "x=torch.tensor([[1.0,2.0,0.4],[3.0,4,0.1],[5.0,6.0,0.3]],dtype = torch.float32)\n",
    "net(x)\n"
   ]
  },
  {
   "cell_type": "code",
   "execution_count": 42,
   "metadata": {},
   "outputs": [
    {
     "data": {
      "text/html": [
       "<img src=\"16.png\"/>"
      ],
      "text/plain": [
       "<IPython.core.display.Image object>"
      ]
     },
     "execution_count": 42,
     "metadata": {},
     "output_type": "execute_result"
    }
   ],
   "source": [
    "Image(url= \"16.png\")"
   ]
  },
  {
   "cell_type": "code",
   "execution_count": 19,
   "metadata": {},
   "outputs": [
    {
     "data": {
      "text/plain": [
       "tensor([[0.1732, 0.4449, 0.3819],\n",
       "        [0.1798, 0.5519, 0.2683],\n",
       "        [0.1868, 0.6150, 0.1982]], grad_fn=<SoftmaxBackward0>)"
      ]
     },
     "execution_count": 19,
     "metadata": {},
     "output_type": "execute_result"
    },
    {
     "ename": "",
     "evalue": "",
     "output_type": "error",
     "traceback": [
      "\u001b[1;31m在当前单元格或上一个单元格中执行代码时 Kernel 崩溃。\n",
      "\u001b[1;31m请查看单元格中的代码，以确定故障的可能原因。\n",
      "\u001b[1;31m单击<a href='https://aka.ms/vscodeJupyterKernelCrash'>此处</a>了解详细信息。\n",
      "\u001b[1;31m有关更多详细信息，请查看 Jupyter <a href='command:jupyter.viewOutput'>log</a>。"
     ]
    }
   ],
   "source": [
    "# 用pytorch实现一个多分类神经网络，输入是3个特征，第一隐藏层有3个神经元，第二隐藏层有2个神经元，输出层有3个神经元，隐藏层用relu和输出层使用softmax激活函数，并提供一个测试样本运行前向传播过程\n",
    "import torch\n",
    "import torch.nn as nn\n",
    "import torch.nn.functional as F\n",
    "\n",
    "class Net(nn.Module):\n",
    "    def __init__(self):\n",
    "        super(Net, self).__init__()\n",
    "        self.fc1 = nn.Linear(3, 3)\n",
    "        self.fc2 = nn.Linear(3, 2)\n",
    "        self.fc3 = nn.Linear(2, 3)\n",
    "    def forward(self, x):\n",
    "        x = F.relu(self.fc1(x))\n",
    "        x = F.relu(self.fc2(x))\n",
    "        x = F.softmax(self.fc3(x), dim=1)\n",
    "        return x\n",
    "net = Net()\n",
    "x=torch.tensor([[1.0,2.0,0.4],[3.0,4,0.1],[5.0,6.0,0.3]],dtype = torch.float32)\n",
    "net(x)"
   ]
  },
  {
   "cell_type": "markdown",
   "metadata": {},
   "source": [
    "### 多神经元与输出层的softmax函数-从回归到多分类\n",
    "\n",
    "#### 多个神经元的表示\n",
    "\n",
    "多神经元结构允许表示更加复杂的映射关系。每个神经元学习一部分局部特征,最终组合起来增强了整体的表达能力。\n",
    "\n",
    "神经元数量从1增加到n\n",
    "每个神经元有自己的一组参数$w,b$\n",
    "不同神经元可以学习到不同的特征映射\n",
    "最终输出是n个神经元输出的组合\n",
    "这种结构提升了模型拟合复杂问题的能力,是构建神经网络的基础。\n",
    "\n",
    "\n",
    "### 输出层的softmax函数\n",
    "\n",
    "对于一个向量x = [x1, x2, ..., xn],其softmax函数定义为:\n",
    "\n",
    "$$ softmax(x_i) = \\frac{e^{x_i}}{\\sum_{j=n} e^{x_j}} $$\n",
    "\n",
    "即对每个元素xi:\n",
    "\n",
    "$$ softmax(x_i) = \\frac{e^{x_i}}{e^{x_1} + e^{x_2} + ... + e^{x_n}}$$\n",
    "\n",
    "softmax函数的主要性质是:\n",
    "\n",
    "将任意实数向量归一化为概率分布,范围在[0, 1]\n",
    "概率和为1,即$\\sum_{i=1}^n softmax(x_i) = 1$\n",
    "保留了输入元素相对大小的关系\n",
    "\n",
    "softmax函数通常被用在神经网络的输出层,具有以下目的和意义:\n",
    "\n",
    "    1.将网络输出转换为概率分布,表示对各类别的预测概率。\n",
    "\n",
    "    2.实现多分类任务,将类别预测问题建模为概率估计问题。\n",
    "\n",
    "    3.定义多分类交叉熵损失函数,用于模型训练。\n",
    "\n",
    "    4.提供预测结果,选择概率最大的类别作为预测输出。\n",
    "\n",
    "    5.增加模型确定性,生成值域范围固定的概率输出。\n",
    "\n",
    "    6.提供类别之间可比性,概率表示预测的置信度。\n",
    "\n",
    "综上,softmax可将网络输出转换为概率,实现多分类,定义损失函数,最终用于类别预测,这是它被广泛应用于神经网络输出层的主要原因。\n",
    "\n"
   ]
  },
  {
   "cell_type": "markdown",
   "metadata": {},
   "source": [
    "### softmax函数的使用\n",
    "\n",
    "在 PyTorch 中，`softmax` 函数用于将输入张量的每个元素转换为概率分布。`dim` 参数指定了在哪个维度上进行 softmax 操作。\n",
    "\n",
    "例如，假设我们有一个形状为 `(3, 2)` 的张量 `x`：\n",
    "\n",
    "```python\n",
    "x = torch.tensor([[1.0, 2.0],\n",
    "                  [3.0, 4.0],\n",
    "                  [5.0, 6.0]])\n",
    "```\n",
    "\n",
    "如果我们调用 `torch.softmax(x, dim=0)`，那么 softmax 操作将在每一列上进行，即：\n",
    "\n",
    "```python\n",
    "torch.softmax(x, dim=0) = tensor([[0.0900, 0.2447],\n",
    "                                 [0.2447, 0.6150],\n",
    "                                 [0.6652, 0.8103]])\n",
    "```\n",
    "\n",
    "如果我们调用 `torch.softmax(x, dim=1)`，那么 softmax 操作将在每一行上进行，即：\n",
    "\n",
    "```python\n",
    "torch.softmax(x, dim=1) = tensor([[0.2689, 0.7311],\n",
    "                                 [0.2689, 0.7311],\n",
    "                                 [0.2689, 0.7311]])\n",
    "```\n",
    "\n",
    "因此，`dim` 参数的作用是指定在哪个维度上进行 softmax 操作，这对于处理多维数据非常重要。"
   ]
  },
  {
   "cell_type": "code",
   "execution_count": 18,
   "metadata": {},
   "outputs": [
    {
     "data": {
      "text/plain": [
       "tensor([[0.0900, 0.2447, 0.6652],\n",
       "        [0.9362, 0.0171, 0.0466]])"
      ]
     },
     "execution_count": 18,
     "metadata": {},
     "output_type": "execute_result"
    }
   ],
   "source": [
    "x = torch.tensor([[1, 2, 3], [9, 5, 6]], dtype=torch.float32)\n",
    "torch.softmax(x, dim=1)"
   ]
  },
  {
   "cell_type": "code",
   "execution_count": 14,
   "metadata": {},
   "outputs": [
    {
     "data": {
      "text/plain": [
       "tensor([[0.2214, 0.5022, 0.2764],\n",
       "        [0.1898, 0.5145, 0.2957],\n",
       "        [0.1608, 0.5241, 0.3151]], grad_fn=<SoftmaxBackward0>)"
      ]
     },
     "execution_count": 14,
     "metadata": {},
     "output_type": "execute_result"
    }
   ],
   "source": [
    "# 帮我实现一个多分类神经网络，输入层有三个神经元，第一隐藏层有三个神经元，第二隐藏层有两个神经元，输出层有三个神经元，隐藏层使用relu激活函数，输出层使用softmax激活函数\n",
    "import torch\n",
    "import torch.nn as nn\n",
    "import torch.nn.functional as F\n",
    "\n",
    "class Net(nn.Module):\n",
    "    def __init__(self):\n",
    "        super(Net, self).__init__()\n",
    "        self.fc1 = nn.Linear(3, 3)\n",
    "        self.fc2 = nn.Linear(3, 2)\n",
    "        self.fc3 = nn.Linear(2, 3)\n",
    "    def forward(self, x):\n",
    "        x = F.relu(self.fc1(x))\n",
    "        x = F.relu(self.fc2(x))\n",
    "        x = torch.softmax(self.fc3(x), dim=1)\n",
    "        return x\n",
    "net = Net()\n",
    "x=torch.tensor([[1.0,2.0,0.4],[3.0,4,0.1],[5.0,6.0,0.3]],dtype = torch.float32)\n",
    "net(x)"
   ]
  },
  {
   "cell_type": "code",
   "execution_count": null,
   "metadata": {},
   "outputs": [],
   "source": []
  },
  {
   "cell_type": "markdown",
   "metadata": {},
   "source": []
  }
 ],
 "metadata": {
  "kernelspec": {
   "display_name": "Python 3 (ipykernel)",
   "language": "python",
   "name": "python3"
  },
  "language_info": {
   "codemirror_mode": {
    "name": "ipython",
    "version": 3
   },
   "file_extension": ".py",
   "mimetype": "text/x-python",
   "name": "python",
   "nbconvert_exporter": "python",
   "pygments_lexer": "ipython3",
   "version": "3.9.19"
  }
 },
 "nbformat": 4,
 "nbformat_minor": 2
}
