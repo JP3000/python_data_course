{
 "cells": [
  {
   "cell_type": "markdown",
   "metadata": {},
   "source": [
    "# pytorch 基础知识"
   ]
  },
  {
   "cell_type": "markdown",
   "metadata": {},
   "source": [
    "## 神经网络层管理工具`nn.ModuleList` 和 `nn.Sequential`\n",
    "\n",
    "https://blog.51cto.com/u_13977270/3398081\n",
    "\n",
    "`nn.ModuleList` 和 `nn.Sequential` 都是 PyTorch 中用于管理神经网络层的工具，但是它们之间存在一些关键区别。下面我将通过具体的例子来说明这两种工具的不同之处。\n",
    "\n",
    "### 示例代码\n",
    "\n",
    "#### 使用 `nn.Sequential`\n",
    "\n",
    "首先，我们来看一下使用 `nn.Sequential` 的例子：\n",
    "\n",
    "```python\n",
    "import torch\n",
    "import torch.nn as nn\n",
    "\n",
    "class SequentialModel(nn.Module):\n",
    "    def __init__(self, in_features=10, out_features=2):\n",
    "        super(SequentialModel, self).__init__()\n",
    "        # 使用Sequential来定义网络层\n",
    "        self.model = nn.Sequential(\n",
    "            nn.Linear(in_features, 100, bias=True),\n",
    "            nn.ReLU(),\n",
    "            nn.Linear(100, 30, bias=True),\n",
    "            nn.ReLU(),\n",
    "            nn.Linear(30, out_features, bias=True)\n",
    "        )\n",
    "\n",
    "    def forward(self, x):\n",
    "        return self.model(x)\n",
    "\n",
    "# 实例化模型\n",
    "seq_model = SequentialModel()\n",
    "print(seq_model)\n",
    "```\n",
    "\n",
    "#### 使用 `nn.ModuleList`\n",
    "\n",
    "接着，我们来看一下使用 `nn.ModuleList` 的例子：\n",
    "\n",
    "```python\n",
    "class ModuleListModel(nn.Module):\n",
    "    def __init__(self, in_features=10, out_features=2):\n",
    "        super(ModuleListModel, self).__init__()\n",
    "        # 使用ModuleList来定义网络层\n",
    "        self.layers = nn.ModuleList([\n",
    "            nn.Linear(in_features, 100, bias=True),\n",
    "            nn.ReLU(),\n",
    "            nn.Linear(100, 30, bias=True),\n",
    "            nn.ReLU(),\n",
    "            nn.Linear(30, out_features, bias=True)\n",
    "        ])\n",
    "\n",
    "    def forward(self, x):\n",
    "        # 依次通过每一层进行前向传播\n",
    "        for layer in self.layers:\n",
    "            x = layer(x)\n",
    "        return x\n",
    "\n",
    "# 实例化模型\n",
    "module_list_model = ModuleListModel()\n",
    "print(module_list_model)\n",
    "```\n",
    "\n",
    "### 区别总结\n",
    "\n",
    "1. **前向传播**：\n",
    "   - `nn.Sequential`：前向传播时，只需要将输入传递给 `model`，剩下的工作（按顺序应用每一层）将自动完成。\n",
    "   - `nn.ModuleList`：需要显式地遍历每一层，并手动调用每一层的前向传播方法。\n",
    "\n",
    "2. **灵活性**：\n",
    "   - `nn.Sequential`：适用于结构相对固定、顺序明确的网络。\n",
    "   - `nn.ModuleList`：更适合需要动态构建或修改网络的情况，如条件分支、循环等。\n",
    "\n",
    "### 示例运行结果\n",
    "\n",
    "当你运行上述代码时，你会看到两个模型的定义略有不同：\n",
    "\n",
    "- 使用 `nn.Sequential` 的模型看起来像是一个固定的顺序容器。\n",
    "- 使用 `nn.ModuleList` 的模型则更像是一个可以自由操作的列表。\n",
    "\n",
    "根据你的具体需求，你可以选择最适合的方式来定义你的模型。如果你的模型结构非常规整并且不需要频繁改动，那么 `nn.Sequential` 会更加方便；如果你需要更高的灵活性，那么 `nn.ModuleList` 会是更好的选择。"
   ]
  },
  {
   "cell_type": "code",
   "execution_count": 34,
   "metadata": {},
   "outputs": [],
   "source": [
    "import torch\n",
    "from torch import nn\n",
    "from torch import optim\n",
    "from torch.nn import functional as F\n",
    "from torch.utils.data import TensorDataset\n",
    "from torch.utils.data import DataLoader\n",
    "import matplotlib.pyplot as plt\n",
    "import numpy as np"
   ]
  },
  {
   "cell_type": "code",
   "execution_count": 2,
   "metadata": {},
   "outputs": [
    {
     "name": "stdout",
     "output_type": "stream",
     "text": [
      "tensor([[0.3403, 0.8266, 0.9849],\n",
      "        [0.0031, 0.8972, 0.1040],\n",
      "        [0.6214, 0.7369, 0.9363],\n",
      "        [0.6827, 0.2049, 0.8847]])\n"
     ]
    }
   ],
   "source": [
    "# 生成一个随机4,3的张量\n",
    "x=torch.rand(4,3)\n",
    "print(x)"
   ]
  },
  {
   "cell_type": "code",
   "execution_count": 3,
   "metadata": {},
   "outputs": [],
   "source": [
    "model_s = nn.Sequential(\n",
    "            nn.Linear(3, 100, bias=True),\n",
    "            nn.ReLU(),\n",
    "            nn.Linear(100, 30, bias=True),\n",
    "            nn.ReLU(),\n",
    "            nn.Linear(30, 1, bias=True)\n",
    "        )"
   ]
  },
  {
   "cell_type": "code",
   "execution_count": 4,
   "metadata": {},
   "outputs": [
    {
     "data": {
      "text/plain": [
       "tensor([[-0.0546],\n",
       "        [-0.0128],\n",
       "        [-0.0905],\n",
       "        [-0.1036]], grad_fn=<AddmmBackward0>)"
      ]
     },
     "execution_count": 4,
     "metadata": {},
     "output_type": "execute_result"
    }
   ],
   "source": [
    "model_s(x)"
   ]
  },
  {
   "cell_type": "code",
   "execution_count": 8,
   "metadata": {},
   "outputs": [],
   "source": [
    "model_m = nn.ModuleList([\n",
    "    nn.Linear(3, 100, bias=True),\n",
    "    nn.ReLU(),\n",
    "    nn.Linear(100, 30, bias=True),\n",
    "    nn.ReLU(),\n",
    "    nn.Linear(30, 1, bias=True)\n",
    "])"
   ]
  },
  {
   "cell_type": "code",
   "execution_count": 15,
   "metadata": {},
   "outputs": [],
   "source": [
    "out=model_m[0](x)\n",
    "out=model_m[1](out)\n",
    "out=model_m[2](out)"
   ]
  },
  {
   "cell_type": "code",
   "execution_count": 17,
   "metadata": {},
   "outputs": [],
   "source": [
    "model_l = [\n",
    "    nn.Linear(3, 100, bias=True),\n",
    "    nn.ReLU(),\n",
    "    nn.Linear(100, 30, bias=True),\n",
    "    nn.ReLU(),\n",
    "    nn.Linear(30, 1, bias=True)\n",
    "]"
   ]
  },
  {
   "cell_type": "code",
   "execution_count": 18,
   "metadata": {},
   "outputs": [],
   "source": [
    "out=model_l[0](x)\n",
    "out=model_l[1](out)\n",
    "out=model_l[2](out)"
   ]
  },
  {
   "cell_type": "code",
   "execution_count": 19,
   "metadata": {},
   "outputs": [
    {
     "data": {
      "text/plain": [
       "<bound method Module.parameters of ModuleList(\n",
       "  (0): Linear(in_features=3, out_features=100, bias=True)\n",
       "  (1): ReLU()\n",
       "  (2): Linear(in_features=100, out_features=30, bias=True)\n",
       "  (3): ReLU()\n",
       "  (4): Linear(in_features=30, out_features=1, bias=True)\n",
       ")>"
      ]
     },
     "execution_count": 19,
     "metadata": {},
     "output_type": "execute_result"
    }
   ],
   "source": [
    "model_m.parameters"
   ]
  },
  {
   "cell_type": "markdown",
   "metadata": {},
   "source": [
    "### classwork 1\n",
    "\n",
    "* 把下面神经网络改为通过`nn.ModuleList`和`nn.Sequential`来构建，并完成训练"
   ]
  },
  {
   "cell_type": "code",
   "execution_count": 3,
   "metadata": {},
   "outputs": [],
   "source": [
    "\n",
    "\n",
    "class Model0(nn.Module):\n",
    "    def __init__(self,in_features=10,out_features=2):\n",
    "        super(Model0,self).__init__()\n",
    "        self.h1=nn.Linear(in_features,100,bias=True)\n",
    "        self.h2=nn.Linear(100,30,bias=True)\n",
    "        self.out=nn.Linear(30,out_features,bias=True)\n",
    "\n",
    "    def forward(self, x):\n",
    "        h1_out=self.h1(x)\n",
    "        h1_out_r=torch.relu(h1_out)\n",
    "        h2_out=self.h2(h1_out_r)\n",
    "        h2_out_r=torch.relu(h2_out)\n",
    "        out_out=self.out(h2_out_r)\n",
    "        return out_out"
   ]
  },
  {
   "cell_type": "code",
   "execution_count": 6,
   "metadata": {},
   "outputs": [],
   "source": [
    "class ModelSequential(nn.Module):\n",
    "    def __init__(self, in_features=10, out_features=2):\n",
    "        super(ModelSequential, self).__init__()\n",
    "        # 定义每一层及其激活函数\n",
    "        self.model = nn.Sequential(\n",
    "            nn.Linear(in_features, 100, bias=True),\n",
    "            nn.ReLU(),\n",
    "            nn.Linear(100, 30, bias=True),\n",
    "            nn.ReLU(),\n",
    "            nn.Linear(30, out_features, bias=True)\n",
    "        )\n",
    "\n",
    "    def forward(self, x):\n",
    "        # 由于所有的层和激活函数都已经被封装在Sequential中，\n",
    "        # 因此这里的forward只需要直接传递输入即可。\n",
    "        return self.model(x)"
   ]
  },
  {
   "cell_type": "code",
   "execution_count": 9,
   "metadata": {},
   "outputs": [],
   "source": [
    "import torch\n",
    "import torch.nn as nn\n",
    "\n",
    "class ModelModuleList(nn.Module):\n",
    "    def __init__(self, in_features=10, out_features=2):\n",
    "        super(ModelModuleList, self).__init__()\n",
    "        # 使用ModuleList来存储网络层\n",
    "        self.layers = nn.ModuleList([\n",
    "            nn.Linear(in_features, 100, bias=True),\n",
    "            nn.ReLU(),\n",
    "            nn.Linear(100, 30, bias=True),\n",
    "            nn.ReLU(),\n",
    "            nn.Linear(30, out_features, bias=True)\n",
    "        ])\n",
    "\n",
    "    def forward(self, x):\n",
    "        # 依次通过每一层进行前向传播\n",
    "        for layer in self.layers:\n",
    "            x = layer(x)\n",
    "        return x"
   ]
  },
  {
   "cell_type": "code",
   "execution_count": 10,
   "metadata": {},
   "outputs": [
    {
     "name": "stdout",
     "output_type": "stream",
     "text": [
      "tensor(0.6942, grad_fn=<BinaryCrossEntropyWithLogitsBackward0>)\n",
      "tensor(0.6914, grad_fn=<BinaryCrossEntropyWithLogitsBackward0>)\n",
      "tensor(0.6977, grad_fn=<BinaryCrossEntropyWithLogitsBackward0>)\n",
      "tensor(0.6939, grad_fn=<BinaryCrossEntropyWithLogitsBackward0>)\n",
      "tensor(0.6951, grad_fn=<BinaryCrossEntropyWithLogitsBackward0>)\n",
      "tensor(0.6891, grad_fn=<BinaryCrossEntropyWithLogitsBackward0>)\n",
      "tensor(0.6935, grad_fn=<BinaryCrossEntropyWithLogitsBackward0>)\n",
      "tensor(0.6946, grad_fn=<BinaryCrossEntropyWithLogitsBackward0>)\n",
      "tensor(0.6937, grad_fn=<BinaryCrossEntropyWithLogitsBackward0>)\n",
      "tensor(0.7000, grad_fn=<BinaryCrossEntropyWithLogitsBackward0>)\n",
      "tensor(0.6949, grad_fn=<BinaryCrossEntropyWithLogitsBackward0>)\n",
      "tensor(0.6898, grad_fn=<BinaryCrossEntropyWithLogitsBackward0>)\n",
      "tensor(0.6940, grad_fn=<BinaryCrossEntropyWithLogitsBackward0>)\n",
      "tensor(0.6933, grad_fn=<BinaryCrossEntropyWithLogitsBackward0>)\n",
      "tensor(0.6954, grad_fn=<BinaryCrossEntropyWithLogitsBackward0>)\n",
      "tensor(0.6874, grad_fn=<BinaryCrossEntropyWithLogitsBackward0>)\n",
      "tensor(0.6927, grad_fn=<BinaryCrossEntropyWithLogitsBackward0>)\n",
      "tensor(0.6940, grad_fn=<BinaryCrossEntropyWithLogitsBackward0>)\n",
      "tensor(0.6941, grad_fn=<BinaryCrossEntropyWithLogitsBackward0>)\n",
      "tensor(0.7002, grad_fn=<BinaryCrossEntropyWithLogitsBackward0>)\n",
      "tensor(0.6945, grad_fn=<BinaryCrossEntropyWithLogitsBackward0>)\n",
      "tensor(0.6896, grad_fn=<BinaryCrossEntropyWithLogitsBackward0>)\n",
      "tensor(0.6932, grad_fn=<BinaryCrossEntropyWithLogitsBackward0>)\n",
      "tensor(0.6934, grad_fn=<BinaryCrossEntropyWithLogitsBackward0>)\n",
      "tensor(0.6949, grad_fn=<BinaryCrossEntropyWithLogitsBackward0>)\n",
      "tensor(0.6873, grad_fn=<BinaryCrossEntropyWithLogitsBackward0>)\n",
      "tensor(0.6923, grad_fn=<BinaryCrossEntropyWithLogitsBackward0>)\n",
      "tensor(0.6937, grad_fn=<BinaryCrossEntropyWithLogitsBackward0>)\n",
      "tensor(0.6941, grad_fn=<BinaryCrossEntropyWithLogitsBackward0>)\n",
      "tensor(0.6999, grad_fn=<BinaryCrossEntropyWithLogitsBackward0>)\n",
      "tensor(0.6941, grad_fn=<BinaryCrossEntropyWithLogitsBackward0>)\n",
      "tensor(0.6896, grad_fn=<BinaryCrossEntropyWithLogitsBackward0>)\n",
      "tensor(0.6930, grad_fn=<BinaryCrossEntropyWithLogitsBackward0>)\n",
      "tensor(0.6933, grad_fn=<BinaryCrossEntropyWithLogitsBackward0>)\n",
      "tensor(0.6943, grad_fn=<BinaryCrossEntropyWithLogitsBackward0>)\n",
      "tensor(0.6875, grad_fn=<BinaryCrossEntropyWithLogitsBackward0>)\n",
      "tensor(0.6919, grad_fn=<BinaryCrossEntropyWithLogitsBackward0>)\n",
      "tensor(0.6935, grad_fn=<BinaryCrossEntropyWithLogitsBackward0>)\n",
      "tensor(0.6940, grad_fn=<BinaryCrossEntropyWithLogitsBackward0>)\n",
      "tensor(0.6994, grad_fn=<BinaryCrossEntropyWithLogitsBackward0>)\n",
      "tensor(0.6936, grad_fn=<BinaryCrossEntropyWithLogitsBackward0>)\n",
      "tensor(0.6895, grad_fn=<BinaryCrossEntropyWithLogitsBackward0>)\n",
      "tensor(0.6928, grad_fn=<BinaryCrossEntropyWithLogitsBackward0>)\n",
      "tensor(0.6933, grad_fn=<BinaryCrossEntropyWithLogitsBackward0>)\n",
      "tensor(0.6937, grad_fn=<BinaryCrossEntropyWithLogitsBackward0>)\n",
      "tensor(0.6878, grad_fn=<BinaryCrossEntropyWithLogitsBackward0>)\n",
      "tensor(0.6916, grad_fn=<BinaryCrossEntropyWithLogitsBackward0>)\n",
      "tensor(0.6934, grad_fn=<BinaryCrossEntropyWithLogitsBackward0>)\n",
      "tensor(0.6939, grad_fn=<BinaryCrossEntropyWithLogitsBackward0>)\n",
      "tensor(0.6986, grad_fn=<BinaryCrossEntropyWithLogitsBackward0>)\n"
     ]
    }
   ],
   "source": [
    "lr=0.1\n",
    "gamma=0.5\n",
    "epochs=5\n",
    "\n",
    "torch.manual_seed(40)\n",
    "x = torch.rand((500,20),dtype=torch.float32)\n",
    "y = torch.randint(low=0,high=2,size=(500,1),dtype=torch.float32)\n",
    "dataset = TensorDataset(x, y)\n",
    "dataloader = DataLoader(dataset, batch_size=50) \n",
    "\n",
    "net=ModelModuleList(20,1)\n",
    "#print(output)\n",
    "criterion = nn.BCEWithLogitsLoss()\n",
    "#criterion = nn.MSELoss()\n",
    "opt=optim.SGD(net.parameters() , lr=lr , momentum = gamma)\n",
    "\n",
    "for i in range(epochs):\n",
    "    for x1,y1 in dataloader:\n",
    "        output=net.forward(x1)\n",
    "        loss = criterion(output,y1)#在PyTorch中,有些情况下目标向量(target)需要使用.long()方法转换为长整型tensor(long tensor),\n",
    "        opt.zero_grad()\n",
    "        loss.backward()\n",
    "        opt.step()\n",
    "        print(loss)"
   ]
  },
  {
   "cell_type": "code",
   "execution_count": null,
   "metadata": {},
   "outputs": [],
   "source": []
  },
  {
   "cell_type": "markdown",
   "metadata": {},
   "source": [
    "### 张量的连续性、contiguous函数\n",
    "\n",
    "https://blog.csdn.net/m0_48241022/article/details/132804698\n",
    "\n",
    "在pytorch中，tensor的实际数据以一维数组（storage）的形式存储于某个连续的内存中，以“行优先”进行存储\n",
    " tensor连续（contiguous）是指tensor的storage元素排列顺序与其按行优先时的元素排列顺序相同\n",
    "\n",
    "\n",
    " tensor不连续会导致某些操作无法进行，比如view()就无法进行。在上面的例子中：由于 b 是不连续的，所以对其进行view()操作会报错；b.view(3,3)没报错，因为b本身的shape就是(3,3)。\n",
    "\n",
    "  tensor.contiguous()返回一个与原始tensor有相同元素的 “连续”tensor，如果原始tensor本身就是连续的，则返回原始tensor。"
   ]
  },
  {
   "cell_type": "code",
   "execution_count": 22,
   "metadata": {},
   "outputs": [
    {
     "data": {
      "text/html": [
       "<img src=\"37.png\"/>"
      ],
      "text/plain": [
       "<IPython.core.display.Image object>"
      ]
     },
     "execution_count": 22,
     "metadata": {},
     "output_type": "execute_result"
    }
   ],
   "source": [
    "from IPython.display import Image\n",
    "Image(url= \"37.png\")"
   ]
  },
  {
   "cell_type": "code",
   "execution_count": 28,
   "metadata": {},
   "outputs": [
    {
     "name": "stdout",
     "output_type": "stream",
     "text": [
      "tensor([[1, 2, 3],\n",
      "        [4, 5, 6],\n",
      "        [7, 8, 9]])\n",
      " 1\n",
      " 2\n",
      " 3\n",
      " 4\n",
      " 5\n",
      " 6\n",
      " 7\n",
      " 8\n",
      " 9\n",
      "[torch.storage.TypedStorage(dtype=torch.int64, device=cpu) of size 9]\n",
      "True\n",
      "tensor([[1, 4, 7],\n",
      "        [2, 5, 8],\n",
      "        [3, 6, 9]])\n",
      " 1\n",
      " 2\n",
      " 3\n",
      " 4\n",
      " 5\n",
      " 6\n",
      " 7\n",
      " 8\n",
      " 9\n",
      "[torch.storage.TypedStorage(dtype=torch.int64, device=cpu) of size 9]\n",
      "False\n",
      "True\n"
     ]
    }
   ],
   "source": [
    "a = torch.tensor([[1, 2, 3],\n",
    "                  [4, 5, 6],\n",
    "                  [7, 8, 9]])\n",
    "print(a)\n",
    "print(a.storage())\n",
    "print(a.is_contiguous())  # a是连续的\n",
    "\n",
    " \n",
    "b = a.t()  # b是a的转置\n",
    "print(b)\n",
    "print(b.storage())\n",
    "print(b.is_contiguous())  # b是不连续的\n",
    "\n",
    "#让张量变连续\n",
    "c = b.contiguous()\n",
    "print(c.is_contiguous())"
   ]
  },
  {
   "cell_type": "markdown",
   "metadata": {},
   "source": [
    "## 常用的张量维度变换函数\n",
    "\n",
    "### `view()`\n",
    "\n",
    "`view()` 函数可以用来重塑张量，使其具有新的形状。新形状必须与原始张量的元素数量相匹配。"
   ]
  },
  {
   "cell_type": "code",
   "execution_count": 29,
   "metadata": {},
   "outputs": [
    {
     "name": "stdout",
     "output_type": "stream",
     "text": [
      "Original Tensor:\n",
      "tensor([[ 0.4461,  0.6512,  1.4922],\n",
      "        [ 1.9560,  0.8955,  0.1616],\n",
      "        [ 1.0333, -0.5607,  1.2151],\n",
      "        [ 0.9077, -0.2138,  1.4773]])\n",
      "\n",
      "Reshaped Tensor using view():\n",
      "tensor([[ 0.4461,  0.6512],\n",
      "        [ 1.4922,  1.9560],\n",
      "        [ 0.8955,  0.1616],\n",
      "        [ 1.0333, -0.5607],\n",
      "        [ 1.2151,  0.9077],\n",
      "        [-0.2138,  1.4773]])\n"
     ]
    }
   ],
   "source": [
    "x = torch.randn(4, 3)\n",
    "print(\"Original Tensor:\")\n",
    "print(x)\n",
    "\n",
    "reshaped_x = x.view(-1, 2)  # 使用-1自动推断该维度大小\n",
    "print(\"\\nReshaped Tensor using view():\")\n",
    "print(reshaped_x)\n",
    "\n",
    "# 注意事项：使用 view() 时，新形状的总元素数必须与原张量相同。"
   ]
  },
  {
   "cell_type": "code",
   "execution_count": 27,
   "metadata": {},
   "outputs": [],
   "source": [
    "y = torch.randint(low=0,high=3,size=(500,1),dtype=torch.float32)\n",
    "#y"
   ]
  },
  {
   "cell_type": "code",
   "execution_count": 28,
   "metadata": {},
   "outputs": [],
   "source": [
    "#y.view(-1)"
   ]
  },
  {
   "cell_type": "markdown",
   "metadata": {},
   "source": [
    "### `transpose()` / `t()`\n",
    "\n",
    "`transpose()` 函数用于交换两个维度，而 `t()` 是 `transpose(0, 1)` 的简写，用于交换两个相邻的维度。"
   ]
  },
  {
   "cell_type": "code",
   "execution_count": 31,
   "metadata": {},
   "outputs": [
    {
     "name": "stdout",
     "output_type": "stream",
     "text": [
      "tensor([[ 0.4461,  1.9560,  1.0333,  0.9077],\n",
      "        [ 0.6512,  0.8955, -0.5607, -0.2138],\n",
      "        [ 1.4922,  0.1616,  1.2151,  1.4773]])\n",
      "tensor([[ 0.4461,  1.9560,  1.0333,  0.9077],\n",
      "        [ 0.6512,  0.8955, -0.5607, -0.2138],\n",
      "        [ 1.4922,  0.1616,  1.2151,  1.4773]])\n"
     ]
    }
   ],
   "source": [
    "transposed_x = x.transpose(0, 1)  # 交换第一个和第二个维度\n",
    "print(transposed_x)\n",
    "\n",
    "transposed_x_t = x.t()  # 只适用于二维张量\n",
    "print(transposed_x_t)"
   ]
  },
  {
   "cell_type": "markdown",
   "metadata": {},
   "source": [
    "### `unsqueeze()` 与 `squeeze()`\n",
    "\n",
    "`unsqueeze()` 函数用于在张量中增加一个新的维度（即增加一个轴）。\n",
    "\n",
    "`squeeze()` 函数用于删除单维度条目（即大小为1的维度）。"
   ]
  },
  {
   "cell_type": "code",
   "execution_count": 34,
   "metadata": {},
   "outputs": [
    {
     "name": "stdout",
     "output_type": "stream",
     "text": [
      "tensor([[[ 0.4461,  0.6512,  1.4922],\n",
      "         [ 1.9560,  0.8955,  0.1616],\n",
      "         [ 1.0333, -0.5607,  1.2151],\n",
      "         [ 0.9077, -0.2138,  1.4773]]])\n",
      "torch.Size([1, 4, 3])\n"
     ]
    }
   ],
   "source": [
    "unsqueezed_x = x.unsqueeze(0)  # 在第一个维度增加一个轴\n",
    "print(unsqueezed_x)\n",
    "print(unsqueezed_x.shape)\n",
    "# 注意事项：可以在任何位置增加新的维度，但增加的维度大小始终为1。"
   ]
  },
  {
   "cell_type": "code",
   "execution_count": 35,
   "metadata": {},
   "outputs": [
    {
     "name": "stdout",
     "output_type": "stream",
     "text": [
      "tensor([[ 0.4461,  0.6512,  1.4922],\n",
      "        [ 1.9560,  0.8955,  0.1616],\n",
      "        [ 1.0333, -0.5607,  1.2151],\n",
      "        [ 0.9077, -0.2138,  1.4773]])\n",
      "torch.Size([4, 3])\n"
     ]
    }
   ],
   "source": [
    "squeezed_x = unsqueezed_x.squeeze(0)  # 删除第一个维度\n",
    "print(squeezed_x)\n",
    "print(squeezed_x.shape)\n",
    "\n",
    "# 注意事项：可以指定某个维度删除，如果不指定，则删除所有大小为1的维度。"
   ]
  },
  {
   "cell_type": "code",
   "execution_count": 25,
   "metadata": {},
   "outputs": [
    {
     "data": {
      "text/plain": [
       "torch.Size([500, 1])"
      ]
     },
     "execution_count": 25,
     "metadata": {},
     "output_type": "execute_result"
    }
   ],
   "source": [
    "y.shape"
   ]
  },
  {
   "cell_type": "code",
   "execution_count": 26,
   "metadata": {},
   "outputs": [
    {
     "data": {
      "text/plain": [
       "tensor([2., 2., 1., 2., 0., 0., 1., 2., 1., 1., 2., 1., 2., 0., 1., 0., 0., 2.,\n",
       "        0., 2., 1., 2., 2., 1., 2., 2., 0., 1., 2., 2., 0., 2., 0., 1., 0., 1.,\n",
       "        1., 0., 2., 1., 1., 1., 2., 0., 0., 1., 1., 0., 0., 0., 2., 2., 1., 0.,\n",
       "        1., 1., 2., 0., 0., 1., 0., 2., 2., 2., 0., 0., 0., 1., 2., 2., 2., 2.,\n",
       "        2., 2., 0., 2., 2., 2., 1., 1., 0., 0., 2., 2., 2., 2., 2., 1., 2., 1.,\n",
       "        2., 0., 2., 1., 0., 1., 0., 1., 1., 1., 1., 1., 1., 2., 2., 0., 0., 0.,\n",
       "        1., 0., 2., 0., 1., 1., 2., 0., 2., 1., 1., 0., 2., 2., 2., 2., 0., 0.,\n",
       "        2., 2., 1., 0., 0., 2., 0., 1., 1., 1., 1., 1., 0., 1., 1., 0., 1., 0.,\n",
       "        0., 0., 0., 2., 1., 2., 2., 1., 0., 0., 1., 1., 0., 1., 2., 0., 2., 2.,\n",
       "        0., 2., 1., 0., 1., 2., 2., 2., 1., 1., 0., 2., 1., 2., 0., 2., 0., 2.,\n",
       "        0., 0., 0., 0., 2., 2., 1., 1., 2., 0., 2., 0., 2., 1., 0., 2., 1., 2.,\n",
       "        1., 1., 0., 2., 1., 1., 2., 0., 0., 1., 1., 0., 1., 2., 0., 2., 2., 0.,\n",
       "        0., 0., 1., 0., 0., 2., 1., 0., 2., 1., 2., 1., 0., 1., 2., 2., 0., 1.,\n",
       "        2., 2., 0., 1., 0., 0., 0., 1., 2., 2., 2., 1., 1., 0., 2., 2., 0., 1.,\n",
       "        2., 0., 2., 1., 1., 2., 0., 2., 0., 2., 2., 0., 2., 1., 1., 2., 0., 0.,\n",
       "        1., 0., 0., 1., 2., 0., 2., 2., 0., 0., 0., 0., 1., 0., 0., 0., 0., 1.,\n",
       "        2., 2., 0., 0., 1., 2., 2., 0., 0., 0., 2., 0., 1., 0., 0., 1., 2., 1.,\n",
       "        0., 1., 2., 0., 2., 2., 1., 1., 2., 2., 2., 2., 2., 2., 2., 1., 1., 0.,\n",
       "        2., 1., 0., 1., 1., 1., 0., 0., 0., 2., 2., 1., 1., 0., 0., 1., 0., 0.,\n",
       "        2., 1., 2., 1., 0., 1., 0., 0., 1., 1., 1., 0., 1., 0., 1., 1., 2., 0.,\n",
       "        0., 0., 2., 1., 0., 1., 0., 0., 2., 1., 0., 2., 0., 0., 0., 2., 2., 2.,\n",
       "        0., 1., 2., 2., 1., 1., 1., 1., 1., 2., 0., 1., 0., 2., 0., 1., 2., 0.,\n",
       "        1., 2., 0., 0., 1., 1., 0., 0., 1., 1., 0., 1., 2., 1., 2., 1., 2., 2.,\n",
       "        2., 1., 1., 2., 1., 2., 1., 1., 2., 1., 1., 2., 1., 0., 0., 2., 0., 0.,\n",
       "        2., 0., 0., 1., 1., 1., 1., 0., 0., 2., 0., 2., 0., 2., 2., 1., 0., 0.,\n",
       "        2., 1., 2., 2., 0., 1., 0., 2., 2., 1., 0., 0., 1., 0., 0., 2., 2., 0.,\n",
       "        1., 2., 0., 2., 0., 0., 2., 1., 1., 2., 0., 0., 1., 0., 2., 0., 2., 1.,\n",
       "        0., 2., 1., 0., 2., 1., 2., 1., 0., 2., 0., 0., 2., 2.])"
      ]
     },
     "execution_count": 26,
     "metadata": {},
     "output_type": "execute_result"
    }
   ],
   "source": [
    "y.squeeze(1)"
   ]
  },
  {
   "cell_type": "markdown",
   "metadata": {},
   "source": [
    "## PyTorch 矩阵乘法运算\n",
    "\n",
    "### 1. `torch.mv`\n",
    "`torch.mv` 用于计算一个二维矩阵与一个一维向量之间的乘法。它返回一个一维向量，表示矩阵与向量的乘积。\n",
    "\n",
    "### 2. `torch.mm(A, B)`\n",
    "\n",
    "`torch.mm` 是用于两个二维矩阵之间的乘法。它要求两个输入张量都是二维的，并且第一个张量的列数必须等于第二个张量的行数。\n",
    "\n",
    "### 3. `torch.matmul(A, B)`\n",
    "\n",
    "`torch.matmul` 是一个通用的矩阵乘法函数，可以处理多种情况下的乘法运算。它可以处理任意维度的张量，并且支持广播。\n",
    "\n",
    "### 4. `torch.bmm(A, B)`\n",
    "\n",
    "`torch.bmm` 代表 batch matrix multiplication，用于批量矩阵乘法。它要求输入张量至少是三维的，并且第三维度是矩阵的维度。`bmm` 会对输入张量的第一个维度进行批量处理。\n",
    "\n"
   ]
  },
  {
   "cell_type": "code",
   "execution_count": 42,
   "metadata": {},
   "outputs": [
    {
     "name": "stdout",
     "output_type": "stream",
     "text": [
      "tensor([ 3.0223,  3.9720, -1.8390])\n"
     ]
    }
   ],
   "source": [
    "A = torch.randn(3, 4)  \n",
    "v = torch.randn(4)     \n",
    "w = torch.mv(A, v)\n",
    "print(w)"
   ]
  },
  {
   "cell_type": "code",
   "execution_count": 37,
   "metadata": {},
   "outputs": [
    {
     "name": "stdout",
     "output_type": "stream",
     "text": [
      "tensor([[ 1.1880, -0.6561, -1.5751,  0.2108],\n",
      "        [ 0.3523, -1.2360,  1.5743,  0.2807],\n",
      "        [ 1.2113,  0.1812, -0.1775, -2.0566]])\n",
      "tensor([[-0.9722, -0.6501],\n",
      "        [-0.1712, -0.0815],\n",
      "        [ 0.2665,  0.4672],\n",
      "        [-0.8539,  0.3143]])\n",
      "tensor([[-1.6425, -1.3884],\n",
      "        [ 0.0491,  0.6954],\n",
      "        [ 0.5002, -1.5315]])\n"
     ]
    }
   ],
   "source": [
    "A = torch.randn(3, 4)\n",
    "B = torch.randn(4, 2)\n",
    "print(A)\n",
    "print(B)\n",
    "C = torch.mm(A, B)\n",
    "print(C)"
   ]
  },
  {
   "cell_type": "code",
   "execution_count": 38,
   "metadata": {},
   "outputs": [
    {
     "name": "stdout",
     "output_type": "stream",
     "text": [
      "tensor([[ 0.9237, -0.2760],\n",
      "        [ 0.9740,  0.5352],\n",
      "        [-0.9706,  2.0148]])\n",
      "tensor([[[-0.5651,  0.4980],\n",
      "         [ 1.2478,  0.7032],\n",
      "         [-1.2116, -0.7601]],\n",
      "\n",
      "        [[ 1.0463,  1.6109],\n",
      "         [ 2.3260, -0.1103],\n",
      "         [ 1.7420, -2.7521]]])\n"
     ]
    }
   ],
   "source": [
    "A = torch.randn(3, 4)\n",
    "B = torch.randn(4, 2)\n",
    "C = torch.matmul(A, B)\n",
    "print(C)\n",
    "# 三维张量与二维张量相乘\n",
    "A = torch.randn(2, 3, 4)\n",
    "B = torch.randn(4, 2)\n",
    "C = torch.matmul(A, B)\n",
    "print(C)"
   ]
  },
  {
   "cell_type": "code",
   "execution_count": 40,
   "metadata": {},
   "outputs": [
    {
     "name": "stdout",
     "output_type": "stream",
     "text": [
      "torch.Size([10, 3, 2])\n",
      "tensor([[[-0.2231,  0.0683],\n",
      "         [-1.2908, -0.9820],\n",
      "         [ 2.2060,  1.0636]],\n",
      "\n",
      "        [[-0.3593,  3.2191],\n",
      "         [ 1.4395, -0.6196],\n",
      "         [-1.7015,  3.2343]],\n",
      "\n",
      "        [[ 1.2474, -2.7916],\n",
      "         [ 0.5665,  0.1046],\n",
      "         [-0.7204, -0.9899]],\n",
      "\n",
      "        [[-0.7077,  0.0126],\n",
      "         [ 0.4887,  1.5367],\n",
      "         [-0.2416,  0.9642]],\n",
      "\n",
      "        [[ 2.7211, -1.0547],\n",
      "         [-1.4047, -2.7027],\n",
      "         [ 0.8932, -2.7055]],\n",
      "\n",
      "        [[-0.3736,  0.9176],\n",
      "         [-0.9204, -3.9566],\n",
      "         [-2.6899,  8.6097]],\n",
      "\n",
      "        [[ 1.9016, -0.3787],\n",
      "         [-1.7463, -0.4884],\n",
      "         [-3.5153, -1.8062]],\n",
      "\n",
      "        [[ 1.0823,  1.2633],\n",
      "         [-0.5543,  1.1416],\n",
      "         [-1.4252, -1.1803]],\n",
      "\n",
      "        [[ 0.0366,  0.2722],\n",
      "         [ 2.2542,  3.4856],\n",
      "         [-1.1687, -0.4482]],\n",
      "\n",
      "        [[ 3.3335, -1.6299],\n",
      "         [ 0.7488,  1.5366],\n",
      "         [ 0.9774, -0.8057]]])\n"
     ]
    }
   ],
   "source": [
    "A = torch.randn(10, 3, 4)\n",
    "B = torch.randn(10, 4, 2)\n",
    "C = torch.bmm(A, B)\n",
    "print(C.shape)\n",
    "print(C)"
   ]
  },
  {
   "cell_type": "markdown",
   "metadata": {},
   "source": []
  },
  {
   "cell_type": "markdown",
   "metadata": {},
   "source": []
  },
  {
   "cell_type": "code",
   "execution_count": 37,
   "metadata": {},
   "outputs": [],
   "source": [
    "import torch.nn.functional as F\n",
    "import math\n",
    "from torch.autograd import Variable\n",
    "import copy"
   ]
  },
  {
   "cell_type": "code",
   "execution_count": 38,
   "metadata": {},
   "outputs": [],
   "source": [
    "#词嵌入\n",
    "class Embeddings(nn.Module):\n",
    "    def __init__(self, d_model, vocab):\n",
    "    # d_model:词嵌入维度\n",
    "    # vocab:字典大小\n",
    "        super(Embeddings, self).__init__()\n",
    "        self.lut = nn.Embedding(vocab, d_model)\n",
    "        self.d_model = d_model\n",
    "    def forward(self, x):\n",
    "        return self.lut(x) * math.sqrt(self.d_model)\n"
   ]
  },
  {
   "cell_type": "code",
   "execution_count": 39,
   "metadata": {},
   "outputs": [
    {
     "name": "stdout",
     "output_type": "stream",
     "text": [
      "torch.Size([2, 4, 512])\n"
     ]
    }
   ],
   "source": [
    "d_model = 512  # embedding_size\n",
    "vocab = 1000  # 词典大小\n",
    "x=torch.tensor([[100, 2, 421, 508], [491, 998, 1, 221]], dtype=torch.long)\n",
    "emb = Embeddings(d_model, vocab)\n",
    "embr = emb(x)\n",
    "print(embr.shape)"
   ]
  },
  {
   "cell_type": "markdown",
   "metadata": {},
   "source": [
    "# 位置编码\n",
    "\n",
    "以前的方法-表格型\n",
    "\n",
    "* 方法一：使用[0,1]范围分配\n",
    "\n",
    "这个方法的分配方式是，将0-1这个范围的，将第一个token分配0，最后一个token分配去1，其余的token按照文章的长度平均分配。具体形式如下：\n",
    "\n",
    "我喜欢吃洋葱 【0 0.16 0.32.....1】\n",
    "\n",
    "我真的不喜欢吃洋葱【0 0.125 0.25.....1】\n",
    "\n",
    "问题：我们可以看到，如果句子长度不同，那么位置编码是不一样，所以无法表示句子之间有什么相似性。\n",
    "\n",
    "* 方法二：1-n正整数范围分配\n",
    "\n",
    "这个方法比较直观，就是按照输入的顺序，一次分配给token所在的索引位置。具体形式如下：\n",
    "\n",
    "我喜欢吃洋葱 【1，2，3，4，5，6】\n",
    "\n",
    "我真的不喜欢吃洋葱【1，2，3，4，5，6，7】\n",
    "\n",
    "问题：往往句子越长，后面的值越大，数字越大说明这个位置占的权重也越大，这样的方式无法凸显每个位置的真实的权重。\n",
    "\n",
    "https://erdem.pl/2021/05/understanding-positional-encoding-in-transformers\n",
    "\n",
    "https://www.cnblogs.com/yanshw/p/16740972.html\n",
    "\n",
    "https://www.cnblogs.com/ghj1976/p/li-jietransformer-de-wei-zhi-bian-ma.html\n",
    "\n",
    "https://blog.csdn.net/Kaiyuan_sjtu/article/details/119621613"
   ]
  },
  {
   "cell_type": "code",
   "execution_count": 24,
   "metadata": {},
   "outputs": [
    {
     "data": {
      "text/html": [
       "<img src=\"31.jpg\" width=\"800\"/>"
      ],
      "text/plain": [
       "<IPython.core.display.Image object>"
      ]
     },
     "execution_count": 24,
     "metadata": {},
     "output_type": "execute_result"
    }
   ],
   "source": [
    "Image(url= \"31.jpg\",width=800)"
   ]
  },
  {
   "cell_type": "code",
   "execution_count": 23,
   "metadata": {},
   "outputs": [
    {
     "data": {
      "text/html": [
       "<img src=\"32.jpg\" width=\"800\"/>"
      ],
      "text/plain": [
       "<IPython.core.display.Image object>"
      ]
     },
     "execution_count": 23,
     "metadata": {},
     "output_type": "execute_result"
    }
   ],
   "source": [
    "Image(url= \"32.jpg\",width=800)"
   ]
  },
  {
   "cell_type": "markdown",
   "metadata": {},
   "source": [
    "### Transformer算法中的位置编码与其他方法的比较（chatgpt）\n",
    "\n",
    "Transformer算法中的位置编码(Positional Encoding)与RNN、LSTM处理顺序信息的方法具有以下优缺点:\n",
    "\n",
    "**位置编码的优点:**\n",
    "\n",
    "- 计算效率高,可以完全并行\n",
    "- 为模型带来一定位置不变性,对小的位置变化更鲁棒\n",
    "- 使用周期函数,使模型更好地学习位置信息\n",
    "- 避免位置信息过于绝对化\n",
    "- 较RNN和LSTM更简单,只编码位置信息\n",
    "\n",
    "**位置编码的缺点:**\n",
    "\n",
    "- 需要设置最大序列长度,长度过长会导致计算复杂度提升\n",
    "- 仅编码相对位置,无法表示绝对位置\n",
    "- 对语序变化不如RNN等顺序敏感\n",
    "- 需搭配注意力机制,单独使用效果较弱\n",
    "\n",
    "**RNN和LSTM的优点:** \n",
    "\n",
    "- 可以表示绝对位置信息\n",
    "- 对语序变化更敏感\n",
    "- LSTM可以捕捉长程依赖关系\n",
    "\n",
    "**RNN和LSTM的缺点:**\n",
    "\n",
    "- 计算复杂度高,无法并行计算\n",
    "- 对位置信息过于敏感\n",
    "- 隐状态编码了所有历史,计算资源利用率低\n",
    "\n",
    "总之,位置编码更高效并具有一定位置鲁棒性,但RNN和LSTM可以建模绝对位置并对语序更敏感。两者互补的特点可根据任务需求进行选择。"
   ]
  },
  {
   "cell_type": "code",
   "execution_count": 29,
   "metadata": {},
   "outputs": [],
   "source": [
    "#np.zeros(shape=(60,4))"
   ]
  },
  {
   "cell_type": "code",
   "execution_count": 35,
   "metadata": {},
   "outputs": [
    {
     "name": "stdout",
     "output_type": "stream",
     "text": [
      "[[ 0.00000000e+00  1.00000000e+00  0.00000000e+00 ...  1.00000000e+00\n",
      "   0.00000000e+00  1.00000000e+00]\n",
      " [ 8.41470985e-01  5.40302306e-01  7.61720408e-01 ...  9.99999991e-01\n",
      "   1.15478198e-04  9.99999993e-01]\n",
      " [ 9.09297427e-01 -4.16146837e-01  9.87046251e-01 ...  9.99999964e-01\n",
      "   2.30956395e-04  9.99999973e-01]\n",
      " ...\n",
      " [ 1.23573123e-01 -9.92335469e-01  1.39920673e-01 ...  9.99980359e-01\n",
      "   5.42744868e-03  9.99985271e-01]\n",
      " [-7.68254661e-01 -6.40144339e-01 -6.63571724e-01 ...  9.99979514e-01\n",
      "   5.54292514e-03  9.99984638e-01]\n",
      " [-9.53752653e-01  3.00592544e-01 -9.99784705e-01 ...  9.99978652e-01\n",
      "   5.65840153e-03  9.99983991e-01]]\n"
     ]
    },
    {
     "data": {
      "image/png": "[encoded data removed]",
      "text/plain": [
       "<Figure size 1228.8x480 with 2 Axes>"
      ]
     },
     "metadata": {},
     "output_type": "display_data"
    }
   ],
   "source": [
    "def getPositionEncoding(seq_len,dim,n=10000):\n",
    "  PE = np.zeros(shape=(seq_len,dim))\n",
    "  for pos in range(seq_len):\n",
    "    for i in range(int(dim/2)):\n",
    "      denominator = np.power(n, 2*i/dim)\n",
    "      PE[pos,2*i] = np.sin(pos/denominator)\n",
    "      PE[pos,2*i+1] = np.cos(pos/denominator)\n",
    "\n",
    "  return PE\n",
    "\n",
    "PE = getPositionEncoding(seq_len=50, dim=128, n=10000)\n",
    "print(PE)\n",
    "\n",
    "caxes = plt.matshow(PE,interpolation ='nearest')\n",
    "plot.colorbar(caxes) \n",
    "plot.show()"
   ]
  },
  {
   "cell_type": "markdown",
   "metadata": {},
   "source": [
    "## transformer 中的位置编码的使用\n",
    "\n",
    "https://blog.csdn.net/qq_52785473/article/details/124537101\n",
    "\n",
    "* register_buffer(self, name, tensor)是一个PyTorch中的方法，它的作用是向模块（module）中添加一个持久的缓冲区（buffer）缓冲区是一种不被视为模型参数（model parameter）的张量（tensor），它不会在训练过程中更新梯度（gradient），但是会作为模块的状态（state）被保存和迁移"
   ]
  },
  {
   "cell_type": "markdown",
   "metadata": {},
   "source": [
    "### classwork2\n",
    "\n",
    "* 已知如下类，通过给定的x运行下面的词嵌入类和位置编码类，并打印结果张量及其维度"
   ]
  },
  {
   "cell_type": "code",
   "execution_count": 54,
   "metadata": {},
   "outputs": [],
   "source": [
    "#词嵌入\n",
    "class Embeddings(nn.Module):\n",
    "    def __init__(self, d_model, vocab):\n",
    "    # d_model:词嵌入维度\n",
    "    # vocab:字典大小\n",
    "        super(Embeddings, self).__init__()\n",
    "        self.lut = nn.Embedding(vocab, d_model)\n",
    "        self.d_model = d_model\n",
    "    def forward(self, x):\n",
    "        return self.lut(x) * math.sqrt(self.d_model)"
   ]
  },
  {
   "cell_type": "code",
   "execution_count": 55,
   "metadata": {},
   "outputs": [
    {
     "name": "stdout",
     "output_type": "stream",
     "text": [
      "torch.Size([2, 4, 512])\n"
     ]
    }
   ],
   "source": [
    "d_model = 512  # embedding_size\n",
    "vocab = 1000  # 词典大小\n",
    "x=torch.tensor([[100, 2, 421, 508], [491, 998, 1, 221]], dtype=torch.long)\n",
    "emb = Embeddings(d_model, vocab)\n",
    "embr = emb(x)\n",
    "print(embr.shape)"
   ]
  },
  {
   "cell_type": "code",
   "execution_count": 60,
   "metadata": {},
   "outputs": [],
   "source": [
    "#位置编码\n",
    "class PositionalEncoding(nn.Module):\n",
    "    def __init__(self, d_model, dropout, max_len=5000):\n",
    "    # d_model:词嵌入维度\n",
    "    # dropout:置零比率\n",
    "    # max_len:每个句子最大的长度\n",
    "        super(PositionalEncoding, self).__init__()\n",
    "        self.dropout = nn.Dropout(p=dropout)\n",
    "        pe = torch.zeros(max_len, d_model)\n",
    "        position = torch.arange(0,  max_len).unsqueeze(1)\n",
    "        div_term = torch.exp(torch.arange(0, d_model, 2) * -(math.log(1000.0) / d_model))\n",
    "        pe[:, 0::2] = torch.sin(position * div_term)\n",
    "        pe[:, 1::2] = torch.cos(position * div_term)\n",
    "        pe = pe.unsqueeze(0)\n",
    "        self.register_buffer(\"pe\", pe)\n",
    "\n",
    "    def forward(self, x):\n",
    "        x = x + self.pe[:, :x.size(1)]\n",
    "        return self.dropout(x)"
   ]
  },
  {
   "cell_type": "code",
   "execution_count": 61,
   "metadata": {},
   "outputs": [
    {
     "name": "stdout",
     "output_type": "stream",
     "text": [
      "torch.Size([2, 4, 512])\n"
     ]
    }
   ],
   "source": [
    "dropout = 0.1\n",
    "max_len = 60\n",
    "pe = PositionalEncoding(d_model, dropout, max_len)\n",
    "pe_result = pe(embr)\n",
    "print(pe_result.shape)"
   ]
  },
  {
   "cell_type": "code",
   "execution_count": 63,
   "metadata": {},
   "outputs": [
    {
     "data": {
      "text/plain": [
       "OrderedDict([('pe',\n",
       "              tensor([[[ 0.0000,  1.0000,  0.0000,  ...,  1.0000,  0.0000,  1.0000],\n",
       "                       [ 0.8415,  0.5403,  0.8268,  ...,  1.0000,  0.0010,  1.0000],\n",
       "                       [ 0.9093, -0.4161,  0.9302,  ...,  1.0000,  0.0021,  1.0000],\n",
       "                       ...,\n",
       "                       [ 0.4362,  0.8999, -0.8753,  ...,  0.9982,  0.0585,  0.9983],\n",
       "                       [ 0.9929,  0.1192, -0.0926,  ...,  0.9981,  0.0596,  0.9982],\n",
       "                       [ 0.6367, -0.7711,  0.7711,  ...,  0.9981,  0.0606,  0.9982]]]))])"
      ]
     },
     "execution_count": 63,
     "metadata": {},
     "output_type": "execute_result"
    }
   ],
   "source": [
    "pe.state_dict()"
   ]
  },
  {
   "cell_type": "markdown",
   "metadata": {},
   "source": [
    "## 自注意力机制代码"
   ]
  },
  {
   "cell_type": "code",
   "execution_count": 18,
   "metadata": {},
   "outputs": [],
   "source": [
    "import torch\n",
    "import torch.nn as nn\n",
    "import torch.nn.functional as F\n",
    "\n",
    "class SelfAttention(nn.Module):\n",
    "    def __init__(self, input_size, hidden_size):\n",
    "        super(SelfAttention, self).__init__()\n",
    "        self.query = nn.Linear(input_size, hidden_size)\n",
    "        self.key = nn.Linear(input_size, hidden_size)\n",
    "        self.value = nn.Linear(input_size, hidden_size)\n",
    "\n",
    "    def forward(self, x):\n",
    "        # 计算Q、K、V\n",
    "        q = self.query(x)\n",
    "        k = self.key(x)\n",
    "        v = self.value(x)\n",
    "        # 计算自注意力矩阵\n",
    "        attn_weights = torch.bmm(q, k.transpose(1, 2))\n",
    "        attn_weights = F.softmax(attn_weights, dim=-1)\n",
    "        # 使用自注意力矩阵对V进行加权平均\n",
    "        attn_output = torch.bmm(attn_weights, v)\n",
    "        return attn_output\n"
   ]
  },
  {
   "cell_type": "code",
   "execution_count": 20,
   "metadata": {},
   "outputs": [
    {
     "data": {
      "text/plain": [
       "tensor([[[ 8.3025e-01,  7.7278e-01,  7.3960e-01,  ..., -3.1352e-01,\n",
       "           1.7342e-01, -7.2156e-01],\n",
       "         [-5.2339e-02,  2.8183e-01,  2.1247e-01,  ..., -3.9275e-01,\n",
       "           1.1995e-01,  5.8236e-01],\n",
       "         [ 2.7860e-01,  4.8669e-01,  1.6767e-01,  ...,  3.8547e-01,\n",
       "          -6.0063e-01, -2.1536e-01],\n",
       "         ...,\n",
       "         [ 1.3347e-01,  2.2957e-01, -4.2782e-02,  ...,  2.3184e-01,\n",
       "          -1.3142e-01, -5.2254e-02],\n",
       "         [-1.3501e-02,  1.0049e-01,  1.2684e-01,  ...,  2.7119e-01,\n",
       "          -1.9974e-01,  1.4608e-01],\n",
       "         [-2.8918e-02, -3.0294e-01, -1.6875e-01,  ...,  7.6529e-02,\n",
       "           5.7324e-02, -6.7287e-01]],\n",
       "\n",
       "        [[-9.5269e-02, -1.7231e-02, -7.3497e-01,  ..., -6.3840e-01,\n",
       "          -2.0553e-01, -3.1382e-02],\n",
       "         [ 3.8260e-01,  7.8272e-01,  2.7927e-01,  ...,  1.1539e-01,\n",
       "          -5.8368e-01,  6.6879e-01],\n",
       "         [ 3.1963e-01, -6.7354e-01, -4.7888e-02,  ...,  1.3886e-01,\n",
       "          -5.6695e-01,  4.7908e-01],\n",
       "         ...,\n",
       "         [ 4.8869e-01, -4.3439e-01,  5.0466e-02,  ...,  5.1602e-02,\n",
       "          -4.6732e-01,  3.4571e-01],\n",
       "         [ 2.5192e-01,  2.6341e-01, -9.5167e-01,  ...,  8.8073e-02,\n",
       "           8.4320e-02,  3.1297e-01],\n",
       "         [ 4.7435e-01, -5.4737e-01, -8.6699e-01,  ...,  3.0750e-01,\n",
       "          -2.6796e-01,  3.0907e-01]],\n",
       "\n",
       "        [[ 8.9739e-02,  2.6811e-01, -3.0982e-01,  ..., -1.8338e-01,\n",
       "          -3.8594e-02,  1.5753e-01],\n",
       "         [-1.5329e-01, -1.7685e-01, -9.8341e-02,  ..., -4.4869e-01,\n",
       "          -2.0917e-01, -5.7830e-01],\n",
       "         [ 1.2280e-01,  1.5603e-01, -1.5913e-01,  ..., -2.9564e-01,\n",
       "          -3.4006e-01, -1.9447e-01],\n",
       "         ...,\n",
       "         [-6.0711e-01, -8.7723e-01, -8.6103e-01,  ..., -4.2362e-01,\n",
       "           1.0832e-02, -5.0467e-01],\n",
       "         [-5.0899e-01,  2.0693e-01, -3.9636e-01,  ..., -4.5236e-01,\n",
       "          -5.1858e-02,  1.2173e-01],\n",
       "         [-1.8101e-01,  5.9718e-01,  1.3920e-01,  ..., -4.5508e-01,\n",
       "          -1.9719e-01, -1.4848e-01]],\n",
       "\n",
       "        ...,\n",
       "\n",
       "        [[ 1.3279e-01, -2.3987e-01, -2.0989e-01,  ...,  4.4495e-01,\n",
       "          -2.9491e-01,  1.6682e-01],\n",
       "         [-1.2641e-01,  1.8780e-01,  1.0200e-01,  ..., -7.3079e-01,\n",
       "          -5.7564e-02,  1.5786e-01],\n",
       "         [ 6.7600e-01,  8.0135e-01, -5.8610e-01,  ..., -6.6123e-01,\n",
       "           1.1034e-03,  3.3218e-01],\n",
       "         ...,\n",
       "         [ 1.0358e-01,  6.0011e-01, -9.0201e-02,  ..., -7.2555e-01,\n",
       "           1.6162e-02,  1.8081e-01],\n",
       "         [ 2.1740e-01,  4.2827e-01, -4.8327e-01,  ..., -7.1570e-01,\n",
       "           1.8589e-01,  4.1076e-01],\n",
       "         [ 4.5122e-01, -2.6610e-02,  2.7729e-01,  ..., -8.6081e-02,\n",
       "          -3.5541e-01, -4.7380e-01]],\n",
       "\n",
       "        [[-3.0020e-02, -9.0364e-02, -4.0380e-01,  ..., -1.3385e-01,\n",
       "          -1.9166e-01,  1.1366e-01],\n",
       "         [ 4.7237e-01,  1.1594e-01, -6.9004e-01,  ...,  8.8513e-02,\n",
       "          -4.8052e-01, -1.6785e-01],\n",
       "         [ 6.2622e-02, -4.6986e-02, -6.3620e-01,  ..., -6.1821e-02,\n",
       "          -7.8733e-02,  3.7722e-01],\n",
       "         ...,\n",
       "         [ 5.2156e-01,  2.4339e-01, -8.4875e-01,  ...,  1.7226e-01,\n",
       "          -7.2456e-01, -4.7883e-01],\n",
       "         [ 1.7670e-01, -4.3347e-01, -6.2026e-01,  ..., -9.1872e-02,\n",
       "          -2.8832e-01, -4.2013e-01],\n",
       "         [ 1.5738e-01,  4.4541e-02,  5.2682e-01,  ..., -1.9846e-01,\n",
       "           4.9855e-03, -6.5512e-01]],\n",
       "\n",
       "        [[-7.0171e-02,  1.4629e-01, -6.5545e-04,  ..., -1.3315e-01,\n",
       "          -1.8557e-01, -1.4506e-01],\n",
       "         [-5.6798e-01,  1.1358e-01,  2.6203e-01,  ..., -3.1417e-01,\n",
       "          -2.2627e-01,  4.6190e-01],\n",
       "         [-4.5758e-01,  2.3964e-01,  2.7202e-01,  ..., -3.4917e-01,\n",
       "           5.1958e-01,  2.3823e-01],\n",
       "         ...,\n",
       "         [ 6.2498e-01,  4.8553e-01,  7.6262e-02,  ..., -1.0868e-01,\n",
       "          -6.6887e-01,  3.4586e-01],\n",
       "         [-1.3096e-01,  2.8419e-03, -1.2460e-01,  ..., -1.2445e-01,\n",
       "          -1.3163e-01,  4.6929e-02],\n",
       "         [ 1.2285e-01,  3.7550e-01,  3.2030e-02,  ..., -1.9525e-01,\n",
       "          -2.4123e-01, -8.5524e-02]]], grad_fn=<BmmBackward0>)"
      ]
     },
     "execution_count": 20,
     "metadata": {},
     "output_type": "execute_result"
    },
    {
     "ename": "",
     "evalue": "",
     "output_type": "error",
     "traceback": [
      "\u001b[1;31m在当前单元格或上一个单元格中执行代码时 Kernel 崩溃。\n",
      "\u001b[1;31m请查看单元格中的代码，以确定故障的可能原因。\n",
      "\u001b[1;31m单击<a href='https://aka.ms/vscodeJupyterKernelCrash'>此处</a>了解详细信息。\n",
      "\u001b[1;31m有关更多详细信息，请查看 Jupyter <a href='command:jupyter.viewOutput'>log</a>。"
     ]
    }
   ],
   "source": [
    "#上面自注意机制网络，请编程生成一个简单的数据集，并使用这个网络进行前向传播\n",
    "x = torch.randn(10, 20, 30)\n",
    "model = SelfAttention(30, 40)\n",
    "output = model(x)\n",
    "output"
   ]
  },
  {
   "cell_type": "code",
   "execution_count": null,
   "metadata": {},
   "outputs": [],
   "source": []
  }
 ],
 "metadata": {
  "kernelspec": {
   "display_name": "torch24",
   "language": "python",
   "name": "python3"
  },
  "language_info": {
   "codemirror_mode": {
    "name": "ipython",
    "version": 3
   },
   "file_extension": ".py",
   "mimetype": "text/x-python",
   "name": "python",
   "nbconvert_exporter": "python",
   "pygments_lexer": "ipython3",
   "version": "3.9.19"
  }
 },
 "nbformat": 4,
 "nbformat_minor": 2
}
